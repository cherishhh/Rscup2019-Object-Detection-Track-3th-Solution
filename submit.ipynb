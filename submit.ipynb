{
 "cells": [
  {
   "cell_type": "code",
   "execution_count": 19,
   "metadata": {},
   "outputs": [
    {
     "name": "stdout",
     "output_type": "stream",
     "text": [
      "loading annotations into memory...\n",
      "Done (t=0.28s)\n",
      "creating index...\n",
      "index created!\n",
      "loading annotations into memory...\n",
      "Done (t=0.13s)\n",
      "creating index...\n",
      "index created!\n"
     ]
    },
    {
     "data": {
      "application/vnd.jupyter.widget-view+json": {
       "model_id": "c3e2dd16fde1431a989b0469f9617d36",
       "version_major": 2,
       "version_minor": 0
      },
      "text/plain": [
       "HBox(children=(IntProgress(value=0, max=64387), HTML(value='')))"
      ]
     },
     "metadata": {},
     "output_type": "display_data"
    },
    {
     "name": "stdout",
     "output_type": "stream",
     "text": [
      "\n",
      "780\n"
     ]
    }
   ],
   "source": [
    "import pickle\n",
    "import json\n",
    "import mmcv\n",
    "from tqdm import tqdm_notebook as tqdm\n",
    "from mmdet.datasets import build_dataloader, build_dataset\n",
    "from pycocotools.coco import COCO\n",
    "import pycocotools.coco as cocoapi\n",
    "import pycocotools.mask as MASK\n",
    "import os\n",
    "import cv2\n",
    "from icecream import ic\n",
    "import matplotlib.pyplot as plt\n",
    "from mmdet.models import build_detector\n",
    "from mmcv.runner import load_checkpoint, get_dist_info\n",
    "import numpy as np\n",
    "def get_original_size(name):\n",
    "    datadir = \"/home/xfr/rssid/data/test/images/\"\n",
    "    files = os.listdir(datadir)\n",
    "    img_name = \"\"\n",
    "    for file in files:\n",
    "        img_name = file.split(\".\")[0]\n",
    "        if(img_name == name):\n",
    "            break\n",
    "    filename = os.path.join(datadir, file)\n",
    "    img = cv2.imread(filename)\n",
    "    h, w, _ = img.shape\n",
    "    return h,w\n",
    "cfg = mmcv.Config.fromfile(\"configs/rs_cascade_mask_rcnn_r50_fpn_ohem.py\")\n",
    "CLASSES = ('tennis-court', 'container-crane', 'storage-tank', 'baseball-diamond', 'plane','ground-track-field',\n",
    "               'helicopter', 'airport','harbor', 'ship', 'large-vehicle', 'swimming-pool', 'soccer-ball-field',\n",
    "               'roundabout', 'basketball-court', 'bridge', 'small-vehicle', 'helipad')\n",
    "results = mmcv.load(\"./result/test.pkl\")\n",
    "dataset = build_dataset(cfg.data.test)\n",
    "img_infos = dataset.load_annotations(\"/home/xfr/git_mm/mmdetection/data/rscup/annotation/annos_rscup_test.json\")\n",
    "ann = {}\n",
    "last_name = \"\"\n",
    "last = \"\"\n",
    "for i in tqdm(range(len(results))):\n",
    "    filename = img_infos[i]['filename']\n",
    "    items = filename.split(\"_\")\n",
    "    name = items[0]\n",
    "    if(name == last_name):\n",
    "        H, W = last\n",
    "    else:\n",
    "        H, W = get_original_size(name)\n",
    "    last_name = name\n",
    "    last = (H, W)\n",
    "    if name not in ann:\n",
    "        ann[name] = {\"bbox\": [[] for i in range(len(dataset.CLASSES))], \"seg\": [[] for i in range(len(dataset.CLASSES))],\n",
    "                     \"vis\": [[] for i in range(len(dataset.CLASSES))], \"rect\": [[] for i in range(len(dataset.CLASSES))]}\n",
    "    scale_factor = 1/float(items[1])\n",
    "    locx = int(float(items[2]))\n",
    "    locy = int(float(items[3]))\n",
    "    result = results[i]\n",
    "    bboxes = result[0]\n",
    "    segs = result[1]\n",
    "    for cls in range(len(dataset.CLASSES)):\n",
    "        bbox_cls = bboxes[cls]\n",
    "        seg_cls = segs[cls]\n",
    "        if(cls ==7):\n",
    "            if not(locx == 0 and locy==0):\n",
    "                continue\n",
    "        if( len(bbox_cls) > 0):\n",
    "            for bbox, rle in zip(bbox_cls, seg_cls):\n",
    "                xmin, ymin, xmax, ymax, score = bbox\n",
    "                xmin += locx\n",
    "                ymin += locy\n",
    "                xmax += locx\n",
    "                ymax += locy\n",
    "                bounding_box = np.array([xmin*scale_factor, ymin*scale_factor, xmax*scale_factor, ymax*scale_factor, score])\n",
    "                mask = MASK.decode(rle)\n",
    "                contours, hierarchy = cv2.findContours((mask).astype(np.uint8), cv2.RETR_TREE,\n",
    "                                                                 cv2.CHAIN_APPROX_SIMPLE)\n",
    "                areas = [cv2.contourArea(contour)  for contour in contours]\n",
    "                if(len(areas) > 0):\n",
    "                    index = np.argmax(areas)\n",
    "                    contour = contours[index]\n",
    "                    rect = cv2.minAreaRect(contour)\n",
    "                    box = cv2.boxPoints(rect)\n",
    "                    box += np.array([locx, locy])\n",
    "                    center = np.array(rect[0])\n",
    "                    size = np.array(rect[1])\n",
    "                    angel = rect[2]\n",
    "                    size *= scale_factor\n",
    "                    center += np.array([locx, locy])\n",
    "                    center *= scale_factor\n",
    "                    rect = (tuple(center), tuple(size), angel )\n",
    "                    \n",
    "                else:\n",
    "                    continue\n",
    "                ann[name]['rect'][cls].append(rect)\n",
    "                ann[name][\"bbox\"][cls].append(bounding_box)\n",
    "                ann[name]['vis'][cls].append(np.array([box[0]*scale_factor, box[1]*scale_factor, box[2]*scale_factor, box[3]*scale_factor]))\n",
    "                poly = []\n",
    "                for point in box:\n",
    "                    poly.append(point[0])\n",
    "                    poly.append(point[1])\n",
    "                poly = np.array(poly, np.double)\n",
    "                poly = [poly*scale_factor]\n",
    "                rles = MASK.frPyObjects(poly, H, W)\n",
    "                rle = MASK.merge(rles)\n",
    "                ann[name][\"seg\"][cls].append(rle)\n",
    "print(len(ann.keys()))\n",
    "mmcv.dump(ann, \"./result/test_temp.pkl\") "
   ]
  },
  {
   "cell_type": "code",
   "execution_count": 20,
   "metadata": {},
   "outputs": [
    {
     "data": {
      "application/vnd.jupyter.widget-view+json": {
       "model_id": "e49f35499e8a4d38b079ed50175ffaf3",
       "version_major": 2,
       "version_minor": 0
      },
      "text/plain": [
       "HBox(children=(IntProgress(value=0, max=780), HTML(value='')))"
      ]
     },
     "metadata": {},
     "output_type": "display_data"
    },
    {
     "name": "stdout",
     "output_type": "stream",
     "text": [
      "\n"
     ]
    }
   ],
   "source": [
    "from mmdet.ops.nms import nms_wrapper\n",
    "def nms(ann, thresh):\n",
    "    for name in tqdm(ann.keys()):\n",
    "        info = ann[name]\n",
    "        for cls in range(len(dataset.CLASSES)):\n",
    "            bbox = np.array(info['bbox'][cls], np.float32)\n",
    "            seg = np.array(info['seg'][cls])\n",
    "            vis = np.array(info['vis'][cls])\n",
    "            if(len(bbox)<=0):\n",
    "                continue\n",
    "            h, w = seg[0]['size']\n",
    "            #print(bbox.shape)\n",
    "            _, inds = nms_wrapper.nms(bbox, thresh)\n",
    "           # print(len(inds))\n",
    "            ann[name]['bbox'][cls] = bbox[inds]\n",
    "            ann[name]['seg'][cls] = seg[inds]\n",
    "            ann[name]['vis'][cls] = vis[inds]\n",
    "    return ann\n",
    "thresh=0.5\n",
    "# result = copy.deepcopy(ann)\n",
    "ann = mmcv.load(\"./result/test_temp.pkl\")\n",
    "result2 = nms(ann, thresh)\n",
    "mmcv.dump(result2, \"./result/test_postnms.pkl\")"
   ]
  },
  {
   "cell_type": "code",
   "execution_count": 2,
   "metadata": {},
   "outputs": [
    {
     "data": {
      "application/vnd.jupyter.widget-view+json": {
       "model_id": "61dbe6c5ea1d4dfe9c186b6ccb96b25d",
       "version_major": 2,
       "version_minor": 0
      },
      "text/plain": [
       "HBox(children=(IntProgress(value=0, max=780), HTML(value='')))"
      ]
     },
     "metadata": {},
     "output_type": "display_data"
    },
    {
     "name": "stdout",
     "output_type": "stream",
     "text": [
      "\n"
     ]
    }
   ],
   "source": [
    "def nms_rotate_cpu(boxes, scores, iou_threshold, max_output_size):\n",
    "    keep = []\n",
    "    order = scores.argsort()[::-1]\n",
    "    num = len(boxes)\n",
    "    suppressed = np.zeros((num), dtype=np.int)\n",
    "    for _i in range(num):\n",
    "        if len(keep) >= max_output_size:\n",
    "            break\n",
    "        i = order[_i]\n",
    "        if suppressed[i] == 1:\n",
    "            continue\n",
    "        keep.append(i)\n",
    "        r1 = boxes[i]\n",
    "        r1 = tuple(r1)\n",
    "        area_r1 = boxes[i][1][0] * boxes[i][1][1]\n",
    "        for _j in range(_i + 1, num):\n",
    "            j = order[_j]\n",
    "            if suppressed[i] == 1:\n",
    "                continue\n",
    "            r2 = boxes[j]\n",
    "            area_r2 = boxes[j][1][0] * boxes[j][1][1]\n",
    "            inter = 0.0\n",
    "            r2 = tuple(r2)\n",
    "            int_pts = cv2.rotatedRectangleIntersection(r1, r2)[1]\n",
    "            if int_pts is not None:\n",
    "                order_pts = cv2.convexHull(int_pts, returnPoints=True)\n",
    "                int_area = cv2.contourArea(order_pts)\n",
    "#                 inter = int_area * 1.0 / (area_r1 + area_r2 - int_area + 0.0000001)\n",
    "                inter = int_area * 1.0 / min(area_r1+1e-5, area_r2+1e-5)\n",
    "\n",
    "            if inter >= iou_threshold:\n",
    "                suppressed[j] = 1\n",
    "\n",
    "    return np.array(keep, np.int64)\n",
    "def rotate_nms(ann, thresh):\n",
    "    for name in tqdm(ann.keys()):\n",
    "        info = ann[name]\n",
    "        for cls in range(len(dataset.CLASSES)):\n",
    "            bbox = np.array(info['bbox'][cls], np.float32)\n",
    "            seg = np.array(info['seg'][cls])\n",
    "            vis = np.array(info['vis'][cls])\n",
    "            rect = info['rect'][cls]\n",
    "            if(len(bbox)<=0):\n",
    "                continue\n",
    "            scores = bbox[:, 4]\n",
    "            inds = nms_rotate_cpu(rect, scores, thresh, 1000)\n",
    "            ann[name]['bbox'][cls] = bbox[inds]\n",
    "            ann[name]['seg'][cls] = seg[inds]\n",
    "            ann[name]['vis'][cls] = vis[inds]\n",
    "#             ann[name]['rect'] =  rect[inds]\n",
    "    return ann\n",
    "thresh=0.5\n",
    "# result = copy.deepcopy(ann)\n",
    "ann = mmcv.load(\"./result/test_temp.pkl\")\n",
    "result2 = rotate_nms(ann, thresh)\n",
    "mmcv.dump(result2, \"./result/test_postnms.pkl\")"
   ]
  },
  {
   "cell_type": "code",
   "execution_count": 9,
   "metadata": {},
   "outputs": [
    {
     "data": {
      "text/plain": [
       "('tennis-court',\n",
       " 'container-crane',\n",
       " 'storage-tank',\n",
       " 'baseball-diamond',\n",
       " 'plane',\n",
       " 'ground-track-field',\n",
       " 'helicopter',\n",
       " 'airport',\n",
       " 'harbor',\n",
       " 'ship',\n",
       " 'large-vehicle',\n",
       " 'swimming-pool',\n",
       " 'soccer-ball-field',\n",
       " 'roundabout',\n",
       " 'basketball-court',\n",
       " 'bridge',\n",
       " 'small-vehicle',\n",
       " 'helipad')"
      ]
     },
     "execution_count": 9,
     "metadata": {},
     "output_type": "execute_result"
    }
   ],
   "source": [
    "dataset.CLASSES"
   ]
  },
  {
   "cell_type": "code",
   "execution_count": 22,
   "metadata": {
    "scrolled": true
   },
   "outputs": [
    {
     "data": {
      "application/vnd.jupyter.widget-view+json": {
       "model_id": "bbf41594be5e4e5c90d88fc35465ad61",
       "version_major": 2,
       "version_minor": 0
      },
      "text/plain": [
       "HBox(children=(IntProgress(value=0, max=780), HTML(value='')))"
      ]
     },
     "metadata": {},
     "output_type": "display_data"
    },
    {
     "name": "stdout",
     "output_type": "stream",
     "text": [
      "\n",
      "tennis-court\n",
      "1128\n",
      "container-crane\n",
      "1438\n",
      "storage-tank\n",
      "10928\n",
      "baseball-diamond\n",
      "383\n",
      "plane\n",
      "1672\n",
      "ground-track-field\n",
      "1194\n",
      "helicopter\n",
      "21\n",
      "airport\n",
      "903\n",
      "harbor\n",
      "5662\n",
      "ship\n",
      "25776\n",
      "large-vehicle\n",
      "8169\n",
      "swimming-pool\n",
      "1542\n",
      "soccer-ball-field\n",
      "797\n",
      "roundabout\n",
      "1751\n",
      "basketball-court\n",
      "683\n",
      "bridge\n",
      "4413\n",
      "small-vehicle\n",
      "43926\n",
      "helipad\n",
      "62\n"
     ]
    }
   ],
   "source": [
    "# result2 = mmcv.load(\"/home/xiongbaiqiao/competition/detection/test_postmerge.pkl\")\n",
    "result2 = mmcv.load(\"./result/test_postnms.pkl\")\n",
    "names = list(result2.keys())\n",
    "res = { CLASSES[cls]: [] for cls in range(len(dataset.CLASSES)) }\n",
    "for name in tqdm(names):\n",
    "    datadir = \"/home/xfr/rssid/data/test/images/\"\n",
    "    files = os.listdir(datadir)\n",
    "    img_name = \"\"\n",
    "    for file in files:\n",
    "        img_name = file.split(\".\")[0]\n",
    "        if(img_name == name):\n",
    "            break\n",
    "    filename = os.path.join(datadir, file)\n",
    "    img = cv2.imread(filename)\n",
    "    result = result2[name]\n",
    "    bboxes = result[\"bbox\"]\n",
    "    segs = result['vis']\n",
    "    for cls in range(len(dataset.CLASSES)):\n",
    "        curr_class = CLASSES[cls]\n",
    "        bbox_cls = bboxes[cls]\n",
    "        seg_cls = segs[cls]\n",
    "        if( len(bbox_cls) > 0):\n",
    "            for bbox, rle in zip(bbox_cls, seg_cls):\n",
    "                rle = np.array(rle)\n",
    "                xmin, ymin, xmax, ymax, score = bbox\n",
    "                location = list(rle.flatten())\n",
    "                location = [str(int(x)) for x in location]\n",
    "                if(score<0.05):\n",
    "                    continue\n",
    "                out = name + \" \"+str(score)+ \" \"+\" \".join(location)\n",
    "                res[curr_class].append(out)\n",
    "                cv2.putText(img, CLASSES[cls] + str(score), (int(xmin), int(ymin)), cv2.FONT_HERSHEY_COMPLEX, 1, (0, 0, 255), 2)\n",
    "                \n",
    "                cv2.polylines(img, np.array([rle], np.int32), 1, (0, 255, 0), 1)\n",
    "                #cv2.poly(img, np.array([rle], np.int32), (0,))\n",
    "    cv2.imwrite(\"./result/test2/{}.jpg\".format(name), img)\n",
    "for key in res.keys():\n",
    "    print(key)\n",
    "    fp = open(\"./result/detection/\"+key+\".txt\", 'w')\n",
    "    print(len(res[key]))\n",
    "    for line in res[key]:\n",
    "        fp.write(line+\"\\n\")\n",
    "    fp.close()"
   ]
  },
  {
   "cell_type": "code",
   "execution_count": 4,
   "metadata": {},
   "outputs": [
    {
     "data": {
      "application/vnd.jupyter.widget-view+json": {
       "model_id": "ca79a2972737467d8444574e6d85da1c",
       "version_major": 2,
       "version_minor": 0
      },
      "text/plain": [
       "HBox(children=(IntProgress(value=0, max=780), HTML(value='')))"
      ]
     },
     "metadata": {},
     "output_type": "display_data"
    },
    {
     "name": "stdout",
     "output_type": "stream",
     "text": [
      "\n"
     ]
    }
   ],
   "source": [
    "from mmdet.ops.nms import nms_wrapper\n",
    "def nms(ann, thresh):\n",
    "    for name in tqdm(ann.keys()):\n",
    "        info = ann[name]\n",
    "        for cls in range(len(dataset.CLASSES)):\n",
    "            bbox = np.array(info['bbox'][cls], np.float32)\n",
    "            seg = np.array(info['seg'][cls])\n",
    "            vis = np.array(info['vis'][cls])\n",
    "            if(len(bbox)<=0):\n",
    "                continue\n",
    "            h, w = seg[0]['size']\n",
    "            #print(bbox.shape)\n",
    "            _, inds = nms_wrapper.nms(bbox, thresh)\n",
    "           # print(len(inds))\n",
    "            ann[name]['bbox'][cls] = bbox[inds]\n",
    "            ann[name]['seg'][cls] = seg[inds]\n",
    "            ann[name]['vis'][cls] = vis[inds]\n",
    "    return ann\n",
    "thresh=0.5\n",
    "# result = copy.deepcopy(ann)\n",
    "ann = mmcv.load(\"./result/test_temp.pkl\")\n",
    "result2 = nms(ann, thresh)\n",
    "mmcv.dump(result2, \"./result/test_postnms.pkl\")"
   ]
  },
  {
   "cell_type": "code",
   "execution_count": 74,
   "metadata": {},
   "outputs": [
    {
     "data": {
      "text/plain": [
       "'/home/xfr/git_mm/mmdetection'"
      ]
     },
     "execution_count": 74,
     "metadata": {},
     "output_type": "execute_result"
    }
   ],
   "source": [
    "pwd"
   ]
  },
  {
   "cell_type": "code",
   "execution_count": null,
   "metadata": {
    "collapsed": true
   },
   "outputs": [],
   "source": []
  }
 ],
 "metadata": {
  "kernelspec": {
   "display_name": "mm",
   "language": "python",
   "name": "mmdet"
  },
  "language_info": {
   "codemirror_mode": {
    "name": "ipython",
    "version": 3
   },
   "file_extension": ".py",
   "mimetype": "text/x-python",
   "name": "python",
   "nbconvert_exporter": "python",
   "pygments_lexer": "ipython3",
   "version": "3.6.8"
  }
 },
 "nbformat": 4,
 "nbformat_minor": 2
}
