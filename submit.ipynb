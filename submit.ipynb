{
 "cells": [
  {
   "cell_type": "code",
   "execution_count": null,
   "metadata": {},
   "outputs": [
    {
     "name": "stdout",
     "output_type": "stream",
     "text": [
      "loading annotations into memory...\n",
      "Done (t=0.27s)\n",
      "creating index...\n",
      "index created!\n",
      "loading annotations into memory...\n",
      "Done (t=0.24s)\n",
      "creating index...\n",
      "index created!\n"
     ]
    },
    {
     "data": {
      "application/vnd.jupyter.widget-view+json": {
       "model_id": "f27207271543482f8b0aefb7d755cba2",
       "version_major": 2,
       "version_minor": 0
      },
      "text/plain": [
       "HBox(children=(IntProgress(value=0, max=63607), HTML(value='')))"
      ]
     },
     "metadata": {},
     "output_type": "display_data"
    }
   ],
   "source": [
    "import pickle\n",
    "import json\n",
    "import mmcv\n",
    "from tqdm import tqdm_notebook as tqdm\n",
    "from mmdet.datasets import build_dataloader, build_dataset\n",
    "from pycocotools.coco import COCO\n",
    "import pycocotools.coco as cocoapi\n",
    "import pycocotools.mask as MASK\n",
    "import os\n",
    "import cv2\n",
    "from icecream import ic\n",
    "import matplotlib.pyplot as plt\n",
    "from mmdet.models import build_detector\n",
    "from mmcv.runner import load_checkpoint, get_dist_info\n",
    "import numpy as np\n",
    "def get_original_size(name):\n",
    "    datadir = \"/home/xfr/rssid/data/test/images/\"\n",
    "    files = os.listdir(datadir)\n",
    "    img_name = \"\"\n",
    "    for file in files:\n",
    "        img_name = file.split(\".\")[0]\n",
    "        if(img_name == name):\n",
    "            break\n",
    "    filename = os.path.join(datadir, file)\n",
    "    img = cv2.imread(filename)\n",
    "    h, w, _ = img.shape\n",
    "    return h,w\n",
    "cfg = mmcv.Config.fromfile(\"configs/rs_cascade_mask_rcnn_r50_fpn_ohem.py\")\n",
    "CLASSES = ('tennis-court', 'container-crane', 'storage-tank', 'baseball-diamond', 'plane','ground-track-field',\n",
    "               'helicopter', 'airport','harbor', 'ship', 'large-vehicle', 'swimming-pool', 'soccer-ball-field',\n",
    "               'roundabout', 'basketball-court', 'bridge', 'small-vehicle', 'helipad')\n",
    "results = mmcv.load(\"./result/test.pkl\")\n",
    "dataset = build_dataset(cfg.data.test)\n",
    "img_infos = dataset.load_annotations(\"/home/xfr/mmdetection/data/rscup/annotation/annos_rscup_test.json\")\n",
    "ann = {}\n",
    "last_name = \"\"\n",
    "last = \"\"\n",
    "for i in tqdm(range(len(results))):\n",
    "    filename = img_infos[i]['filename']\n",
    "    items = filename.split(\"_\")\n",
    "    name = items[0]\n",
    "    if(name == last_name):\n",
    "        H, W = last\n",
    "    else:\n",
    "        H, W = get_original_size(name)\n",
    "    last_name = name\n",
    "    last = (H, W)\n",
    "    if name not in ann:\n",
    "        ann[name] = {\"bbox\": [[] for i in range(len(dataset.CLASSES))], \"seg\": [[] for i in range(len(dataset.CLASSES))],\n",
    "                     \"vis\": [[] for i in range(len(dataset.CLASSES))]}\n",
    "    scale_factor = 1/float(items[1])\n",
    "    locx = int(float(items[2]))\n",
    "    locy = int(float(items[3]))\n",
    "    result = results[i]\n",
    "    bboxes = result[0]\n",
    "    segs = result[1]\n",
    "    for cls in range(len(dataset.CLASSES)):\n",
    "        bbox_cls = bboxes[cls]\n",
    "        seg_cls = segs[cls]\n",
    "        if( len(bbox_cls) > 0):\n",
    "            for bbox, rle in zip(bbox_cls, seg_cls):\n",
    "                xmin, ymin, xmax, ymax, score = bbox\n",
    "                xmin += locx\n",
    "                ymin += locy\n",
    "                xmax += locx\n",
    "                ymax += locy\n",
    "                bounding_box = np.array([xmin*scale_factor, ymin*scale_factor, xmax*scale_factor, ymax*scale_factor, score])\n",
    "                mask = MASK.decode(rle)\n",
    "                contours, hierarchy = cv2.findContours((mask).astype(np.uint8), cv2.RETR_TREE,\n",
    "                                                                 cv2.CHAIN_APPROX_SIMPLE)\n",
    "                areas = [cv2.contourArea(contour)  for contour in contours]\n",
    "                if(len(areas) > 0):\n",
    "                    index = np.argmax(areas)\n",
    "                    contour = contours[index]\n",
    "                    rect = cv2.minAreaRect(contour)\n",
    "                    box = cv2.boxPoints(rect)\n",
    "                    box += np.array([locx, locy])\n",
    "                else:\n",
    "                    continue\n",
    "                ann[name][\"bbox\"][cls].append(bounding_box)\n",
    "                ann[name]['vis'][cls].append(np.array([box[0]*scale_factor, box[1]*scale_factor, box[2]*scale_factor, box[3]*scale_factor]))\n",
    "                poly = []\n",
    "                for point in box:\n",
    "                    poly.append(point[0])\n",
    "                    poly.append(point[1])\n",
    "                poly = np.array(poly, np.double)\n",
    "                poly = [poly*scale_factor]\n",
    "                rles = MASK.frPyObjects(poly, H, W)\n",
    "                rle = MASK.merge(rles)\n",
    "                ann[name][\"seg\"][cls].append(rle)\n",
    "print(len(ann.keys()))\n",
    "mmcv.dump(ann, \"./result/test_temp.pkl\") "
   ]
  },
  {
   "cell_type": "code",
   "execution_count": 4,
   "metadata": {},
   "outputs": [
    {
     "data": {
      "application/vnd.jupyter.widget-view+json": {
       "model_id": "11f85d7c3a6743e5919cb45062d75f7c",
       "version_major": 2,
       "version_minor": 0
      },
      "text/plain": [
       "HBox(children=(IntProgress(value=0, max=780), HTML(value='')))"
      ]
     },
     "metadata": {},
     "output_type": "display_data"
    }
   ],
   "source": [
    "from mmdet.ops.nms import nms_wrapper\n",
    "def nms(ann, thresh):\n",
    "    for name in tqdm(ann.keys()):\n",
    "        info = ann[name]\n",
    "        for cls in range(len(dataset.CLASSES)):\n",
    "            bbox = np.array(info['bbox'][cls], np.float32)\n",
    "            seg = np.array(info['seg'][cls])\n",
    "            vis = np.array(info['vis'][cls])\n",
    "            if(len(bbox)<=0):\n",
    "                continue\n",
    "            h, w = seg[0]['size']\n",
    "            #print(bbox.shape)\n",
    "            _, inds = nms_wrapper.nms(bbox, thresh)\n",
    "           # print(len(inds))\n",
    "            ann[name]['bbox'][cls] = bbox[inds]\n",
    "            ann[name]['seg'][cls] = seg[inds]\n",
    "            ann[name]['vis'][cls] = vis[inds]\n",
    "    return ann\n",
    "thresh=0.5\n",
    "# result = copy.deepcopy(ann)\n",
    "ann = mmcv.load(\"./result/test_temp.pkl\")\n",
    "result2 = nms(ann, thresh)\n",
    "mmcv.dump(result2, \"./result/test_postnms.pkl\")"
   ]
  },
  {
   "cell_type": "code",
   "execution_count": 6,
   "metadata": {},
   "outputs": [
    {
     "data": {
      "application/vnd.jupyter.widget-view+json": {
       "model_id": "bdf5f90c40474f918af59977400347e3",
       "version_major": 2,
       "version_minor": 0
      },
      "text/plain": [
       "HBox(children=(IntProgress(value=0, max=780), HTML(value='')))"
      ]
     },
     "metadata": {},
     "output_type": "display_data"
    },
    {
     "name": "stdout",
     "output_type": "stream",
     "text": [
      "tennis-court\n"
     ]
    },
    {
     "ename": "FileNotFoundError",
     "evalue": "[Errno 2] No such file or directory: '/result/detection/tennis-court.txt'",
     "output_type": "error",
     "traceback": [
      "\u001b[0;31m---------------------------------------------------------------------------\u001b[0m",
      "\u001b[0;31mFileNotFoundError\u001b[0m                         Traceback (most recent call last)",
      "\u001b[0;32m<ipython-input-6-078540478c3b>\u001b[0m in \u001b[0;36m<module>\u001b[0;34m\u001b[0m\n\u001b[1;32m     34\u001b[0m \u001b[0;32mfor\u001b[0m \u001b[0mkey\u001b[0m \u001b[0;32min\u001b[0m \u001b[0mres\u001b[0m\u001b[0;34m.\u001b[0m\u001b[0mkeys\u001b[0m\u001b[0;34m(\u001b[0m\u001b[0;34m)\u001b[0m\u001b[0;34m:\u001b[0m\u001b[0;34m\u001b[0m\u001b[0;34m\u001b[0m\u001b[0m\n\u001b[1;32m     35\u001b[0m     \u001b[0mprint\u001b[0m\u001b[0;34m(\u001b[0m\u001b[0mkey\u001b[0m\u001b[0;34m)\u001b[0m\u001b[0;34m\u001b[0m\u001b[0;34m\u001b[0m\u001b[0m\n\u001b[0;32m---> 36\u001b[0;31m     \u001b[0mfp\u001b[0m \u001b[0;34m=\u001b[0m \u001b[0mopen\u001b[0m\u001b[0;34m(\u001b[0m\u001b[0;34m\"/result/detection/\"\u001b[0m\u001b[0;34m+\u001b[0m\u001b[0mkey\u001b[0m\u001b[0;34m+\u001b[0m\u001b[0;34m\".txt\"\u001b[0m\u001b[0;34m,\u001b[0m \u001b[0;34m'w'\u001b[0m\u001b[0;34m)\u001b[0m\u001b[0;34m\u001b[0m\u001b[0;34m\u001b[0m\u001b[0m\n\u001b[0m\u001b[1;32m     37\u001b[0m     \u001b[0mprint\u001b[0m\u001b[0;34m(\u001b[0m\u001b[0mlen\u001b[0m\u001b[0;34m(\u001b[0m\u001b[0mres\u001b[0m\u001b[0;34m[\u001b[0m\u001b[0mkey\u001b[0m\u001b[0;34m]\u001b[0m\u001b[0;34m)\u001b[0m\u001b[0;34m)\u001b[0m\u001b[0;34m\u001b[0m\u001b[0;34m\u001b[0m\u001b[0m\n\u001b[1;32m     38\u001b[0m     \u001b[0;32mfor\u001b[0m \u001b[0mline\u001b[0m \u001b[0;32min\u001b[0m \u001b[0mres\u001b[0m\u001b[0;34m[\u001b[0m\u001b[0mkey\u001b[0m\u001b[0;34m]\u001b[0m\u001b[0;34m:\u001b[0m\u001b[0;34m\u001b[0m\u001b[0;34m\u001b[0m\u001b[0m\n",
      "\u001b[0;31mFileNotFoundError\u001b[0m: [Errno 2] No such file or directory: '/result/detection/tennis-court.txt'"
     ]
    }
   ],
   "source": [
    "result2 = mmcv.load(\"./result/test_postnms.pkl\")\n",
    "names = list(result2.keys())\n",
    "res = { CLASSES[cls]: [] for cls in range(len(dataset.CLASSES)) }\n",
    "for name in tqdm(names):\n",
    "    datadir = \"/home/xfr/rssid/data/test/images/\"\n",
    "    files = os.listdir(datadir)\n",
    "    img_name = \"\"\n",
    "    for file in files:\n",
    "        img_name = file.split(\".\")[0]\n",
    "        if(img_name == name):\n",
    "            break\n",
    "    filename = os.path.join(datadir, file)\n",
    "    img = cv2.imread(filename)\n",
    "    result = result2[name]\n",
    "    bboxes = result[\"bbox\"]\n",
    "    segs = result['vis']\n",
    "    \n",
    "    for cls in range(len(dataset.CLASSES)-1):\n",
    "        curr_class = CLASSES[cls]\n",
    "        bbox_cls = bboxes[cls]\n",
    "        seg_cls = segs[cls]\n",
    "        if( len(bbox_cls) > 0):\n",
    "            for bbox, rle in zip(bbox_cls, seg_cls):\n",
    "                rle = np.array(rle)\n",
    "                xmin, ymin, xmax, ymax, score = bbox\n",
    "                location = list(rle.flatten())\n",
    "                location = [str(int(x)) for x in location]\n",
    "                out = name + \" \"+str(score)+ \" \"+\" \".join(location)\n",
    "                res[curr_class].append(out)\n",
    "                cv2.putText(img, CLASSES[cls], (int(xmin), int(ymin)), cv2.FONT_HERSHEY_COMPLEX, 1, (0, 0, 255), 2)\n",
    "                cv2.polylines(img, np.array([rle], np.int32), 1, (0, 255, 0), 1)\n",
    "                #cv2.poly(img, np.array([rle], np.int32), (0,))\n",
    "    cv2.imwrite(\"./result/test/{}.jpg\".format(name), img)\n",
    "for key in res.keys():\n",
    "    print(key)\n",
    "    fp = open(\"/result/detection/\"+key+\".txt\", 'w')\n",
    "    print(len(res[key]))\n",
    "    for line in res[key]:\n",
    "        fp.write(line+\"\\n\")\n",
    "    fp.close()"
   ]
  },
  {
   "cell_type": "code",
   "execution_count": null,
   "metadata": {
    "collapsed": true
   },
   "outputs": [],
   "source": []
  }
 ],
 "metadata": {
  "kernelspec": {
   "display_name": "mm",
   "language": "python",
   "name": "mmdet"
  },
  "language_info": {
   "codemirror_mode": {
    "name": "ipython",
    "version": 3
   },
   "file_extension": ".py",
   "mimetype": "text/x-python",
   "name": "python",
   "nbconvert_exporter": "python",
   "pygments_lexer": "ipython3",
   "version": "3.6.8"
  }
 },
 "nbformat": 4,
 "nbformat_minor": 2
}
