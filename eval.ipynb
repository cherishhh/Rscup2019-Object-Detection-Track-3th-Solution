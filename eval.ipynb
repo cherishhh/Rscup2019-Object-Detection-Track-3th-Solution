{
 "cells": [
  {
   "cell_type": "code",
   "execution_count": 1,
   "metadata": {
    "collapsed": true
   },
   "outputs": [],
   "source": [
    "import pickle\n",
    "import json\n",
    "import mmcv\n",
    "from tqdm import tqdm_notebook as tqdm\n",
    "from mmdet.datasets import build_dataloader, build_dataset\n",
    "from pycocotools.coco import COCO\n",
    "import pycocotools.coco as cocoapi\n",
    "import pycocotools.mask as MASK\n",
    "import os\n",
    "import cv2\n",
    "from icecream import ic\n",
    "import matplotlib.pyplot as plt\n",
    "from mmdet.models import build_detector\n",
    "from mmcv.runner import load_checkpoint, get_dist_info\n",
    "import numpy as np\n",
    "from multiprocessing import Pool"
   ]
  },
  {
   "cell_type": "code",
   "execution_count": 25,
   "metadata": {},
   "outputs": [
    {
     "name": "stdout",
     "output_type": "stream",
     "text": [
      "loading annotations into memory...\n",
      "Done (t=0.18s)\n",
      "creating index...\n",
      "index created!\n",
      "loading annotations into memory...\n",
      "Done (t=0.09s)\n",
      "creating index...\n",
      "index created!\n"
     ]
    },
    {
     "data": {
      "application/vnd.jupyter.widget-view+json": {
       "model_id": "b736fa9d2f9b49c8a48a73c2eea4db78",
       "version_major": 2,
       "version_minor": 0
      },
      "text/plain": [
       "HBox(children=(IntProgress(value=0, max=36909), HTML(value='')))"
      ]
     },
     "metadata": {},
     "output_type": "display_data"
    },
    {
     "name": "stdout",
     "output_type": "stream",
     "text": [
      "593\n"
     ]
    }
   ],
   "source": [
    "\n",
    "cfg = mmcv.Config.fromfile(\"configs/rs_cascade_mask_rcnn_r50_fpn_ohem.py\")\n",
    "CLASSES = ('tennis-court', 'container-crane', 'storage-tank', 'baseball-diamond', 'plane','ground-track-field',\n",
    "               'helicopter', 'airport','harbor', 'ship', 'large-vehicle', 'swimming-pool', 'soccer-ball-field',\n",
    "               'roundabout', 'basketball-court', 'bridge', 'small-vehicle', 'helipad')\n",
    "results = mmcv.load(\"./result/val.pkl\")\n",
    "dataset = build_dataset(cfg.data.test)\n",
    "img_infos = dataset.load_annotations(\"/home/xfr/mmdetection/data/rscup/annotation/annos_rscup_val.json\")\n",
    "ann = {}\n",
    "last_name = \"\"\n",
    "last = \"\"\n",
    "for i in tqdm(range(len(results))):\n",
    "    filename = img_infos[i]['filename']\n",
    "    items = filename.split(\"_\")\n",
    "    name = items[0]\n",
    "    img = cv2.imread(\"./data/rscup/val/\" + filename)\n",
    "    h, w, _ = img.shape\n",
    "    if name not in ann:\n",
    "        ann[name] = {\"bbox\": [[] for i in range(len(dataset.CLASSES))], \"seg\": [[] for i in range(len(dataset.CLASSES))],\n",
    "                     \"vis\": [[] for i in range(len(dataset.CLASSES))], \"rect\": [[] for i in range(len(dataset.CLASSES))]}\n",
    "    scale_factor = 1/float(items[1])\n",
    "    locx = int(float(items[2]))\n",
    "    locy = int(float(items[3]))\n",
    "    result = results[i]\n",
    "    bboxes = result[0]\n",
    "    segs = result[1]\n",
    "    for cls in range(len(dataset.CLASSES)):\n",
    "        bbox_cls = bboxes[cls]\n",
    "        seg_cls = segs[cls]\n",
    "        if( len(bbox_cls) > 0):\n",
    "            for bbox, rle in zip(bbox_cls, seg_cls):\n",
    "                xmin, ymin, xmax, ymax, score = bbox\n",
    "#                 cv2.rectangle(img, (xmin, ymin), (xmax, ymax), (0,0,255), 2)\n",
    "#                 cv2.putText(img, str(cls), (int(xmin), int(ymin)), cv2.FONT_HERSHEY_COMPLEX, 1, (0, 0, 255), 2)\n",
    "\n",
    "                xmin += locx\n",
    "                ymin += locy\n",
    "                xmax += locx\n",
    "                ymax += locy\n",
    "                bounding_box = np.array([xmin*scale_factor, ymin*scale_factor, xmax*scale_factor, ymax*scale_factor, score])\n",
    "                mask = MASK.decode(rle)     \n",
    "                contours, hierarchy = cv2.findContours((mask).astype(np.uint8), cv2.RETR_TREE,\n",
    "                                                                 cv2.CHAIN_APPROX_SIMPLE)\n",
    "                areas = [cv2.contourArea(contour)  for contour in contours]\n",
    "                if(len(areas) > 0):\n",
    "                    index = np.argmax(areas)\n",
    "                    contour = contours[index]\n",
    "                    rect = cv2.minAreaRect(contour)\n",
    "                    box = cv2.boxPoints(rect)\n",
    "                    box += np.array([locx, locy])\n",
    "                    \n",
    "                    \n",
    "                    center = np.array(rect[0])\n",
    "                    size = np.array(rect[1])\n",
    "                    angel = rect[2]\n",
    "                    size *= scale_factor\n",
    "                    center += np.array([locx, locy])\n",
    "                    center *= scale_factor\n",
    "                    rect = (tuple(center), tuple(size), angel )\n",
    "                else:\n",
    "                    continue\n",
    "                ann[name]['rect'][cls].append(rect)\n",
    "                ann[name][\"bbox\"][cls].append(bounding_box)\n",
    "                ann[name]['vis'][cls].append(np.array([box[0]*scale_factor, box[1]*scale_factor, box[2]*scale_factor, box[3]*scale_factor]))\n",
    "#                 poly = []\n",
    "#                 for point in box:\n",
    "#                     poly.append(point[0])\n",
    "#                     poly.append(point[1])\n",
    "#                 poly = np.array(poly, np.double)\n",
    "#                 poly = [poly*scale_factor]\n",
    "#                 rles = MASK.frPyObjects(poly, H, W)\n",
    "#                 rle = MASK.merge(rles)\n",
    "#                 ann[name][\"seg\"][cls].append(rle)\n",
    "    #cv2.imwrite(\"./vis/\"+filename, img)\n",
    "print(len(ann.keys()))\n",
    "    #coco_eval(result_file, eval_types, dataset.coco)\n",
    "    # nms\n",
    "    # toBbox\n",
    "    # box - mask - rle\n",
    "    # rles = maskUtils.frPyObjects(segm, h, w)\n",
    "       #     rle = maskUtils.merge(rles)\n",
    "mmcv.dump(ann, \"./result/eval_temp.pkl\")"
   ]
  },
  {
   "cell_type": "code",
   "execution_count": 18,
   "metadata": {},
   "outputs": [
    {
     "name": "stdout",
     "output_type": "stream",
     "text": [
      "loading annotations into memory...\n",
      "Done (t=0.15s)\n",
      "creating index...\n",
      "index created!\n",
      "loading annotations into memory...\n",
      "Done (t=0.09s)\n",
      "creating index...\n",
      "index created!\n"
     ]
    },
    {
     "data": {
      "application/vnd.jupyter.widget-view+json": {
       "model_id": "0fdd2e6dccfe45dcb671fc734db1a98b",
       "version_major": 2,
       "version_minor": 0
      },
      "text/plain": [
       "HBox(children=(IntProgress(value=0, max=40000), HTML(value='')))"
      ]
     },
     "metadata": {},
     "output_type": "display_data"
    },
    {
     "data": {
      "application/vnd.jupyter.widget-view+json": {
       "model_id": "1a561b6cc08b472bbb1c840fd0651bbe",
       "version_major": 2,
       "version_minor": 0
      },
      "text/plain": [
       "HBox(children=(IntProgress(value=0, max=36909), HTML(value='')))"
      ]
     },
     "metadata": {},
     "output_type": "display_data"
    }
   ],
   "source": [
    "def get_ann(bboxes, segs, cls, name, locx, locy, scale_factor):\n",
    "    Rect = []\n",
    "    Bbox = []\n",
    "    Vis = []\n",
    "    bbox_cls = bboxes[cls]\n",
    "    seg_cls = segs[cls]\n",
    "    if( len(bbox_cls) > 0):\n",
    "        for bbox, rle in zip(bbox_cls, seg_cls):\n",
    "            xmin, ymin, xmax, ymax, score = bbox\n",
    "            xmin += locx\n",
    "            ymin += locy\n",
    "            xmax += locx\n",
    "            ymax += locy\n",
    "            bounding_box = np.array([xmin*scale_factor, ymin*scale_factor, xmax*scale_factor, ymax*scale_factor, score])\n",
    "            mask = MASK.decode(rle)     \n",
    "            contours, hierarchy = cv2.findContours((mask).astype(np.uint8), cv2.RETR_TREE,\n",
    "                                                             cv2.CHAIN_APPROX_SIMPLE)\n",
    "            areas = [cv2.contourArea(contour)  for contour in contours]\n",
    "            if(len(areas) > 0):\n",
    "                index = np.argmax(areas)\n",
    "                contour = contours[index]\n",
    "                rect = cv2.minAreaRect(contour)\n",
    "                box = cv2.boxPoints(rect)\n",
    "                box += np.array([locx, locy])\n",
    "\n",
    "\n",
    "                center = np.array(rect[0])\n",
    "                size = np.array(rect[1])\n",
    "                angel = rect[2]\n",
    "                size *= scale_factor\n",
    "                center += np.array([locx, locy])\n",
    "                center *= scale_factor\n",
    "                rect = (tuple(center), tuple(size), angel )\n",
    "            else:\n",
    "                continue\n",
    "            Rect.append(rect)\n",
    "            Bbox.append(bounding_box)\n",
    "            Vis.append(np.array([box[0]*scale_factor, box[1]*scale_factor, box[2]*scale_factor, box[3]*scale_factor]))\n",
    "    return  cls, name, Rect, Bbox, Vis\n",
    "def get_all_ann(filename, result,size, CLASS_NUM=18):\n",
    "    items = filename.split(\"_\")\n",
    "    name = items[0]\n",
    "    h, w = size\n",
    "#     img = cv2.imread(\"./data/rscup/val/\" + filename)\n",
    "#     h, w, _ = img.shape\n",
    "    scale_factor = 1/float(items[1])\n",
    "    locx = int(float(items[2]))\n",
    "    locy = int(float(items[3]))\n",
    "    bboxes = result[0]\n",
    "    segs = result[1]\n",
    "    Rect = [[] for cls in range(CLASS_NUM)]\n",
    "    Bbox = [[] for cls in range(CLASS_NUM)]\n",
    "    Vis = [[] for cls in range(CLASS_NUM)]\n",
    "    for cls in range(CLASS_NUM):\n",
    "        bbox_cls = bboxes[cls]\n",
    "        seg_cls = segs[cls]\n",
    "        if( len(bbox_cls) > 0):\n",
    "            for bbox, rle in zip(bbox_cls, seg_cls):\n",
    "                xmin, ymin, xmax, ymax, score = bbox\n",
    "                xmin += locx\n",
    "                ymin += locy\n",
    "                xmax += locx\n",
    "                ymax += locy\n",
    "                bounding_box = np.array([xmin*scale_factor, ymin*scale_factor, xmax*scale_factor, ymax*scale_factor, score])\n",
    "                mask = MASK.decode(rle)     \n",
    "                contours, hierarchy = cv2.findContours((mask).astype(np.uint8), cv2.RETR_TREE,\n",
    "                                                                 cv2.CHAIN_APPROX_SIMPLE)\n",
    "                areas = [cv2.contourArea(contour)  for contour in contours]\n",
    "                if(len(areas) > 0):\n",
    "                    index = np.argmax(areas)\n",
    "                    contour = contours[index]\n",
    "                    rect = cv2.minAreaRect(contour)\n",
    "                    box = cv2.boxPoints(rect)\n",
    "                    box += np.array([locx, locy])\n",
    "\n",
    "\n",
    "                    center = np.array(rect[0])\n",
    "                    size = np.array(rect[1])\n",
    "                    angel = rect[2]\n",
    "                    size *= scale_factor\n",
    "                    center += np.array([locx, locy])\n",
    "                    center *= scale_factor\n",
    "                    rect = (tuple(center), tuple(size), angel )\n",
    "                else:\n",
    "                    continue\n",
    "                Rect[cls].append(rect)\n",
    "                Bbox[cls].append(bounding_box)\n",
    "                Vis[cls].append(np.array([box[0]*scale_factor, box[1]*scale_factor, box[2]*scale_factor, box[3]*scale_factor]))\n",
    "    return  name, Rect, Bbox, Vis\n",
    "cfg = mmcv.Config.fromfile(\"configs/rs_cascade_mask_rcnn_r50_fpn_ohem.py\")\n",
    "CLASSES = ('tennis-court', 'container-crane', 'storage-tank', 'baseball-diamond', 'plane','ground-track-field',\n",
    "               'helicopter', 'airport','harbor', 'ship', 'large-vehicle', 'swimming-pool', 'soccer-ball-field',\n",
    "               'roundabout', 'basketball-court', 'bridge', 'small-vehicle', 'helipad')\n",
    "results = mmcv.load(\"./result/val.pkl\")\n",
    "dataset = build_dataset(cfg.data.test)\n",
    "img_infos = dataset.load_annotations(\"/home/xfr/mmdetection/data/rscup/annotation/annos_rscup_val.json\")\n",
    "ann = {}\n",
    "rets= []\n",
    "CLASS_NUM=18\n",
    "p = Pool(32)\n",
    "def update(*a):\n",
    "    pbar.update()\n",
    "pbar = tqdm(total=40000)\n",
    "for i in tqdm(range(len(results))):\n",
    "    filename = img_infos[i]['filename']\n",
    "    h = img_infos[i]['height']\n",
    "    w = img_infos[i]['width']\n",
    "    rets.append(p.apply_async(get_all_ann, args=(filename, results[i],(h, w), 18), callback=update)) \n",
    "\n",
    "for ret in rets:\n",
    "    name, Rect, Bbox, Vis = ret.get()\n",
    "    if name not in ann:\n",
    "        ann[name] = {\"bbox\": [[] for i in range(CLASS_NUM)], \"vis\": [[] for i in range(CLASS_NUM)], \n",
    "                     \"rect\": [[] for i in range(CLASS_NUM)]}\n",
    "    for cls in range(CLASS_NUM):\n",
    "        ann[name]['bbox'][cls] += Bbox[cls]\n",
    "        ann[name]['rect'][cls] += Rect[cls]\n",
    "        ann[name]['vis'][cls] += Vis[cls]\n",
    "mmcv.dump(ann, \"./result/eval2_temp.pkl\")\n",
    "p.close()\n",
    "p.join()"
   ]
  },
  {
   "cell_type": "code",
   "execution_count": 5,
   "metadata": {
    "scrolled": true
   },
   "outputs": [],
   "source": [
    "def nms_rotate_cpu(boxes, scores, iou_threshold, max_output_size):\n",
    "    keep = []\n",
    "    order = scores.argsort()[::-1]\n",
    "    num = len(boxes)\n",
    "    suppressed = np.zeros((num), dtype=np.int)\n",
    "    for _i in range(num):\n",
    "        if len(keep) >= max_output_size:\n",
    "            break\n",
    "        i = order[_i]\n",
    "        if suppressed[i] == 1:\n",
    "            continue\n",
    "        keep.append(i)\n",
    "        r1 = boxes[i]\n",
    "        r1 = tuple(r1)\n",
    "        area_r1 = boxes[i][1][0] * boxes[i][1][1]\n",
    "        for _j in range(_i + 1, num):\n",
    "            j = order[_j]\n",
    "            if suppressed[i] == 1:\n",
    "                continue\n",
    "            r2 = boxes[j]\n",
    "            area_r2 = boxes[j][1][0] * boxes[j][1][1]\n",
    "            inter = 0.0\n",
    "            r2 = tuple(r2)\n",
    "            int_pts = cv2.rotatedRectangleIntersection(r1, r2)[1]\n",
    "            if int_pts is not None:\n",
    "                order_pts = cv2.convexHull(int_pts, returnPoints=True)\n",
    "                int_area = cv2.contourArea(order_pts)\n",
    "                inter = int_area * 1.0 / (area_r1 + area_r2 - int_area + 0.0000001)\n",
    "              #  inter = int_area * 1.0 / min(area_r1+1e-5, area_r2+1e-5)\n",
    "\n",
    "            if inter >= iou_threshold:\n",
    "                suppressed[j] = 1\n",
    "\n",
    "    return np.array(keep, np.int64)\n",
    "def rotate_nms(ann, thresh):\n",
    "    for name in tqdm(ann.keys()):\n",
    "        info = ann[name]\n",
    "        for cls in range(len(dataset.CLASSES)):\n",
    "            bbox = np.array(info['bbox'][cls], np.float32)\n",
    "            seg = np.array(info['seg'][cls])\n",
    "            vis = np.array(info['vis'][cls])\n",
    "            rect = info['rect'][cls]\n",
    "            if(len(bbox)<=0):\n",
    "                continue\n",
    "            scores = bbox[:, 4]\n",
    "            inds = nms_rotate_cpu(rect, scores, thresh, 1000)\n",
    "            ann[name]['bbox'][cls] = bbox[inds]\n",
    "            ann[name]['seg'][cls] = seg[inds]\n",
    "            ann[name]['vis'][cls] = vis[inds]\n",
    "#             ann[name]['rect'] =  rect[inds]\n",
    "    return ann"
   ]
  },
  {
   "cell_type": "code",
   "execution_count": 20,
   "metadata": {
    "collapsed": true
   },
   "outputs": [],
   "source": [
    "def py_cpu_nms_poly_fast(dets, thresh):\n",
    "    obbs = dets[:, 0:-1]\n",
    "    x1 = np.min(obbs[:, 0::2], axis=1)\n",
    "    y1 = np.min(obbs[:, 1::2], axis=1)\n",
    "    x2 = np.max(obbs[:, 0::2], axis=1)\n",
    "    y2 = np.max(obbs[:, 1::2], axis=1)\n",
    "    scores = dets[:, 8]\n",
    "    areas = (x2 - x1 + 1) * (y2 - y1 + 1)\n",
    "\n",
    "    polys = []\n",
    "    for i in range(len(dets)):\n",
    "        tm_polygon = polyiou.VectorDouble([dets[i][0], dets[i][1],\n",
    "                                            dets[i][2], dets[i][3],\n",
    "                                            dets[i][4], dets[i][5],\n",
    "                                            dets[i][6], dets[i][7]])\n",
    "        polys.append(tm_polygon)\n",
    "    order = scores.argsort()[::-1]\n",
    "\n",
    "    keep = []\n",
    "    while order.size > 0:\n",
    "        ovr = []\n",
    "        i = order[0]\n",
    "        keep.append(i)\n",
    "        # if order.size == 0:\n",
    "        #     break\n",
    "        xx1 = np.maximum(x1[i], x1[order[1:]])\n",
    "        yy1 = np.maximum(y1[i], y1[order[1:]])\n",
    "        xx2 = np.minimum(x2[i], x2[order[1:]])\n",
    "        yy2 = np.minimum(y2[i], y2[order[1:]])\n",
    "        # w = np.maximum(0.0, xx2 - xx1 + 1)\n",
    "        # h = np.maximum(0.0, yy2 - yy1 + 1)\n",
    "        w = np.maximum(0.0, xx2 - xx1)\n",
    "        h = np.maximum(0.0, yy2 - yy1)\n",
    "        hbb_inter = w * h\n",
    "        hbb_ovr = hbb_inter / (areas[i] + areas[order[1:]] - hbb_inter)\n",
    "        # h_keep_inds = np.where(hbb_ovr == 0)[0]\n",
    "        h_inds = np.where(hbb_ovr > 0)[0]\n",
    "        tmp_order = order[h_inds + 1]\n",
    "        for j in range(tmp_order.size):\n",
    "            iou = polyiou.iou_poly(polys[i], polys[tmp_order[j]])\n",
    "            hbb_ovr[h_inds[j]] = iou\n",
    "            # ovr.append(iou)\n",
    "            # ovr_index.append(tmp_order[j])\n",
    "\n",
    "        # ovr = np.array(ovr)\n",
    "        # ovr_index = np.array(ovr_index)\n",
    "        # print('ovr: ', ovr)\n",
    "        # print('thresh: ', thresh)\n",
    "        try:\n",
    "            if math.isnan(ovr[0]):\n",
    "                pdb.set_trace()\n",
    "        except:\n",
    "            pass\n",
    "        inds = np.where(hbb_ovr <= thresh)[0]\n",
    "\n",
    "        # order_obb = ovr_index[inds]\n",
    "        # print('inds: ', inds)\n",
    "        # order_hbb = order[h_keep_inds + 1]\n",
    "        order = order[inds + 1]\n",
    "        # pdb.set_trace()\n",
    "        # order = np.concatenate((order_obb, order_hbb), axis=0).astype(np.int)\n",
    "    return keep\n"
   ]
  },
  {
   "cell_type": "markdown",
   "metadata": {},
   "source": [
    "#### poly nms"
   ]
  },
  {
   "cell_type": "code",
   "execution_count": 8,
   "metadata": {},
   "outputs": [
    {
     "data": {
      "application/vnd.jupyter.widget-view+json": {
       "model_id": "a03d4bea83db477aa9554664a8449ad0",
       "version_major": 2,
       "version_minor": 0
      },
      "text/plain": [
       "HBox(children=(IntProgress(value=0, max=593), HTML(value='')))"
      ]
     },
     "metadata": {},
     "output_type": "display_data"
    },
    {
     "ename": "NameError",
     "evalue": "name 'py_cpu_nms_poly_fast' is not defined",
     "output_type": "error",
     "traceback": [
      "\u001b[0;31m---------------------------------------------------------------------------\u001b[0m",
      "\u001b[0;31mNameError\u001b[0m                                 Traceback (most recent call last)",
      "\u001b[0;32m<ipython-input-8-67896e9ba9fe>\u001b[0m in \u001b[0;36m<module>\u001b[0;34m\u001b[0m\n\u001b[1;32m     21\u001b[0m \u001b[0;31m# result = copy.deepcopy(ann)\u001b[0m\u001b[0;34m\u001b[0m\u001b[0;34m\u001b[0m\u001b[0;34m\u001b[0m\u001b[0m\n\u001b[1;32m     22\u001b[0m \u001b[0mann\u001b[0m \u001b[0;34m=\u001b[0m \u001b[0mmmcv\u001b[0m\u001b[0;34m.\u001b[0m\u001b[0mload\u001b[0m\u001b[0;34m(\u001b[0m\u001b[0;34m\"./result/eval2_temp.pkl\"\u001b[0m\u001b[0;34m)\u001b[0m\u001b[0;34m\u001b[0m\u001b[0;34m\u001b[0m\u001b[0m\n\u001b[0;32m---> 23\u001b[0;31m \u001b[0mresult2\u001b[0m \u001b[0;34m=\u001b[0m \u001b[0mnms\u001b[0m\u001b[0;34m(\u001b[0m\u001b[0mann\u001b[0m\u001b[0;34m,\u001b[0m \u001b[0mthresh\u001b[0m\u001b[0;34m)\u001b[0m\u001b[0;34m\u001b[0m\u001b[0;34m\u001b[0m\u001b[0m\n\u001b[0m\u001b[1;32m     24\u001b[0m \u001b[0mmmcv\u001b[0m\u001b[0;34m.\u001b[0m\u001b[0mdump\u001b[0m\u001b[0;34m(\u001b[0m\u001b[0mresult2\u001b[0m\u001b[0;34m,\u001b[0m \u001b[0;34m\"./result/eval2_postnms.pkl\"\u001b[0m\u001b[0;34m)\u001b[0m\u001b[0;34m\u001b[0m\u001b[0;34m\u001b[0m\u001b[0m\n",
      "\u001b[0;32m<ipython-input-8-67896e9ba9fe>\u001b[0m in \u001b[0;36mnms\u001b[0;34m(ann, thresh)\u001b[0m\n\u001b[1;32m     13\u001b[0m             \u001b[0mdets\u001b[0m \u001b[0;34m=\u001b[0m \u001b[0mnp\u001b[0m\u001b[0;34m.\u001b[0m\u001b[0mc_\u001b[0m\u001b[0;34m[\u001b[0m\u001b[0mdets\u001b[0m\u001b[0;34m,\u001b[0m \u001b[0mscores\u001b[0m\u001b[0;34m]\u001b[0m\u001b[0;34m\u001b[0m\u001b[0;34m\u001b[0m\u001b[0m\n\u001b[1;32m     14\u001b[0m             \u001b[0;31m#print(bbox.shape)\u001b[0m\u001b[0;34m\u001b[0m\u001b[0;34m\u001b[0m\u001b[0;34m\u001b[0m\u001b[0m\n\u001b[0;32m---> 15\u001b[0;31m             \u001b[0minds\u001b[0m \u001b[0;34m=\u001b[0m \u001b[0mpy_cpu_nms_poly_fast\u001b[0m\u001b[0;34m(\u001b[0m\u001b[0mdets\u001b[0m\u001b[0;34m,\u001b[0m \u001b[0mthresh\u001b[0m\u001b[0;34m)\u001b[0m\u001b[0;34m\u001b[0m\u001b[0;34m\u001b[0m\u001b[0m\n\u001b[0m\u001b[1;32m     16\u001b[0m            \u001b[0;31m# print(len(inds))\u001b[0m\u001b[0;34m\u001b[0m\u001b[0;34m\u001b[0m\u001b[0;34m\u001b[0m\u001b[0m\n\u001b[1;32m     17\u001b[0m             \u001b[0mann\u001b[0m\u001b[0;34m[\u001b[0m\u001b[0mname\u001b[0m\u001b[0;34m]\u001b[0m\u001b[0;34m[\u001b[0m\u001b[0;34m'bbox'\u001b[0m\u001b[0;34m]\u001b[0m\u001b[0;34m[\u001b[0m\u001b[0mcls\u001b[0m\u001b[0;34m]\u001b[0m \u001b[0;34m=\u001b[0m \u001b[0mbbox\u001b[0m\u001b[0;34m[\u001b[0m\u001b[0minds\u001b[0m\u001b[0;34m]\u001b[0m\u001b[0;34m\u001b[0m\u001b[0;34m\u001b[0m\u001b[0m\n",
      "\u001b[0;31mNameError\u001b[0m: name 'py_cpu_nms_poly_fast' is not defined"
     ]
    }
   ],
   "source": [
    "from mmdet.ops.nms import nms_wrapper\n",
    "def nms(ann, thresh):\n",
    "    for name in tqdm(ann.keys()):\n",
    "        info = ann[name]\n",
    "        for cls in range(18):\n",
    "            bbox = np.array(info['bbox'][cls], np.float32)\n",
    "            vis = np.array(info['vis'][cls])\n",
    "            if(len(bbox)<=0):\n",
    "                continue\n",
    "            dets = vis.reshape(-1, 8)\n",
    "            dets = np.array(dets, np.int32)\n",
    "            scores = bbox[:, 4]\n",
    "            dets = np.c_[dets, scores]\n",
    "            #print(bbox.shape)\n",
    "            inds = py_cpu_nms_poly_fast(dets, thresh)\n",
    "           # print(len(inds))\n",
    "            ann[name]['bbox'][cls] = bbox[inds]\n",
    "            ann[name]['vis'][cls] = vis[inds]\n",
    "    return ann\n",
    "thresh=0.5\n",
    "# result = copy.deepcopy(ann)\n",
    "ann = mmcv.load(\"./result/eval2_temp.pkl\")\n",
    "result2 = nms(ann, thresh)\n",
    "mmcv.dump(result2, \"./result/eval2_postnms.pkl\")"
   ]
  },
  {
   "cell_type": "markdown",
   "metadata": {},
   "source": [
    "#### bbx nms"
   ]
  },
  {
   "cell_type": "code",
   "execution_count": 19,
   "metadata": {},
   "outputs": [
    {
     "data": {
      "application/vnd.jupyter.widget-view+json": {
       "model_id": "06f2d691f9634fa28abe6dff35a51a5e",
       "version_major": 2,
       "version_minor": 0
      },
      "text/plain": [
       "HBox(children=(IntProgress(value=0, max=593), HTML(value='')))"
      ]
     },
     "metadata": {},
     "output_type": "display_data"
    }
   ],
   "source": [
    "from mmdet.ops.nms import nms_wrapper\n",
    "def nms(ann, thresh):\n",
    "    for name in tqdm(ann.keys()):\n",
    "        info = ann[name]\n",
    "        for cls in range(18):\n",
    "            bbox = np.array(info['bbox'][cls], np.float32)\n",
    "            vis = np.array(info['vis'][cls])\n",
    "            if(len(bbox)<=0):\n",
    "                continue\n",
    "            #print(bbox.shape)\n",
    "            _, inds = nms_wrapper.nms(bbox, thresh)\n",
    "           # print(len(inds))\n",
    "            ann[name]['bbox'][cls] = bbox[inds]\n",
    "            ann[name]['vis'][cls] = vis[inds]\n",
    "    return ann\n",
    "thresh=0.5\n",
    "# result = copy.deepcopy(ann)\n",
    "ann = mmcv.load(\"./result/eval2_temp.pkl\")\n",
    "result2 = nms(ann, thresh)\n",
    "mmcv.dump(result2, \"./result/eval2_postnms.pkl\")"
   ]
  },
  {
   "cell_type": "markdown",
   "metadata": {},
   "source": [
    "### generate file"
   ]
  },
  {
   "cell_type": "code",
   "execution_count": 20,
   "metadata": {},
   "outputs": [
    {
     "data": {
      "application/vnd.jupyter.widget-view+json": {
       "model_id": "ff62445202f14be183409e0794d29b2e",
       "version_major": 2,
       "version_minor": 0
      },
      "text/plain": [
       "HBox(children=(IntProgress(value=0, max=593), HTML(value='')))"
      ]
     },
     "metadata": {},
     "output_type": "display_data"
    },
    {
     "name": "stdout",
     "output_type": "stream",
     "text": [
      "tennis-court\n",
      "1151\n",
      "container-crane\n",
      "71\n",
      "storage-tank\n",
      "4250\n",
      "baseball-diamond\n",
      "638\n",
      "plane\n",
      "3961\n",
      "ground-track-field\n",
      "670\n",
      "helicopter\n",
      "293\n",
      "airport\n",
      "211\n",
      "harbor\n",
      "5835\n",
      "ship\n",
      "19647\n",
      "large-vehicle\n",
      "15893\n",
      "swimming-pool\n",
      "1892\n",
      "soccer-ball-field\n",
      "484\n",
      "roundabout\n",
      "865\n",
      "basketball-court\n",
      "515\n",
      "bridge\n",
      "2304\n",
      "small-vehicle\n",
      "58979\n",
      "helipad\n",
      "1\n"
     ]
    }
   ],
   "source": [
    "result2 = mmcv.load(\"./result/eval2_postnms.pkl\")\n",
    "names = list(result2.keys())\n",
    "res = { CLASSES[cls]: [] for cls in range(len(dataset.CLASSES)) }\n",
    "for name in tqdm(names):\n",
    "    result = result2[name]\n",
    "    bboxes = result[\"bbox\"]\n",
    "    segs = result['vis']\n",
    "    for cls in range(len(dataset.CLASSES)):\n",
    "        curr_class = CLASSES[cls]\n",
    "        bbox_cls = bboxes[cls]\n",
    "        seg_cls = segs[cls]\n",
    "        if( len(bbox_cls) > 0):\n",
    "            for bbox, rle in zip(bbox_cls, seg_cls):\n",
    "                rle = np.array(rle)\n",
    "                xmin, ymin, xmax, ymax, score = bbox\n",
    "                location = list(rle.flatten())\n",
    "                location = [str(int(x)) for x in location]\n",
    "                if(score<0.05):\n",
    "                    continue\n",
    "                out = name + \" \"+str(score)+ \" \"+\" \".join(location)\n",
    "                res[curr_class].append(out)\n",
    "for key in res.keys():\n",
    "    print(key)\n",
    "    fp = open(\"./result/val_temp/\"+key+\".txt\", 'w')\n",
    "    print(len(res[key]))\n",
    "    for line in res[key]:\n",
    "        fp.write(line+\"\\n\")\n",
    "    fp.close()"
   ]
  },
  {
   "cell_type": "code",
   "execution_count": 13,
   "metadata": {
    "collapsed": true
   },
   "outputs": [],
   "source": [
    "from shapely.geometry import *\n",
    "import poly.polyiou as polyiou\n",
    "def voc_ap(rec, prec, use_07_metric=False):\n",
    "    \"\"\" ap = voc_ap(rec, prec, [use_07_metric])\n",
    "      Compute VOC AP given precision and recall.\n",
    "      If use_07_metric is true, uses the\n",
    "      VOC 07 11 point method (default:False).\n",
    "    \"\"\"\n",
    "    if use_07_metric:\n",
    "        # 11 point metric\n",
    "        ap = 0.\n",
    "        for t in np.arange(0., 1.1, 0.1):\n",
    "            if np.sum(rec >= t) == 0:\n",
    "                p = 0\n",
    "            else:\n",
    "                p = np.max(prec[rec >= t])\n",
    "        ap = ap + p / 11.\n",
    "    else:\n",
    "        # correct AP calculation\n",
    "        # first append sentinel values at the end\n",
    "        # first appicend sentinel values at the end\n",
    "        mrec = np.concatenate(([0.], rec, [1.]))\n",
    "        mpre = np.concatenate(([0.], prec, [0.]))\n",
    "\n",
    "        # compute the precision envelope\n",
    "        for i in range(mpre.size - 1, 0, -1):\n",
    "            mpre[i - 1] = np.maximum(mpre[i - 1], mpre[i])\n",
    "\n",
    "        # to calculate area under PR curve, look for points\n",
    "        # where X axis (recall) changes value\n",
    "        i = np.where(mrec[1:] != mrec[:-1])[0]\n",
    "\n",
    "    # and sum (\\Delta recall) * prec\n",
    "        ap = np.sum((mrec[i + 1] - mrec[i]) * mpre[i + 1])\n",
    "    return ap\n",
    "def no_overlap(a, b):\n",
    "    xmin, xmax, ymin, ymax = a\n",
    "    gxmin, gxmax, gymin, gymax = b\n",
    "    if(xmax < gxmin or  ymin > gymax or gxmax < xmin or gymin > ymax):\n",
    "        return True\n",
    "    else:\n",
    "        return False\n",
    "def eval(classname, detpath, ovthresh, coco):\n",
    "    CLASS=['tennis-court', 'container-crane', 'storage-tank', 'baseball-diamond', 'plane', 'ground-track-field', 'helicopter', 'airport', 'harbor', 'ship', 'large-vehicle', 'swimming-pool', 'soccer-ball-field', 'roundabout', 'basketball-court', 'bridge', 'small-vehicle', 'helipad']\n",
    "    #CLASS={'tennis-court', 'container-crane', 'storage-tank', 'baseball-diamond', 'plane', 'ground-track-field', 'helicopter', 'airport', 'harbor', 'ship', 'large-vehicle', 'swimming-pool', 'soccer-ball-field', 'roundabout', 'basketball-court', 'bridge', 'small-vehicle', 'helipad'}\n",
    "    class_to_ind = dict(zip(CLASS, range(len(CLASS))))\n",
    "    imgIds = coco.getImgIds()\n",
    "    recs = {}\n",
    "    use_07_metric = False\n",
    "    for imgid in imgIds:\n",
    "        img = coco.loadImgs(imgid)[0]\n",
    "        file_name = img['file_name']\n",
    "        file_name = file_name.split(\".\")[0]\n",
    "        annIds = coco.getAnnIds(imgIds=[imgid], iscrowd=None)\n",
    "        anns = coco.loadAnns(annIds)\n",
    "        objects = []\n",
    "        for ann in anns:\n",
    "            obj = {}\n",
    "            obj['name'] = CLASS[ann['category_id']]\n",
    "            obj['bbox'] = ann['segmentation']\n",
    "            objects.append(obj)\n",
    "        recs[file_name] = objects\n",
    "    class_recs = {}\n",
    "    npos = 0\n",
    "    for filename in list(recs.keys()):\n",
    "        R = [obj for obj in recs[filename] if obj['name'] == classname]\n",
    "        bbox = np.array([x['bbox'] for x in R])\n",
    "        bbox = np.reshape(np.squeeze(bbox),(-1,4, 2))\n",
    "        det = [False] * len(R)\n",
    "        npos = npos + len(bbox)\n",
    "        class_recs[filename] = {'bbox': bbox,\n",
    "                                 'det': det}\n",
    "    detfile = detpath.format(classname)\n",
    "    with open(detfile, 'r') as f:\n",
    "        lines = f.readlines()\n",
    "\n",
    "    splitlines = [x.strip().split(' ') for x in lines]\n",
    "    image_ids = [x[0] for x in splitlines]\n",
    "    confidence = np.array([float(x[1]) for x in splitlines])\n",
    "    BB = np.array([[float(z) for z in x[2:]] for x in splitlines])\n",
    "    BB = np.reshape(BB, (-1, 4, 2))\n",
    "    nd = len(image_ids)\n",
    "    tp = np.zeros(nd)\n",
    "    fp = np.zeros(nd)\n",
    "    if BB.shape[0] > 0:\n",
    "        # sort by confidence\n",
    "        sorted_ind = np.argsort(-confidence)\n",
    "        sorted_scores = np.sort(-confidence)\n",
    "        BB = BB[sorted_ind, :]\n",
    "        image_ids = [image_ids[x] for x in sorted_ind]\n",
    "\n",
    "        # go down dets and mark TPs and FPs\n",
    "        for d in tqdm(range(nd)):\n",
    "            R = class_recs[image_ids[d]]\n",
    "            bb = BB[d, :].astype(float).flatten()\n",
    "            ovmax = -np.inf\n",
    "            BBGT = R['bbox'].astype(float).reshape(-1,8)\n",
    "            if BBGT.size > 0:\n",
    "                # compute overlaps\n",
    "                # intersection\n",
    "                BBGT_xmin =  np.min(BBGT[:, 0::2], axis=1)\n",
    "                BBGT_ymin = np.min(BBGT[:, 1::2], axis=1)\n",
    "                BBGT_xmax = np.max(BBGT[:, 0::2], axis=1)\n",
    "                BBGT_ymax = np.max(BBGT[:, 1::2], axis=1)\n",
    "                bb_xmin = np.min(bb[0::2])\n",
    "                bb_ymin = np.min(bb[1::2])\n",
    "                bb_xmax = np.max(bb[0::2])\n",
    "                bb_ymax = np.max(bb[1::2])\n",
    "\n",
    "                ixmin = np.maximum(BBGT_xmin, bb_xmin)\n",
    "                iymin = np.maximum(BBGT_ymin, bb_ymin)\n",
    "                ixmax = np.minimum(BBGT_xmax, bb_xmax)\n",
    "                iymax = np.minimum(BBGT_ymax, bb_ymax)\n",
    "                iw = np.maximum(ixmax - ixmin + 1., 0.)\n",
    "                ih = np.maximum(iymax - iymin + 1., 0.)\n",
    "                inters = iw * ih\n",
    "\n",
    "                # union\n",
    "                uni = ((bb_xmax - bb_xmin + 1.) * (bb_ymax - bb_ymin + 1.) +\n",
    "                       (BBGT_xmax - BBGT_xmin + 1.) *\n",
    "                       (BBGT_ymax - BBGT_ymin + 1.) - inters)\n",
    "\n",
    "                overlaps = inters / uni\n",
    "\n",
    "                BBGT_keep_mask = overlaps > 0\n",
    "                BBGT_keep = BBGT[BBGT_keep_mask, :]\n",
    "                BBGT_keep_index = np.where(overlaps > 0)[0]\n",
    "                \n",
    "                \n",
    "                \n",
    "                def calcoverlaps(BBGT_keep, bb):\n",
    "                    overlaps = []\n",
    "                    for index, GT in enumerate(BBGT_keep):\n",
    "\n",
    "                        overlap = polyiou.iou_poly(polyiou.VectorDouble(BBGT_keep[index]), polyiou.VectorDouble(bb))\n",
    "                        overlaps.append(overlap)\n",
    "                    return overlaps\n",
    "                if len(BBGT_keep) > 0:\n",
    "                    overlaps = calcoverlaps(BBGT_keep, bb)\n",
    "\n",
    "                    ovmax = np.max(overlaps)\n",
    "                    jmax = np.argmax(overlaps)\n",
    "                    # pdb.set_trace()\n",
    "                    jmax = BBGT_keep_index[jmax]\n",
    "\n",
    "            if ovmax > ovthresh:\n",
    "                if not R['det'][jmax]:\n",
    "                    tp[d] = 1.\n",
    "                    R['det'][jmax] = 1\n",
    "                else:\n",
    "                    fp[d] = 1.\n",
    "            else:\n",
    "                fp[d] = 1.\n",
    "    fp = np.cumsum(fp)\n",
    "    tp = np.cumsum(tp)\n",
    "    rec = tp / float(npos)\n",
    "    # avoid divide by zero in case the first detection matches a difficult\n",
    "    # ground truth\n",
    "    prec = tp / np.maximum(tp + fp, np.finfo(np.float64).eps)\n",
    "    ap = voc_ap(rec, prec, use_07_metric)\n",
    "    print(\"ap of {} is {}\".format(classname, ap))\n",
    "    return ap"
   ]
  },
  {
   "cell_type": "code",
   "execution_count": 21,
   "metadata": {},
   "outputs": [
    {
     "name": "stdout",
     "output_type": "stream",
     "text": [
      "loading annotations into memory...\n",
      "Done (t=5.37s)\n",
      "creating index...\n",
      "index created!\n"
     ]
    },
    {
     "data": {
      "application/vnd.jupyter.widget-view+json": {
       "model_id": "540faf519407441cb74c3d4dfb536507",
       "version_major": 2,
       "version_minor": 0
      },
      "text/plain": [
       "HBox(children=(IntProgress(value=0, max=18), HTML(value='')))"
      ]
     },
     "metadata": {},
     "output_type": "display_data"
    },
    {
     "name": "stdout",
     "output_type": "stream",
     "text": [
      "ap of container-crane is 0.0\n",
      "ap of tennis-court is 0.9471871184162259\n",
      "ap of helicopter is 0.5587836717732454\n",
      "ap of ground-track-field is 0.7358625689552859\n",
      "ap of baseball-diamond is 0.7624642192899145\n",
      "ap of airport is 0.7976206570793456\n",
      "ap of swimming-pool is 0.5597168047738967\n",
      "ap of storage-tank is 0.6314881477347973\n",
      "ap of plane is 0.8977405909719963\n",
      "ap of harbor is 0.7361267138683685\n",
      "ap of large-vehicle is 0.7679770589594814\n",
      "ap of roundabout is 0.6299256796308623\n",
      "ap of bridge is 0.4567274136151177\n",
      "ap of soccer-ball-field is 0.5836499359971897\n",
      "ap of basketball-court is 0.6849244231323451\n",
      "ap of ship is 0.8601033785809702\n",
      "ap of helipad is 0.0\n",
      "ap of small-vehicle is 0.4676732700743925\n",
      "map is 0.6154428696029686\n"
     ]
    }
   ],
   "source": [
    "from multiprocessing import Pool\n",
    "p.close()\n",
    "p.join()\n",
    "p = Pool(18)\n",
    "detpath=\"./result/val_temp/{}.txt\"\n",
    "CLASS=['tennis-court', 'container-crane', 'storage-tank', 'baseball-diamond', 'plane', 'ground-track-field', 'helicopter', 'airport', 'harbor', 'ship', 'large-vehicle', 'swimming-pool', 'soccer-ball-field', 'roundabout', 'basketball-court', 'bridge', 'small-vehicle', 'helipad']\n",
    "ovthresh = 0.5\n",
    "aps = []\n",
    "coco=COCO(\"/home/xfr/rssid/data/annotation/annos_rscup_val.json\")\n",
    "for classname in tqdm(CLASS):\n",
    "    aps.append(p.apply_async(eval, args=(classname, detpath, ovthresh, coco)))\n",
    "#     ap = eval(classname, detpath, ovthresh, coco)\n",
    "#     ret.append(ap)\n",
    "ret = []\n",
    "for ap in aps:\n",
    "    ret.append(ap.get())\n",
    "print(\"map is {}\".format(np.mean(np.array(ret))))\n",
    "p.close()\n",
    "p.join()"
   ]
  },
  {
   "cell_type": "code",
   "execution_count": 15,
   "metadata": {},
   "outputs": [
    {
     "name": "stdout",
     "output_type": "stream",
     "text": [
      "loading annotations into memory...\n",
      "Done (t=0.42s)\n",
      "creating index...\n",
      "index created!\n"
     ]
    },
    {
     "data": {
      "application/vnd.jupyter.widget-view+json": {
       "model_id": "ab17b4052e4f4d6dab592f34fca8a5cf",
       "version_major": 2,
       "version_minor": 0
      },
      "text/plain": [
       "HBox(children=(IntProgress(value=0, max=593), HTML(value='')))"
      ]
     },
     "metadata": {},
     "output_type": "display_data"
    },
    {
     "name": "stdout",
     "output_type": "stream",
     "text": [
      "\n"
     ]
    }
   ],
   "source": [
    "result2 = mmcv.load(\"./result/eval_postnms.pkl\")\n",
    "ann = result2\n",
    "cfg = mmcv.Config.fromfile(\"configs/rs_test.py\")\n",
    "dataset = build_dataset(cfg.data.val)\n",
    "for idx in tqdm(range(len(dataset))):\n",
    "    img_info = dataset.img_infos[idx]\n",
    "    img = cv2.imread(\"/home/xfr/rssid/data/val/images/\"+img_info['filename'])\n",
    "    filename = img_info['filename'].split(\".\")[0]\n",
    "    info = ann[filename]\n",
    "    seg = info['vis']\n",
    "    box = info['bbox']\n",
    "    for cls in range(len(dataset.CLASSES)):\n",
    "        polys = seg[cls]\n",
    "        boxes = box[cls]\n",
    "        for poly, b in zip(polys, boxes):\n",
    "            temp = np.array([poly], np.int32)\n",
    "            cv2.putText(img, CLASSES[cls], (int(b[0]), int(b[1])), cv2.FONT_HERSHEY_COMPLEX, 1, (0, 0, 255), 2)\n",
    "            cv2.polylines(img, temp, 1, (0, 255, 0), 1)\n",
    "    cv2.imwrite(\"./result/val/{}\".format(filename)+\".jpg\", img)"
   ]
  },
  {
   "cell_type": "code",
   "execution_count": 77,
   "metadata": {
    "collapsed": true
   },
   "outputs": [],
   "source": [
    "import mmcv\n",
    "import numpy as np\n",
    "from pycocotools.coco import COCO\n",
    "from pycocotools.cocoeval import COCOeval\n",
    "\n",
    "\n",
    "def coco_eval(result_files, result_types, coco, max_dets=(100, 300, 1000)):\n",
    "    for res_type in result_types:\n",
    "        assert res_type in [\n",
    "            'proposal', 'proposal_fast', 'bbox', 'segm', 'keypoints'\n",
    "        ]\n",
    "\n",
    "    if mmcv.is_str(coco):\n",
    "        coco = COCO(coco)\n",
    "    assert isinstance(coco, COCO)\n",
    "\n",
    "    if result_types == ['proposal_fast']:\n",
    "        ar = fast_eval_recall(result_files, coco, np.array(max_dets))\n",
    "        for i, num in enumerate(max_dets):\n",
    "            print('AR@{}\\t= {:.4f}'.format(num, ar[i]))\n",
    "        return\n",
    "\n",
    "    for res_type in result_types:\n",
    "        result_file = result_files[res_type]\n",
    "        assert result_file.endswith('.json')\n",
    "\n",
    "        coco_dets = coco.loadRes(result_file)\n",
    "        \n",
    "        img_ids = coco.getImgIds()\n",
    "        iou_type = 'bbox' if res_type == 'proposal' else res_type\n",
    "        cocoEval = COCOeval(coco, coco_dets, iou_type)\n",
    "#         for cls in range(18):\n",
    "#             cocoEval.params.catIds = [cls]\n",
    "#             print(cocoEval.params)\n",
    "#             print(\"------------------------------------------\",CLASSES[cls],\"----------------------------------------------\")\n",
    "        cocoEval.params.imgIds = img_ids\n",
    "        cocoEval.params.maxDets = [100, 100, 100]\n",
    "        if res_type == 'proposal':\n",
    "            cocoEval.params.useCats = 0\n",
    "            cocoEval.params.maxDets = list(max_dets)\n",
    "\n",
    "        cocoEval.evaluate()\n",
    "        cocoEval.accumulate()\n",
    "        cocoEval.summarize()\n"
   ]
  },
  {
   "cell_type": "code",
   "execution_count": 47,
   "metadata": {},
   "outputs": [
    {
     "name": "stdout",
     "output_type": "stream",
     "text": [
      "loading annotations into memory...\n",
      "Done (t=0.46s)\n",
      "creating index...\n",
      "index created!\n"
     ]
    },
    {
     "data": {
      "application/vnd.jupyter.widget-view+json": {
       "model_id": "98f574b0af4446e5a7cdaea0c2d2a966",
       "version_major": 2,
       "version_minor": 0
      },
      "text/plain": [
       "HBox(children=(IntProgress(value=0, max=593), HTML(value='')))"
      ]
     },
     "metadata": {},
     "output_type": "display_data"
    },
    {
     "name": "stdout",
     "output_type": "stream",
     "text": [
      "\n"
     ]
    }
   ],
   "source": [
    "ann = mmcv.load(\"./result/eval_temp.pkl\")\n",
    "cfg = mmcv.Config.fromfile(\"configs/rs_test.py\")\n",
    "dataset = build_dataset(cfg.data.val)\n",
    "for idx in tqdm(range(len(dataset))):\n",
    "    img_info = dataset.img_infos[idx]\n",
    "    img = cv2.imread(\"/home/xfr/rssid/data/val/images/\"+img_info['filename'])\n",
    "    filename = img_info['filename'].split(\".\")[0]\n",
    "    info = ann[filename]\n",
    "    seg = info['vis']\n",
    "    for cls in range(len(dataset.CLASSES)):\n",
    "        polys = seg[cls]\n",
    "        for poly in polys:\n",
    "            temp = np.array([poly], np.int32)\n",
    "            cv2.polylines(img, temp, 1, (0, 255, 0), 1)\n",
    "    cv2.imwrite(\"./result/prenms/{}\".format(filename)+\".jpg\", img)"
   ]
  },
  {
   "cell_type": "code",
   "execution_count": 78,
   "metadata": {},
   "outputs": [
    {
     "name": "stdout",
     "output_type": "stream",
     "text": [
      "loading annotations into memory...\n",
      "Done (t=1.44s)\n",
      "creating index...\n",
      "index created!\n",
      "Loading and preparing results...\n",
      "DONE (t=2.70s)\n",
      "creating index...\n",
      "index created!\n",
      "Running per image evaluation...\n",
      "Evaluate annotation type *segm*\n",
      "DONE (t=184.62s).\n",
      "Accumulating evaluation results...\n",
      "DONE (t=1.54s).\n",
      " Average Precision  (AP) @[ IoU=0.50:0.95 | area=   all | maxDets=100 ] = 0.327\n",
      " Average Precision  (AP) @[ IoU=0.50      | area=   all | maxDets=100 ] = 0.564\n",
      " Average Precision  (AP) @[ IoU=0.75      | area=   all | maxDets=100 ] = 0.338\n",
      " Average Precision  (AP) @[ IoU=0.50:0.95 | area= small | maxDets=100 ] = 0.196\n",
      " Average Precision  (AP) @[ IoU=0.50:0.95 | area=medium | maxDets=100 ] = 0.357\n",
      " Average Precision  (AP) @[ IoU=0.50:0.95 | area= large | maxDets=100 ] = 0.478\n",
      " Average Recall     (AR) @[ IoU=0.50:0.95 | area=   all | maxDets=100 ] = 0.398\n",
      " Average Recall     (AR) @[ IoU=0.50:0.95 | area=   all | maxDets=100 ] = 0.398\n",
      " Average Recall     (AR) @[ IoU=0.50:0.95 | area=   all | maxDets=100 ] = 0.398\n",
      " Average Recall     (AR) @[ IoU=0.50:0.95 | area= small | maxDets=100 ] = 0.268\n",
      " Average Recall     (AR) @[ IoU=0.50:0.95 | area=medium | maxDets=100 ] = 0.425\n",
      " Average Recall     (AR) @[ IoU=0.50:0.95 | area= large | maxDets=100 ] = 0.573\n"
     ]
    }
   ],
   "source": [
    "from mmdet.core import results2json\n",
    "outputs = []\n",
    "ann = mmcv.load(\"postnms.pkl\")\n",
    "cfg = mmcv.Config.fromfile(\"configs/rs_test.py\")\n",
    "dataset = build_dataset(cfg.data.val)\n",
    "for idx in range(len(dataset)):\n",
    "    img_info = dataset.img_infos[idx]\n",
    "    filename = img_info['filename'].split(\".\")[0]\n",
    "    if filename not in ann:\n",
    "        #print(filename)\n",
    "        ann[filename] = {\"bbox\": [np.array([]) for i in range(len(dataset.CLASSES))], \"seg\":[[] for i in range(len(dataset.CLASSES))]}\n",
    "    info = ann[filename]\n",
    "    #print(info['seg'][0])\n",
    "    m = np.array(info['bbox'])\n",
    "    for i in range(len(m)):\n",
    "        m[i] = np.array(m[i])\n",
    "    temp = (m, info['seg'])\n",
    "    outputs.append(temp)\n",
    "result_files = results2json(dataset, outputs, \"xx\")\n",
    "coco_eval(result_files, ['segm'], dataset.coco)"
   ]
  },
  {
   "cell_type": "code",
   "execution_count": 17,
   "metadata": {},
   "outputs": [
    {
     "name": "stdout",
     "output_type": "stream",
     "text": [
      "loading annotations into memory...\n",
      "Done (t=1.20s)\n",
      "creating index...\n",
      "index created!\n"
     ]
    },
    {
     "data": {
      "application/vnd.jupyter.widget-view+json": {
       "model_id": "3f401cba14b44c4a9657471e3646a1de",
       "version_major": 2,
       "version_minor": 0
      },
      "text/plain": [
       "HBox(children=(IntProgress(value=0, max=18), HTML(value='')))"
      ]
     },
     "metadata": {},
     "output_type": "display_data"
    },
    {
     "data": {
      "application/vnd.jupyter.widget-view+json": {
       "model_id": "1edc604a2c9d4f1b8deb8449f8f768a2",
       "version_major": 2,
       "version_minor": 0
      },
      "text/plain": [
       "HBox(children=(IntProgress(value=0, max=966), HTML(value='')))"
      ]
     },
     "metadata": {},
     "output_type": "display_data"
    },
    {
     "name": "stdout",
     "output_type": "stream",
     "text": [
      "ap of tennis-court is 0.9461078239129896\n",
      "ap of tennis-court is 0.9461078239129896\n"
     ]
    },
    {
     "data": {
      "application/vnd.jupyter.widget-view+json": {
       "model_id": "23ac2984c16f492e8c398bedbfde933d",
       "version_major": 2,
       "version_minor": 0
      },
      "text/plain": [
       "HBox(children=(IntProgress(value=0, max=49), HTML(value='')))"
      ]
     },
     "metadata": {},
     "output_type": "display_data"
    },
    {
     "name": "stdout",
     "output_type": "stream",
     "text": [
      "ap of container-crane is 0.011904761904761904\n",
      "ap of container-crane is 0.011904761904761904\n"
     ]
    },
    {
     "data": {
      "application/vnd.jupyter.widget-view+json": {
       "model_id": "4a2181e6d98d41b1a339a5c2411f70fb",
       "version_major": 2,
       "version_minor": 0
      },
      "text/plain": [
       "HBox(children=(IntProgress(value=0, max=3192), HTML(value='')))"
      ]
     },
     "metadata": {},
     "output_type": "display_data"
    },
    {
     "name": "stdout",
     "output_type": "stream",
     "text": [
      "ap of storage-tank is 0.6423659993901099\n",
      "ap of storage-tank is 0.6423659993901099\n"
     ]
    },
    {
     "data": {
      "application/vnd.jupyter.widget-view+json": {
       "model_id": "7576917d99814b9e807ca0a8a6129e60",
       "version_major": 2,
       "version_minor": 0
      },
      "text/plain": [
       "HBox(children=(IntProgress(value=0, max=408), HTML(value='')))"
      ]
     },
     "metadata": {},
     "output_type": "display_data"
    },
    {
     "name": "stdout",
     "output_type": "stream",
     "text": [
      "ap of baseball-diamond is 0.8416521148635843\n",
      "ap of baseball-diamond is 0.8416521148635843\n"
     ]
    },
    {
     "data": {
      "application/vnd.jupyter.widget-view+json": {
       "model_id": "07860c026ead4ab1adfb0223b15d6391",
       "version_major": 2,
       "version_minor": 0
      },
      "text/plain": [
       "HBox(children=(IntProgress(value=0, max=3289), HTML(value='')))"
      ]
     },
     "metadata": {},
     "output_type": "display_data"
    },
    {
     "name": "stdout",
     "output_type": "stream",
     "text": [
      "ap of plane is 0.9075101643210136\n",
      "ap of plane is 0.9075101643210136\n"
     ]
    },
    {
     "data": {
      "application/vnd.jupyter.widget-view+json": {
       "model_id": "124e69f94958463eae22b43d633c01c6",
       "version_major": 2,
       "version_minor": 0
      },
      "text/plain": [
       "HBox(children=(IntProgress(value=0, max=394), HTML(value='')))"
      ]
     },
     "metadata": {},
     "output_type": "display_data"
    },
    {
     "name": "stdout",
     "output_type": "stream",
     "text": [
      "ap of ground-track-field is 0.8132392946479243\n",
      "ap of ground-track-field is 0.8132392946479243\n"
     ]
    },
    {
     "data": {
      "application/vnd.jupyter.widget-view+json": {
       "model_id": "8b4fecd7e7a147a1b4632751c1cddbf8",
       "version_major": 2,
       "version_minor": 0
      },
      "text/plain": [
       "HBox(children=(IntProgress(value=0, max=187), HTML(value='')))"
      ]
     },
     "metadata": {},
     "output_type": "display_data"
    },
    {
     "name": "stdout",
     "output_type": "stream",
     "text": [
      "ap of helicopter is 0.6585310938833637\n",
      "ap of helicopter is 0.6585310938833637\n"
     ]
    },
    {
     "data": {
      "application/vnd.jupyter.widget-view+json": {
       "model_id": "a33830d425a847de8941d545710cc3f5",
       "version_major": 2,
       "version_minor": 0
      },
      "text/plain": [
       "HBox(children=(IntProgress(value=0, max=310), HTML(value='')))"
      ]
     },
     "metadata": {},
     "output_type": "display_data"
    },
    {
     "name": "stdout",
     "output_type": "stream",
     "text": [
      "ap of airport is 0.5767733008167736\n",
      "ap of airport is 0.5767733008167736\n"
     ]
    },
    {
     "data": {
      "application/vnd.jupyter.widget-view+json": {
       "model_id": "c616483e2fa944df8af1fd5ca300067c",
       "version_major": 2,
       "version_minor": 0
      },
      "text/plain": [
       "HBox(children=(IntProgress(value=0, max=5202), HTML(value='')))"
      ]
     },
     "metadata": {},
     "output_type": "display_data"
    },
    {
     "name": "stdout",
     "output_type": "stream",
     "text": [
      "ap of harbor is 0.7092265062662213\n",
      "ap of harbor is 0.7092265062662213\n"
     ]
    },
    {
     "data": {
      "application/vnd.jupyter.widget-view+json": {
       "model_id": "9700b3b9cf9f4ecaa0a64ac01248e583",
       "version_major": 2,
       "version_minor": 0
      },
      "text/plain": [
       "HBox(children=(IntProgress(value=0, max=19504), HTML(value='')))"
      ]
     },
     "metadata": {},
     "output_type": "display_data"
    },
    {
     "name": "stdout",
     "output_type": "stream",
     "text": [
      "ap of ship is 0.85020379116034\n",
      "ap of ship is 0.85020379116034\n"
     ]
    },
    {
     "data": {
      "application/vnd.jupyter.widget-view+json": {
       "model_id": "82253f93319846288a2506ef2285463f",
       "version_major": 2,
       "version_minor": 0
      },
      "text/plain": [
       "HBox(children=(IntProgress(value=0, max=13016), HTML(value='')))"
      ]
     },
     "metadata": {},
     "output_type": "display_data"
    },
    {
     "name": "stdout",
     "output_type": "stream",
     "text": [
      "ap of large-vehicle is 0.7728940465363776\n",
      "ap of large-vehicle is 0.7728940465363776\n"
     ]
    },
    {
     "data": {
      "application/vnd.jupyter.widget-view+json": {
       "model_id": "8ba9458be867484a84f951edbcc4bc76",
       "version_major": 2,
       "version_minor": 0
      },
      "text/plain": [
       "HBox(children=(IntProgress(value=0, max=1442), HTML(value='')))"
      ]
     },
     "metadata": {},
     "output_type": "display_data"
    },
    {
     "name": "stdout",
     "output_type": "stream",
     "text": [
      "ap of swimming-pool is 0.5635800413204949\n",
      "ap of swimming-pool is 0.5635800413204949\n"
     ]
    },
    {
     "data": {
      "application/vnd.jupyter.widget-view+json": {
       "model_id": "334c3556e3f44d32a29365d52ae6edaa",
       "version_major": 2,
       "version_minor": 0
      },
      "text/plain": [
       "HBox(children=(IntProgress(value=0, max=333), HTML(value='')))"
      ]
     },
     "metadata": {},
     "output_type": "display_data"
    },
    {
     "name": "stdout",
     "output_type": "stream",
     "text": [
      "ap of soccer-ball-field is 0.6242170684009745\n",
      "ap of soccer-ball-field is 0.6242170684009745\n"
     ]
    },
    {
     "data": {
      "application/vnd.jupyter.widget-view+json": {
       "model_id": "2ccfe97c1e7e4a599fa1317f2985c5f9",
       "version_major": 2,
       "version_minor": 0
      },
      "text/plain": [
       "HBox(children=(IntProgress(value=0, max=414), HTML(value='')))"
      ]
     },
     "metadata": {},
     "output_type": "display_data"
    },
    {
     "name": "stdout",
     "output_type": "stream",
     "text": [
      "ap of roundabout is 0.6920844814776893\n",
      "ap of roundabout is 0.6920844814776893\n"
     ]
    },
    {
     "data": {
      "application/vnd.jupyter.widget-view+json": {
       "model_id": "d875476935094b31a10fa08e7c819a9d",
       "version_major": 2,
       "version_minor": 0
      },
      "text/plain": [
       "HBox(children=(IntProgress(value=0, max=377), HTML(value='')))"
      ]
     },
     "metadata": {},
     "output_type": "display_data"
    },
    {
     "name": "stdout",
     "output_type": "stream",
     "text": [
      "ap of basketball-court is 0.6834833805051985\n",
      "ap of basketball-court is 0.6834833805051985\n"
     ]
    },
    {
     "data": {
      "application/vnd.jupyter.widget-view+json": {
       "model_id": "35031edb509a44aabc74c607647afb1d",
       "version_major": 2,
       "version_minor": 0
      },
      "text/plain": [
       "HBox(children=(IntProgress(value=0, max=1238), HTML(value='')))"
      ]
     },
     "metadata": {},
     "output_type": "display_data"
    },
    {
     "name": "stdout",
     "output_type": "stream",
     "text": [
      "ap of bridge is 0.4487948537678508\n",
      "ap of bridge is 0.4487948537678508\n"
     ]
    },
    {
     "data": {
      "application/vnd.jupyter.widget-view+json": {
       "model_id": "7e54e399fa604f4892783aa55593801d",
       "version_major": 2,
       "version_minor": 0
      },
      "text/plain": [
       "HBox(children=(IntProgress(value=0, max=47524), HTML(value='')))"
      ]
     },
     "metadata": {},
     "output_type": "display_data"
    },
    {
     "name": "stdout",
     "output_type": "stream",
     "text": [
      "ap of small-vehicle is 0.4905447846177097\n",
      "ap of small-vehicle is 0.4905447846177097\n",
      "ap of helipad is 0.0\n",
      "ap of helipad is 0.0\n",
      "\n",
      "map is 0.6240618615440766\n"
     ]
    }
   ],
   "source": [
    "detpath=\"./result/val_temp/{}.txt\"\n",
    "CLASS=['tennis-court', 'container-crane', 'storage-tank', 'baseball-diamond', 'plane', 'ground-track-field', 'helicopter', 'airport', 'harbor', 'ship', 'large-vehicle', 'swimming-pool', 'soccer-ball-field', 'roundabout', 'basketball-court', 'bridge', 'small-vehicle', 'helipad']\n",
    "ovthresh = 0.5\n",
    "aps = []\n",
    "coco=COCO(\"/home/xfr/rssid/data/annotation/annos_rscup_val.json\")\n",
    "for classname in tqdm(CLASS):\n",
    "    ap = eval(classname, detpath, ovthresh, coco)\n",
    "    print(\"ap of {} is {}\".format(classname, ap))\n",
    "    aps.append(ap)\n",
    "aps = np.array(aps)\n",
    "print(\"map is {}\".format(np.mean(aps)))"
   ]
  },
  {
   "cell_type": "code",
   "execution_count": 18,
   "metadata": {},
   "outputs": [
    {
     "ename": "NameError",
     "evalue": "name 'long_time_task' is not defined",
     "output_type": "error",
     "traceback": [
      "\u001b[0;31m---------------------------------------------------------------------------\u001b[0m",
      "\u001b[0;31mNameError\u001b[0m                                 Traceback (most recent call last)",
      "\u001b[0;32m<ipython-input-18-f24ec271400d>\u001b[0m in \u001b[0;36m<module>\u001b[0;34m\u001b[0m\n\u001b[1;32m      2\u001b[0m \u001b[0mp\u001b[0m \u001b[0;34m=\u001b[0m \u001b[0mPool\u001b[0m\u001b[0;34m(\u001b[0m\u001b[0;34m)\u001b[0m\u001b[0;34m\u001b[0m\u001b[0;34m\u001b[0m\u001b[0m\n\u001b[1;32m      3\u001b[0m \u001b[0;32mfor\u001b[0m \u001b[0mi\u001b[0m \u001b[0;32min\u001b[0m \u001b[0mrange\u001b[0m\u001b[0;34m(\u001b[0m\u001b[0;36m5\u001b[0m\u001b[0;34m)\u001b[0m\u001b[0;34m:\u001b[0m\u001b[0;34m\u001b[0m\u001b[0;34m\u001b[0m\u001b[0m\n\u001b[0;32m----> 4\u001b[0;31m     \u001b[0mp\u001b[0m\u001b[0;34m.\u001b[0m\u001b[0mapply_async\u001b[0m\u001b[0;34m(\u001b[0m\u001b[0mlong_time_task\u001b[0m\u001b[0;34m,\u001b[0m \u001b[0margs\u001b[0m\u001b[0;34m=\u001b[0m\u001b[0;34m(\u001b[0m\u001b[0mi\u001b[0m\u001b[0;34m,\u001b[0m\u001b[0;34m)\u001b[0m\u001b[0;34m)\u001b[0m\u001b[0;34m\u001b[0m\u001b[0;34m\u001b[0m\u001b[0m\n\u001b[0m\u001b[1;32m      5\u001b[0m     \u001b[0mprint\u001b[0m\u001b[0;34m(\u001b[0m\u001b[0;34m'Waiting for all subprocesses done...'\u001b[0m\u001b[0;34m)\u001b[0m\u001b[0;34m\u001b[0m\u001b[0;34m\u001b[0m\u001b[0m\n\u001b[1;32m      6\u001b[0m     \u001b[0mp\u001b[0m\u001b[0;34m.\u001b[0m\u001b[0mclose\u001b[0m\u001b[0;34m(\u001b[0m\u001b[0;34m)\u001b[0m\u001b[0;34m\u001b[0m\u001b[0;34m\u001b[0m\u001b[0m\n",
      "\u001b[0;31mNameError\u001b[0m: name 'long_time_task' is not defined"
     ]
    }
   ],
   "source": [
    "from multiprocessing import Pool\n",
    "p = Pool()\n",
    "for i in range(5):\n",
    "    p.apply_async(long_time_task, args=(i,))\n",
    "    print('Waiting for all subprocesses done...')\n",
    "    p.close()\n",
    "    p.join()\n",
    "    print('All subprocesses done.')"
   ]
  },
  {
   "cell_type": "code",
   "execution_count": null,
   "metadata": {
    "collapsed": true
   },
   "outputs": [],
   "source": [
    "from shapely.geometry import *\n",
    "import copy\n",
    "import time\n",
    "def py_cpu_pnms(dets, pts, thresh):\n",
    "    dets = np.array(dets)\n",
    "    pts = np.array(pts)\n",
    "    scores = dets[:, 4]\n",
    "    order = scores.argsort()[::-1]\n",
    "    areas = np.zeros(scores.shape)\n",
    "    inter_areas = np.zeros((scores.shape[0], scores.shape[0]))\n",
    "    for il in range(len(pts)):\n",
    "        poly = Polygon(pts[il])\n",
    "        areas[il] = poly.area\n",
    "        for jl in range(il, len(pts)):\n",
    "            polyj = Polygon(pts[jl])\n",
    "            inS = poly.intersection(polyj)\n",
    "            inter_areas[il][jl] = inS.area\n",
    "            inter_areas[jl][il] = inS.area\n",
    "\n",
    "    keep = []\n",
    "    while order.size > 0:\n",
    "        i = order[0]\n",
    "        keep.append(i)\n",
    "        ovr = inter_areas[i][order[1:]] / (areas[i] + areas[order[1:]] - inter_areas[i][order[1:]])\n",
    "        inds = np.where(ovr <= thresh)[0]\n",
    "        order = order[inds + 1]\n",
    "    return np.array(keep, np.int32)\n",
    "def nms(ann, thresh):\n",
    "    \n",
    "    for name in tqdm(ann.keys()):\n",
    "        info = ann[name]\n",
    "        for cls in range(len(dataset.CLASSES)):\n",
    "            bbox = np.array(info['bbox'][cls])\n",
    "           \n",
    "            seg = np.array(info['seg'][cls])\n",
    "            vis = np.array(info['vis'][cls])\n",
    "            if(len(bbox)<=0):\n",
    "                continue\n",
    "            t1 = time.time()\n",
    "            h, w = seg[0]['size']\n",
    "            bbox_result = []\n",
    "            seg_result = []\n",
    "            vis_result = []\n",
    "            tm = time.time()\n",
    "            maps = np.zeros((h, w))\n",
    "            for box in bbox:\n",
    "                xmin, ymin, xmax, ymax , score = box\n",
    "                maps[int(ymin):int(ymax), int(xmin):int(xmax)] = 1\n",
    "#             for a in seg:\n",
    "#                 m = MASK.decode(a)\n",
    "#                 maps.append(m)\n",
    "#             maps = np.sum(np.array(maps), axis=0)\n",
    "#             maps[maps>=1] = 1\n",
    "            tn = time.time()\n",
    "            kernel = np.ones((5,5),np.uint8) \n",
    "            maps = cv2.dilate(maps,kernel,iterations = 1)\n",
    "            contours, hierarchy = cv2.findContours((maps).astype(np.uint8), cv2.RETR_TREE,\n",
    "                                                                 cv2.CHAIN_APPROX_SIMPLE)\n",
    "            for contour in contours:\n",
    "                xmin, ymin, w, h = cv2.boundingRect(contour)\n",
    "                xmax = xmin+w\n",
    "                ymax = ymin+h\n",
    "                region_box = []\n",
    "                region_mask = []\n",
    "                region_vis = []\n",
    "                for i, bb in enumerate(bbox):\n",
    "                    if(bb[0]>=xmin and bb[1]>=ymin and bb[2]<=xmax and bb[3]<=ymax):\n",
    "                        region_box.append(bbox[i])\n",
    "                        region_mask.append(seg[i])\n",
    "                        region_vis.append(vis[i])\n",
    "                if(len(region_box) <= 0):\n",
    "                    continue\n",
    "                keep_ind = py_cpu_pnms(region_box, region_vis, thresh)\n",
    "                bbox_result += list(np.array(region_box)[keep_ind])\n",
    "                seg_result += list(np.array(region_mask)[keep_ind])\n",
    "                vis_result += list(np.array(region_vis)[keep_ind])\n",
    "            ann[name]['bbox'][cls] = bbox_result\n",
    "            ann[name]['seg'][cls] = seg_result\n",
    "            ann[name]['vis'][cls] = vis_result\n",
    "            t2 = time.time()\n",
    "                \n",
    "    return ann\n",
    "thresh=0.5\n",
    "# result = copy.deepcopy(ann)\n",
    "ann = mmcv.load(\"eval_temp.pkl\")\n",
    "result = nms(ann, thresh)\n"
   ]
  },
  {
   "cell_type": "code",
   "execution_count": 17,
   "metadata": {},
   "outputs": [
    {
     "name": "stdout",
     "output_type": "stream",
     "text": [
      "loading annotations into memory...\n",
      "Done (t=0.14s)\n",
      "creating index...\n",
      "index created!\n",
      "loading annotations into memory...\n",
      "Done (t=0.08s)\n",
      "creating index...\n",
      "index created!\n"
     ]
    },
    {
     "data": {
      "application/vnd.jupyter.widget-view+json": {
       "model_id": "167233bccfd04c0aa683557c444d6d73",
       "version_major": 2,
       "version_minor": 0
      },
      "text/plain": [
       "HBox(children=(IntProgress(value=0, max=36909), HTML(value='')))"
      ]
     },
     "metadata": {},
     "output_type": "display_data"
    },
    {
     "name": "stdout",
     "output_type": "stream",
     "text": [
      "{'license': 1, 'file_name': 'P0814_0.5_226.0_0.0_0part1.jpg', 'coco_url': 'xxx', 'height': 275, 'width': 511, 'date_captured': '2019-06-25', 'flickr_url': 'xxx', 'id': 0, 'filename': 'P0814_0.5_226.0_0.0_0part1.jpg'}\n",
      "{'license': 1, 'file_name': 'P0814_0.5_0.0_0.0_0part2.jpg', 'coco_url': 'xxx', 'height': 275, 'width': 512, 'date_captured': '2019-06-25', 'flickr_url': 'xxx', 'id': 1, 'filename': 'P0814_0.5_0.0_0.0_0part2.jpg'}\n",
      "{'license': 1, 'file_name': 'P0814_0.5_226.0_0.0_0part3.jpg', 'coco_url': 'xxx', 'height': 275, 'width': 511, 'date_captured': '2019-06-25', 'flickr_url': 'xxx', 'id': 2, 'filename': 'P0814_0.5_226.0_0.0_0part3.jpg'}\n",
      "{'license': 1, 'file_name': 'P0814_0.5_0.0_0.0_0part4.jpg', 'coco_url': 'xxx', 'height': 275, 'width': 511, 'date_captured': '2019-06-25', 'flickr_url': 'xxx', 'id': 3, 'filename': 'P0814_0.5_0.0_0.0_0part4.jpg'}\n",
      "{'license': 1, 'file_name': 'P0814_1_964.0_0.0_0part1.jpg', 'coco_url': 'xxx', 'height': 512, 'width': 511, 'date_captured': '2019-06-25', 'flickr_url': 'xxx', 'id': 4, 'filename': 'P0814_1_964.0_0.0_0part1.jpg'}\n",
      "{'license': 1, 'file_name': 'P0814_1_0.0_39.0_0part2.jpg', 'coco_url': 'xxx', 'height': 511, 'width': 512, 'date_captured': '2019-06-25', 'flickr_url': 'xxx', 'id': 5, 'filename': 'P0814_1_0.0_39.0_0part2.jpg'}\n",
      "{'license': 1, 'file_name': 'P0814_1_964.0_39.0_0part3.jpg', 'coco_url': 'xxx', 'height': 511, 'width': 511, 'date_captured': '2019-06-25', 'flickr_url': 'xxx', 'id': 6, 'filename': 'P0814_1_964.0_39.0_0part3.jpg'}\n",
      "{'license': 1, 'file_name': 'P0814_1_0.0_0.0_0part4.jpg', 'coco_url': 'xxx', 'height': 511, 'width': 511, 'date_captured': '2019-06-25', 'flickr_url': 'xxx', 'id': 7, 'filename': 'P0814_1_0.0_0.0_0part4.jpg'}\n",
      "{'license': 1, 'file_name': 'P0814_1_416.0_0.0_0part5.jpg', 'coco_url': 'xxx', 'height': 511, 'width': 511, 'date_captured': '2019-06-25', 'flickr_url': 'xxx', 'id': 8, 'filename': 'P0814_1_416.0_0.0_0part5.jpg'}\n",
      "{'license': 1, 'file_name': 'P0814_1_832.0_0.0_0part6.jpg', 'coco_url': 'xxx', 'height': 511, 'width': 511, 'date_captured': '2019-06-25', 'flickr_url': 'xxx', 'id': 9, 'filename': 'P0814_1_832.0_0.0_0part6.jpg'}\n",
      "{'license': 1, 'file_name': 'P0814_1_963.0_0.0_0part7.jpg', 'coco_url': 'xxx', 'height': 511, 'width': 512, 'date_captured': '2019-06-25', 'flickr_url': 'xxx', 'id': 10, 'filename': 'P0814_1_963.0_0.0_0part7.jpg'}\n",
      "{'license': 1, 'file_name': 'P0814_1_0.0_38.0_0part8.jpg', 'coco_url': 'xxx', 'height': 512, 'width': 511, 'date_captured': '2019-06-25', 'flickr_url': 'xxx', 'id': 11, 'filename': 'P0814_1_0.0_38.0_0part8.jpg'}\n",
      "{'license': 1, 'file_name': 'P0814_1_416.0_38.0_0part9.jpg', 'coco_url': 'xxx', 'height': 512, 'width': 511, 'date_captured': '2019-06-25', 'flickr_url': 'xxx', 'id': 12, 'filename': 'P0814_1_416.0_38.0_0part9.jpg'}\n",
      "{'license': 1, 'file_name': 'P0814_1_832.0_38.0_0part10.jpg', 'coco_url': 'xxx', 'height': 512, 'width': 511, 'date_captured': '2019-06-25', 'flickr_url': 'xxx', 'id': 13, 'filename': 'P0814_1_832.0_38.0_0part10.jpg'}\n",
      "{'license': 1, 'file_name': 'P1314_0.5_1488.0_0.0_0part1.jpg', 'coco_url': 'xxx', 'height': 512, 'width': 511, 'date_captured': '2019-06-25', 'flickr_url': 'xxx', 'id': 14, 'filename': 'P1314_0.5_1488.0_0.0_0part1.jpg'}\n",
      "{'license': 1, 'file_name': 'P1314_0.5_0.0_1488.0_0part2.jpg', 'coco_url': 'xxx', 'height': 511, 'width': 512, 'date_captured': '2019-06-25', 'flickr_url': 'xxx', 'id': 15, 'filename': 'P1314_0.5_0.0_1488.0_0part2.jpg'}\n",
      "{'license': 1, 'file_name': 'P1314_0.5_1488.0_1488.0_0part3.jpg', 'coco_url': 'xxx', 'height': 511, 'width': 511, 'date_captured': '2019-06-25', 'flickr_url': 'xxx', 'id': 16, 'filename': 'P1314_0.5_1488.0_1488.0_0part3.jpg'}\n",
      "{'license': 1, 'file_name': 'P1314_0.5_0.0_0.0_0part4.jpg', 'coco_url': 'xxx', 'height': 511, 'width': 511, 'date_captured': '2019-06-25', 'flickr_url': 'xxx', 'id': 17, 'filename': 'P1314_0.5_0.0_0.0_0part4.jpg'}\n",
      "{'license': 1, 'file_name': 'P1314_0.5_0.0_416.0_0part5.jpg', 'coco_url': 'xxx', 'height': 511, 'width': 511, 'date_captured': '2019-06-25', 'flickr_url': 'xxx', 'id': 18, 'filename': 'P1314_0.5_0.0_416.0_0part5.jpg'}\n",
      "{'license': 1, 'file_name': 'P1314_0.5_0.0_832.0_0part6.jpg', 'coco_url': 'xxx', 'height': 511, 'width': 511, 'date_captured': '2019-06-25', 'flickr_url': 'xxx', 'id': 19, 'filename': 'P1314_0.5_0.0_832.0_0part6.jpg'}\n",
      "{'license': 1, 'file_name': 'P1314_0.5_0.0_1248.0_0part7.jpg', 'coco_url': 'xxx', 'height': 511, 'width': 511, 'date_captured': '2019-06-25', 'flickr_url': 'xxx', 'id': 20, 'filename': 'P1314_0.5_0.0_1248.0_0part7.jpg'}\n",
      "{'license': 1, 'file_name': 'P1314_0.5_416.0_0.0_0part8.jpg', 'coco_url': 'xxx', 'height': 511, 'width': 511, 'date_captured': '2019-06-25', 'flickr_url': 'xxx', 'id': 21, 'filename': 'P1314_0.5_416.0_0.0_0part8.jpg'}\n",
      "{'license': 1, 'file_name': 'P1314_0.5_416.0_416.0_0part9.jpg', 'coco_url': 'xxx', 'height': 511, 'width': 511, 'date_captured': '2019-06-25', 'flickr_url': 'xxx', 'id': 22, 'filename': 'P1314_0.5_416.0_416.0_0part9.jpg'}\n",
      "{'license': 1, 'file_name': 'P1314_0.5_416.0_832.0_0part10.jpg', 'coco_url': 'xxx', 'height': 511, 'width': 511, 'date_captured': '2019-06-25', 'flickr_url': 'xxx', 'id': 23, 'filename': 'P1314_0.5_416.0_832.0_0part10.jpg'}\n",
      "{'license': 1, 'file_name': 'P1314_0.5_416.0_1248.0_0part11.jpg', 'coco_url': 'xxx', 'height': 511, 'width': 511, 'date_captured': '2019-06-25', 'flickr_url': 'xxx', 'id': 24, 'filename': 'P1314_0.5_416.0_1248.0_0part11.jpg'}\n",
      "{'license': 1, 'file_name': 'P1314_0.5_832.0_0.0_0part12.jpg', 'coco_url': 'xxx', 'height': 511, 'width': 511, 'date_captured': '2019-06-25', 'flickr_url': 'xxx', 'id': 25, 'filename': 'P1314_0.5_832.0_0.0_0part12.jpg'}\n",
      "{'license': 1, 'file_name': 'P1314_0.5_832.0_416.0_0part13.jpg', 'coco_url': 'xxx', 'height': 511, 'width': 511, 'date_captured': '2019-06-25', 'flickr_url': 'xxx', 'id': 26, 'filename': 'P1314_0.5_832.0_416.0_0part13.jpg'}\n",
      "{'license': 1, 'file_name': 'P1314_0.5_832.0_832.0_0part14.jpg', 'coco_url': 'xxx', 'height': 511, 'width': 511, 'date_captured': '2019-06-25', 'flickr_url': 'xxx', 'id': 27, 'filename': 'P1314_0.5_832.0_832.0_0part14.jpg'}\n",
      "{'license': 1, 'file_name': 'P1314_0.5_832.0_1248.0_0part15.jpg', 'coco_url': 'xxx', 'height': 511, 'width': 511, 'date_captured': '2019-06-25', 'flickr_url': 'xxx', 'id': 28, 'filename': 'P1314_0.5_832.0_1248.0_0part15.jpg'}\n",
      "{'license': 1, 'file_name': 'P1314_0.5_1248.0_0.0_0part16.jpg', 'coco_url': 'xxx', 'height': 511, 'width': 511, 'date_captured': '2019-06-25', 'flickr_url': 'xxx', 'id': 29, 'filename': 'P1314_0.5_1248.0_0.0_0part16.jpg'}\n",
      "{'license': 1, 'file_name': 'P1314_0.5_1248.0_416.0_0part17.jpg', 'coco_url': 'xxx', 'height': 511, 'width': 511, 'date_captured': '2019-06-25', 'flickr_url': 'xxx', 'id': 30, 'filename': 'P1314_0.5_1248.0_416.0_0part17.jpg'}\n",
      "{'license': 1, 'file_name': 'P1314_0.5_1248.0_832.0_0part18.jpg', 'coco_url': 'xxx', 'height': 511, 'width': 511, 'date_captured': '2019-06-25', 'flickr_url': 'xxx', 'id': 31, 'filename': 'P1314_0.5_1248.0_832.0_0part18.jpg'}\n",
      "{'license': 1, 'file_name': 'P1314_0.5_1248.0_1248.0_0part19.jpg', 'coco_url': 'xxx', 'height': 511, 'width': 511, 'date_captured': '2019-06-25', 'flickr_url': 'xxx', 'id': 32, 'filename': 'P1314_0.5_1248.0_1248.0_0part19.jpg'}\n",
      "{'license': 1, 'file_name': 'P1314_0.5_1487.0_0.0_0part20.jpg', 'coco_url': 'xxx', 'height': 511, 'width': 512, 'date_captured': '2019-06-25', 'flickr_url': 'xxx', 'id': 33, 'filename': 'P1314_0.5_1487.0_0.0_0part20.jpg'}\n",
      "{'license': 1, 'file_name': 'P1314_0.5_1487.0_416.0_0part21.jpg', 'coco_url': 'xxx', 'height': 511, 'width': 512, 'date_captured': '2019-06-25', 'flickr_url': 'xxx', 'id': 34, 'filename': 'P1314_0.5_1487.0_416.0_0part21.jpg'}\n",
      "{'license': 1, 'file_name': 'P1314_0.5_1487.0_832.0_0part22.jpg', 'coco_url': 'xxx', 'height': 511, 'width': 512, 'date_captured': '2019-06-25', 'flickr_url': 'xxx', 'id': 35, 'filename': 'P1314_0.5_1487.0_832.0_0part22.jpg'}\n",
      "{'license': 1, 'file_name': 'P1314_0.5_1487.0_1248.0_0part23.jpg', 'coco_url': 'xxx', 'height': 511, 'width': 512, 'date_captured': '2019-06-25', 'flickr_url': 'xxx', 'id': 36, 'filename': 'P1314_0.5_1487.0_1248.0_0part23.jpg'}\n",
      "{'license': 1, 'file_name': 'P1314_0.5_0.0_1487.0_0part24.jpg', 'coco_url': 'xxx', 'height': 512, 'width': 511, 'date_captured': '2019-06-25', 'flickr_url': 'xxx', 'id': 37, 'filename': 'P1314_0.5_0.0_1487.0_0part24.jpg'}\n",
      "{'license': 1, 'file_name': 'P1314_0.5_416.0_1487.0_0part25.jpg', 'coco_url': 'xxx', 'height': 512, 'width': 511, 'date_captured': '2019-06-25', 'flickr_url': 'xxx', 'id': 38, 'filename': 'P1314_0.5_416.0_1487.0_0part25.jpg'}\n",
      "{'license': 1, 'file_name': 'P1314_0.5_832.0_1487.0_0part26.jpg', 'coco_url': 'xxx', 'height': 512, 'width': 511, 'date_captured': '2019-06-25', 'flickr_url': 'xxx', 'id': 39, 'filename': 'P1314_0.5_832.0_1487.0_0part26.jpg'}\n",
      "{'license': 1, 'file_name': 'P1314_0.5_1248.0_1487.0_0part27.jpg', 'coco_url': 'xxx', 'height': 512, 'width': 511, 'date_captured': '2019-06-25', 'flickr_url': 'xxx', 'id': 40, 'filename': 'P1314_0.5_1248.0_1487.0_0part27.jpg'}\n",
      "{'license': 1, 'file_name': 'P1314_1_3488.0_0.0_0part1.jpg', 'coco_url': 'xxx', 'height': 512, 'width': 511, 'date_captured': '2019-06-25', 'flickr_url': 'xxx', 'id': 41, 'filename': 'P1314_1_3488.0_0.0_0part1.jpg'}\n",
      "{'license': 1, 'file_name': 'P1314_1_0.0_3488.0_0part2.jpg', 'coco_url': 'xxx', 'height': 511, 'width': 512, 'date_captured': '2019-06-25', 'flickr_url': 'xxx', 'id': 42, 'filename': 'P1314_1_0.0_3488.0_0part2.jpg'}\n",
      "{'license': 1, 'file_name': 'P1314_1_3488.0_3488.0_0part3.jpg', 'coco_url': 'xxx', 'height': 511, 'width': 511, 'date_captured': '2019-06-25', 'flickr_url': 'xxx', 'id': 43, 'filename': 'P1314_1_3488.0_3488.0_0part3.jpg'}\n",
      "{'license': 1, 'file_name': 'P1314_1_0.0_0.0_0part4.jpg', 'coco_url': 'xxx', 'height': 511, 'width': 511, 'date_captured': '2019-06-25', 'flickr_url': 'xxx', 'id': 44, 'filename': 'P1314_1_0.0_0.0_0part4.jpg'}\n",
      "{'license': 1, 'file_name': 'P1314_1_0.0_416.0_0part5.jpg', 'coco_url': 'xxx', 'height': 511, 'width': 511, 'date_captured': '2019-06-25', 'flickr_url': 'xxx', 'id': 45, 'filename': 'P1314_1_0.0_416.0_0part5.jpg'}\n",
      "{'license': 1, 'file_name': 'P1314_1_0.0_832.0_0part6.jpg', 'coco_url': 'xxx', 'height': 511, 'width': 511, 'date_captured': '2019-06-25', 'flickr_url': 'xxx', 'id': 46, 'filename': 'P1314_1_0.0_832.0_0part6.jpg'}\n",
      "{'license': 1, 'file_name': 'P1314_1_0.0_1248.0_0part7.jpg', 'coco_url': 'xxx', 'height': 511, 'width': 511, 'date_captured': '2019-06-25', 'flickr_url': 'xxx', 'id': 47, 'filename': 'P1314_1_0.0_1248.0_0part7.jpg'}\n",
      "{'license': 1, 'file_name': 'P1314_1_0.0_1664.0_0part8.jpg', 'coco_url': 'xxx', 'height': 511, 'width': 511, 'date_captured': '2019-06-25', 'flickr_url': 'xxx', 'id': 48, 'filename': 'P1314_1_0.0_1664.0_0part8.jpg'}\n",
      "{'license': 1, 'file_name': 'P1314_1_0.0_2080.0_0part9.jpg', 'coco_url': 'xxx', 'height': 511, 'width': 511, 'date_captured': '2019-06-25', 'flickr_url': 'xxx', 'id': 49, 'filename': 'P1314_1_0.0_2080.0_0part9.jpg'}\n",
      "{'license': 1, 'file_name': 'P1314_1_0.0_2496.0_0part10.jpg', 'coco_url': 'xxx', 'height': 511, 'width': 511, 'date_captured': '2019-06-25', 'flickr_url': 'xxx', 'id': 50, 'filename': 'P1314_1_0.0_2496.0_0part10.jpg'}\n",
      "{'license': 1, 'file_name': 'P1314_1_0.0_2912.0_0part11.jpg', 'coco_url': 'xxx', 'height': 511, 'width': 511, 'date_captured': '2019-06-25', 'flickr_url': 'xxx', 'id': 51, 'filename': 'P1314_1_0.0_2912.0_0part11.jpg'}\n",
      "{'license': 1, 'file_name': 'P1314_1_0.0_3328.0_0part12.jpg', 'coco_url': 'xxx', 'height': 511, 'width': 511, 'date_captured': '2019-06-25', 'flickr_url': 'xxx', 'id': 52, 'filename': 'P1314_1_0.0_3328.0_0part12.jpg'}\n",
      "{'license': 1, 'file_name': 'P1314_1_416.0_0.0_0part13.jpg', 'coco_url': 'xxx', 'height': 511, 'width': 511, 'date_captured': '2019-06-25', 'flickr_url': 'xxx', 'id': 53, 'filename': 'P1314_1_416.0_0.0_0part13.jpg'}\n",
      "{'license': 1, 'file_name': 'P1314_1_416.0_416.0_0part14.jpg', 'coco_url': 'xxx', 'height': 511, 'width': 511, 'date_captured': '2019-06-25', 'flickr_url': 'xxx', 'id': 54, 'filename': 'P1314_1_416.0_416.0_0part14.jpg'}\n",
      "{'license': 1, 'file_name': 'P1314_1_416.0_832.0_0part15.jpg', 'coco_url': 'xxx', 'height': 511, 'width': 511, 'date_captured': '2019-06-25', 'flickr_url': 'xxx', 'id': 55, 'filename': 'P1314_1_416.0_832.0_0part15.jpg'}\n",
      "{'license': 1, 'file_name': 'P1314_1_416.0_1248.0_0part16.jpg', 'coco_url': 'xxx', 'height': 511, 'width': 511, 'date_captured': '2019-06-25', 'flickr_url': 'xxx', 'id': 56, 'filename': 'P1314_1_416.0_1248.0_0part16.jpg'}\n",
      "{'license': 1, 'file_name': 'P1314_1_416.0_1664.0_0part17.jpg', 'coco_url': 'xxx', 'height': 511, 'width': 511, 'date_captured': '2019-06-25', 'flickr_url': 'xxx', 'id': 57, 'filename': 'P1314_1_416.0_1664.0_0part17.jpg'}\n",
      "{'license': 1, 'file_name': 'P1314_1_416.0_2080.0_0part18.jpg', 'coco_url': 'xxx', 'height': 511, 'width': 511, 'date_captured': '2019-06-25', 'flickr_url': 'xxx', 'id': 58, 'filename': 'P1314_1_416.0_2080.0_0part18.jpg'}\n",
      "{'license': 1, 'file_name': 'P1314_1_416.0_2496.0_0part19.jpg', 'coco_url': 'xxx', 'height': 511, 'width': 511, 'date_captured': '2019-06-25', 'flickr_url': 'xxx', 'id': 59, 'filename': 'P1314_1_416.0_2496.0_0part19.jpg'}\n",
      "{'license': 1, 'file_name': 'P1314_1_416.0_2912.0_0part20.jpg', 'coco_url': 'xxx', 'height': 511, 'width': 511, 'date_captured': '2019-06-25', 'flickr_url': 'xxx', 'id': 60, 'filename': 'P1314_1_416.0_2912.0_0part20.jpg'}\n",
      "{'license': 1, 'file_name': 'P1314_1_416.0_3328.0_0part21.jpg', 'coco_url': 'xxx', 'height': 511, 'width': 511, 'date_captured': '2019-06-25', 'flickr_url': 'xxx', 'id': 61, 'filename': 'P1314_1_416.0_3328.0_0part21.jpg'}\n",
      "{'license': 1, 'file_name': 'P1314_1_832.0_0.0_0part22.jpg', 'coco_url': 'xxx', 'height': 511, 'width': 511, 'date_captured': '2019-06-25', 'flickr_url': 'xxx', 'id': 62, 'filename': 'P1314_1_832.0_0.0_0part22.jpg'}\n",
      "{'license': 1, 'file_name': 'P1314_1_832.0_416.0_0part23.jpg', 'coco_url': 'xxx', 'height': 511, 'width': 511, 'date_captured': '2019-06-25', 'flickr_url': 'xxx', 'id': 63, 'filename': 'P1314_1_832.0_416.0_0part23.jpg'}\n",
      "{'license': 1, 'file_name': 'P1314_1_832.0_832.0_0part24.jpg', 'coco_url': 'xxx', 'height': 511, 'width': 511, 'date_captured': '2019-06-25', 'flickr_url': 'xxx', 'id': 64, 'filename': 'P1314_1_832.0_832.0_0part24.jpg'}\n",
      "{'license': 1, 'file_name': 'P1314_1_832.0_1248.0_0part25.jpg', 'coco_url': 'xxx', 'height': 511, 'width': 511, 'date_captured': '2019-06-25', 'flickr_url': 'xxx', 'id': 65, 'filename': 'P1314_1_832.0_1248.0_0part25.jpg'}\n",
      "{'license': 1, 'file_name': 'P1314_1_832.0_1664.0_0part26.jpg', 'coco_url': 'xxx', 'height': 511, 'width': 511, 'date_captured': '2019-06-25', 'flickr_url': 'xxx', 'id': 66, 'filename': 'P1314_1_832.0_1664.0_0part26.jpg'}\n",
      "{'license': 1, 'file_name': 'P1314_1_832.0_2080.0_0part27.jpg', 'coco_url': 'xxx', 'height': 511, 'width': 511, 'date_captured': '2019-06-25', 'flickr_url': 'xxx', 'id': 67, 'filename': 'P1314_1_832.0_2080.0_0part27.jpg'}\n",
      "{'license': 1, 'file_name': 'P1314_1_832.0_2496.0_0part28.jpg', 'coco_url': 'xxx', 'height': 511, 'width': 511, 'date_captured': '2019-06-25', 'flickr_url': 'xxx', 'id': 68, 'filename': 'P1314_1_832.0_2496.0_0part28.jpg'}\n",
      "{'license': 1, 'file_name': 'P1314_1_832.0_2912.0_0part29.jpg', 'coco_url': 'xxx', 'height': 511, 'width': 511, 'date_captured': '2019-06-25', 'flickr_url': 'xxx', 'id': 69, 'filename': 'P1314_1_832.0_2912.0_0part29.jpg'}\n",
      "{'license': 1, 'file_name': 'P1314_1_832.0_3328.0_0part30.jpg', 'coco_url': 'xxx', 'height': 511, 'width': 511, 'date_captured': '2019-06-25', 'flickr_url': 'xxx', 'id': 70, 'filename': 'P1314_1_832.0_3328.0_0part30.jpg'}\n",
      "{'license': 1, 'file_name': 'P1314_1_1248.0_0.0_0part31.jpg', 'coco_url': 'xxx', 'height': 511, 'width': 511, 'date_captured': '2019-06-25', 'flickr_url': 'xxx', 'id': 71, 'filename': 'P1314_1_1248.0_0.0_0part31.jpg'}\n",
      "{'license': 1, 'file_name': 'P1314_1_1248.0_416.0_0part32.jpg', 'coco_url': 'xxx', 'height': 511, 'width': 511, 'date_captured': '2019-06-25', 'flickr_url': 'xxx', 'id': 72, 'filename': 'P1314_1_1248.0_416.0_0part32.jpg'}\n",
      "{'license': 1, 'file_name': 'P1314_1_1248.0_832.0_0part33.jpg', 'coco_url': 'xxx', 'height': 511, 'width': 511, 'date_captured': '2019-06-25', 'flickr_url': 'xxx', 'id': 73, 'filename': 'P1314_1_1248.0_832.0_0part33.jpg'}\n",
      "{'license': 1, 'file_name': 'P1314_1_1248.0_1248.0_0part34.jpg', 'coco_url': 'xxx', 'height': 511, 'width': 511, 'date_captured': '2019-06-25', 'flickr_url': 'xxx', 'id': 74, 'filename': 'P1314_1_1248.0_1248.0_0part34.jpg'}\n"
     ]
    },
    {
     "name": "stdout",
     "output_type": "stream",
     "text": [
      "{'license': 1, 'file_name': 'P1314_1_1248.0_1664.0_0part35.jpg', 'coco_url': 'xxx', 'height': 511, 'width': 511, 'date_captured': '2019-06-25', 'flickr_url': 'xxx', 'id': 75, 'filename': 'P1314_1_1248.0_1664.0_0part35.jpg'}\n",
      "{'license': 1, 'file_name': 'P1314_1_1248.0_2080.0_0part36.jpg', 'coco_url': 'xxx', 'height': 511, 'width': 511, 'date_captured': '2019-06-25', 'flickr_url': 'xxx', 'id': 76, 'filename': 'P1314_1_1248.0_2080.0_0part36.jpg'}\n",
      "{'license': 1, 'file_name': 'P1314_1_1248.0_2496.0_0part37.jpg', 'coco_url': 'xxx', 'height': 511, 'width': 511, 'date_captured': '2019-06-25', 'flickr_url': 'xxx', 'id': 77, 'filename': 'P1314_1_1248.0_2496.0_0part37.jpg'}\n",
      "{'license': 1, 'file_name': 'P1314_1_1248.0_2912.0_0part38.jpg', 'coco_url': 'xxx', 'height': 511, 'width': 511, 'date_captured': '2019-06-25', 'flickr_url': 'xxx', 'id': 78, 'filename': 'P1314_1_1248.0_2912.0_0part38.jpg'}\n",
      "{'license': 1, 'file_name': 'P1314_1_1248.0_3328.0_0part39.jpg', 'coco_url': 'xxx', 'height': 511, 'width': 511, 'date_captured': '2019-06-25', 'flickr_url': 'xxx', 'id': 79, 'filename': 'P1314_1_1248.0_3328.0_0part39.jpg'}\n",
      "{'license': 1, 'file_name': 'P1314_1_1664.0_0.0_0part40.jpg', 'coco_url': 'xxx', 'height': 511, 'width': 511, 'date_captured': '2019-06-25', 'flickr_url': 'xxx', 'id': 80, 'filename': 'P1314_1_1664.0_0.0_0part40.jpg'}\n",
      "{'license': 1, 'file_name': 'P1314_1_1664.0_416.0_0part41.jpg', 'coco_url': 'xxx', 'height': 511, 'width': 511, 'date_captured': '2019-06-25', 'flickr_url': 'xxx', 'id': 81, 'filename': 'P1314_1_1664.0_416.0_0part41.jpg'}\n",
      "{'license': 1, 'file_name': 'P1314_1_1664.0_832.0_0part42.jpg', 'coco_url': 'xxx', 'height': 511, 'width': 511, 'date_captured': '2019-06-25', 'flickr_url': 'xxx', 'id': 82, 'filename': 'P1314_1_1664.0_832.0_0part42.jpg'}\n",
      "{'license': 1, 'file_name': 'P1314_1_1664.0_1248.0_0part43.jpg', 'coco_url': 'xxx', 'height': 511, 'width': 511, 'date_captured': '2019-06-25', 'flickr_url': 'xxx', 'id': 83, 'filename': 'P1314_1_1664.0_1248.0_0part43.jpg'}\n",
      "{'license': 1, 'file_name': 'P1314_1_1664.0_1664.0_0part44.jpg', 'coco_url': 'xxx', 'height': 511, 'width': 511, 'date_captured': '2019-06-25', 'flickr_url': 'xxx', 'id': 84, 'filename': 'P1314_1_1664.0_1664.0_0part44.jpg'}\n",
      "{'license': 1, 'file_name': 'P1314_1_1664.0_2080.0_0part45.jpg', 'coco_url': 'xxx', 'height': 511, 'width': 511, 'date_captured': '2019-06-25', 'flickr_url': 'xxx', 'id': 85, 'filename': 'P1314_1_1664.0_2080.0_0part45.jpg'}\n",
      "{'license': 1, 'file_name': 'P1314_1_1664.0_2496.0_0part46.jpg', 'coco_url': 'xxx', 'height': 511, 'width': 511, 'date_captured': '2019-06-25', 'flickr_url': 'xxx', 'id': 86, 'filename': 'P1314_1_1664.0_2496.0_0part46.jpg'}\n",
      "{'license': 1, 'file_name': 'P1314_1_1664.0_2912.0_0part47.jpg', 'coco_url': 'xxx', 'height': 511, 'width': 511, 'date_captured': '2019-06-25', 'flickr_url': 'xxx', 'id': 87, 'filename': 'P1314_1_1664.0_2912.0_0part47.jpg'}\n",
      "{'license': 1, 'file_name': 'P1314_1_1664.0_3328.0_0part48.jpg', 'coco_url': 'xxx', 'height': 511, 'width': 511, 'date_captured': '2019-06-25', 'flickr_url': 'xxx', 'id': 88, 'filename': 'P1314_1_1664.0_3328.0_0part48.jpg'}\n",
      "{'license': 1, 'file_name': 'P1314_1_2080.0_0.0_0part49.jpg', 'coco_url': 'xxx', 'height': 511, 'width': 511, 'date_captured': '2019-06-25', 'flickr_url': 'xxx', 'id': 89, 'filename': 'P1314_1_2080.0_0.0_0part49.jpg'}\n",
      "{'license': 1, 'file_name': 'P1314_1_2080.0_416.0_0part50.jpg', 'coco_url': 'xxx', 'height': 511, 'width': 511, 'date_captured': '2019-06-25', 'flickr_url': 'xxx', 'id': 90, 'filename': 'P1314_1_2080.0_416.0_0part50.jpg'}\n",
      "{'license': 1, 'file_name': 'P1314_1_2080.0_832.0_0part51.jpg', 'coco_url': 'xxx', 'height': 511, 'width': 511, 'date_captured': '2019-06-25', 'flickr_url': 'xxx', 'id': 91, 'filename': 'P1314_1_2080.0_832.0_0part51.jpg'}\n",
      "{'license': 1, 'file_name': 'P1314_1_2080.0_1248.0_0part52.jpg', 'coco_url': 'xxx', 'height': 511, 'width': 511, 'date_captured': '2019-06-25', 'flickr_url': 'xxx', 'id': 92, 'filename': 'P1314_1_2080.0_1248.0_0part52.jpg'}\n",
      "{'license': 1, 'file_name': 'P1314_1_2080.0_1664.0_0part53.jpg', 'coco_url': 'xxx', 'height': 511, 'width': 511, 'date_captured': '2019-06-25', 'flickr_url': 'xxx', 'id': 93, 'filename': 'P1314_1_2080.0_1664.0_0part53.jpg'}\n",
      "{'license': 1, 'file_name': 'P1314_1_2080.0_2080.0_0part54.jpg', 'coco_url': 'xxx', 'height': 511, 'width': 511, 'date_captured': '2019-06-25', 'flickr_url': 'xxx', 'id': 94, 'filename': 'P1314_1_2080.0_2080.0_0part54.jpg'}\n",
      "{'license': 1, 'file_name': 'P1314_1_2080.0_2496.0_0part55.jpg', 'coco_url': 'xxx', 'height': 511, 'width': 511, 'date_captured': '2019-06-25', 'flickr_url': 'xxx', 'id': 95, 'filename': 'P1314_1_2080.0_2496.0_0part55.jpg'}\n",
      "{'license': 1, 'file_name': 'P1314_1_2080.0_2912.0_0part56.jpg', 'coco_url': 'xxx', 'height': 511, 'width': 511, 'date_captured': '2019-06-25', 'flickr_url': 'xxx', 'id': 96, 'filename': 'P1314_1_2080.0_2912.0_0part56.jpg'}\n",
      "{'license': 1, 'file_name': 'P1314_1_2080.0_3328.0_0part57.jpg', 'coco_url': 'xxx', 'height': 511, 'width': 511, 'date_captured': '2019-06-25', 'flickr_url': 'xxx', 'id': 97, 'filename': 'P1314_1_2080.0_3328.0_0part57.jpg'}\n",
      "{'license': 1, 'file_name': 'P1314_1_2496.0_0.0_0part58.jpg', 'coco_url': 'xxx', 'height': 511, 'width': 511, 'date_captured': '2019-06-25', 'flickr_url': 'xxx', 'id': 98, 'filename': 'P1314_1_2496.0_0.0_0part58.jpg'}\n",
      "{'license': 1, 'file_name': 'P1314_1_2496.0_416.0_0part59.jpg', 'coco_url': 'xxx', 'height': 511, 'width': 511, 'date_captured': '2019-06-25', 'flickr_url': 'xxx', 'id': 99, 'filename': 'P1314_1_2496.0_416.0_0part59.jpg'}\n",
      "{'license': 1, 'file_name': 'P1314_1_2496.0_832.0_0part60.jpg', 'coco_url': 'xxx', 'height': 511, 'width': 511, 'date_captured': '2019-06-25', 'flickr_url': 'xxx', 'id': 100, 'filename': 'P1314_1_2496.0_832.0_0part60.jpg'}\n",
      "{'license': 1, 'file_name': 'P1314_1_2496.0_1248.0_0part61.jpg', 'coco_url': 'xxx', 'height': 511, 'width': 511, 'date_captured': '2019-06-25', 'flickr_url': 'xxx', 'id': 101, 'filename': 'P1314_1_2496.0_1248.0_0part61.jpg'}\n",
      "{'license': 1, 'file_name': 'P1314_1_2496.0_1664.0_0part62.jpg', 'coco_url': 'xxx', 'height': 511, 'width': 511, 'date_captured': '2019-06-25', 'flickr_url': 'xxx', 'id': 102, 'filename': 'P1314_1_2496.0_1664.0_0part62.jpg'}\n",
      "{'license': 1, 'file_name': 'P1314_1_2496.0_2080.0_0part63.jpg', 'coco_url': 'xxx', 'height': 511, 'width': 511, 'date_captured': '2019-06-25', 'flickr_url': 'xxx', 'id': 103, 'filename': 'P1314_1_2496.0_2080.0_0part63.jpg'}\n",
      "{'license': 1, 'file_name': 'P1314_1_2496.0_2496.0_0part64.jpg', 'coco_url': 'xxx', 'height': 511, 'width': 511, 'date_captured': '2019-06-25', 'flickr_url': 'xxx', 'id': 104, 'filename': 'P1314_1_2496.0_2496.0_0part64.jpg'}\n",
      "{'license': 1, 'file_name': 'P1314_1_2496.0_2912.0_0part65.jpg', 'coco_url': 'xxx', 'height': 511, 'width': 511, 'date_captured': '2019-06-25', 'flickr_url': 'xxx', 'id': 105, 'filename': 'P1314_1_2496.0_2912.0_0part65.jpg'}\n",
      "{'license': 1, 'file_name': 'P1314_1_2496.0_3328.0_0part66.jpg', 'coco_url': 'xxx', 'height': 511, 'width': 511, 'date_captured': '2019-06-25', 'flickr_url': 'xxx', 'id': 106, 'filename': 'P1314_1_2496.0_3328.0_0part66.jpg'}\n",
      "{'license': 1, 'file_name': 'P1314_1_2912.0_0.0_0part67.jpg', 'coco_url': 'xxx', 'height': 511, 'width': 511, 'date_captured': '2019-06-25', 'flickr_url': 'xxx', 'id': 107, 'filename': 'P1314_1_2912.0_0.0_0part67.jpg'}\n",
      "{'license': 1, 'file_name': 'P1314_1_2912.0_416.0_0part68.jpg', 'coco_url': 'xxx', 'height': 511, 'width': 511, 'date_captured': '2019-06-25', 'flickr_url': 'xxx', 'id': 108, 'filename': 'P1314_1_2912.0_416.0_0part68.jpg'}\n",
      "{'license': 1, 'file_name': 'P1314_1_2912.0_832.0_0part69.jpg', 'coco_url': 'xxx', 'height': 511, 'width': 511, 'date_captured': '2019-06-25', 'flickr_url': 'xxx', 'id': 109, 'filename': 'P1314_1_2912.0_832.0_0part69.jpg'}\n",
      "{'license': 1, 'file_name': 'P1314_1_2912.0_1248.0_0part70.jpg', 'coco_url': 'xxx', 'height': 511, 'width': 511, 'date_captured': '2019-06-25', 'flickr_url': 'xxx', 'id': 110, 'filename': 'P1314_1_2912.0_1248.0_0part70.jpg'}\n",
      "{'license': 1, 'file_name': 'P1314_1_2912.0_1664.0_0part71.jpg', 'coco_url': 'xxx', 'height': 511, 'width': 511, 'date_captured': '2019-06-25', 'flickr_url': 'xxx', 'id': 111, 'filename': 'P1314_1_2912.0_1664.0_0part71.jpg'}\n",
      "{'license': 1, 'file_name': 'P1314_1_2912.0_2080.0_0part72.jpg', 'coco_url': 'xxx', 'height': 511, 'width': 511, 'date_captured': '2019-06-25', 'flickr_url': 'xxx', 'id': 112, 'filename': 'P1314_1_2912.0_2080.0_0part72.jpg'}\n",
      "{'license': 1, 'file_name': 'P1314_1_2912.0_2496.0_0part73.jpg', 'coco_url': 'xxx', 'height': 511, 'width': 511, 'date_captured': '2019-06-25', 'flickr_url': 'xxx', 'id': 113, 'filename': 'P1314_1_2912.0_2496.0_0part73.jpg'}\n",
      "{'license': 1, 'file_name': 'P1314_1_2912.0_2912.0_0part74.jpg', 'coco_url': 'xxx', 'height': 511, 'width': 511, 'date_captured': '2019-06-25', 'flickr_url': 'xxx', 'id': 114, 'filename': 'P1314_1_2912.0_2912.0_0part74.jpg'}\n",
      "{'license': 1, 'file_name': 'P1314_1_2912.0_3328.0_0part75.jpg', 'coco_url': 'xxx', 'height': 511, 'width': 511, 'date_captured': '2019-06-25', 'flickr_url': 'xxx', 'id': 115, 'filename': 'P1314_1_2912.0_3328.0_0part75.jpg'}\n",
      "{'license': 1, 'file_name': 'P1314_1_3328.0_0.0_0part76.jpg', 'coco_url': 'xxx', 'height': 511, 'width': 511, 'date_captured': '2019-06-25', 'flickr_url': 'xxx', 'id': 116, 'filename': 'P1314_1_3328.0_0.0_0part76.jpg'}\n",
      "{'license': 1, 'file_name': 'P1314_1_3328.0_416.0_0part77.jpg', 'coco_url': 'xxx', 'height': 511, 'width': 511, 'date_captured': '2019-06-25', 'flickr_url': 'xxx', 'id': 117, 'filename': 'P1314_1_3328.0_416.0_0part77.jpg'}\n",
      "{'license': 1, 'file_name': 'P1314_1_3328.0_832.0_0part78.jpg', 'coco_url': 'xxx', 'height': 511, 'width': 511, 'date_captured': '2019-06-25', 'flickr_url': 'xxx', 'id': 118, 'filename': 'P1314_1_3328.0_832.0_0part78.jpg'}\n",
      "{'license': 1, 'file_name': 'P1314_1_3328.0_1248.0_0part79.jpg', 'coco_url': 'xxx', 'height': 511, 'width': 511, 'date_captured': '2019-06-25', 'flickr_url': 'xxx', 'id': 119, 'filename': 'P1314_1_3328.0_1248.0_0part79.jpg'}\n",
      "{'license': 1, 'file_name': 'P1314_1_3328.0_1664.0_0part80.jpg', 'coco_url': 'xxx', 'height': 511, 'width': 511, 'date_captured': '2019-06-25', 'flickr_url': 'xxx', 'id': 120, 'filename': 'P1314_1_3328.0_1664.0_0part80.jpg'}\n",
      "{'license': 1, 'file_name': 'P1314_1_3328.0_2080.0_0part81.jpg', 'coco_url': 'xxx', 'height': 511, 'width': 511, 'date_captured': '2019-06-25', 'flickr_url': 'xxx', 'id': 121, 'filename': 'P1314_1_3328.0_2080.0_0part81.jpg'}\n",
      "{'license': 1, 'file_name': 'P1314_1_3328.0_2496.0_0part82.jpg', 'coco_url': 'xxx', 'height': 511, 'width': 511, 'date_captured': '2019-06-25', 'flickr_url': 'xxx', 'id': 122, 'filename': 'P1314_1_3328.0_2496.0_0part82.jpg'}\n",
      "{'license': 1, 'file_name': 'P1314_1_3328.0_2912.0_0part83.jpg', 'coco_url': 'xxx', 'height': 511, 'width': 511, 'date_captured': '2019-06-25', 'flickr_url': 'xxx', 'id': 123, 'filename': 'P1314_1_3328.0_2912.0_0part83.jpg'}\n",
      "{'license': 1, 'file_name': 'P1314_1_3328.0_3328.0_0part84.jpg', 'coco_url': 'xxx', 'height': 511, 'width': 511, 'date_captured': '2019-06-25', 'flickr_url': 'xxx', 'id': 124, 'filename': 'P1314_1_3328.0_3328.0_0part84.jpg'}\n",
      "{'license': 1, 'file_name': 'P1314_1_3487.0_0.0_0part85.jpg', 'coco_url': 'xxx', 'height': 511, 'width': 512, 'date_captured': '2019-06-25', 'flickr_url': 'xxx', 'id': 125, 'filename': 'P1314_1_3487.0_0.0_0part85.jpg'}\n",
      "{'license': 1, 'file_name': 'P1314_1_3487.0_416.0_0part86.jpg', 'coco_url': 'xxx', 'height': 511, 'width': 512, 'date_captured': '2019-06-25', 'flickr_url': 'xxx', 'id': 126, 'filename': 'P1314_1_3487.0_416.0_0part86.jpg'}\n",
      "{'license': 1, 'file_name': 'P1314_1_3487.0_832.0_0part87.jpg', 'coco_url': 'xxx', 'height': 511, 'width': 512, 'date_captured': '2019-06-25', 'flickr_url': 'xxx', 'id': 127, 'filename': 'P1314_1_3487.0_832.0_0part87.jpg'}\n",
      "{'license': 1, 'file_name': 'P1314_1_3487.0_1248.0_0part88.jpg', 'coco_url': 'xxx', 'height': 511, 'width': 512, 'date_captured': '2019-06-25', 'flickr_url': 'xxx', 'id': 128, 'filename': 'P1314_1_3487.0_1248.0_0part88.jpg'}\n",
      "{'license': 1, 'file_name': 'P1314_1_3487.0_1664.0_0part89.jpg', 'coco_url': 'xxx', 'height': 511, 'width': 512, 'date_captured': '2019-06-25', 'flickr_url': 'xxx', 'id': 129, 'filename': 'P1314_1_3487.0_1664.0_0part89.jpg'}\n",
      "{'license': 1, 'file_name': 'P1314_1_3487.0_2080.0_0part90.jpg', 'coco_url': 'xxx', 'height': 511, 'width': 512, 'date_captured': '2019-06-25', 'flickr_url': 'xxx', 'id': 130, 'filename': 'P1314_1_3487.0_2080.0_0part90.jpg'}\n",
      "{'license': 1, 'file_name': 'P1314_1_3487.0_2496.0_0part91.jpg', 'coco_url': 'xxx', 'height': 511, 'width': 512, 'date_captured': '2019-06-25', 'flickr_url': 'xxx', 'id': 131, 'filename': 'P1314_1_3487.0_2496.0_0part91.jpg'}\n",
      "{'license': 1, 'file_name': 'P1314_1_3487.0_2912.0_0part92.jpg', 'coco_url': 'xxx', 'height': 511, 'width': 512, 'date_captured': '2019-06-25', 'flickr_url': 'xxx', 'id': 132, 'filename': 'P1314_1_3487.0_2912.0_0part92.jpg'}\n",
      "{'license': 1, 'file_name': 'P1314_1_3487.0_3328.0_0part93.jpg', 'coco_url': 'xxx', 'height': 511, 'width': 512, 'date_captured': '2019-06-25', 'flickr_url': 'xxx', 'id': 133, 'filename': 'P1314_1_3487.0_3328.0_0part93.jpg'}\n",
      "{'license': 1, 'file_name': 'P1314_1_0.0_3487.0_0part94.jpg', 'coco_url': 'xxx', 'height': 512, 'width': 511, 'date_captured': '2019-06-25', 'flickr_url': 'xxx', 'id': 134, 'filename': 'P1314_1_0.0_3487.0_0part94.jpg'}\n",
      "{'license': 1, 'file_name': 'P1314_1_416.0_3487.0_0part95.jpg', 'coco_url': 'xxx', 'height': 512, 'width': 511, 'date_captured': '2019-06-25', 'flickr_url': 'xxx', 'id': 135, 'filename': 'P1314_1_416.0_3487.0_0part95.jpg'}\n",
      "{'license': 1, 'file_name': 'P1314_1_832.0_3487.0_0part96.jpg', 'coco_url': 'xxx', 'height': 512, 'width': 511, 'date_captured': '2019-06-25', 'flickr_url': 'xxx', 'id': 136, 'filename': 'P1314_1_832.0_3487.0_0part96.jpg'}\n",
      "{'license': 1, 'file_name': 'P1314_1_1248.0_3487.0_0part97.jpg', 'coco_url': 'xxx', 'height': 512, 'width': 511, 'date_captured': '2019-06-25', 'flickr_url': 'xxx', 'id': 137, 'filename': 'P1314_1_1248.0_3487.0_0part97.jpg'}\n",
      "{'license': 1, 'file_name': 'P1314_1_1664.0_3487.0_0part98.jpg', 'coco_url': 'xxx', 'height': 512, 'width': 511, 'date_captured': '2019-06-25', 'flickr_url': 'xxx', 'id': 138, 'filename': 'P1314_1_1664.0_3487.0_0part98.jpg'}\n",
      "{'license': 1, 'file_name': 'P1314_1_2080.0_3487.0_0part99.jpg', 'coco_url': 'xxx', 'height': 512, 'width': 511, 'date_captured': '2019-06-25', 'flickr_url': 'xxx', 'id': 139, 'filename': 'P1314_1_2080.0_3487.0_0part99.jpg'}\n",
      "{'license': 1, 'file_name': 'P1314_1_2496.0_3487.0_0part100.jpg', 'coco_url': 'xxx', 'height': 512, 'width': 511, 'date_captured': '2019-06-25', 'flickr_url': 'xxx', 'id': 140, 'filename': 'P1314_1_2496.0_3487.0_0part100.jpg'}\n",
      "{'license': 1, 'file_name': 'P1314_1_2912.0_3487.0_0part101.jpg', 'coco_url': 'xxx', 'height': 512, 'width': 511, 'date_captured': '2019-06-25', 'flickr_url': 'xxx', 'id': 141, 'filename': 'P1314_1_2912.0_3487.0_0part101.jpg'}\n",
      "{'license': 1, 'file_name': 'P1314_1_3328.0_3487.0_0part102.jpg', 'coco_url': 'xxx', 'height': 512, 'width': 511, 'date_captured': '2019-06-25', 'flickr_url': 'xxx', 'id': 142, 'filename': 'P1314_1_3328.0_3487.0_0part102.jpg'}\n",
      "{'license': 1, 'file_name': 'P1275_0.5_1488.0_0.0_0part1.jpg', 'coco_url': 'xxx', 'height': 512, 'width': 511, 'date_captured': '2019-06-25', 'flickr_url': 'xxx', 'id': 143, 'filename': 'P1275_0.5_1488.0_0.0_0part1.jpg'}\n",
      "{'license': 1, 'file_name': 'P1275_0.5_0.0_1488.0_0part2.jpg', 'coco_url': 'xxx', 'height': 511, 'width': 512, 'date_captured': '2019-06-25', 'flickr_url': 'xxx', 'id': 144, 'filename': 'P1275_0.5_0.0_1488.0_0part2.jpg'}\n",
      "{'license': 1, 'file_name': 'P1275_0.5_1488.0_1488.0_0part3.jpg', 'coco_url': 'xxx', 'height': 511, 'width': 511, 'date_captured': '2019-06-25', 'flickr_url': 'xxx', 'id': 145, 'filename': 'P1275_0.5_1488.0_1488.0_0part3.jpg'}\n",
      "{'license': 1, 'file_name': 'P1275_0.5_0.0_0.0_0part4.jpg', 'coco_url': 'xxx', 'height': 511, 'width': 511, 'date_captured': '2019-06-25', 'flickr_url': 'xxx', 'id': 146, 'filename': 'P1275_0.5_0.0_0.0_0part4.jpg'}\n",
      "{'license': 1, 'file_name': 'P1275_0.5_0.0_416.0_0part5.jpg', 'coco_url': 'xxx', 'height': 511, 'width': 511, 'date_captured': '2019-06-25', 'flickr_url': 'xxx', 'id': 147, 'filename': 'P1275_0.5_0.0_416.0_0part5.jpg'}\n",
      "{'license': 1, 'file_name': 'P1275_0.5_0.0_832.0_0part6.jpg', 'coco_url': 'xxx', 'height': 511, 'width': 511, 'date_captured': '2019-06-25', 'flickr_url': 'xxx', 'id': 148, 'filename': 'P1275_0.5_0.0_832.0_0part6.jpg'}\n",
      "{'license': 1, 'file_name': 'P1275_0.5_0.0_1248.0_0part7.jpg', 'coco_url': 'xxx', 'height': 511, 'width': 511, 'date_captured': '2019-06-25', 'flickr_url': 'xxx', 'id': 149, 'filename': 'P1275_0.5_0.0_1248.0_0part7.jpg'}\n",
      "{'license': 1, 'file_name': 'P1275_0.5_416.0_0.0_0part8.jpg', 'coco_url': 'xxx', 'height': 511, 'width': 511, 'date_captured': '2019-06-25', 'flickr_url': 'xxx', 'id': 150, 'filename': 'P1275_0.5_416.0_0.0_0part8.jpg'}\n",
      "{'license': 1, 'file_name': 'P1275_0.5_416.0_416.0_0part9.jpg', 'coco_url': 'xxx', 'height': 511, 'width': 511, 'date_captured': '2019-06-25', 'flickr_url': 'xxx', 'id': 151, 'filename': 'P1275_0.5_416.0_416.0_0part9.jpg'}\n",
      "{'license': 1, 'file_name': 'P1275_0.5_416.0_832.0_0part10.jpg', 'coco_url': 'xxx', 'height': 511, 'width': 511, 'date_captured': '2019-06-25', 'flickr_url': 'xxx', 'id': 152, 'filename': 'P1275_0.5_416.0_832.0_0part10.jpg'}\n",
      "{'license': 1, 'file_name': 'P1275_0.5_416.0_1248.0_0part11.jpg', 'coco_url': 'xxx', 'height': 511, 'width': 511, 'date_captured': '2019-06-25', 'flickr_url': 'xxx', 'id': 153, 'filename': 'P1275_0.5_416.0_1248.0_0part11.jpg'}\n",
      "{'license': 1, 'file_name': 'P1275_0.5_832.0_0.0_0part12.jpg', 'coco_url': 'xxx', 'height': 511, 'width': 511, 'date_captured': '2019-06-25', 'flickr_url': 'xxx', 'id': 154, 'filename': 'P1275_0.5_832.0_0.0_0part12.jpg'}\n",
      "{'license': 1, 'file_name': 'P1275_0.5_832.0_416.0_0part13.jpg', 'coco_url': 'xxx', 'height': 511, 'width': 511, 'date_captured': '2019-06-25', 'flickr_url': 'xxx', 'id': 155, 'filename': 'P1275_0.5_832.0_416.0_0part13.jpg'}\n"
     ]
    },
    {
     "name": "stdout",
     "output_type": "stream",
     "text": [
      "{'license': 1, 'file_name': 'P1275_0.5_832.0_832.0_0part14.jpg', 'coco_url': 'xxx', 'height': 511, 'width': 511, 'date_captured': '2019-06-25', 'flickr_url': 'xxx', 'id': 156, 'filename': 'P1275_0.5_832.0_832.0_0part14.jpg'}\n",
      "{'license': 1, 'file_name': 'P1275_0.5_832.0_1248.0_0part15.jpg', 'coco_url': 'xxx', 'height': 511, 'width': 511, 'date_captured': '2019-06-25', 'flickr_url': 'xxx', 'id': 157, 'filename': 'P1275_0.5_832.0_1248.0_0part15.jpg'}\n",
      "{'license': 1, 'file_name': 'P1275_0.5_1248.0_0.0_0part16.jpg', 'coco_url': 'xxx', 'height': 511, 'width': 511, 'date_captured': '2019-06-25', 'flickr_url': 'xxx', 'id': 158, 'filename': 'P1275_0.5_1248.0_0.0_0part16.jpg'}\n",
      "{'license': 1, 'file_name': 'P1275_0.5_1248.0_416.0_0part17.jpg', 'coco_url': 'xxx', 'height': 511, 'width': 511, 'date_captured': '2019-06-25', 'flickr_url': 'xxx', 'id': 159, 'filename': 'P1275_0.5_1248.0_416.0_0part17.jpg'}\n",
      "{'license': 1, 'file_name': 'P1275_0.5_1248.0_832.0_0part18.jpg', 'coco_url': 'xxx', 'height': 511, 'width': 511, 'date_captured': '2019-06-25', 'flickr_url': 'xxx', 'id': 160, 'filename': 'P1275_0.5_1248.0_832.0_0part18.jpg'}\n",
      "{'license': 1, 'file_name': 'P1275_0.5_1248.0_1248.0_0part19.jpg', 'coco_url': 'xxx', 'height': 511, 'width': 511, 'date_captured': '2019-06-25', 'flickr_url': 'xxx', 'id': 161, 'filename': 'P1275_0.5_1248.0_1248.0_0part19.jpg'}\n",
      "{'license': 1, 'file_name': 'P1275_0.5_1487.0_0.0_0part20.jpg', 'coco_url': 'xxx', 'height': 511, 'width': 512, 'date_captured': '2019-06-25', 'flickr_url': 'xxx', 'id': 162, 'filename': 'P1275_0.5_1487.0_0.0_0part20.jpg'}\n",
      "{'license': 1, 'file_name': 'P1275_0.5_1487.0_416.0_0part21.jpg', 'coco_url': 'xxx', 'height': 511, 'width': 512, 'date_captured': '2019-06-25', 'flickr_url': 'xxx', 'id': 163, 'filename': 'P1275_0.5_1487.0_416.0_0part21.jpg'}\n",
      "{'license': 1, 'file_name': 'P1275_0.5_1487.0_832.0_0part22.jpg', 'coco_url': 'xxx', 'height': 511, 'width': 512, 'date_captured': '2019-06-25', 'flickr_url': 'xxx', 'id': 164, 'filename': 'P1275_0.5_1487.0_832.0_0part22.jpg'}\n",
      "{'license': 1, 'file_name': 'P1275_0.5_1487.0_1248.0_0part23.jpg', 'coco_url': 'xxx', 'height': 511, 'width': 512, 'date_captured': '2019-06-25', 'flickr_url': 'xxx', 'id': 165, 'filename': 'P1275_0.5_1487.0_1248.0_0part23.jpg'}\n",
      "{'license': 1, 'file_name': 'P1275_0.5_0.0_1487.0_0part24.jpg', 'coco_url': 'xxx', 'height': 512, 'width': 511, 'date_captured': '2019-06-25', 'flickr_url': 'xxx', 'id': 166, 'filename': 'P1275_0.5_0.0_1487.0_0part24.jpg'}\n",
      "{'license': 1, 'file_name': 'P1275_0.5_416.0_1487.0_0part25.jpg', 'coco_url': 'xxx', 'height': 512, 'width': 511, 'date_captured': '2019-06-25', 'flickr_url': 'xxx', 'id': 167, 'filename': 'P1275_0.5_416.0_1487.0_0part25.jpg'}\n",
      "{'license': 1, 'file_name': 'P1275_0.5_832.0_1487.0_0part26.jpg', 'coco_url': 'xxx', 'height': 512, 'width': 511, 'date_captured': '2019-06-25', 'flickr_url': 'xxx', 'id': 168, 'filename': 'P1275_0.5_832.0_1487.0_0part26.jpg'}\n",
      "{'license': 1, 'file_name': 'P1275_0.5_1248.0_1487.0_0part27.jpg', 'coco_url': 'xxx', 'height': 512, 'width': 511, 'date_captured': '2019-06-25', 'flickr_url': 'xxx', 'id': 169, 'filename': 'P1275_0.5_1248.0_1487.0_0part27.jpg'}\n",
      "{'license': 1, 'file_name': 'P1275_1_3488.0_0.0_0part1.jpg', 'coco_url': 'xxx', 'height': 512, 'width': 511, 'date_captured': '2019-06-25', 'flickr_url': 'xxx', 'id': 170, 'filename': 'P1275_1_3488.0_0.0_0part1.jpg'}\n",
      "{'license': 1, 'file_name': 'P1275_1_0.0_3488.0_0part2.jpg', 'coco_url': 'xxx', 'height': 511, 'width': 512, 'date_captured': '2019-06-25', 'flickr_url': 'xxx', 'id': 171, 'filename': 'P1275_1_0.0_3488.0_0part2.jpg'}\n",
      "{'license': 1, 'file_name': 'P1275_1_3488.0_3488.0_0part3.jpg', 'coco_url': 'xxx', 'height': 511, 'width': 511, 'date_captured': '2019-06-25', 'flickr_url': 'xxx', 'id': 172, 'filename': 'P1275_1_3488.0_3488.0_0part3.jpg'}\n",
      "{'license': 1, 'file_name': 'P1275_1_0.0_0.0_0part4.jpg', 'coco_url': 'xxx', 'height': 511, 'width': 511, 'date_captured': '2019-06-25', 'flickr_url': 'xxx', 'id': 173, 'filename': 'P1275_1_0.0_0.0_0part4.jpg'}\n",
      "{'license': 1, 'file_name': 'P1275_1_0.0_416.0_0part5.jpg', 'coco_url': 'xxx', 'height': 511, 'width': 511, 'date_captured': '2019-06-25', 'flickr_url': 'xxx', 'id': 174, 'filename': 'P1275_1_0.0_416.0_0part5.jpg'}\n",
      "{'license': 1, 'file_name': 'P1275_1_0.0_832.0_0part6.jpg', 'coco_url': 'xxx', 'height': 511, 'width': 511, 'date_captured': '2019-06-25', 'flickr_url': 'xxx', 'id': 175, 'filename': 'P1275_1_0.0_832.0_0part6.jpg'}\n",
      "{'license': 1, 'file_name': 'P1275_1_0.0_1248.0_0part7.jpg', 'coco_url': 'xxx', 'height': 511, 'width': 511, 'date_captured': '2019-06-25', 'flickr_url': 'xxx', 'id': 176, 'filename': 'P1275_1_0.0_1248.0_0part7.jpg'}\n",
      "{'license': 1, 'file_name': 'P1275_1_0.0_1664.0_0part8.jpg', 'coco_url': 'xxx', 'height': 511, 'width': 511, 'date_captured': '2019-06-25', 'flickr_url': 'xxx', 'id': 177, 'filename': 'P1275_1_0.0_1664.0_0part8.jpg'}\n",
      "{'license': 1, 'file_name': 'P1275_1_0.0_2080.0_0part9.jpg', 'coco_url': 'xxx', 'height': 511, 'width': 511, 'date_captured': '2019-06-25', 'flickr_url': 'xxx', 'id': 178, 'filename': 'P1275_1_0.0_2080.0_0part9.jpg'}\n",
      "{'license': 1, 'file_name': 'P1275_1_0.0_2496.0_0part10.jpg', 'coco_url': 'xxx', 'height': 511, 'width': 511, 'date_captured': '2019-06-25', 'flickr_url': 'xxx', 'id': 179, 'filename': 'P1275_1_0.0_2496.0_0part10.jpg'}\n",
      "{'license': 1, 'file_name': 'P1275_1_0.0_2912.0_0part11.jpg', 'coco_url': 'xxx', 'height': 511, 'width': 511, 'date_captured': '2019-06-25', 'flickr_url': 'xxx', 'id': 180, 'filename': 'P1275_1_0.0_2912.0_0part11.jpg'}\n",
      "{'license': 1, 'file_name': 'P1275_1_0.0_3328.0_0part12.jpg', 'coco_url': 'xxx', 'height': 511, 'width': 511, 'date_captured': '2019-06-25', 'flickr_url': 'xxx', 'id': 181, 'filename': 'P1275_1_0.0_3328.0_0part12.jpg'}\n",
      "{'license': 1, 'file_name': 'P1275_1_416.0_0.0_0part13.jpg', 'coco_url': 'xxx', 'height': 511, 'width': 511, 'date_captured': '2019-06-25', 'flickr_url': 'xxx', 'id': 182, 'filename': 'P1275_1_416.0_0.0_0part13.jpg'}\n",
      "{'license': 1, 'file_name': 'P1275_1_416.0_416.0_0part14.jpg', 'coco_url': 'xxx', 'height': 511, 'width': 511, 'date_captured': '2019-06-25', 'flickr_url': 'xxx', 'id': 183, 'filename': 'P1275_1_416.0_416.0_0part14.jpg'}\n",
      "{'license': 1, 'file_name': 'P1275_1_416.0_832.0_0part15.jpg', 'coco_url': 'xxx', 'height': 511, 'width': 511, 'date_captured': '2019-06-25', 'flickr_url': 'xxx', 'id': 184, 'filename': 'P1275_1_416.0_832.0_0part15.jpg'}\n",
      "{'license': 1, 'file_name': 'P1275_1_416.0_1248.0_0part16.jpg', 'coco_url': 'xxx', 'height': 511, 'width': 511, 'date_captured': '2019-06-25', 'flickr_url': 'xxx', 'id': 185, 'filename': 'P1275_1_416.0_1248.0_0part16.jpg'}\n",
      "{'license': 1, 'file_name': 'P1275_1_416.0_1664.0_0part17.jpg', 'coco_url': 'xxx', 'height': 511, 'width': 511, 'date_captured': '2019-06-25', 'flickr_url': 'xxx', 'id': 186, 'filename': 'P1275_1_416.0_1664.0_0part17.jpg'}\n",
      "{'license': 1, 'file_name': 'P1275_1_416.0_2080.0_0part18.jpg', 'coco_url': 'xxx', 'height': 511, 'width': 511, 'date_captured': '2019-06-25', 'flickr_url': 'xxx', 'id': 187, 'filename': 'P1275_1_416.0_2080.0_0part18.jpg'}\n",
      "{'license': 1, 'file_name': 'P1275_1_416.0_2496.0_0part19.jpg', 'coco_url': 'xxx', 'height': 511, 'width': 511, 'date_captured': '2019-06-25', 'flickr_url': 'xxx', 'id': 188, 'filename': 'P1275_1_416.0_2496.0_0part19.jpg'}\n",
      "{'license': 1, 'file_name': 'P1275_1_416.0_2912.0_0part20.jpg', 'coco_url': 'xxx', 'height': 511, 'width': 511, 'date_captured': '2019-06-25', 'flickr_url': 'xxx', 'id': 189, 'filename': 'P1275_1_416.0_2912.0_0part20.jpg'}\n",
      "{'license': 1, 'file_name': 'P1275_1_416.0_3328.0_0part21.jpg', 'coco_url': 'xxx', 'height': 511, 'width': 511, 'date_captured': '2019-06-25', 'flickr_url': 'xxx', 'id': 190, 'filename': 'P1275_1_416.0_3328.0_0part21.jpg'}\n",
      "{'license': 1, 'file_name': 'P1275_1_832.0_0.0_0part22.jpg', 'coco_url': 'xxx', 'height': 511, 'width': 511, 'date_captured': '2019-06-25', 'flickr_url': 'xxx', 'id': 191, 'filename': 'P1275_1_832.0_0.0_0part22.jpg'}\n",
      "{'license': 1, 'file_name': 'P1275_1_832.0_416.0_0part23.jpg', 'coco_url': 'xxx', 'height': 511, 'width': 511, 'date_captured': '2019-06-25', 'flickr_url': 'xxx', 'id': 192, 'filename': 'P1275_1_832.0_416.0_0part23.jpg'}\n",
      "{'license': 1, 'file_name': 'P1275_1_832.0_832.0_0part24.jpg', 'coco_url': 'xxx', 'height': 511, 'width': 511, 'date_captured': '2019-06-25', 'flickr_url': 'xxx', 'id': 193, 'filename': 'P1275_1_832.0_832.0_0part24.jpg'}\n",
      "{'license': 1, 'file_name': 'P1275_1_832.0_1248.0_0part25.jpg', 'coco_url': 'xxx', 'height': 511, 'width': 511, 'date_captured': '2019-06-25', 'flickr_url': 'xxx', 'id': 194, 'filename': 'P1275_1_832.0_1248.0_0part25.jpg'}\n",
      "{'license': 1, 'file_name': 'P1275_1_832.0_1664.0_0part26.jpg', 'coco_url': 'xxx', 'height': 511, 'width': 511, 'date_captured': '2019-06-25', 'flickr_url': 'xxx', 'id': 195, 'filename': 'P1275_1_832.0_1664.0_0part26.jpg'}\n",
      "{'license': 1, 'file_name': 'P1275_1_832.0_2080.0_0part27.jpg', 'coco_url': 'xxx', 'height': 511, 'width': 511, 'date_captured': '2019-06-25', 'flickr_url': 'xxx', 'id': 196, 'filename': 'P1275_1_832.0_2080.0_0part27.jpg'}\n",
      "{'license': 1, 'file_name': 'P1275_1_832.0_2496.0_0part28.jpg', 'coco_url': 'xxx', 'height': 511, 'width': 511, 'date_captured': '2019-06-25', 'flickr_url': 'xxx', 'id': 197, 'filename': 'P1275_1_832.0_2496.0_0part28.jpg'}\n",
      "{'license': 1, 'file_name': 'P1275_1_832.0_2912.0_0part29.jpg', 'coco_url': 'xxx', 'height': 511, 'width': 511, 'date_captured': '2019-06-25', 'flickr_url': 'xxx', 'id': 198, 'filename': 'P1275_1_832.0_2912.0_0part29.jpg'}\n",
      "{'license': 1, 'file_name': 'P1275_1_832.0_3328.0_0part30.jpg', 'coco_url': 'xxx', 'height': 511, 'width': 511, 'date_captured': '2019-06-25', 'flickr_url': 'xxx', 'id': 199, 'filename': 'P1275_1_832.0_3328.0_0part30.jpg'}\n",
      "{'license': 1, 'file_name': 'P1275_1_1248.0_0.0_0part31.jpg', 'coco_url': 'xxx', 'height': 511, 'width': 511, 'date_captured': '2019-06-25', 'flickr_url': 'xxx', 'id': 200, 'filename': 'P1275_1_1248.0_0.0_0part31.jpg'}\n",
      "{'license': 1, 'file_name': 'P1275_1_1248.0_416.0_0part32.jpg', 'coco_url': 'xxx', 'height': 511, 'width': 511, 'date_captured': '2019-06-25', 'flickr_url': 'xxx', 'id': 201, 'filename': 'P1275_1_1248.0_416.0_0part32.jpg'}\n",
      "{'license': 1, 'file_name': 'P1275_1_1248.0_832.0_0part33.jpg', 'coco_url': 'xxx', 'height': 511, 'width': 511, 'date_captured': '2019-06-25', 'flickr_url': 'xxx', 'id': 202, 'filename': 'P1275_1_1248.0_832.0_0part33.jpg'}\n",
      "{'license': 1, 'file_name': 'P1275_1_1248.0_1248.0_0part34.jpg', 'coco_url': 'xxx', 'height': 511, 'width': 511, 'date_captured': '2019-06-25', 'flickr_url': 'xxx', 'id': 203, 'filename': 'P1275_1_1248.0_1248.0_0part34.jpg'}\n",
      "{'license': 1, 'file_name': 'P1275_1_1248.0_1664.0_0part35.jpg', 'coco_url': 'xxx', 'height': 511, 'width': 511, 'date_captured': '2019-06-25', 'flickr_url': 'xxx', 'id': 204, 'filename': 'P1275_1_1248.0_1664.0_0part35.jpg'}\n",
      "{'license': 1, 'file_name': 'P1275_1_1248.0_2080.0_0part36.jpg', 'coco_url': 'xxx', 'height': 511, 'width': 511, 'date_captured': '2019-06-25', 'flickr_url': 'xxx', 'id': 205, 'filename': 'P1275_1_1248.0_2080.0_0part36.jpg'}\n",
      "{'license': 1, 'file_name': 'P1275_1_1248.0_2496.0_0part37.jpg', 'coco_url': 'xxx', 'height': 511, 'width': 511, 'date_captured': '2019-06-25', 'flickr_url': 'xxx', 'id': 206, 'filename': 'P1275_1_1248.0_2496.0_0part37.jpg'}\n",
      "{'license': 1, 'file_name': 'P1275_1_1248.0_2912.0_0part38.jpg', 'coco_url': 'xxx', 'height': 511, 'width': 511, 'date_captured': '2019-06-25', 'flickr_url': 'xxx', 'id': 207, 'filename': 'P1275_1_1248.0_2912.0_0part38.jpg'}\n",
      "{'license': 1, 'file_name': 'P1275_1_1248.0_3328.0_0part39.jpg', 'coco_url': 'xxx', 'height': 511, 'width': 511, 'date_captured': '2019-06-25', 'flickr_url': 'xxx', 'id': 208, 'filename': 'P1275_1_1248.0_3328.0_0part39.jpg'}\n",
      "{'license': 1, 'file_name': 'P1275_1_1664.0_0.0_0part40.jpg', 'coco_url': 'xxx', 'height': 511, 'width': 511, 'date_captured': '2019-06-25', 'flickr_url': 'xxx', 'id': 209, 'filename': 'P1275_1_1664.0_0.0_0part40.jpg'}\n",
      "{'license': 1, 'file_name': 'P1275_1_1664.0_416.0_0part41.jpg', 'coco_url': 'xxx', 'height': 511, 'width': 511, 'date_captured': '2019-06-25', 'flickr_url': 'xxx', 'id': 210, 'filename': 'P1275_1_1664.0_416.0_0part41.jpg'}\n",
      "{'license': 1, 'file_name': 'P1275_1_1664.0_832.0_0part42.jpg', 'coco_url': 'xxx', 'height': 511, 'width': 511, 'date_captured': '2019-06-25', 'flickr_url': 'xxx', 'id': 211, 'filename': 'P1275_1_1664.0_832.0_0part42.jpg'}\n",
      "{'license': 1, 'file_name': 'P1275_1_1664.0_1248.0_0part43.jpg', 'coco_url': 'xxx', 'height': 511, 'width': 511, 'date_captured': '2019-06-25', 'flickr_url': 'xxx', 'id': 212, 'filename': 'P1275_1_1664.0_1248.0_0part43.jpg'}\n",
      "{'license': 1, 'file_name': 'P1275_1_1664.0_1664.0_0part44.jpg', 'coco_url': 'xxx', 'height': 511, 'width': 511, 'date_captured': '2019-06-25', 'flickr_url': 'xxx', 'id': 213, 'filename': 'P1275_1_1664.0_1664.0_0part44.jpg'}\n",
      "{'license': 1, 'file_name': 'P1275_1_1664.0_2080.0_0part45.jpg', 'coco_url': 'xxx', 'height': 511, 'width': 511, 'date_captured': '2019-06-25', 'flickr_url': 'xxx', 'id': 214, 'filename': 'P1275_1_1664.0_2080.0_0part45.jpg'}\n",
      "{'license': 1, 'file_name': 'P1275_1_1664.0_2496.0_0part46.jpg', 'coco_url': 'xxx', 'height': 511, 'width': 511, 'date_captured': '2019-06-25', 'flickr_url': 'xxx', 'id': 215, 'filename': 'P1275_1_1664.0_2496.0_0part46.jpg'}\n"
     ]
    },
    {
     "name": "stdout",
     "output_type": "stream",
     "text": [
      "{'license': 1, 'file_name': 'P1275_1_1664.0_2912.0_0part47.jpg', 'coco_url': 'xxx', 'height': 511, 'width': 511, 'date_captured': '2019-06-25', 'flickr_url': 'xxx', 'id': 216, 'filename': 'P1275_1_1664.0_2912.0_0part47.jpg'}\n",
      "{'license': 1, 'file_name': 'P1275_1_1664.0_3328.0_0part48.jpg', 'coco_url': 'xxx', 'height': 511, 'width': 511, 'date_captured': '2019-06-25', 'flickr_url': 'xxx', 'id': 217, 'filename': 'P1275_1_1664.0_3328.0_0part48.jpg'}\n",
      "{'license': 1, 'file_name': 'P1275_1_2080.0_0.0_0part49.jpg', 'coco_url': 'xxx', 'height': 511, 'width': 511, 'date_captured': '2019-06-25', 'flickr_url': 'xxx', 'id': 218, 'filename': 'P1275_1_2080.0_0.0_0part49.jpg'}\n",
      "{'license': 1, 'file_name': 'P1275_1_2080.0_416.0_0part50.jpg', 'coco_url': 'xxx', 'height': 511, 'width': 511, 'date_captured': '2019-06-25', 'flickr_url': 'xxx', 'id': 219, 'filename': 'P1275_1_2080.0_416.0_0part50.jpg'}\n",
      "{'license': 1, 'file_name': 'P1275_1_2080.0_832.0_0part51.jpg', 'coco_url': 'xxx', 'height': 511, 'width': 511, 'date_captured': '2019-06-25', 'flickr_url': 'xxx', 'id': 220, 'filename': 'P1275_1_2080.0_832.0_0part51.jpg'}\n",
      "{'license': 1, 'file_name': 'P1275_1_2080.0_1248.0_0part52.jpg', 'coco_url': 'xxx', 'height': 511, 'width': 511, 'date_captured': '2019-06-25', 'flickr_url': 'xxx', 'id': 221, 'filename': 'P1275_1_2080.0_1248.0_0part52.jpg'}\n",
      "{'license': 1, 'file_name': 'P1275_1_2080.0_1664.0_0part53.jpg', 'coco_url': 'xxx', 'height': 511, 'width': 511, 'date_captured': '2019-06-25', 'flickr_url': 'xxx', 'id': 222, 'filename': 'P1275_1_2080.0_1664.0_0part53.jpg'}\n",
      "{'license': 1, 'file_name': 'P1275_1_2080.0_2080.0_0part54.jpg', 'coco_url': 'xxx', 'height': 511, 'width': 511, 'date_captured': '2019-06-25', 'flickr_url': 'xxx', 'id': 223, 'filename': 'P1275_1_2080.0_2080.0_0part54.jpg'}\n",
      "{'license': 1, 'file_name': 'P1275_1_2080.0_2496.0_0part55.jpg', 'coco_url': 'xxx', 'height': 511, 'width': 511, 'date_captured': '2019-06-25', 'flickr_url': 'xxx', 'id': 224, 'filename': 'P1275_1_2080.0_2496.0_0part55.jpg'}\n",
      "{'license': 1, 'file_name': 'P1275_1_2080.0_2912.0_0part56.jpg', 'coco_url': 'xxx', 'height': 511, 'width': 511, 'date_captured': '2019-06-25', 'flickr_url': 'xxx', 'id': 225, 'filename': 'P1275_1_2080.0_2912.0_0part56.jpg'}\n",
      "{'license': 1, 'file_name': 'P1275_1_2080.0_3328.0_0part57.jpg', 'coco_url': 'xxx', 'height': 511, 'width': 511, 'date_captured': '2019-06-25', 'flickr_url': 'xxx', 'id': 226, 'filename': 'P1275_1_2080.0_3328.0_0part57.jpg'}\n",
      "{'license': 1, 'file_name': 'P1275_1_2496.0_0.0_0part58.jpg', 'coco_url': 'xxx', 'height': 511, 'width': 511, 'date_captured': '2019-06-25', 'flickr_url': 'xxx', 'id': 227, 'filename': 'P1275_1_2496.0_0.0_0part58.jpg'}\n",
      "{'license': 1, 'file_name': 'P1275_1_2496.0_416.0_0part59.jpg', 'coco_url': 'xxx', 'height': 511, 'width': 511, 'date_captured': '2019-06-25', 'flickr_url': 'xxx', 'id': 228, 'filename': 'P1275_1_2496.0_416.0_0part59.jpg'}\n",
      "{'license': 1, 'file_name': 'P1275_1_2496.0_832.0_0part60.jpg', 'coco_url': 'xxx', 'height': 511, 'width': 511, 'date_captured': '2019-06-25', 'flickr_url': 'xxx', 'id': 229, 'filename': 'P1275_1_2496.0_832.0_0part60.jpg'}\n",
      "{'license': 1, 'file_name': 'P1275_1_2496.0_1248.0_0part61.jpg', 'coco_url': 'xxx', 'height': 511, 'width': 511, 'date_captured': '2019-06-25', 'flickr_url': 'xxx', 'id': 230, 'filename': 'P1275_1_2496.0_1248.0_0part61.jpg'}\n",
      "{'license': 1, 'file_name': 'P1275_1_2496.0_1664.0_0part62.jpg', 'coco_url': 'xxx', 'height': 511, 'width': 511, 'date_captured': '2019-06-25', 'flickr_url': 'xxx', 'id': 231, 'filename': 'P1275_1_2496.0_1664.0_0part62.jpg'}\n",
      "{'license': 1, 'file_name': 'P1275_1_2496.0_2080.0_0part63.jpg', 'coco_url': 'xxx', 'height': 511, 'width': 511, 'date_captured': '2019-06-25', 'flickr_url': 'xxx', 'id': 232, 'filename': 'P1275_1_2496.0_2080.0_0part63.jpg'}\n",
      "{'license': 1, 'file_name': 'P1275_1_2496.0_2496.0_0part64.jpg', 'coco_url': 'xxx', 'height': 511, 'width': 511, 'date_captured': '2019-06-25', 'flickr_url': 'xxx', 'id': 233, 'filename': 'P1275_1_2496.0_2496.0_0part64.jpg'}\n",
      "{'license': 1, 'file_name': 'P1275_1_2496.0_2912.0_0part65.jpg', 'coco_url': 'xxx', 'height': 511, 'width': 511, 'date_captured': '2019-06-25', 'flickr_url': 'xxx', 'id': 234, 'filename': 'P1275_1_2496.0_2912.0_0part65.jpg'}\n",
      "{'license': 1, 'file_name': 'P1275_1_2496.0_3328.0_0part66.jpg', 'coco_url': 'xxx', 'height': 511, 'width': 511, 'date_captured': '2019-06-25', 'flickr_url': 'xxx', 'id': 235, 'filename': 'P1275_1_2496.0_3328.0_0part66.jpg'}\n",
      "{'license': 1, 'file_name': 'P1275_1_2912.0_0.0_0part67.jpg', 'coco_url': 'xxx', 'height': 511, 'width': 511, 'date_captured': '2019-06-25', 'flickr_url': 'xxx', 'id': 236, 'filename': 'P1275_1_2912.0_0.0_0part67.jpg'}\n",
      "{'license': 1, 'file_name': 'P1275_1_2912.0_416.0_0part68.jpg', 'coco_url': 'xxx', 'height': 511, 'width': 511, 'date_captured': '2019-06-25', 'flickr_url': 'xxx', 'id': 237, 'filename': 'P1275_1_2912.0_416.0_0part68.jpg'}\n",
      "{'license': 1, 'file_name': 'P1275_1_2912.0_832.0_0part69.jpg', 'coco_url': 'xxx', 'height': 511, 'width': 511, 'date_captured': '2019-06-25', 'flickr_url': 'xxx', 'id': 238, 'filename': 'P1275_1_2912.0_832.0_0part69.jpg'}\n",
      "{'license': 1, 'file_name': 'P1275_1_2912.0_1248.0_0part70.jpg', 'coco_url': 'xxx', 'height': 511, 'width': 511, 'date_captured': '2019-06-25', 'flickr_url': 'xxx', 'id': 239, 'filename': 'P1275_1_2912.0_1248.0_0part70.jpg'}\n",
      "{'license': 1, 'file_name': 'P1275_1_2912.0_1664.0_0part71.jpg', 'coco_url': 'xxx', 'height': 511, 'width': 511, 'date_captured': '2019-06-25', 'flickr_url': 'xxx', 'id': 240, 'filename': 'P1275_1_2912.0_1664.0_0part71.jpg'}\n",
      "{'license': 1, 'file_name': 'P1275_1_2912.0_2080.0_0part72.jpg', 'coco_url': 'xxx', 'height': 511, 'width': 511, 'date_captured': '2019-06-25', 'flickr_url': 'xxx', 'id': 241, 'filename': 'P1275_1_2912.0_2080.0_0part72.jpg'}\n",
      "{'license': 1, 'file_name': 'P1275_1_2912.0_2496.0_0part73.jpg', 'coco_url': 'xxx', 'height': 511, 'width': 511, 'date_captured': '2019-06-25', 'flickr_url': 'xxx', 'id': 242, 'filename': 'P1275_1_2912.0_2496.0_0part73.jpg'}\n",
      "{'license': 1, 'file_name': 'P1275_1_2912.0_2912.0_0part74.jpg', 'coco_url': 'xxx', 'height': 511, 'width': 511, 'date_captured': '2019-06-25', 'flickr_url': 'xxx', 'id': 243, 'filename': 'P1275_1_2912.0_2912.0_0part74.jpg'}\n",
      "{'license': 1, 'file_name': 'P1275_1_2912.0_3328.0_0part75.jpg', 'coco_url': 'xxx', 'height': 511, 'width': 511, 'date_captured': '2019-06-25', 'flickr_url': 'xxx', 'id': 244, 'filename': 'P1275_1_2912.0_3328.0_0part75.jpg'}\n",
      "{'license': 1, 'file_name': 'P1275_1_3328.0_0.0_0part76.jpg', 'coco_url': 'xxx', 'height': 511, 'width': 511, 'date_captured': '2019-06-25', 'flickr_url': 'xxx', 'id': 245, 'filename': 'P1275_1_3328.0_0.0_0part76.jpg'}\n",
      "{'license': 1, 'file_name': 'P1275_1_3328.0_416.0_0part77.jpg', 'coco_url': 'xxx', 'height': 511, 'width': 511, 'date_captured': '2019-06-25', 'flickr_url': 'xxx', 'id': 246, 'filename': 'P1275_1_3328.0_416.0_0part77.jpg'}\n",
      "{'license': 1, 'file_name': 'P1275_1_3328.0_832.0_0part78.jpg', 'coco_url': 'xxx', 'height': 511, 'width': 511, 'date_captured': '2019-06-25', 'flickr_url': 'xxx', 'id': 247, 'filename': 'P1275_1_3328.0_832.0_0part78.jpg'}\n",
      "{'license': 1, 'file_name': 'P1275_1_3328.0_1248.0_0part79.jpg', 'coco_url': 'xxx', 'height': 511, 'width': 511, 'date_captured': '2019-06-25', 'flickr_url': 'xxx', 'id': 248, 'filename': 'P1275_1_3328.0_1248.0_0part79.jpg'}\n",
      "{'license': 1, 'file_name': 'P1275_1_3328.0_1664.0_0part80.jpg', 'coco_url': 'xxx', 'height': 511, 'width': 511, 'date_captured': '2019-06-25', 'flickr_url': 'xxx', 'id': 249, 'filename': 'P1275_1_3328.0_1664.0_0part80.jpg'}\n",
      "{'license': 1, 'file_name': 'P1275_1_3328.0_2080.0_0part81.jpg', 'coco_url': 'xxx', 'height': 511, 'width': 511, 'date_captured': '2019-06-25', 'flickr_url': 'xxx', 'id': 250, 'filename': 'P1275_1_3328.0_2080.0_0part81.jpg'}\n",
      "{'license': 1, 'file_name': 'P1275_1_3328.0_2496.0_0part82.jpg', 'coco_url': 'xxx', 'height': 511, 'width': 511, 'date_captured': '2019-06-25', 'flickr_url': 'xxx', 'id': 251, 'filename': 'P1275_1_3328.0_2496.0_0part82.jpg'}\n",
      "{'license': 1, 'file_name': 'P1275_1_3328.0_2912.0_0part83.jpg', 'coco_url': 'xxx', 'height': 511, 'width': 511, 'date_captured': '2019-06-25', 'flickr_url': 'xxx', 'id': 252, 'filename': 'P1275_1_3328.0_2912.0_0part83.jpg'}\n",
      "{'license': 1, 'file_name': 'P1275_1_3328.0_3328.0_0part84.jpg', 'coco_url': 'xxx', 'height': 511, 'width': 511, 'date_captured': '2019-06-25', 'flickr_url': 'xxx', 'id': 253, 'filename': 'P1275_1_3328.0_3328.0_0part84.jpg'}\n",
      "{'license': 1, 'file_name': 'P1275_1_3487.0_0.0_0part85.jpg', 'coco_url': 'xxx', 'height': 511, 'width': 512, 'date_captured': '2019-06-25', 'flickr_url': 'xxx', 'id': 254, 'filename': 'P1275_1_3487.0_0.0_0part85.jpg'}\n",
      "{'license': 1, 'file_name': 'P1275_1_3487.0_416.0_0part86.jpg', 'coco_url': 'xxx', 'height': 511, 'width': 512, 'date_captured': '2019-06-25', 'flickr_url': 'xxx', 'id': 255, 'filename': 'P1275_1_3487.0_416.0_0part86.jpg'}\n",
      "{'license': 1, 'file_name': 'P1275_1_3487.0_832.0_0part87.jpg', 'coco_url': 'xxx', 'height': 511, 'width': 512, 'date_captured': '2019-06-25', 'flickr_url': 'xxx', 'id': 256, 'filename': 'P1275_1_3487.0_832.0_0part87.jpg'}\n",
      "{'license': 1, 'file_name': 'P1275_1_3487.0_1248.0_0part88.jpg', 'coco_url': 'xxx', 'height': 511, 'width': 512, 'date_captured': '2019-06-25', 'flickr_url': 'xxx', 'id': 257, 'filename': 'P1275_1_3487.0_1248.0_0part88.jpg'}\n",
      "{'license': 1, 'file_name': 'P1275_1_3487.0_1664.0_0part89.jpg', 'coco_url': 'xxx', 'height': 511, 'width': 512, 'date_captured': '2019-06-25', 'flickr_url': 'xxx', 'id': 258, 'filename': 'P1275_1_3487.0_1664.0_0part89.jpg'}\n",
      "{'license': 1, 'file_name': 'P1275_1_3487.0_2080.0_0part90.jpg', 'coco_url': 'xxx', 'height': 511, 'width': 512, 'date_captured': '2019-06-25', 'flickr_url': 'xxx', 'id': 259, 'filename': 'P1275_1_3487.0_2080.0_0part90.jpg'}\n",
      "{'license': 1, 'file_name': 'P1275_1_3487.0_2496.0_0part91.jpg', 'coco_url': 'xxx', 'height': 511, 'width': 512, 'date_captured': '2019-06-25', 'flickr_url': 'xxx', 'id': 260, 'filename': 'P1275_1_3487.0_2496.0_0part91.jpg'}\n",
      "{'license': 1, 'file_name': 'P1275_1_3487.0_2912.0_0part92.jpg', 'coco_url': 'xxx', 'height': 511, 'width': 512, 'date_captured': '2019-06-25', 'flickr_url': 'xxx', 'id': 261, 'filename': 'P1275_1_3487.0_2912.0_0part92.jpg'}\n",
      "{'license': 1, 'file_name': 'P1275_1_3487.0_3328.0_0part93.jpg', 'coco_url': 'xxx', 'height': 511, 'width': 512, 'date_captured': '2019-06-25', 'flickr_url': 'xxx', 'id': 262, 'filename': 'P1275_1_3487.0_3328.0_0part93.jpg'}\n",
      "{'license': 1, 'file_name': 'P1275_1_0.0_3487.0_0part94.jpg', 'coco_url': 'xxx', 'height': 512, 'width': 511, 'date_captured': '2019-06-25', 'flickr_url': 'xxx', 'id': 263, 'filename': 'P1275_1_0.0_3487.0_0part94.jpg'}\n",
      "{'license': 1, 'file_name': 'P1275_1_416.0_3487.0_0part95.jpg', 'coco_url': 'xxx', 'height': 512, 'width': 511, 'date_captured': '2019-06-25', 'flickr_url': 'xxx', 'id': 264, 'filename': 'P1275_1_416.0_3487.0_0part95.jpg'}\n",
      "{'license': 1, 'file_name': 'P1275_1_832.0_3487.0_0part96.jpg', 'coco_url': 'xxx', 'height': 512, 'width': 511, 'date_captured': '2019-06-25', 'flickr_url': 'xxx', 'id': 265, 'filename': 'P1275_1_832.0_3487.0_0part96.jpg'}\n",
      "{'license': 1, 'file_name': 'P1275_1_1248.0_3487.0_0part97.jpg', 'coco_url': 'xxx', 'height': 512, 'width': 511, 'date_captured': '2019-06-25', 'flickr_url': 'xxx', 'id': 266, 'filename': 'P1275_1_1248.0_3487.0_0part97.jpg'}\n",
      "{'license': 1, 'file_name': 'P1275_1_1664.0_3487.0_0part98.jpg', 'coco_url': 'xxx', 'height': 512, 'width': 511, 'date_captured': '2019-06-25', 'flickr_url': 'xxx', 'id': 267, 'filename': 'P1275_1_1664.0_3487.0_0part98.jpg'}\n",
      "{'license': 1, 'file_name': 'P1275_1_2080.0_3487.0_0part99.jpg', 'coco_url': 'xxx', 'height': 512, 'width': 511, 'date_captured': '2019-06-25', 'flickr_url': 'xxx', 'id': 268, 'filename': 'P1275_1_2080.0_3487.0_0part99.jpg'}\n",
      "{'license': 1, 'file_name': 'P1275_1_2496.0_3487.0_0part100.jpg', 'coco_url': 'xxx', 'height': 512, 'width': 511, 'date_captured': '2019-06-25', 'flickr_url': 'xxx', 'id': 269, 'filename': 'P1275_1_2496.0_3487.0_0part100.jpg'}\n",
      "{'license': 1, 'file_name': 'P1275_1_2912.0_3487.0_0part101.jpg', 'coco_url': 'xxx', 'height': 512, 'width': 511, 'date_captured': '2019-06-25', 'flickr_url': 'xxx', 'id': 270, 'filename': 'P1275_1_2912.0_3487.0_0part101.jpg'}\n",
      "{'license': 1, 'file_name': 'P1275_1_3328.0_3487.0_0part102.jpg', 'coco_url': 'xxx', 'height': 512, 'width': 511, 'date_captured': '2019-06-25', 'flickr_url': 'xxx', 'id': 271, 'filename': 'P1275_1_3328.0_3487.0_0part102.jpg'}\n"
     ]
    },
    {
     "name": "stdout",
     "output_type": "stream",
     "text": [
      "{'license': 1, 'file_name': 'P0844_0.5_0.0_0.0_0part1.jpg', 'coco_url': 'xxx', 'height': 512, 'width': 435, 'date_captured': '2019-06-25', 'flickr_url': 'xxx', 'id': 272, 'filename': 'P0844_0.5_0.0_0.0_0part1.jpg'}\n",
      "{'license': 1, 'file_name': 'P0844_0.5_0.0_43.0_0part2.jpg', 'coco_url': 'xxx', 'height': 511, 'width': 435, 'date_captured': '2019-06-25', 'flickr_url': 'xxx', 'id': 273, 'filename': 'P0844_0.5_0.0_43.0_0part2.jpg'}\n",
      "{'license': 1, 'file_name': 'P0844_0.5_0.0_43.0_0part3.jpg', 'coco_url': 'xxx', 'height': 511, 'width': 435, 'date_captured': '2019-06-25', 'flickr_url': 'xxx', 'id': 274, 'filename': 'P0844_0.5_0.0_43.0_0part3.jpg'}\n",
      "{'license': 1, 'file_name': 'P0844_0.5_0.0_0.0_0part4.jpg', 'coco_url': 'xxx', 'height': 511, 'width': 435, 'date_captured': '2019-06-25', 'flickr_url': 'xxx', 'id': 275, 'filename': 'P0844_0.5_0.0_0.0_0part4.jpg'}\n",
      "{'license': 1, 'file_name': 'P0844_1_360.0_0.0_0part1.jpg', 'coco_url': 'xxx', 'height': 512, 'width': 511, 'date_captured': '2019-06-25', 'flickr_url': 'xxx', 'id': 276, 'filename': 'P0844_1_360.0_0.0_0part1.jpg'}\n",
      "{'license': 1, 'file_name': 'P0844_1_0.0_597.0_0part2.jpg', 'coco_url': 'xxx', 'height': 511, 'width': 512, 'date_captured': '2019-06-25', 'flickr_url': 'xxx', 'id': 277, 'filename': 'P0844_1_0.0_597.0_0part2.jpg'}\n",
      "{'license': 1, 'file_name': 'P0844_1_360.0_597.0_0part3.jpg', 'coco_url': 'xxx', 'height': 511, 'width': 511, 'date_captured': '2019-06-25', 'flickr_url': 'xxx', 'id': 278, 'filename': 'P0844_1_360.0_597.0_0part3.jpg'}\n",
      "{'license': 1, 'file_name': 'P0844_1_0.0_0.0_0part4.jpg', 'coco_url': 'xxx', 'height': 511, 'width': 511, 'date_captured': '2019-06-25', 'flickr_url': 'xxx', 'id': 279, 'filename': 'P0844_1_0.0_0.0_0part4.jpg'}\n",
      "{'license': 1, 'file_name': 'P0844_1_0.0_416.0_0part5.jpg', 'coco_url': 'xxx', 'height': 511, 'width': 511, 'date_captured': '2019-06-25', 'flickr_url': 'xxx', 'id': 280, 'filename': 'P0844_1_0.0_416.0_0part5.jpg'}\n",
      "{'license': 1, 'file_name': 'P0844_1_359.0_0.0_0part6.jpg', 'coco_url': 'xxx', 'height': 511, 'width': 512, 'date_captured': '2019-06-25', 'flickr_url': 'xxx', 'id': 281, 'filename': 'P0844_1_359.0_0.0_0part6.jpg'}\n",
      "{'license': 1, 'file_name': 'P0844_1_359.0_416.0_0part7.jpg', 'coco_url': 'xxx', 'height': 511, 'width': 512, 'date_captured': '2019-06-25', 'flickr_url': 'xxx', 'id': 282, 'filename': 'P0844_1_359.0_416.0_0part7.jpg'}\n",
      "{'license': 1, 'file_name': 'P0844_1_0.0_596.0_0part8.jpg', 'coco_url': 'xxx', 'height': 512, 'width': 511, 'date_captured': '2019-06-25', 'flickr_url': 'xxx', 'id': 283, 'filename': 'P0844_1_0.0_596.0_0part8.jpg'}\n",
      "{'license': 1, 'file_name': 'P1878_0.5_0.0_0.0_0part1.jpg', 'coco_url': 'xxx', 'height': 512, 'width': 320, 'date_captured': '2019-06-25', 'flickr_url': 'xxx', 'id': 284, 'filename': 'P1878_0.5_0.0_0.0_0part1.jpg'}\n",
      "{'license': 1, 'file_name': 'P1878_0.5_0.0_18.0_0part2.jpg', 'coco_url': 'xxx', 'height': 511, 'width': 320, 'date_captured': '2019-06-25', 'flickr_url': 'xxx', 'id': 285, 'filename': 'P1878_0.5_0.0_18.0_0part2.jpg'}\n",
      "{'license': 1, 'file_name': 'P1878_0.5_0.0_18.0_0part3.jpg', 'coco_url': 'xxx', 'height': 511, 'width': 320, 'date_captured': '2019-06-25', 'flickr_url': 'xxx', 'id': 286, 'filename': 'P1878_0.5_0.0_18.0_0part3.jpg'}\n",
      "{'license': 1, 'file_name': 'P1878_0.5_0.0_0.0_0part4.jpg', 'coco_url': 'xxx', 'height': 511, 'width': 320, 'date_captured': '2019-06-25', 'flickr_url': 'xxx', 'id': 287, 'filename': 'P1878_0.5_0.0_0.0_0part4.jpg'}\n",
      "{'license': 1, 'file_name': 'P1878_1_130.0_0.0_0part1.jpg', 'coco_url': 'xxx', 'height': 512, 'width': 511, 'date_captured': '2019-06-25', 'flickr_url': 'xxx', 'id': 288, 'filename': 'P1878_1_130.0_0.0_0part1.jpg'}\n",
      "{'license': 1, 'file_name': 'P1878_1_0.0_547.0_0part2.jpg', 'coco_url': 'xxx', 'height': 511, 'width': 512, 'date_captured': '2019-06-25', 'flickr_url': 'xxx', 'id': 289, 'filename': 'P1878_1_0.0_547.0_0part2.jpg'}\n",
      "{'license': 1, 'file_name': 'P1878_1_130.0_547.0_0part3.jpg', 'coco_url': 'xxx', 'height': 511, 'width': 511, 'date_captured': '2019-06-25', 'flickr_url': 'xxx', 'id': 290, 'filename': 'P1878_1_130.0_547.0_0part3.jpg'}\n",
      "{'license': 1, 'file_name': 'P1878_1_0.0_0.0_0part4.jpg', 'coco_url': 'xxx', 'height': 511, 'width': 511, 'date_captured': '2019-06-25', 'flickr_url': 'xxx', 'id': 291, 'filename': 'P1878_1_0.0_0.0_0part4.jpg'}\n",
      "{'license': 1, 'file_name': 'P1878_1_0.0_416.0_0part5.jpg', 'coco_url': 'xxx', 'height': 511, 'width': 511, 'date_captured': '2019-06-25', 'flickr_url': 'xxx', 'id': 292, 'filename': 'P1878_1_0.0_416.0_0part5.jpg'}\n",
      "{'license': 1, 'file_name': 'P1878_1_129.0_0.0_0part6.jpg', 'coco_url': 'xxx', 'height': 511, 'width': 512, 'date_captured': '2019-06-25', 'flickr_url': 'xxx', 'id': 293, 'filename': 'P1878_1_129.0_0.0_0part6.jpg'}\n",
      "{'license': 1, 'file_name': 'P1878_1_129.0_416.0_0part7.jpg', 'coco_url': 'xxx', 'height': 511, 'width': 512, 'date_captured': '2019-06-25', 'flickr_url': 'xxx', 'id': 294, 'filename': 'P1878_1_129.0_416.0_0part7.jpg'}\n",
      "{'license': 1, 'file_name': 'P1878_1_0.0_546.0_0part8.jpg', 'coco_url': 'xxx', 'height': 512, 'width': 511, 'date_captured': '2019-06-25', 'flickr_url': 'xxx', 'id': 295, 'filename': 'P1878_1_0.0_546.0_0part8.jpg'}\n",
      "{'license': 1, 'file_name': 'P1542_0.5_1488.0_0.0_0part1.jpg', 'coco_url': 'xxx', 'height': 512, 'width': 511, 'date_captured': '2019-06-25', 'flickr_url': 'xxx', 'id': 296, 'filename': 'P1542_0.5_1488.0_0.0_0part1.jpg'}\n",
      "{'license': 1, 'file_name': 'P1542_0.5_0.0_1488.0_0part2.jpg', 'coco_url': 'xxx', 'height': 511, 'width': 512, 'date_captured': '2019-06-25', 'flickr_url': 'xxx', 'id': 297, 'filename': 'P1542_0.5_0.0_1488.0_0part2.jpg'}\n",
      "{'license': 1, 'file_name': 'P1542_0.5_1488.0_1488.0_0part3.jpg', 'coco_url': 'xxx', 'height': 511, 'width': 511, 'date_captured': '2019-06-25', 'flickr_url': 'xxx', 'id': 298, 'filename': 'P1542_0.5_1488.0_1488.0_0part3.jpg'}\n",
      "{'license': 1, 'file_name': 'P1542_0.5_0.0_0.0_0part4.jpg', 'coco_url': 'xxx', 'height': 511, 'width': 511, 'date_captured': '2019-06-25', 'flickr_url': 'xxx', 'id': 299, 'filename': 'P1542_0.5_0.0_0.0_0part4.jpg'}\n",
      "{'license': 1, 'file_name': 'P1542_0.5_0.0_416.0_0part5.jpg', 'coco_url': 'xxx', 'height': 511, 'width': 511, 'date_captured': '2019-06-25', 'flickr_url': 'xxx', 'id': 300, 'filename': 'P1542_0.5_0.0_416.0_0part5.jpg'}\n",
      "{'license': 1, 'file_name': 'P1542_0.5_0.0_832.0_0part6.jpg', 'coco_url': 'xxx', 'height': 511, 'width': 511, 'date_captured': '2019-06-25', 'flickr_url': 'xxx', 'id': 301, 'filename': 'P1542_0.5_0.0_832.0_0part6.jpg'}\n",
      "{'license': 1, 'file_name': 'P1542_0.5_0.0_1248.0_0part7.jpg', 'coco_url': 'xxx', 'height': 511, 'width': 511, 'date_captured': '2019-06-25', 'flickr_url': 'xxx', 'id': 302, 'filename': 'P1542_0.5_0.0_1248.0_0part7.jpg'}\n",
      "{'license': 1, 'file_name': 'P1542_0.5_416.0_0.0_0part8.jpg', 'coco_url': 'xxx', 'height': 511, 'width': 511, 'date_captured': '2019-06-25', 'flickr_url': 'xxx', 'id': 303, 'filename': 'P1542_0.5_416.0_0.0_0part8.jpg'}\n",
      "{'license': 1, 'file_name': 'P1542_0.5_416.0_416.0_0part9.jpg', 'coco_url': 'xxx', 'height': 511, 'width': 511, 'date_captured': '2019-06-25', 'flickr_url': 'xxx', 'id': 304, 'filename': 'P1542_0.5_416.0_416.0_0part9.jpg'}\n",
      "{'license': 1, 'file_name': 'P1542_0.5_416.0_832.0_0part10.jpg', 'coco_url': 'xxx', 'height': 511, 'width': 511, 'date_captured': '2019-06-25', 'flickr_url': 'xxx', 'id': 305, 'filename': 'P1542_0.5_416.0_832.0_0part10.jpg'}\n",
      "{'license': 1, 'file_name': 'P1542_0.5_416.0_1248.0_0part11.jpg', 'coco_url': 'xxx', 'height': 511, 'width': 511, 'date_captured': '2019-06-25', 'flickr_url': 'xxx', 'id': 306, 'filename': 'P1542_0.5_416.0_1248.0_0part11.jpg'}\n",
      "{'license': 1, 'file_name': 'P1542_0.5_832.0_0.0_0part12.jpg', 'coco_url': 'xxx', 'height': 511, 'width': 511, 'date_captured': '2019-06-25', 'flickr_url': 'xxx', 'id': 307, 'filename': 'P1542_0.5_832.0_0.0_0part12.jpg'}\n",
      "{'license': 1, 'file_name': 'P1542_0.5_832.0_416.0_0part13.jpg', 'coco_url': 'xxx', 'height': 511, 'width': 511, 'date_captured': '2019-06-25', 'flickr_url': 'xxx', 'id': 308, 'filename': 'P1542_0.5_832.0_416.0_0part13.jpg'}\n",
      "{'license': 1, 'file_name': 'P1542_0.5_832.0_832.0_0part14.jpg', 'coco_url': 'xxx', 'height': 511, 'width': 511, 'date_captured': '2019-06-25', 'flickr_url': 'xxx', 'id': 309, 'filename': 'P1542_0.5_832.0_832.0_0part14.jpg'}\n",
      "{'license': 1, 'file_name': 'P1542_0.5_832.0_1248.0_0part15.jpg', 'coco_url': 'xxx', 'height': 511, 'width': 511, 'date_captured': '2019-06-25', 'flickr_url': 'xxx', 'id': 310, 'filename': 'P1542_0.5_832.0_1248.0_0part15.jpg'}\n",
      "{'license': 1, 'file_name': 'P1542_0.5_1248.0_0.0_0part16.jpg', 'coco_url': 'xxx', 'height': 511, 'width': 511, 'date_captured': '2019-06-25', 'flickr_url': 'xxx', 'id': 311, 'filename': 'P1542_0.5_1248.0_0.0_0part16.jpg'}\n",
      "{'license': 1, 'file_name': 'P1542_0.5_1248.0_416.0_0part17.jpg', 'coco_url': 'xxx', 'height': 511, 'width': 511, 'date_captured': '2019-06-25', 'flickr_url': 'xxx', 'id': 312, 'filename': 'P1542_0.5_1248.0_416.0_0part17.jpg'}\n",
      "{'license': 1, 'file_name': 'P1542_0.5_1248.0_832.0_0part18.jpg', 'coco_url': 'xxx', 'height': 511, 'width': 511, 'date_captured': '2019-06-25', 'flickr_url': 'xxx', 'id': 313, 'filename': 'P1542_0.5_1248.0_832.0_0part18.jpg'}\n",
      "{'license': 1, 'file_name': 'P1542_0.5_1248.0_1248.0_0part19.jpg', 'coco_url': 'xxx', 'height': 511, 'width': 511, 'date_captured': '2019-06-25', 'flickr_url': 'xxx', 'id': 314, 'filename': 'P1542_0.5_1248.0_1248.0_0part19.jpg'}\n",
      "{'license': 1, 'file_name': 'P1542_0.5_1487.0_0.0_0part20.jpg', 'coco_url': 'xxx', 'height': 511, 'width': 512, 'date_captured': '2019-06-25', 'flickr_url': 'xxx', 'id': 315, 'filename': 'P1542_0.5_1487.0_0.0_0part20.jpg'}\n",
      "{'license': 1, 'file_name': 'P1542_0.5_1487.0_416.0_0part21.jpg', 'coco_url': 'xxx', 'height': 511, 'width': 512, 'date_captured': '2019-06-25', 'flickr_url': 'xxx', 'id': 316, 'filename': 'P1542_0.5_1487.0_416.0_0part21.jpg'}\n",
      "{'license': 1, 'file_name': 'P1542_0.5_1487.0_832.0_0part22.jpg', 'coco_url': 'xxx', 'height': 511, 'width': 512, 'date_captured': '2019-06-25', 'flickr_url': 'xxx', 'id': 317, 'filename': 'P1542_0.5_1487.0_832.0_0part22.jpg'}\n",
      "{'license': 1, 'file_name': 'P1542_0.5_1487.0_1248.0_0part23.jpg', 'coco_url': 'xxx', 'height': 511, 'width': 512, 'date_captured': '2019-06-25', 'flickr_url': 'xxx', 'id': 318, 'filename': 'P1542_0.5_1487.0_1248.0_0part23.jpg'}\n",
      "{'license': 1, 'file_name': 'P1542_0.5_0.0_1487.0_0part24.jpg', 'coco_url': 'xxx', 'height': 512, 'width': 511, 'date_captured': '2019-06-25', 'flickr_url': 'xxx', 'id': 319, 'filename': 'P1542_0.5_0.0_1487.0_0part24.jpg'}\n",
      "{'license': 1, 'file_name': 'P1542_0.5_416.0_1487.0_0part25.jpg', 'coco_url': 'xxx', 'height': 512, 'width': 511, 'date_captured': '2019-06-25', 'flickr_url': 'xxx', 'id': 320, 'filename': 'P1542_0.5_416.0_1487.0_0part25.jpg'}\n",
      "{'license': 1, 'file_name': 'P1542_0.5_832.0_1487.0_0part26.jpg', 'coco_url': 'xxx', 'height': 512, 'width': 511, 'date_captured': '2019-06-25', 'flickr_url': 'xxx', 'id': 321, 'filename': 'P1542_0.5_832.0_1487.0_0part26.jpg'}\n",
      "{'license': 1, 'file_name': 'P1542_0.5_1248.0_1487.0_0part27.jpg', 'coco_url': 'xxx', 'height': 512, 'width': 511, 'date_captured': '2019-06-25', 'flickr_url': 'xxx', 'id': 322, 'filename': 'P1542_0.5_1248.0_1487.0_0part27.jpg'}\n",
      "{'license': 1, 'file_name': 'P1542_1_3488.0_0.0_0part1.jpg', 'coco_url': 'xxx', 'height': 512, 'width': 511, 'date_captured': '2019-06-25', 'flickr_url': 'xxx', 'id': 323, 'filename': 'P1542_1_3488.0_0.0_0part1.jpg'}\n",
      "{'license': 1, 'file_name': 'P1542_1_0.0_3488.0_0part2.jpg', 'coco_url': 'xxx', 'height': 511, 'width': 512, 'date_captured': '2019-06-25', 'flickr_url': 'xxx', 'id': 324, 'filename': 'P1542_1_0.0_3488.0_0part2.jpg'}\n",
      "{'license': 1, 'file_name': 'P1542_1_3488.0_3488.0_0part3.jpg', 'coco_url': 'xxx', 'height': 511, 'width': 511, 'date_captured': '2019-06-25', 'flickr_url': 'xxx', 'id': 325, 'filename': 'P1542_1_3488.0_3488.0_0part3.jpg'}\n",
      "{'license': 1, 'file_name': 'P1542_1_0.0_0.0_0part4.jpg', 'coco_url': 'xxx', 'height': 511, 'width': 511, 'date_captured': '2019-06-25', 'flickr_url': 'xxx', 'id': 326, 'filename': 'P1542_1_0.0_0.0_0part4.jpg'}\n",
      "{'license': 1, 'file_name': 'P1542_1_0.0_416.0_0part5.jpg', 'coco_url': 'xxx', 'height': 511, 'width': 511, 'date_captured': '2019-06-25', 'flickr_url': 'xxx', 'id': 327, 'filename': 'P1542_1_0.0_416.0_0part5.jpg'}\n",
      "{'license': 1, 'file_name': 'P1542_1_0.0_832.0_0part6.jpg', 'coco_url': 'xxx', 'height': 511, 'width': 511, 'date_captured': '2019-06-25', 'flickr_url': 'xxx', 'id': 328, 'filename': 'P1542_1_0.0_832.0_0part6.jpg'}\n",
      "{'license': 1, 'file_name': 'P1542_1_0.0_1248.0_0part7.jpg', 'coco_url': 'xxx', 'height': 511, 'width': 511, 'date_captured': '2019-06-25', 'flickr_url': 'xxx', 'id': 329, 'filename': 'P1542_1_0.0_1248.0_0part7.jpg'}\n",
      "{'license': 1, 'file_name': 'P1542_1_0.0_1664.0_0part8.jpg', 'coco_url': 'xxx', 'height': 511, 'width': 511, 'date_captured': '2019-06-25', 'flickr_url': 'xxx', 'id': 330, 'filename': 'P1542_1_0.0_1664.0_0part8.jpg'}\n",
      "{'license': 1, 'file_name': 'P1542_1_0.0_2080.0_0part9.jpg', 'coco_url': 'xxx', 'height': 511, 'width': 511, 'date_captured': '2019-06-25', 'flickr_url': 'xxx', 'id': 331, 'filename': 'P1542_1_0.0_2080.0_0part9.jpg'}\n",
      "{'license': 1, 'file_name': 'P1542_1_0.0_2496.0_0part10.jpg', 'coco_url': 'xxx', 'height': 511, 'width': 511, 'date_captured': '2019-06-25', 'flickr_url': 'xxx', 'id': 332, 'filename': 'P1542_1_0.0_2496.0_0part10.jpg'}\n",
      "{'license': 1, 'file_name': 'P1542_1_0.0_2912.0_0part11.jpg', 'coco_url': 'xxx', 'height': 511, 'width': 511, 'date_captured': '2019-06-25', 'flickr_url': 'xxx', 'id': 333, 'filename': 'P1542_1_0.0_2912.0_0part11.jpg'}\n",
      "{'license': 1, 'file_name': 'P1542_1_0.0_3328.0_0part12.jpg', 'coco_url': 'xxx', 'height': 511, 'width': 511, 'date_captured': '2019-06-25', 'flickr_url': 'xxx', 'id': 334, 'filename': 'P1542_1_0.0_3328.0_0part12.jpg'}\n"
     ]
    },
    {
     "name": "stdout",
     "output_type": "stream",
     "text": [
      "{'license': 1, 'file_name': 'P1542_1_416.0_0.0_0part13.jpg', 'coco_url': 'xxx', 'height': 511, 'width': 511, 'date_captured': '2019-06-25', 'flickr_url': 'xxx', 'id': 335, 'filename': 'P1542_1_416.0_0.0_0part13.jpg'}\n",
      "{'license': 1, 'file_name': 'P1542_1_416.0_416.0_0part14.jpg', 'coco_url': 'xxx', 'height': 511, 'width': 511, 'date_captured': '2019-06-25', 'flickr_url': 'xxx', 'id': 336, 'filename': 'P1542_1_416.0_416.0_0part14.jpg'}\n",
      "{'license': 1, 'file_name': 'P1542_1_416.0_832.0_0part15.jpg', 'coco_url': 'xxx', 'height': 511, 'width': 511, 'date_captured': '2019-06-25', 'flickr_url': 'xxx', 'id': 337, 'filename': 'P1542_1_416.0_832.0_0part15.jpg'}\n",
      "{'license': 1, 'file_name': 'P1542_1_416.0_1248.0_0part16.jpg', 'coco_url': 'xxx', 'height': 511, 'width': 511, 'date_captured': '2019-06-25', 'flickr_url': 'xxx', 'id': 338, 'filename': 'P1542_1_416.0_1248.0_0part16.jpg'}\n",
      "{'license': 1, 'file_name': 'P1542_1_416.0_1664.0_0part17.jpg', 'coco_url': 'xxx', 'height': 511, 'width': 511, 'date_captured': '2019-06-25', 'flickr_url': 'xxx', 'id': 339, 'filename': 'P1542_1_416.0_1664.0_0part17.jpg'}\n",
      "{'license': 1, 'file_name': 'P1542_1_416.0_2080.0_0part18.jpg', 'coco_url': 'xxx', 'height': 511, 'width': 511, 'date_captured': '2019-06-25', 'flickr_url': 'xxx', 'id': 340, 'filename': 'P1542_1_416.0_2080.0_0part18.jpg'}\n",
      "{'license': 1, 'file_name': 'P1542_1_416.0_2496.0_0part19.jpg', 'coco_url': 'xxx', 'height': 511, 'width': 511, 'date_captured': '2019-06-25', 'flickr_url': 'xxx', 'id': 341, 'filename': 'P1542_1_416.0_2496.0_0part19.jpg'}\n",
      "{'license': 1, 'file_name': 'P1542_1_416.0_2912.0_0part20.jpg', 'coco_url': 'xxx', 'height': 511, 'width': 511, 'date_captured': '2019-06-25', 'flickr_url': 'xxx', 'id': 342, 'filename': 'P1542_1_416.0_2912.0_0part20.jpg'}\n",
      "{'license': 1, 'file_name': 'P1542_1_416.0_3328.0_0part21.jpg', 'coco_url': 'xxx', 'height': 511, 'width': 511, 'date_captured': '2019-06-25', 'flickr_url': 'xxx', 'id': 343, 'filename': 'P1542_1_416.0_3328.0_0part21.jpg'}\n",
      "{'license': 1, 'file_name': 'P1542_1_832.0_0.0_0part22.jpg', 'coco_url': 'xxx', 'height': 511, 'width': 511, 'date_captured': '2019-06-25', 'flickr_url': 'xxx', 'id': 344, 'filename': 'P1542_1_832.0_0.0_0part22.jpg'}\n",
      "{'license': 1, 'file_name': 'P1542_1_832.0_416.0_0part23.jpg', 'coco_url': 'xxx', 'height': 511, 'width': 511, 'date_captured': '2019-06-25', 'flickr_url': 'xxx', 'id': 345, 'filename': 'P1542_1_832.0_416.0_0part23.jpg'}\n",
      "{'license': 1, 'file_name': 'P1542_1_832.0_832.0_0part24.jpg', 'coco_url': 'xxx', 'height': 511, 'width': 511, 'date_captured': '2019-06-25', 'flickr_url': 'xxx', 'id': 346, 'filename': 'P1542_1_832.0_832.0_0part24.jpg'}\n",
      "{'license': 1, 'file_name': 'P1542_1_832.0_1248.0_0part25.jpg', 'coco_url': 'xxx', 'height': 511, 'width': 511, 'date_captured': '2019-06-25', 'flickr_url': 'xxx', 'id': 347, 'filename': 'P1542_1_832.0_1248.0_0part25.jpg'}\n",
      "{'license': 1, 'file_name': 'P1542_1_832.0_1664.0_0part26.jpg', 'coco_url': 'xxx', 'height': 511, 'width': 511, 'date_captured': '2019-06-25', 'flickr_url': 'xxx', 'id': 348, 'filename': 'P1542_1_832.0_1664.0_0part26.jpg'}\n",
      "{'license': 1, 'file_name': 'P1542_1_832.0_2080.0_0part27.jpg', 'coco_url': 'xxx', 'height': 511, 'width': 511, 'date_captured': '2019-06-25', 'flickr_url': 'xxx', 'id': 349, 'filename': 'P1542_1_832.0_2080.0_0part27.jpg'}\n",
      "{'license': 1, 'file_name': 'P1542_1_832.0_2496.0_0part28.jpg', 'coco_url': 'xxx', 'height': 511, 'width': 511, 'date_captured': '2019-06-25', 'flickr_url': 'xxx', 'id': 350, 'filename': 'P1542_1_832.0_2496.0_0part28.jpg'}\n",
      "{'license': 1, 'file_name': 'P1542_1_832.0_2912.0_0part29.jpg', 'coco_url': 'xxx', 'height': 511, 'width': 511, 'date_captured': '2019-06-25', 'flickr_url': 'xxx', 'id': 351, 'filename': 'P1542_1_832.0_2912.0_0part29.jpg'}\n",
      "{'license': 1, 'file_name': 'P1542_1_832.0_3328.0_0part30.jpg', 'coco_url': 'xxx', 'height': 511, 'width': 511, 'date_captured': '2019-06-25', 'flickr_url': 'xxx', 'id': 352, 'filename': 'P1542_1_832.0_3328.0_0part30.jpg'}\n",
      "{'license': 1, 'file_name': 'P1542_1_1248.0_0.0_0part31.jpg', 'coco_url': 'xxx', 'height': 511, 'width': 511, 'date_captured': '2019-06-25', 'flickr_url': 'xxx', 'id': 353, 'filename': 'P1542_1_1248.0_0.0_0part31.jpg'}\n",
      "{'license': 1, 'file_name': 'P1542_1_1248.0_416.0_0part32.jpg', 'coco_url': 'xxx', 'height': 511, 'width': 511, 'date_captured': '2019-06-25', 'flickr_url': 'xxx', 'id': 354, 'filename': 'P1542_1_1248.0_416.0_0part32.jpg'}\n",
      "{'license': 1, 'file_name': 'P1542_1_1248.0_832.0_0part33.jpg', 'coco_url': 'xxx', 'height': 511, 'width': 511, 'date_captured': '2019-06-25', 'flickr_url': 'xxx', 'id': 355, 'filename': 'P1542_1_1248.0_832.0_0part33.jpg'}\n",
      "{'license': 1, 'file_name': 'P1542_1_1248.0_1248.0_0part34.jpg', 'coco_url': 'xxx', 'height': 511, 'width': 511, 'date_captured': '2019-06-25', 'flickr_url': 'xxx', 'id': 356, 'filename': 'P1542_1_1248.0_1248.0_0part34.jpg'}\n",
      "{'license': 1, 'file_name': 'P1542_1_1248.0_1664.0_0part35.jpg', 'coco_url': 'xxx', 'height': 511, 'width': 511, 'date_captured': '2019-06-25', 'flickr_url': 'xxx', 'id': 357, 'filename': 'P1542_1_1248.0_1664.0_0part35.jpg'}\n",
      "{'license': 1, 'file_name': 'P1542_1_1248.0_2080.0_0part36.jpg', 'coco_url': 'xxx', 'height': 511, 'width': 511, 'date_captured': '2019-06-25', 'flickr_url': 'xxx', 'id': 358, 'filename': 'P1542_1_1248.0_2080.0_0part36.jpg'}\n",
      "{'license': 1, 'file_name': 'P1542_1_1248.0_2496.0_0part37.jpg', 'coco_url': 'xxx', 'height': 511, 'width': 511, 'date_captured': '2019-06-25', 'flickr_url': 'xxx', 'id': 359, 'filename': 'P1542_1_1248.0_2496.0_0part37.jpg'}\n",
      "{'license': 1, 'file_name': 'P1542_1_1248.0_2912.0_0part38.jpg', 'coco_url': 'xxx', 'height': 511, 'width': 511, 'date_captured': '2019-06-25', 'flickr_url': 'xxx', 'id': 360, 'filename': 'P1542_1_1248.0_2912.0_0part38.jpg'}\n",
      "{'license': 1, 'file_name': 'P1542_1_1248.0_3328.0_0part39.jpg', 'coco_url': 'xxx', 'height': 511, 'width': 511, 'date_captured': '2019-06-25', 'flickr_url': 'xxx', 'id': 361, 'filename': 'P1542_1_1248.0_3328.0_0part39.jpg'}\n",
      "{'license': 1, 'file_name': 'P1542_1_1664.0_0.0_0part40.jpg', 'coco_url': 'xxx', 'height': 511, 'width': 511, 'date_captured': '2019-06-25', 'flickr_url': 'xxx', 'id': 362, 'filename': 'P1542_1_1664.0_0.0_0part40.jpg'}\n",
      "{'license': 1, 'file_name': 'P1542_1_1664.0_416.0_0part41.jpg', 'coco_url': 'xxx', 'height': 511, 'width': 511, 'date_captured': '2019-06-25', 'flickr_url': 'xxx', 'id': 363, 'filename': 'P1542_1_1664.0_416.0_0part41.jpg'}\n",
      "{'license': 1, 'file_name': 'P1542_1_1664.0_832.0_0part42.jpg', 'coco_url': 'xxx', 'height': 511, 'width': 511, 'date_captured': '2019-06-25', 'flickr_url': 'xxx', 'id': 364, 'filename': 'P1542_1_1664.0_832.0_0part42.jpg'}\n",
      "{'license': 1, 'file_name': 'P1542_1_1664.0_1248.0_0part43.jpg', 'coco_url': 'xxx', 'height': 511, 'width': 511, 'date_captured': '2019-06-25', 'flickr_url': 'xxx', 'id': 365, 'filename': 'P1542_1_1664.0_1248.0_0part43.jpg'}\n",
      "{'license': 1, 'file_name': 'P1542_1_1664.0_1664.0_0part44.jpg', 'coco_url': 'xxx', 'height': 511, 'width': 511, 'date_captured': '2019-06-25', 'flickr_url': 'xxx', 'id': 366, 'filename': 'P1542_1_1664.0_1664.0_0part44.jpg'}\n",
      "{'license': 1, 'file_name': 'P1542_1_1664.0_2080.0_0part45.jpg', 'coco_url': 'xxx', 'height': 511, 'width': 511, 'date_captured': '2019-06-25', 'flickr_url': 'xxx', 'id': 367, 'filename': 'P1542_1_1664.0_2080.0_0part45.jpg'}\n",
      "{'license': 1, 'file_name': 'P1542_1_1664.0_2496.0_0part46.jpg', 'coco_url': 'xxx', 'height': 511, 'width': 511, 'date_captured': '2019-06-25', 'flickr_url': 'xxx', 'id': 368, 'filename': 'P1542_1_1664.0_2496.0_0part46.jpg'}\n",
      "{'license': 1, 'file_name': 'P1542_1_1664.0_2912.0_0part47.jpg', 'coco_url': 'xxx', 'height': 511, 'width': 511, 'date_captured': '2019-06-25', 'flickr_url': 'xxx', 'id': 369, 'filename': 'P1542_1_1664.0_2912.0_0part47.jpg'}\n",
      "{'license': 1, 'file_name': 'P1542_1_1664.0_3328.0_0part48.jpg', 'coco_url': 'xxx', 'height': 511, 'width': 511, 'date_captured': '2019-06-25', 'flickr_url': 'xxx', 'id': 370, 'filename': 'P1542_1_1664.0_3328.0_0part48.jpg'}\n",
      "{'license': 1, 'file_name': 'P1542_1_2080.0_0.0_0part49.jpg', 'coco_url': 'xxx', 'height': 511, 'width': 511, 'date_captured': '2019-06-25', 'flickr_url': 'xxx', 'id': 371, 'filename': 'P1542_1_2080.0_0.0_0part49.jpg'}\n",
      "{'license': 1, 'file_name': 'P1542_1_2080.0_416.0_0part50.jpg', 'coco_url': 'xxx', 'height': 511, 'width': 511, 'date_captured': '2019-06-25', 'flickr_url': 'xxx', 'id': 372, 'filename': 'P1542_1_2080.0_416.0_0part50.jpg'}\n",
      "{'license': 1, 'file_name': 'P1542_1_2080.0_832.0_0part51.jpg', 'coco_url': 'xxx', 'height': 511, 'width': 511, 'date_captured': '2019-06-25', 'flickr_url': 'xxx', 'id': 373, 'filename': 'P1542_1_2080.0_832.0_0part51.jpg'}\n",
      "{'license': 1, 'file_name': 'P1542_1_2080.0_1248.0_0part52.jpg', 'coco_url': 'xxx', 'height': 511, 'width': 511, 'date_captured': '2019-06-25', 'flickr_url': 'xxx', 'id': 374, 'filename': 'P1542_1_2080.0_1248.0_0part52.jpg'}\n",
      "{'license': 1, 'file_name': 'P1542_1_2080.0_1664.0_0part53.jpg', 'coco_url': 'xxx', 'height': 511, 'width': 511, 'date_captured': '2019-06-25', 'flickr_url': 'xxx', 'id': 375, 'filename': 'P1542_1_2080.0_1664.0_0part53.jpg'}\n",
      "{'license': 1, 'file_name': 'P1542_1_2080.0_2080.0_0part54.jpg', 'coco_url': 'xxx', 'height': 511, 'width': 511, 'date_captured': '2019-06-25', 'flickr_url': 'xxx', 'id': 376, 'filename': 'P1542_1_2080.0_2080.0_0part54.jpg'}\n",
      "{'license': 1, 'file_name': 'P1542_1_2080.0_2496.0_0part55.jpg', 'coco_url': 'xxx', 'height': 511, 'width': 511, 'date_captured': '2019-06-25', 'flickr_url': 'xxx', 'id': 377, 'filename': 'P1542_1_2080.0_2496.0_0part55.jpg'}\n",
      "{'license': 1, 'file_name': 'P1542_1_2080.0_2912.0_0part56.jpg', 'coco_url': 'xxx', 'height': 511, 'width': 511, 'date_captured': '2019-06-25', 'flickr_url': 'xxx', 'id': 378, 'filename': 'P1542_1_2080.0_2912.0_0part56.jpg'}\n",
      "{'license': 1, 'file_name': 'P1542_1_2080.0_3328.0_0part57.jpg', 'coco_url': 'xxx', 'height': 511, 'width': 511, 'date_captured': '2019-06-25', 'flickr_url': 'xxx', 'id': 379, 'filename': 'P1542_1_2080.0_3328.0_0part57.jpg'}\n",
      "{'license': 1, 'file_name': 'P1542_1_2496.0_0.0_0part58.jpg', 'coco_url': 'xxx', 'height': 511, 'width': 511, 'date_captured': '2019-06-25', 'flickr_url': 'xxx', 'id': 380, 'filename': 'P1542_1_2496.0_0.0_0part58.jpg'}\n",
      "{'license': 1, 'file_name': 'P1542_1_2496.0_416.0_0part59.jpg', 'coco_url': 'xxx', 'height': 511, 'width': 511, 'date_captured': '2019-06-25', 'flickr_url': 'xxx', 'id': 381, 'filename': 'P1542_1_2496.0_416.0_0part59.jpg'}\n",
      "{'license': 1, 'file_name': 'P1542_1_2496.0_832.0_0part60.jpg', 'coco_url': 'xxx', 'height': 511, 'width': 511, 'date_captured': '2019-06-25', 'flickr_url': 'xxx', 'id': 382, 'filename': 'P1542_1_2496.0_832.0_0part60.jpg'}\n",
      "{'license': 1, 'file_name': 'P1542_1_2496.0_1248.0_0part61.jpg', 'coco_url': 'xxx', 'height': 511, 'width': 511, 'date_captured': '2019-06-25', 'flickr_url': 'xxx', 'id': 383, 'filename': 'P1542_1_2496.0_1248.0_0part61.jpg'}\n",
      "{'license': 1, 'file_name': 'P1542_1_2496.0_1664.0_0part62.jpg', 'coco_url': 'xxx', 'height': 511, 'width': 511, 'date_captured': '2019-06-25', 'flickr_url': 'xxx', 'id': 384, 'filename': 'P1542_1_2496.0_1664.0_0part62.jpg'}\n",
      "{'license': 1, 'file_name': 'P1542_1_2496.0_2080.0_0part63.jpg', 'coco_url': 'xxx', 'height': 511, 'width': 511, 'date_captured': '2019-06-25', 'flickr_url': 'xxx', 'id': 385, 'filename': 'P1542_1_2496.0_2080.0_0part63.jpg'}\n",
      "{'license': 1, 'file_name': 'P1542_1_2496.0_2496.0_0part64.jpg', 'coco_url': 'xxx', 'height': 511, 'width': 511, 'date_captured': '2019-06-25', 'flickr_url': 'xxx', 'id': 386, 'filename': 'P1542_1_2496.0_2496.0_0part64.jpg'}\n",
      "{'license': 1, 'file_name': 'P1542_1_2496.0_2912.0_0part65.jpg', 'coco_url': 'xxx', 'height': 511, 'width': 511, 'date_captured': '2019-06-25', 'flickr_url': 'xxx', 'id': 387, 'filename': 'P1542_1_2496.0_2912.0_0part65.jpg'}\n",
      "{'license': 1, 'file_name': 'P1542_1_2496.0_3328.0_0part66.jpg', 'coco_url': 'xxx', 'height': 511, 'width': 511, 'date_captured': '2019-06-25', 'flickr_url': 'xxx', 'id': 388, 'filename': 'P1542_1_2496.0_3328.0_0part66.jpg'}\n",
      "{'license': 1, 'file_name': 'P1542_1_2912.0_0.0_0part67.jpg', 'coco_url': 'xxx', 'height': 511, 'width': 511, 'date_captured': '2019-06-25', 'flickr_url': 'xxx', 'id': 389, 'filename': 'P1542_1_2912.0_0.0_0part67.jpg'}\n",
      "{'license': 1, 'file_name': 'P1542_1_2912.0_416.0_0part68.jpg', 'coco_url': 'xxx', 'height': 511, 'width': 511, 'date_captured': '2019-06-25', 'flickr_url': 'xxx', 'id': 390, 'filename': 'P1542_1_2912.0_416.0_0part68.jpg'}\n",
      "{'license': 1, 'file_name': 'P1542_1_2912.0_832.0_0part69.jpg', 'coco_url': 'xxx', 'height': 511, 'width': 511, 'date_captured': '2019-06-25', 'flickr_url': 'xxx', 'id': 391, 'filename': 'P1542_1_2912.0_832.0_0part69.jpg'}\n",
      "{'license': 1, 'file_name': 'P1542_1_2912.0_1248.0_0part70.jpg', 'coco_url': 'xxx', 'height': 511, 'width': 511, 'date_captured': '2019-06-25', 'flickr_url': 'xxx', 'id': 392, 'filename': 'P1542_1_2912.0_1248.0_0part70.jpg'}\n",
      "{'license': 1, 'file_name': 'P1542_1_2912.0_1664.0_0part71.jpg', 'coco_url': 'xxx', 'height': 511, 'width': 511, 'date_captured': '2019-06-25', 'flickr_url': 'xxx', 'id': 393, 'filename': 'P1542_1_2912.0_1664.0_0part71.jpg'}\n",
      "{'license': 1, 'file_name': 'P1542_1_2912.0_2080.0_0part72.jpg', 'coco_url': 'xxx', 'height': 511, 'width': 511, 'date_captured': '2019-06-25', 'flickr_url': 'xxx', 'id': 394, 'filename': 'P1542_1_2912.0_2080.0_0part72.jpg'}\n",
      "{'license': 1, 'file_name': 'P1542_1_2912.0_2496.0_0part73.jpg', 'coco_url': 'xxx', 'height': 511, 'width': 511, 'date_captured': '2019-06-25', 'flickr_url': 'xxx', 'id': 395, 'filename': 'P1542_1_2912.0_2496.0_0part73.jpg'}\n",
      "{'license': 1, 'file_name': 'P1542_1_2912.0_2912.0_0part74.jpg', 'coco_url': 'xxx', 'height': 511, 'width': 511, 'date_captured': '2019-06-25', 'flickr_url': 'xxx', 'id': 396, 'filename': 'P1542_1_2912.0_2912.0_0part74.jpg'}\n",
      "{'license': 1, 'file_name': 'P1542_1_2912.0_3328.0_0part75.jpg', 'coco_url': 'xxx', 'height': 511, 'width': 511, 'date_captured': '2019-06-25', 'flickr_url': 'xxx', 'id': 397, 'filename': 'P1542_1_2912.0_3328.0_0part75.jpg'}\n",
      "{'license': 1, 'file_name': 'P1542_1_3328.0_0.0_0part76.jpg', 'coco_url': 'xxx', 'height': 511, 'width': 511, 'date_captured': '2019-06-25', 'flickr_url': 'xxx', 'id': 398, 'filename': 'P1542_1_3328.0_0.0_0part76.jpg'}\n",
      "{'license': 1, 'file_name': 'P1542_1_3328.0_416.0_0part77.jpg', 'coco_url': 'xxx', 'height': 511, 'width': 511, 'date_captured': '2019-06-25', 'flickr_url': 'xxx', 'id': 399, 'filename': 'P1542_1_3328.0_416.0_0part77.jpg'}\n",
      "{'license': 1, 'file_name': 'P1542_1_3328.0_832.0_0part78.jpg', 'coco_url': 'xxx', 'height': 511, 'width': 511, 'date_captured': '2019-06-25', 'flickr_url': 'xxx', 'id': 400, 'filename': 'P1542_1_3328.0_832.0_0part78.jpg'}\n",
      "{'license': 1, 'file_name': 'P1542_1_3328.0_1248.0_0part79.jpg', 'coco_url': 'xxx', 'height': 511, 'width': 511, 'date_captured': '2019-06-25', 'flickr_url': 'xxx', 'id': 401, 'filename': 'P1542_1_3328.0_1248.0_0part79.jpg'}\n",
      "{'license': 1, 'file_name': 'P1542_1_3328.0_1664.0_0part80.jpg', 'coco_url': 'xxx', 'height': 511, 'width': 511, 'date_captured': '2019-06-25', 'flickr_url': 'xxx', 'id': 402, 'filename': 'P1542_1_3328.0_1664.0_0part80.jpg'}\n",
      "{'license': 1, 'file_name': 'P1542_1_3328.0_2080.0_0part81.jpg', 'coco_url': 'xxx', 'height': 511, 'width': 511, 'date_captured': '2019-06-25', 'flickr_url': 'xxx', 'id': 403, 'filename': 'P1542_1_3328.0_2080.0_0part81.jpg'}\n",
      "{'license': 1, 'file_name': 'P1542_1_3328.0_2496.0_0part82.jpg', 'coco_url': 'xxx', 'height': 511, 'width': 511, 'date_captured': '2019-06-25', 'flickr_url': 'xxx', 'id': 404, 'filename': 'P1542_1_3328.0_2496.0_0part82.jpg'}\n",
      "{'license': 1, 'file_name': 'P1542_1_3328.0_2912.0_0part83.jpg', 'coco_url': 'xxx', 'height': 511, 'width': 511, 'date_captured': '2019-06-25', 'flickr_url': 'xxx', 'id': 405, 'filename': 'P1542_1_3328.0_2912.0_0part83.jpg'}\n",
      "{'license': 1, 'file_name': 'P1542_1_3328.0_3328.0_0part84.jpg', 'coco_url': 'xxx', 'height': 511, 'width': 511, 'date_captured': '2019-06-25', 'flickr_url': 'xxx', 'id': 406, 'filename': 'P1542_1_3328.0_3328.0_0part84.jpg'}\n",
      "{'license': 1, 'file_name': 'P1542_1_3487.0_0.0_0part85.jpg', 'coco_url': 'xxx', 'height': 511, 'width': 512, 'date_captured': '2019-06-25', 'flickr_url': 'xxx', 'id': 407, 'filename': 'P1542_1_3487.0_0.0_0part85.jpg'}\n",
      "{'license': 1, 'file_name': 'P1542_1_3487.0_416.0_0part86.jpg', 'coco_url': 'xxx', 'height': 511, 'width': 512, 'date_captured': '2019-06-25', 'flickr_url': 'xxx', 'id': 408, 'filename': 'P1542_1_3487.0_416.0_0part86.jpg'}\n",
      "{'license': 1, 'file_name': 'P1542_1_3487.0_832.0_0part87.jpg', 'coco_url': 'xxx', 'height': 511, 'width': 512, 'date_captured': '2019-06-25', 'flickr_url': 'xxx', 'id': 409, 'filename': 'P1542_1_3487.0_832.0_0part87.jpg'}\n",
      "{'license': 1, 'file_name': 'P1542_1_3487.0_1248.0_0part88.jpg', 'coco_url': 'xxx', 'height': 511, 'width': 512, 'date_captured': '2019-06-25', 'flickr_url': 'xxx', 'id': 410, 'filename': 'P1542_1_3487.0_1248.0_0part88.jpg'}\n",
      "{'license': 1, 'file_name': 'P1542_1_3487.0_1664.0_0part89.jpg', 'coco_url': 'xxx', 'height': 511, 'width': 512, 'date_captured': '2019-06-25', 'flickr_url': 'xxx', 'id': 411, 'filename': 'P1542_1_3487.0_1664.0_0part89.jpg'}\n",
      "{'license': 1, 'file_name': 'P1542_1_3487.0_2080.0_0part90.jpg', 'coco_url': 'xxx', 'height': 511, 'width': 512, 'date_captured': '2019-06-25', 'flickr_url': 'xxx', 'id': 412, 'filename': 'P1542_1_3487.0_2080.0_0part90.jpg'}\n"
     ]
    },
    {
     "name": "stdout",
     "output_type": "stream",
     "text": [
      "{'license': 1, 'file_name': 'P1542_1_3487.0_2496.0_0part91.jpg', 'coco_url': 'xxx', 'height': 511, 'width': 512, 'date_captured': '2019-06-25', 'flickr_url': 'xxx', 'id': 413, 'filename': 'P1542_1_3487.0_2496.0_0part91.jpg'}\n",
      "{'license': 1, 'file_name': 'P1542_1_3487.0_2912.0_0part92.jpg', 'coco_url': 'xxx', 'height': 511, 'width': 512, 'date_captured': '2019-06-25', 'flickr_url': 'xxx', 'id': 414, 'filename': 'P1542_1_3487.0_2912.0_0part92.jpg'}\n",
      "{'license': 1, 'file_name': 'P1542_1_3487.0_3328.0_0part93.jpg', 'coco_url': 'xxx', 'height': 511, 'width': 512, 'date_captured': '2019-06-25', 'flickr_url': 'xxx', 'id': 415, 'filename': 'P1542_1_3487.0_3328.0_0part93.jpg'}\n",
      "{'license': 1, 'file_name': 'P1542_1_0.0_3487.0_0part94.jpg', 'coco_url': 'xxx', 'height': 512, 'width': 511, 'date_captured': '2019-06-25', 'flickr_url': 'xxx', 'id': 416, 'filename': 'P1542_1_0.0_3487.0_0part94.jpg'}\n",
      "{'license': 1, 'file_name': 'P1542_1_416.0_3487.0_0part95.jpg', 'coco_url': 'xxx', 'height': 512, 'width': 511, 'date_captured': '2019-06-25', 'flickr_url': 'xxx', 'id': 417, 'filename': 'P1542_1_416.0_3487.0_0part95.jpg'}\n",
      "{'license': 1, 'file_name': 'P1542_1_832.0_3487.0_0part96.jpg', 'coco_url': 'xxx', 'height': 512, 'width': 511, 'date_captured': '2019-06-25', 'flickr_url': 'xxx', 'id': 418, 'filename': 'P1542_1_832.0_3487.0_0part96.jpg'}\n",
      "{'license': 1, 'file_name': 'P1542_1_1248.0_3487.0_0part97.jpg', 'coco_url': 'xxx', 'height': 512, 'width': 511, 'date_captured': '2019-06-25', 'flickr_url': 'xxx', 'id': 419, 'filename': 'P1542_1_1248.0_3487.0_0part97.jpg'}\n",
      "{'license': 1, 'file_name': 'P1542_1_1664.0_3487.0_0part98.jpg', 'coco_url': 'xxx', 'height': 512, 'width': 511, 'date_captured': '2019-06-25', 'flickr_url': 'xxx', 'id': 420, 'filename': 'P1542_1_1664.0_3487.0_0part98.jpg'}\n",
      "{'license': 1, 'file_name': 'P1542_1_2080.0_3487.0_0part99.jpg', 'coco_url': 'xxx', 'height': 512, 'width': 511, 'date_captured': '2019-06-25', 'flickr_url': 'xxx', 'id': 421, 'filename': 'P1542_1_2080.0_3487.0_0part99.jpg'}\n",
      "{'license': 1, 'file_name': 'P1542_1_2496.0_3487.0_0part100.jpg', 'coco_url': 'xxx', 'height': 512, 'width': 511, 'date_captured': '2019-06-25', 'flickr_url': 'xxx', 'id': 422, 'filename': 'P1542_1_2496.0_3487.0_0part100.jpg'}\n",
      "{'license': 1, 'file_name': 'P1542_1_2912.0_3487.0_0part101.jpg', 'coco_url': 'xxx', 'height': 512, 'width': 511, 'date_captured': '2019-06-25', 'flickr_url': 'xxx', 'id': 423, 'filename': 'P1542_1_2912.0_3487.0_0part101.jpg'}\n",
      "{'license': 1, 'file_name': 'P1542_1_3328.0_3487.0_0part102.jpg', 'coco_url': 'xxx', 'height': 512, 'width': 511, 'date_captured': '2019-06-25', 'flickr_url': 'xxx', 'id': 424, 'filename': 'P1542_1_3328.0_3487.0_0part102.jpg'}\n",
      "{'license': 1, 'file_name': 'P6582_0.5_0_0_0part0.jpg', 'coco_url': 'xxx', 'height': 512, 'width': 512, 'date_captured': '2019-06-25', 'flickr_url': 'xxx', 'id': 425, 'filename': 'P6582_0.5_0_0_0part0.jpg'}\n",
      "{'license': 1, 'file_name': 'P6582_1_512.0_0.0_0part1.jpg', 'coco_url': 'xxx', 'height': 512, 'width': 511, 'date_captured': '2019-06-25', 'flickr_url': 'xxx', 'id': 426, 'filename': 'P6582_1_512.0_0.0_0part1.jpg'}\n",
      "{'license': 1, 'file_name': 'P6582_1_0.0_512.0_0part2.jpg', 'coco_url': 'xxx', 'height': 511, 'width': 512, 'date_captured': '2019-06-25', 'flickr_url': 'xxx', 'id': 427, 'filename': 'P6582_1_0.0_512.0_0part2.jpg'}\n",
      "{'license': 1, 'file_name': 'P6582_1_512.0_512.0_0part3.jpg', 'coco_url': 'xxx', 'height': 511, 'width': 511, 'date_captured': '2019-06-25', 'flickr_url': 'xxx', 'id': 428, 'filename': 'P6582_1_512.0_512.0_0part3.jpg'}\n",
      "{'license': 1, 'file_name': 'P6582_1_0.0_0.0_0part4.jpg', 'coco_url': 'xxx', 'height': 511, 'width': 511, 'date_captured': '2019-06-25', 'flickr_url': 'xxx', 'id': 429, 'filename': 'P6582_1_0.0_0.0_0part4.jpg'}\n",
      "{'license': 1, 'file_name': 'P6582_1_0.0_416.0_0part5.jpg', 'coco_url': 'xxx', 'height': 511, 'width': 511, 'date_captured': '2019-06-25', 'flickr_url': 'xxx', 'id': 430, 'filename': 'P6582_1_0.0_416.0_0part5.jpg'}\n",
      "{'license': 1, 'file_name': 'P6582_1_416.0_0.0_0part6.jpg', 'coco_url': 'xxx', 'height': 511, 'width': 511, 'date_captured': '2019-06-25', 'flickr_url': 'xxx', 'id': 431, 'filename': 'P6582_1_416.0_0.0_0part6.jpg'}\n",
      "{'license': 1, 'file_name': 'P6582_1_416.0_416.0_0part7.jpg', 'coco_url': 'xxx', 'height': 511, 'width': 511, 'date_captured': '2019-06-25', 'flickr_url': 'xxx', 'id': 432, 'filename': 'P6582_1_416.0_416.0_0part7.jpg'}\n",
      "{'license': 1, 'file_name': 'P6582_1_511.0_0.0_0part8.jpg', 'coco_url': 'xxx', 'height': 511, 'width': 512, 'date_captured': '2019-06-25', 'flickr_url': 'xxx', 'id': 433, 'filename': 'P6582_1_511.0_0.0_0part8.jpg'}\n",
      "{'license': 1, 'file_name': 'P6582_1_511.0_416.0_0part9.jpg', 'coco_url': 'xxx', 'height': 511, 'width': 512, 'date_captured': '2019-06-25', 'flickr_url': 'xxx', 'id': 434, 'filename': 'P6582_1_511.0_416.0_0part9.jpg'}\n",
      "{'license': 1, 'file_name': 'P6582_1_0.0_511.0_0part10.jpg', 'coco_url': 'xxx', 'height': 512, 'width': 511, 'date_captured': '2019-06-25', 'flickr_url': 'xxx', 'id': 435, 'filename': 'P6582_1_0.0_511.0_0part10.jpg'}\n",
      "{'license': 1, 'file_name': 'P6582_1_416.0_511.0_0part11.jpg', 'coco_url': 'xxx', 'height': 512, 'width': 511, 'date_captured': '2019-06-25', 'flickr_url': 'xxx', 'id': 436, 'filename': 'P6582_1_416.0_511.0_0part11.jpg'}\n",
      "{'license': 1, 'file_name': 'P4037_0.5_0_0_0part0.jpg', 'coco_url': 'xxx', 'height': 512, 'width': 512, 'date_captured': '2019-06-25', 'flickr_url': 'xxx', 'id': 437, 'filename': 'P4037_0.5_0_0_0part0.jpg'}\n",
      "{'license': 1, 'file_name': 'P4037_1_512.0_0.0_0part1.jpg', 'coco_url': 'xxx', 'height': 512, 'width': 511, 'date_captured': '2019-06-25', 'flickr_url': 'xxx', 'id': 438, 'filename': 'P4037_1_512.0_0.0_0part1.jpg'}\n",
      "{'license': 1, 'file_name': 'P4037_1_0.0_512.0_0part2.jpg', 'coco_url': 'xxx', 'height': 511, 'width': 512, 'date_captured': '2019-06-25', 'flickr_url': 'xxx', 'id': 439, 'filename': 'P4037_1_0.0_512.0_0part2.jpg'}\n",
      "{'license': 1, 'file_name': 'P4037_1_512.0_512.0_0part3.jpg', 'coco_url': 'xxx', 'height': 511, 'width': 511, 'date_captured': '2019-06-25', 'flickr_url': 'xxx', 'id': 440, 'filename': 'P4037_1_512.0_512.0_0part3.jpg'}\n",
      "{'license': 1, 'file_name': 'P4037_1_0.0_0.0_0part4.jpg', 'coco_url': 'xxx', 'height': 511, 'width': 511, 'date_captured': '2019-06-25', 'flickr_url': 'xxx', 'id': 441, 'filename': 'P4037_1_0.0_0.0_0part4.jpg'}\n",
      "{'license': 1, 'file_name': 'P4037_1_0.0_416.0_0part5.jpg', 'coco_url': 'xxx', 'height': 511, 'width': 511, 'date_captured': '2019-06-25', 'flickr_url': 'xxx', 'id': 442, 'filename': 'P4037_1_0.0_416.0_0part5.jpg'}\n",
      "{'license': 1, 'file_name': 'P4037_1_416.0_0.0_0part6.jpg', 'coco_url': 'xxx', 'height': 511, 'width': 511, 'date_captured': '2019-06-25', 'flickr_url': 'xxx', 'id': 443, 'filename': 'P4037_1_416.0_0.0_0part6.jpg'}\n",
      "{'license': 1, 'file_name': 'P4037_1_416.0_416.0_0part7.jpg', 'coco_url': 'xxx', 'height': 511, 'width': 511, 'date_captured': '2019-06-25', 'flickr_url': 'xxx', 'id': 444, 'filename': 'P4037_1_416.0_416.0_0part7.jpg'}\n",
      "{'license': 1, 'file_name': 'P4037_1_511.0_0.0_0part8.jpg', 'coco_url': 'xxx', 'height': 511, 'width': 512, 'date_captured': '2019-06-25', 'flickr_url': 'xxx', 'id': 445, 'filename': 'P4037_1_511.0_0.0_0part8.jpg'}\n",
      "{'license': 1, 'file_name': 'P4037_1_511.0_416.0_0part9.jpg', 'coco_url': 'xxx', 'height': 511, 'width': 512, 'date_captured': '2019-06-25', 'flickr_url': 'xxx', 'id': 446, 'filename': 'P4037_1_511.0_416.0_0part9.jpg'}\n",
      "{'license': 1, 'file_name': 'P4037_1_0.0_511.0_0part10.jpg', 'coco_url': 'xxx', 'height': 512, 'width': 511, 'date_captured': '2019-06-25', 'flickr_url': 'xxx', 'id': 447, 'filename': 'P4037_1_0.0_511.0_0part10.jpg'}\n",
      "{'license': 1, 'file_name': 'P4037_1_416.0_511.0_0part11.jpg', 'coco_url': 'xxx', 'height': 512, 'width': 511, 'date_captured': '2019-06-25', 'flickr_url': 'xxx', 'id': 448, 'filename': 'P4037_1_416.0_511.0_0part11.jpg'}\n",
      "{'license': 1, 'file_name': 'P9705_0.5_0_0_0part0.jpg', 'coco_url': 'xxx', 'height': 512, 'width': 512, 'date_captured': '2019-06-25', 'flickr_url': 'xxx', 'id': 449, 'filename': 'P9705_0.5_0_0_0part0.jpg'}\n",
      "{'license': 1, 'file_name': 'P9705_1_512.0_0.0_0part1.jpg', 'coco_url': 'xxx', 'height': 512, 'width': 511, 'date_captured': '2019-06-25', 'flickr_url': 'xxx', 'id': 450, 'filename': 'P9705_1_512.0_0.0_0part1.jpg'}\n",
      "{'license': 1, 'file_name': 'P9705_1_0.0_512.0_0part2.jpg', 'coco_url': 'xxx', 'height': 511, 'width': 512, 'date_captured': '2019-06-25', 'flickr_url': 'xxx', 'id': 451, 'filename': 'P9705_1_0.0_512.0_0part2.jpg'}\n",
      "{'license': 1, 'file_name': 'P9705_1_512.0_512.0_0part3.jpg', 'coco_url': 'xxx', 'height': 511, 'width': 511, 'date_captured': '2019-06-25', 'flickr_url': 'xxx', 'id': 452, 'filename': 'P9705_1_512.0_512.0_0part3.jpg'}\n",
      "{'license': 1, 'file_name': 'P9705_1_0.0_0.0_0part4.jpg', 'coco_url': 'xxx', 'height': 511, 'width': 511, 'date_captured': '2019-06-25', 'flickr_url': 'xxx', 'id': 453, 'filename': 'P9705_1_0.0_0.0_0part4.jpg'}\n",
      "{'license': 1, 'file_name': 'P9705_1_0.0_416.0_0part5.jpg', 'coco_url': 'xxx', 'height': 511, 'width': 511, 'date_captured': '2019-06-25', 'flickr_url': 'xxx', 'id': 454, 'filename': 'P9705_1_0.0_416.0_0part5.jpg'}\n",
      "{'license': 1, 'file_name': 'P9705_1_416.0_0.0_0part6.jpg', 'coco_url': 'xxx', 'height': 511, 'width': 511, 'date_captured': '2019-06-25', 'flickr_url': 'xxx', 'id': 455, 'filename': 'P9705_1_416.0_0.0_0part6.jpg'}\n",
      "{'license': 1, 'file_name': 'P9705_1_416.0_416.0_0part7.jpg', 'coco_url': 'xxx', 'height': 511, 'width': 511, 'date_captured': '2019-06-25', 'flickr_url': 'xxx', 'id': 456, 'filename': 'P9705_1_416.0_416.0_0part7.jpg'}\n",
      "{'license': 1, 'file_name': 'P9705_1_511.0_0.0_0part8.jpg', 'coco_url': 'xxx', 'height': 511, 'width': 512, 'date_captured': '2019-06-25', 'flickr_url': 'xxx', 'id': 457, 'filename': 'P9705_1_511.0_0.0_0part8.jpg'}\n",
      "{'license': 1, 'file_name': 'P9705_1_511.0_416.0_0part9.jpg', 'coco_url': 'xxx', 'height': 511, 'width': 512, 'date_captured': '2019-06-25', 'flickr_url': 'xxx', 'id': 458, 'filename': 'P9705_1_511.0_416.0_0part9.jpg'}\n",
      "{'license': 1, 'file_name': 'P9705_1_0.0_511.0_0part10.jpg', 'coco_url': 'xxx', 'height': 512, 'width': 511, 'date_captured': '2019-06-25', 'flickr_url': 'xxx', 'id': 459, 'filename': 'P9705_1_0.0_511.0_0part10.jpg'}\n",
      "{'license': 1, 'file_name': 'P9705_1_416.0_511.0_0part11.jpg', 'coco_url': 'xxx', 'height': 512, 'width': 511, 'date_captured': '2019-06-25', 'flickr_url': 'xxx', 'id': 460, 'filename': 'P9705_1_416.0_511.0_0part11.jpg'}\n",
      "{'license': 1, 'file_name': 'P0199_0.5_74.0_0.0_0part1.jpg', 'coco_url': 'xxx', 'height': 512, 'width': 511, 'date_captured': '2019-06-25', 'flickr_url': 'xxx', 'id': 461, 'filename': 'P0199_0.5_74.0_0.0_0part1.jpg'}\n",
      "{'license': 1, 'file_name': 'P0199_0.5_0.0_278.0_0part2.jpg', 'coco_url': 'xxx', 'height': 511, 'width': 512, 'date_captured': '2019-06-25', 'flickr_url': 'xxx', 'id': 462, 'filename': 'P0199_0.5_0.0_278.0_0part2.jpg'}\n",
      "{'license': 1, 'file_name': 'P0199_0.5_74.0_278.0_0part3.jpg', 'coco_url': 'xxx', 'height': 511, 'width': 511, 'date_captured': '2019-06-25', 'flickr_url': 'xxx', 'id': 463, 'filename': 'P0199_0.5_74.0_278.0_0part3.jpg'}\n",
      "{'license': 1, 'file_name': 'P0199_0.5_0.0_0.0_0part4.jpg', 'coco_url': 'xxx', 'height': 511, 'width': 511, 'date_captured': '2019-06-25', 'flickr_url': 'xxx', 'id': 464, 'filename': 'P0199_0.5_0.0_0.0_0part4.jpg'}\n"
     ]
    },
    {
     "name": "stdout",
     "output_type": "stream",
     "text": [
      "{'license': 1, 'file_name': 'P0199_0.5_73.0_0.0_0part5.jpg', 'coco_url': 'xxx', 'height': 511, 'width': 512, 'date_captured': '2019-06-25', 'flickr_url': 'xxx', 'id': 465, 'filename': 'P0199_0.5_73.0_0.0_0part5.jpg'}\n",
      "{'license': 1, 'file_name': 'P0199_0.5_0.0_277.0_0part6.jpg', 'coco_url': 'xxx', 'height': 512, 'width': 511, 'date_captured': '2019-06-25', 'flickr_url': 'xxx', 'id': 466, 'filename': 'P0199_0.5_0.0_277.0_0part6.jpg'}\n",
      "{'license': 1, 'file_name': 'P0199_1_660.0_0.0_0part1.jpg', 'coco_url': 'xxx', 'height': 512, 'width': 511, 'date_captured': '2019-06-25', 'flickr_url': 'xxx', 'id': 467, 'filename': 'P0199_1_660.0_0.0_0part1.jpg'}\n",
      "{'license': 1, 'file_name': 'P0199_1_0.0_1067.0_0part2.jpg', 'coco_url': 'xxx', 'height': 511, 'width': 512, 'date_captured': '2019-06-25', 'flickr_url': 'xxx', 'id': 468, 'filename': 'P0199_1_0.0_1067.0_0part2.jpg'}\n",
      "{'license': 1, 'file_name': 'P0199_1_660.0_1067.0_0part3.jpg', 'coco_url': 'xxx', 'height': 511, 'width': 511, 'date_captured': '2019-06-25', 'flickr_url': 'xxx', 'id': 469, 'filename': 'P0199_1_660.0_1067.0_0part3.jpg'}\n",
      "{'license': 1, 'file_name': 'P0199_1_0.0_0.0_0part4.jpg', 'coco_url': 'xxx', 'height': 511, 'width': 511, 'date_captured': '2019-06-25', 'flickr_url': 'xxx', 'id': 470, 'filename': 'P0199_1_0.0_0.0_0part4.jpg'}\n",
      "{'license': 1, 'file_name': 'P0199_1_0.0_416.0_0part5.jpg', 'coco_url': 'xxx', 'height': 511, 'width': 511, 'date_captured': '2019-06-25', 'flickr_url': 'xxx', 'id': 471, 'filename': 'P0199_1_0.0_416.0_0part5.jpg'}\n",
      "{'license': 1, 'file_name': 'P0199_1_0.0_832.0_0part6.jpg', 'coco_url': 'xxx', 'height': 511, 'width': 511, 'date_captured': '2019-06-25', 'flickr_url': 'xxx', 'id': 472, 'filename': 'P0199_1_0.0_832.0_0part6.jpg'}\n",
      "{'license': 1, 'file_name': 'P0199_1_416.0_0.0_0part7.jpg', 'coco_url': 'xxx', 'height': 511, 'width': 511, 'date_captured': '2019-06-25', 'flickr_url': 'xxx', 'id': 473, 'filename': 'P0199_1_416.0_0.0_0part7.jpg'}\n",
      "{'license': 1, 'file_name': 'P0199_1_416.0_416.0_0part8.jpg', 'coco_url': 'xxx', 'height': 511, 'width': 511, 'date_captured': '2019-06-25', 'flickr_url': 'xxx', 'id': 474, 'filename': 'P0199_1_416.0_416.0_0part8.jpg'}\n",
      "{'license': 1, 'file_name': 'P0199_1_416.0_832.0_0part9.jpg', 'coco_url': 'xxx', 'height': 511, 'width': 511, 'date_captured': '2019-06-25', 'flickr_url': 'xxx', 'id': 475, 'filename': 'P0199_1_416.0_832.0_0part9.jpg'}\n",
      "{'license': 1, 'file_name': 'P0199_1_659.0_0.0_0part10.jpg', 'coco_url': 'xxx', 'height': 511, 'width': 512, 'date_captured': '2019-06-25', 'flickr_url': 'xxx', 'id': 476, 'filename': 'P0199_1_659.0_0.0_0part10.jpg'}\n",
      "{'license': 1, 'file_name': 'P0199_1_659.0_416.0_0part11.jpg', 'coco_url': 'xxx', 'height': 511, 'width': 512, 'date_captured': '2019-06-25', 'flickr_url': 'xxx', 'id': 477, 'filename': 'P0199_1_659.0_416.0_0part11.jpg'}\n",
      "{'license': 1, 'file_name': 'P0199_1_659.0_832.0_0part12.jpg', 'coco_url': 'xxx', 'height': 511, 'width': 512, 'date_captured': '2019-06-25', 'flickr_url': 'xxx', 'id': 478, 'filename': 'P0199_1_659.0_832.0_0part12.jpg'}\n",
      "{'license': 1, 'file_name': 'P0199_1_0.0_1066.0_0part13.jpg', 'coco_url': 'xxx', 'height': 512, 'width': 511, 'date_captured': '2019-06-25', 'flickr_url': 'xxx', 'id': 479, 'filename': 'P0199_1_0.0_1066.0_0part13.jpg'}\n",
      "{'license': 1, 'file_name': 'P0199_1_416.0_1066.0_0part14.jpg', 'coco_url': 'xxx', 'height': 512, 'width': 511, 'date_captured': '2019-06-25', 'flickr_url': 'xxx', 'id': 480, 'filename': 'P0199_1_416.0_1066.0_0part14.jpg'}\n",
      "{'license': 1, 'file_name': 'P3575_0.5_0_0_0part0.jpg', 'coco_url': 'xxx', 'height': 512, 'width': 512, 'date_captured': '2019-06-25', 'flickr_url': 'xxx', 'id': 481, 'filename': 'P3575_0.5_0_0_0part0.jpg'}\n",
      "{'license': 1, 'file_name': 'P3575_1_512.0_0.0_0part1.jpg', 'coco_url': 'xxx', 'height': 512, 'width': 511, 'date_captured': '2019-06-25', 'flickr_url': 'xxx', 'id': 482, 'filename': 'P3575_1_512.0_0.0_0part1.jpg'}\n",
      "{'license': 1, 'file_name': 'P3575_1_0.0_512.0_0part2.jpg', 'coco_url': 'xxx', 'height': 511, 'width': 512, 'date_captured': '2019-06-25', 'flickr_url': 'xxx', 'id': 483, 'filename': 'P3575_1_0.0_512.0_0part2.jpg'}\n",
      "{'license': 1, 'file_name': 'P3575_1_512.0_512.0_0part3.jpg', 'coco_url': 'xxx', 'height': 511, 'width': 511, 'date_captured': '2019-06-25', 'flickr_url': 'xxx', 'id': 484, 'filename': 'P3575_1_512.0_512.0_0part3.jpg'}\n",
      "{'license': 1, 'file_name': 'P3575_1_0.0_0.0_0part4.jpg', 'coco_url': 'xxx', 'height': 511, 'width': 511, 'date_captured': '2019-06-25', 'flickr_url': 'xxx', 'id': 485, 'filename': 'P3575_1_0.0_0.0_0part4.jpg'}\n",
      "{'license': 1, 'file_name': 'P3575_1_0.0_416.0_0part5.jpg', 'coco_url': 'xxx', 'height': 511, 'width': 511, 'date_captured': '2019-06-25', 'flickr_url': 'xxx', 'id': 486, 'filename': 'P3575_1_0.0_416.0_0part5.jpg'}\n",
      "{'license': 1, 'file_name': 'P3575_1_416.0_0.0_0part6.jpg', 'coco_url': 'xxx', 'height': 511, 'width': 511, 'date_captured': '2019-06-25', 'flickr_url': 'xxx', 'id': 487, 'filename': 'P3575_1_416.0_0.0_0part6.jpg'}\n",
      "{'license': 1, 'file_name': 'P3575_1_416.0_416.0_0part7.jpg', 'coco_url': 'xxx', 'height': 511, 'width': 511, 'date_captured': '2019-06-25', 'flickr_url': 'xxx', 'id': 488, 'filename': 'P3575_1_416.0_416.0_0part7.jpg'}\n",
      "{'license': 1, 'file_name': 'P3575_1_511.0_0.0_0part8.jpg', 'coco_url': 'xxx', 'height': 511, 'width': 512, 'date_captured': '2019-06-25', 'flickr_url': 'xxx', 'id': 489, 'filename': 'P3575_1_511.0_0.0_0part8.jpg'}\n",
      "{'license': 1, 'file_name': 'P3575_1_511.0_416.0_0part9.jpg', 'coco_url': 'xxx', 'height': 511, 'width': 512, 'date_captured': '2019-06-25', 'flickr_url': 'xxx', 'id': 490, 'filename': 'P3575_1_511.0_416.0_0part9.jpg'}\n",
      "{'license': 1, 'file_name': 'P3575_1_0.0_511.0_0part10.jpg', 'coco_url': 'xxx', 'height': 512, 'width': 511, 'date_captured': '2019-06-25', 'flickr_url': 'xxx', 'id': 491, 'filename': 'P3575_1_0.0_511.0_0part10.jpg'}\n",
      "{'license': 1, 'file_name': 'P3575_1_416.0_511.0_0part11.jpg', 'coco_url': 'xxx', 'height': 512, 'width': 511, 'date_captured': '2019-06-25', 'flickr_url': 'xxx', 'id': 492, 'filename': 'P3575_1_416.0_511.0_0part11.jpg'}\n",
      "{'license': 1, 'file_name': 'P4151_0.5_3168.0_0.0_0part1.jpg', 'coco_url': 'xxx', 'height': 512, 'width': 511, 'date_captured': '2019-06-25', 'flickr_url': 'xxx', 'id': 493, 'filename': 'P4151_0.5_3168.0_0.0_0part1.jpg'}\n",
      "{'license': 1, 'file_name': 'P4151_0.5_0.0_1944.0_0part2.jpg', 'coco_url': 'xxx', 'height': 511, 'width': 512, 'date_captured': '2019-06-25', 'flickr_url': 'xxx', 'id': 494, 'filename': 'P4151_0.5_0.0_1944.0_0part2.jpg'}\n",
      "{'license': 1, 'file_name': 'P4151_0.5_3168.0_1944.0_0part3.jpg', 'coco_url': 'xxx', 'height': 511, 'width': 511, 'date_captured': '2019-06-25', 'flickr_url': 'xxx', 'id': 495, 'filename': 'P4151_0.5_3168.0_1944.0_0part3.jpg'}\n",
      "{'license': 1, 'file_name': 'P4151_0.5_0.0_0.0_0part4.jpg', 'coco_url': 'xxx', 'height': 511, 'width': 511, 'date_captured': '2019-06-25', 'flickr_url': 'xxx', 'id': 496, 'filename': 'P4151_0.5_0.0_0.0_0part4.jpg'}\n",
      "{'license': 1, 'file_name': 'P4151_0.5_0.0_416.0_0part5.jpg', 'coco_url': 'xxx', 'height': 511, 'width': 511, 'date_captured': '2019-06-25', 'flickr_url': 'xxx', 'id': 497, 'filename': 'P4151_0.5_0.0_416.0_0part5.jpg'}\n",
      "{'license': 1, 'file_name': 'P4151_0.5_0.0_832.0_0part6.jpg', 'coco_url': 'xxx', 'height': 511, 'width': 511, 'date_captured': '2019-06-25', 'flickr_url': 'xxx', 'id': 498, 'filename': 'P4151_0.5_0.0_832.0_0part6.jpg'}\n",
      "{'license': 1, 'file_name': 'P4151_0.5_0.0_1248.0_0part7.jpg', 'coco_url': 'xxx', 'height': 511, 'width': 511, 'date_captured': '2019-06-25', 'flickr_url': 'xxx', 'id': 499, 'filename': 'P4151_0.5_0.0_1248.0_0part7.jpg'}\n",
      "{'license': 1, 'file_name': 'P4151_0.5_0.0_1664.0_0part8.jpg', 'coco_url': 'xxx', 'height': 511, 'width': 511, 'date_captured': '2019-06-25', 'flickr_url': 'xxx', 'id': 500, 'filename': 'P4151_0.5_0.0_1664.0_0part8.jpg'}\n",
      "{'license': 1, 'file_name': 'P4151_0.5_416.0_0.0_0part9.jpg', 'coco_url': 'xxx', 'height': 511, 'width': 511, 'date_captured': '2019-06-25', 'flickr_url': 'xxx', 'id': 501, 'filename': 'P4151_0.5_416.0_0.0_0part9.jpg'}\n",
      "{'license': 1, 'file_name': 'P4151_0.5_416.0_416.0_0part10.jpg', 'coco_url': 'xxx', 'height': 511, 'width': 511, 'date_captured': '2019-06-25', 'flickr_url': 'xxx', 'id': 502, 'filename': 'P4151_0.5_416.0_416.0_0part10.jpg'}\n",
      "{'license': 1, 'file_name': 'P4151_0.5_416.0_832.0_0part11.jpg', 'coco_url': 'xxx', 'height': 511, 'width': 511, 'date_captured': '2019-06-25', 'flickr_url': 'xxx', 'id': 503, 'filename': 'P4151_0.5_416.0_832.0_0part11.jpg'}\n",
      "{'license': 1, 'file_name': 'P4151_0.5_416.0_1248.0_0part12.jpg', 'coco_url': 'xxx', 'height': 511, 'width': 511, 'date_captured': '2019-06-25', 'flickr_url': 'xxx', 'id': 504, 'filename': 'P4151_0.5_416.0_1248.0_0part12.jpg'}\n",
      "{'license': 1, 'file_name': 'P4151_0.5_416.0_1664.0_0part13.jpg', 'coco_url': 'xxx', 'height': 511, 'width': 511, 'date_captured': '2019-06-25', 'flickr_url': 'xxx', 'id': 505, 'filename': 'P4151_0.5_416.0_1664.0_0part13.jpg'}\n",
      "{'license': 1, 'file_name': 'P4151_0.5_832.0_0.0_0part14.jpg', 'coco_url': 'xxx', 'height': 511, 'width': 511, 'date_captured': '2019-06-25', 'flickr_url': 'xxx', 'id': 506, 'filename': 'P4151_0.5_832.0_0.0_0part14.jpg'}\n",
      "{'license': 1, 'file_name': 'P4151_0.5_832.0_416.0_0part15.jpg', 'coco_url': 'xxx', 'height': 511, 'width': 511, 'date_captured': '2019-06-25', 'flickr_url': 'xxx', 'id': 507, 'filename': 'P4151_0.5_832.0_416.0_0part15.jpg'}\n",
      "{'license': 1, 'file_name': 'P4151_0.5_832.0_832.0_0part16.jpg', 'coco_url': 'xxx', 'height': 511, 'width': 511, 'date_captured': '2019-06-25', 'flickr_url': 'xxx', 'id': 508, 'filename': 'P4151_0.5_832.0_832.0_0part16.jpg'}\n",
      "{'license': 1, 'file_name': 'P4151_0.5_832.0_1248.0_0part17.jpg', 'coco_url': 'xxx', 'height': 511, 'width': 511, 'date_captured': '2019-06-25', 'flickr_url': 'xxx', 'id': 509, 'filename': 'P4151_0.5_832.0_1248.0_0part17.jpg'}\n",
      "{'license': 1, 'file_name': 'P4151_0.5_832.0_1664.0_0part18.jpg', 'coco_url': 'xxx', 'height': 511, 'width': 511, 'date_captured': '2019-06-25', 'flickr_url': 'xxx', 'id': 510, 'filename': 'P4151_0.5_832.0_1664.0_0part18.jpg'}\n",
      "{'license': 1, 'file_name': 'P4151_0.5_1248.0_0.0_0part19.jpg', 'coco_url': 'xxx', 'height': 511, 'width': 511, 'date_captured': '2019-06-25', 'flickr_url': 'xxx', 'id': 511, 'filename': 'P4151_0.5_1248.0_0.0_0part19.jpg'}\n",
      "{'license': 1, 'file_name': 'P4151_0.5_1248.0_416.0_0part20.jpg', 'coco_url': 'xxx', 'height': 511, 'width': 511, 'date_captured': '2019-06-25', 'flickr_url': 'xxx', 'id': 512, 'filename': 'P4151_0.5_1248.0_416.0_0part20.jpg'}\n",
      "{'license': 1, 'file_name': 'P4151_0.5_1248.0_832.0_0part21.jpg', 'coco_url': 'xxx', 'height': 511, 'width': 511, 'date_captured': '2019-06-25', 'flickr_url': 'xxx', 'id': 513, 'filename': 'P4151_0.5_1248.0_832.0_0part21.jpg'}\n",
      "{'license': 1, 'file_name': 'P4151_0.5_1248.0_1248.0_0part22.jpg', 'coco_url': 'xxx', 'height': 511, 'width': 511, 'date_captured': '2019-06-25', 'flickr_url': 'xxx', 'id': 514, 'filename': 'P4151_0.5_1248.0_1248.0_0part22.jpg'}\n",
      "{'license': 1, 'file_name': 'P4151_0.5_1248.0_1664.0_0part23.jpg', 'coco_url': 'xxx', 'height': 511, 'width': 511, 'date_captured': '2019-06-25', 'flickr_url': 'xxx', 'id': 515, 'filename': 'P4151_0.5_1248.0_1664.0_0part23.jpg'}\n"
     ]
    },
    {
     "name": "stdout",
     "output_type": "stream",
     "text": [
      "{'license': 1, 'file_name': 'P4151_0.5_1664.0_0.0_0part24.jpg', 'coco_url': 'xxx', 'height': 511, 'width': 511, 'date_captured': '2019-06-25', 'flickr_url': 'xxx', 'id': 516, 'filename': 'P4151_0.5_1664.0_0.0_0part24.jpg'}\n",
      "{'license': 1, 'file_name': 'P4151_0.5_1664.0_416.0_0part25.jpg', 'coco_url': 'xxx', 'height': 511, 'width': 511, 'date_captured': '2019-06-25', 'flickr_url': 'xxx', 'id': 517, 'filename': 'P4151_0.5_1664.0_416.0_0part25.jpg'}\n",
      "{'license': 1, 'file_name': 'P4151_0.5_1664.0_832.0_0part26.jpg', 'coco_url': 'xxx', 'height': 511, 'width': 511, 'date_captured': '2019-06-25', 'flickr_url': 'xxx', 'id': 518, 'filename': 'P4151_0.5_1664.0_832.0_0part26.jpg'}\n",
      "{'license': 1, 'file_name': 'P4151_0.5_1664.0_1248.0_0part27.jpg', 'coco_url': 'xxx', 'height': 511, 'width': 511, 'date_captured': '2019-06-25', 'flickr_url': 'xxx', 'id': 519, 'filename': 'P4151_0.5_1664.0_1248.0_0part27.jpg'}\n",
      "{'license': 1, 'file_name': 'P4151_0.5_1664.0_1664.0_0part28.jpg', 'coco_url': 'xxx', 'height': 511, 'width': 511, 'date_captured': '2019-06-25', 'flickr_url': 'xxx', 'id': 520, 'filename': 'P4151_0.5_1664.0_1664.0_0part28.jpg'}\n",
      "{'license': 1, 'file_name': 'P4151_0.5_2080.0_0.0_0part29.jpg', 'coco_url': 'xxx', 'height': 511, 'width': 511, 'date_captured': '2019-06-25', 'flickr_url': 'xxx', 'id': 521, 'filename': 'P4151_0.5_2080.0_0.0_0part29.jpg'}\n",
      "{'license': 1, 'file_name': 'P4151_0.5_2080.0_416.0_0part30.jpg', 'coco_url': 'xxx', 'height': 511, 'width': 511, 'date_captured': '2019-06-25', 'flickr_url': 'xxx', 'id': 522, 'filename': 'P4151_0.5_2080.0_416.0_0part30.jpg'}\n",
      "{'license': 1, 'file_name': 'P4151_0.5_2080.0_832.0_0part31.jpg', 'coco_url': 'xxx', 'height': 511, 'width': 511, 'date_captured': '2019-06-25', 'flickr_url': 'xxx', 'id': 523, 'filename': 'P4151_0.5_2080.0_832.0_0part31.jpg'}\n",
      "{'license': 1, 'file_name': 'P4151_0.5_2080.0_1248.0_0part32.jpg', 'coco_url': 'xxx', 'height': 511, 'width': 511, 'date_captured': '2019-06-25', 'flickr_url': 'xxx', 'id': 524, 'filename': 'P4151_0.5_2080.0_1248.0_0part32.jpg'}\n",
      "{'license': 1, 'file_name': 'P4151_0.5_2080.0_1664.0_0part33.jpg', 'coco_url': 'xxx', 'height': 511, 'width': 511, 'date_captured': '2019-06-25', 'flickr_url': 'xxx', 'id': 525, 'filename': 'P4151_0.5_2080.0_1664.0_0part33.jpg'}\n",
      "{'license': 1, 'file_name': 'P4151_0.5_2496.0_0.0_0part34.jpg', 'coco_url': 'xxx', 'height': 511, 'width': 511, 'date_captured': '2019-06-25', 'flickr_url': 'xxx', 'id': 526, 'filename': 'P4151_0.5_2496.0_0.0_0part34.jpg'}\n",
      "{'license': 1, 'file_name': 'P4151_0.5_2496.0_416.0_0part35.jpg', 'coco_url': 'xxx', 'height': 511, 'width': 511, 'date_captured': '2019-06-25', 'flickr_url': 'xxx', 'id': 527, 'filename': 'P4151_0.5_2496.0_416.0_0part35.jpg'}\n",
      "{'license': 1, 'file_name': 'P4151_0.5_2496.0_832.0_0part36.jpg', 'coco_url': 'xxx', 'height': 511, 'width': 511, 'date_captured': '2019-06-25', 'flickr_url': 'xxx', 'id': 528, 'filename': 'P4151_0.5_2496.0_832.0_0part36.jpg'}\n",
      "{'license': 1, 'file_name': 'P4151_0.5_2496.0_1248.0_0part37.jpg', 'coco_url': 'xxx', 'height': 511, 'width': 511, 'date_captured': '2019-06-25', 'flickr_url': 'xxx', 'id': 529, 'filename': 'P4151_0.5_2496.0_1248.0_0part37.jpg'}\n",
      "{'license': 1, 'file_name': 'P4151_0.5_2496.0_1664.0_0part38.jpg', 'coco_url': 'xxx', 'height': 511, 'width': 511, 'date_captured': '2019-06-25', 'flickr_url': 'xxx', 'id': 530, 'filename': 'P4151_0.5_2496.0_1664.0_0part38.jpg'}\n",
      "{'license': 1, 'file_name': 'P4151_0.5_2912.0_0.0_0part39.jpg', 'coco_url': 'xxx', 'height': 511, 'width': 511, 'date_captured': '2019-06-25', 'flickr_url': 'xxx', 'id': 531, 'filename': 'P4151_0.5_2912.0_0.0_0part39.jpg'}\n",
      "{'license': 1, 'file_name': 'P4151_0.5_2912.0_416.0_0part40.jpg', 'coco_url': 'xxx', 'height': 511, 'width': 511, 'date_captured': '2019-06-25', 'flickr_url': 'xxx', 'id': 532, 'filename': 'P4151_0.5_2912.0_416.0_0part40.jpg'}\n",
      "{'license': 1, 'file_name': 'P4151_0.5_2912.0_832.0_0part41.jpg', 'coco_url': 'xxx', 'height': 511, 'width': 511, 'date_captured': '2019-06-25', 'flickr_url': 'xxx', 'id': 533, 'filename': 'P4151_0.5_2912.0_832.0_0part41.jpg'}\n",
      "{'license': 1, 'file_name': 'P4151_0.5_2912.0_1248.0_0part42.jpg', 'coco_url': 'xxx', 'height': 511, 'width': 511, 'date_captured': '2019-06-25', 'flickr_url': 'xxx', 'id': 534, 'filename': 'P4151_0.5_2912.0_1248.0_0part42.jpg'}\n",
      "{'license': 1, 'file_name': 'P4151_0.5_2912.0_1664.0_0part43.jpg', 'coco_url': 'xxx', 'height': 511, 'width': 511, 'date_captured': '2019-06-25', 'flickr_url': 'xxx', 'id': 535, 'filename': 'P4151_0.5_2912.0_1664.0_0part43.jpg'}\n",
      "{'license': 1, 'file_name': 'P4151_0.5_3167.0_0.0_0part44.jpg', 'coco_url': 'xxx', 'height': 511, 'width': 512, 'date_captured': '2019-06-25', 'flickr_url': 'xxx', 'id': 536, 'filename': 'P4151_0.5_3167.0_0.0_0part44.jpg'}\n",
      "{'license': 1, 'file_name': 'P4151_0.5_3167.0_416.0_0part45.jpg', 'coco_url': 'xxx', 'height': 511, 'width': 512, 'date_captured': '2019-06-25', 'flickr_url': 'xxx', 'id': 537, 'filename': 'P4151_0.5_3167.0_416.0_0part45.jpg'}\n",
      "{'license': 1, 'file_name': 'P4151_0.5_3167.0_832.0_0part46.jpg', 'coco_url': 'xxx', 'height': 511, 'width': 512, 'date_captured': '2019-06-25', 'flickr_url': 'xxx', 'id': 538, 'filename': 'P4151_0.5_3167.0_832.0_0part46.jpg'}\n",
      "{'license': 1, 'file_name': 'P4151_0.5_3167.0_1248.0_0part47.jpg', 'coco_url': 'xxx', 'height': 511, 'width': 512, 'date_captured': '2019-06-25', 'flickr_url': 'xxx', 'id': 539, 'filename': 'P4151_0.5_3167.0_1248.0_0part47.jpg'}\n",
      "{'license': 1, 'file_name': 'P4151_0.5_3167.0_1664.0_0part48.jpg', 'coco_url': 'xxx', 'height': 511, 'width': 512, 'date_captured': '2019-06-25', 'flickr_url': 'xxx', 'id': 540, 'filename': 'P4151_0.5_3167.0_1664.0_0part48.jpg'}\n",
      "{'license': 1, 'file_name': 'P4151_0.5_0.0_1943.0_0part49.jpg', 'coco_url': 'xxx', 'height': 512, 'width': 511, 'date_captured': '2019-06-25', 'flickr_url': 'xxx', 'id': 541, 'filename': 'P4151_0.5_0.0_1943.0_0part49.jpg'}\n",
      "{'license': 1, 'file_name': 'P4151_0.5_416.0_1943.0_0part50.jpg', 'coco_url': 'xxx', 'height': 512, 'width': 511, 'date_captured': '2019-06-25', 'flickr_url': 'xxx', 'id': 542, 'filename': 'P4151_0.5_416.0_1943.0_0part50.jpg'}\n",
      "{'license': 1, 'file_name': 'P4151_0.5_832.0_1943.0_0part51.jpg', 'coco_url': 'xxx', 'height': 512, 'width': 511, 'date_captured': '2019-06-25', 'flickr_url': 'xxx', 'id': 543, 'filename': 'P4151_0.5_832.0_1943.0_0part51.jpg'}\n",
      "{'license': 1, 'file_name': 'P4151_0.5_1248.0_1943.0_0part52.jpg', 'coco_url': 'xxx', 'height': 512, 'width': 511, 'date_captured': '2019-06-25', 'flickr_url': 'xxx', 'id': 544, 'filename': 'P4151_0.5_1248.0_1943.0_0part52.jpg'}\n",
      "{'license': 1, 'file_name': 'P4151_0.5_1664.0_1943.0_0part53.jpg', 'coco_url': 'xxx', 'height': 512, 'width': 511, 'date_captured': '2019-06-25', 'flickr_url': 'xxx', 'id': 545, 'filename': 'P4151_0.5_1664.0_1943.0_0part53.jpg'}\n",
      "{'license': 1, 'file_name': 'P4151_0.5_2080.0_1943.0_0part54.jpg', 'coco_url': 'xxx', 'height': 512, 'width': 511, 'date_captured': '2019-06-25', 'flickr_url': 'xxx', 'id': 546, 'filename': 'P4151_0.5_2080.0_1943.0_0part54.jpg'}\n",
      "{'license': 1, 'file_name': 'P4151_0.5_2496.0_1943.0_0part55.jpg', 'coco_url': 'xxx', 'height': 512, 'width': 511, 'date_captured': '2019-06-25', 'flickr_url': 'xxx', 'id': 547, 'filename': 'P4151_0.5_2496.0_1943.0_0part55.jpg'}\n",
      "{'license': 1, 'file_name': 'P4151_0.5_2912.0_1943.0_0part56.jpg', 'coco_url': 'xxx', 'height': 512, 'width': 511, 'date_captured': '2019-06-25', 'flickr_url': 'xxx', 'id': 548, 'filename': 'P4151_0.5_2912.0_1943.0_0part56.jpg'}\n",
      "{'license': 1, 'file_name': 'P4151_1_6848.0_0.0_0part1.jpg', 'coco_url': 'xxx', 'height': 512, 'width': 511, 'date_captured': '2019-06-25', 'flickr_url': 'xxx', 'id': 549, 'filename': 'P4151_1_6848.0_0.0_0part1.jpg'}\n",
      "{'license': 1, 'file_name': 'P4151_1_0.0_4400.0_0part2.jpg', 'coco_url': 'xxx', 'height': 511, 'width': 512, 'date_captured': '2019-06-25', 'flickr_url': 'xxx', 'id': 550, 'filename': 'P4151_1_0.0_4400.0_0part2.jpg'}\n",
      "{'license': 1, 'file_name': 'P4151_1_6848.0_4400.0_0part3.jpg', 'coco_url': 'xxx', 'height': 511, 'width': 511, 'date_captured': '2019-06-25', 'flickr_url': 'xxx', 'id': 551, 'filename': 'P4151_1_6848.0_4400.0_0part3.jpg'}\n",
      "{'license': 1, 'file_name': 'P4151_1_0.0_0.0_0part4.jpg', 'coco_url': 'xxx', 'height': 511, 'width': 511, 'date_captured': '2019-06-25', 'flickr_url': 'xxx', 'id': 552, 'filename': 'P4151_1_0.0_0.0_0part4.jpg'}\n",
      "{'license': 1, 'file_name': 'P4151_1_0.0_416.0_0part5.jpg', 'coco_url': 'xxx', 'height': 511, 'width': 511, 'date_captured': '2019-06-25', 'flickr_url': 'xxx', 'id': 553, 'filename': 'P4151_1_0.0_416.0_0part5.jpg'}\n",
      "{'license': 1, 'file_name': 'P4151_1_0.0_832.0_0part6.jpg', 'coco_url': 'xxx', 'height': 511, 'width': 511, 'date_captured': '2019-06-25', 'flickr_url': 'xxx', 'id': 554, 'filename': 'P4151_1_0.0_832.0_0part6.jpg'}\n",
      "{'license': 1, 'file_name': 'P4151_1_0.0_1248.0_0part7.jpg', 'coco_url': 'xxx', 'height': 511, 'width': 511, 'date_captured': '2019-06-25', 'flickr_url': 'xxx', 'id': 555, 'filename': 'P4151_1_0.0_1248.0_0part7.jpg'}\n",
      "{'license': 1, 'file_name': 'P4151_1_0.0_1664.0_0part8.jpg', 'coco_url': 'xxx', 'height': 511, 'width': 511, 'date_captured': '2019-06-25', 'flickr_url': 'xxx', 'id': 556, 'filename': 'P4151_1_0.0_1664.0_0part8.jpg'}\n",
      "{'license': 1, 'file_name': 'P4151_1_0.0_2080.0_0part9.jpg', 'coco_url': 'xxx', 'height': 511, 'width': 511, 'date_captured': '2019-06-25', 'flickr_url': 'xxx', 'id': 557, 'filename': 'P4151_1_0.0_2080.0_0part9.jpg'}\n",
      "{'license': 1, 'file_name': 'P4151_1_0.0_2496.0_0part10.jpg', 'coco_url': 'xxx', 'height': 511, 'width': 511, 'date_captured': '2019-06-25', 'flickr_url': 'xxx', 'id': 558, 'filename': 'P4151_1_0.0_2496.0_0part10.jpg'}\n",
      "{'license': 1, 'file_name': 'P4151_1_0.0_2912.0_0part11.jpg', 'coco_url': 'xxx', 'height': 511, 'width': 511, 'date_captured': '2019-06-25', 'flickr_url': 'xxx', 'id': 559, 'filename': 'P4151_1_0.0_2912.0_0part11.jpg'}\n",
      "{'license': 1, 'file_name': 'P4151_1_0.0_3328.0_0part12.jpg', 'coco_url': 'xxx', 'height': 511, 'width': 511, 'date_captured': '2019-06-25', 'flickr_url': 'xxx', 'id': 560, 'filename': 'P4151_1_0.0_3328.0_0part12.jpg'}\n",
      "{'license': 1, 'file_name': 'P4151_1_0.0_3744.0_0part13.jpg', 'coco_url': 'xxx', 'height': 511, 'width': 511, 'date_captured': '2019-06-25', 'flickr_url': 'xxx', 'id': 561, 'filename': 'P4151_1_0.0_3744.0_0part13.jpg'}\n",
      "{'license': 1, 'file_name': 'P4151_1_0.0_4160.0_0part14.jpg', 'coco_url': 'xxx', 'height': 511, 'width': 511, 'date_captured': '2019-06-25', 'flickr_url': 'xxx', 'id': 562, 'filename': 'P4151_1_0.0_4160.0_0part14.jpg'}\n"
     ]
    },
    {
     "name": "stdout",
     "output_type": "stream",
     "text": [
      "{'license': 1, 'file_name': 'P4151_1_416.0_0.0_0part15.jpg', 'coco_url': 'xxx', 'height': 511, 'width': 511, 'date_captured': '2019-06-25', 'flickr_url': 'xxx', 'id': 563, 'filename': 'P4151_1_416.0_0.0_0part15.jpg'}\n",
      "{'license': 1, 'file_name': 'P4151_1_416.0_416.0_0part16.jpg', 'coco_url': 'xxx', 'height': 511, 'width': 511, 'date_captured': '2019-06-25', 'flickr_url': 'xxx', 'id': 564, 'filename': 'P4151_1_416.0_416.0_0part16.jpg'}\n",
      "{'license': 1, 'file_name': 'P4151_1_416.0_832.0_0part17.jpg', 'coco_url': 'xxx', 'height': 511, 'width': 511, 'date_captured': '2019-06-25', 'flickr_url': 'xxx', 'id': 565, 'filename': 'P4151_1_416.0_832.0_0part17.jpg'}\n",
      "{'license': 1, 'file_name': 'P4151_1_416.0_1248.0_0part18.jpg', 'coco_url': 'xxx', 'height': 511, 'width': 511, 'date_captured': '2019-06-25', 'flickr_url': 'xxx', 'id': 566, 'filename': 'P4151_1_416.0_1248.0_0part18.jpg'}\n",
      "{'license': 1, 'file_name': 'P4151_1_416.0_1664.0_0part19.jpg', 'coco_url': 'xxx', 'height': 511, 'width': 511, 'date_captured': '2019-06-25', 'flickr_url': 'xxx', 'id': 567, 'filename': 'P4151_1_416.0_1664.0_0part19.jpg'}\n",
      "{'license': 1, 'file_name': 'P4151_1_416.0_2080.0_0part20.jpg', 'coco_url': 'xxx', 'height': 511, 'width': 511, 'date_captured': '2019-06-25', 'flickr_url': 'xxx', 'id': 568, 'filename': 'P4151_1_416.0_2080.0_0part20.jpg'}\n",
      "{'license': 1, 'file_name': 'P4151_1_416.0_2496.0_0part21.jpg', 'coco_url': 'xxx', 'height': 511, 'width': 511, 'date_captured': '2019-06-25', 'flickr_url': 'xxx', 'id': 569, 'filename': 'P4151_1_416.0_2496.0_0part21.jpg'}\n",
      "{'license': 1, 'file_name': 'P4151_1_416.0_2912.0_0part22.jpg', 'coco_url': 'xxx', 'height': 511, 'width': 511, 'date_captured': '2019-06-25', 'flickr_url': 'xxx', 'id': 570, 'filename': 'P4151_1_416.0_2912.0_0part22.jpg'}\n",
      "{'license': 1, 'file_name': 'P4151_1_416.0_3328.0_0part23.jpg', 'coco_url': 'xxx', 'height': 511, 'width': 511, 'date_captured': '2019-06-25', 'flickr_url': 'xxx', 'id': 571, 'filename': 'P4151_1_416.0_3328.0_0part23.jpg'}\n",
      "{'license': 1, 'file_name': 'P4151_1_416.0_3744.0_0part24.jpg', 'coco_url': 'xxx', 'height': 511, 'width': 511, 'date_captured': '2019-06-25', 'flickr_url': 'xxx', 'id': 572, 'filename': 'P4151_1_416.0_3744.0_0part24.jpg'}\n",
      "{'license': 1, 'file_name': 'P4151_1_416.0_4160.0_0part25.jpg', 'coco_url': 'xxx', 'height': 511, 'width': 511, 'date_captured': '2019-06-25', 'flickr_url': 'xxx', 'id': 573, 'filename': 'P4151_1_416.0_4160.0_0part25.jpg'}\n",
      "{'license': 1, 'file_name': 'P4151_1_832.0_0.0_0part26.jpg', 'coco_url': 'xxx', 'height': 511, 'width': 511, 'date_captured': '2019-06-25', 'flickr_url': 'xxx', 'id': 574, 'filename': 'P4151_1_832.0_0.0_0part26.jpg'}\n",
      "{'license': 1, 'file_name': 'P4151_1_832.0_416.0_0part27.jpg', 'coco_url': 'xxx', 'height': 511, 'width': 511, 'date_captured': '2019-06-25', 'flickr_url': 'xxx', 'id': 575, 'filename': 'P4151_1_832.0_416.0_0part27.jpg'}\n",
      "{'license': 1, 'file_name': 'P4151_1_832.0_832.0_0part28.jpg', 'coco_url': 'xxx', 'height': 511, 'width': 511, 'date_captured': '2019-06-25', 'flickr_url': 'xxx', 'id': 576, 'filename': 'P4151_1_832.0_832.0_0part28.jpg'}\n",
      "{'license': 1, 'file_name': 'P4151_1_832.0_1248.0_0part29.jpg', 'coco_url': 'xxx', 'height': 511, 'width': 511, 'date_captured': '2019-06-25', 'flickr_url': 'xxx', 'id': 577, 'filename': 'P4151_1_832.0_1248.0_0part29.jpg'}\n",
      "{'license': 1, 'file_name': 'P4151_1_832.0_1664.0_0part30.jpg', 'coco_url': 'xxx', 'height': 511, 'width': 511, 'date_captured': '2019-06-25', 'flickr_url': 'xxx', 'id': 578, 'filename': 'P4151_1_832.0_1664.0_0part30.jpg'}\n",
      "{'license': 1, 'file_name': 'P4151_1_832.0_2080.0_0part31.jpg', 'coco_url': 'xxx', 'height': 511, 'width': 511, 'date_captured': '2019-06-25', 'flickr_url': 'xxx', 'id': 579, 'filename': 'P4151_1_832.0_2080.0_0part31.jpg'}\n",
      "{'license': 1, 'file_name': 'P4151_1_832.0_2496.0_0part32.jpg', 'coco_url': 'xxx', 'height': 511, 'width': 511, 'date_captured': '2019-06-25', 'flickr_url': 'xxx', 'id': 580, 'filename': 'P4151_1_832.0_2496.0_0part32.jpg'}\n",
      "{'license': 1, 'file_name': 'P4151_1_832.0_2912.0_0part33.jpg', 'coco_url': 'xxx', 'height': 511, 'width': 511, 'date_captured': '2019-06-25', 'flickr_url': 'xxx', 'id': 581, 'filename': 'P4151_1_832.0_2912.0_0part33.jpg'}\n",
      "{'license': 1, 'file_name': 'P4151_1_832.0_3328.0_0part34.jpg', 'coco_url': 'xxx', 'height': 511, 'width': 511, 'date_captured': '2019-06-25', 'flickr_url': 'xxx', 'id': 582, 'filename': 'P4151_1_832.0_3328.0_0part34.jpg'}\n",
      "{'license': 1, 'file_name': 'P4151_1_832.0_3744.0_0part35.jpg', 'coco_url': 'xxx', 'height': 511, 'width': 511, 'date_captured': '2019-06-25', 'flickr_url': 'xxx', 'id': 583, 'filename': 'P4151_1_832.0_3744.0_0part35.jpg'}\n",
      "{'license': 1, 'file_name': 'P4151_1_832.0_4160.0_0part36.jpg', 'coco_url': 'xxx', 'height': 511, 'width': 511, 'date_captured': '2019-06-25', 'flickr_url': 'xxx', 'id': 584, 'filename': 'P4151_1_832.0_4160.0_0part36.jpg'}\n",
      "{'license': 1, 'file_name': 'P4151_1_1248.0_0.0_0part37.jpg', 'coco_url': 'xxx', 'height': 511, 'width': 511, 'date_captured': '2019-06-25', 'flickr_url': 'xxx', 'id': 585, 'filename': 'P4151_1_1248.0_0.0_0part37.jpg'}\n",
      "{'license': 1, 'file_name': 'P4151_1_1248.0_416.0_0part38.jpg', 'coco_url': 'xxx', 'height': 511, 'width': 511, 'date_captured': '2019-06-25', 'flickr_url': 'xxx', 'id': 586, 'filename': 'P4151_1_1248.0_416.0_0part38.jpg'}\n",
      "{'license': 1, 'file_name': 'P4151_1_1248.0_832.0_0part39.jpg', 'coco_url': 'xxx', 'height': 511, 'width': 511, 'date_captured': '2019-06-25', 'flickr_url': 'xxx', 'id': 587, 'filename': 'P4151_1_1248.0_832.0_0part39.jpg'}\n",
      "{'license': 1, 'file_name': 'P4151_1_1248.0_1248.0_0part40.jpg', 'coco_url': 'xxx', 'height': 511, 'width': 511, 'date_captured': '2019-06-25', 'flickr_url': 'xxx', 'id': 588, 'filename': 'P4151_1_1248.0_1248.0_0part40.jpg'}\n",
      "{'license': 1, 'file_name': 'P4151_1_1248.0_1664.0_0part41.jpg', 'coco_url': 'xxx', 'height': 511, 'width': 511, 'date_captured': '2019-06-25', 'flickr_url': 'xxx', 'id': 589, 'filename': 'P4151_1_1248.0_1664.0_0part41.jpg'}\n",
      "{'license': 1, 'file_name': 'P4151_1_1248.0_2080.0_0part42.jpg', 'coco_url': 'xxx', 'height': 511, 'width': 511, 'date_captured': '2019-06-25', 'flickr_url': 'xxx', 'id': 590, 'filename': 'P4151_1_1248.0_2080.0_0part42.jpg'}\n",
      "{'license': 1, 'file_name': 'P4151_1_1248.0_2496.0_0part43.jpg', 'coco_url': 'xxx', 'height': 511, 'width': 511, 'date_captured': '2019-06-25', 'flickr_url': 'xxx', 'id': 591, 'filename': 'P4151_1_1248.0_2496.0_0part43.jpg'}\n",
      "{'license': 1, 'file_name': 'P4151_1_1248.0_2912.0_0part44.jpg', 'coco_url': 'xxx', 'height': 511, 'width': 511, 'date_captured': '2019-06-25', 'flickr_url': 'xxx', 'id': 592, 'filename': 'P4151_1_1248.0_2912.0_0part44.jpg'}\n",
      "{'license': 1, 'file_name': 'P4151_1_1248.0_3328.0_0part45.jpg', 'coco_url': 'xxx', 'height': 511, 'width': 511, 'date_captured': '2019-06-25', 'flickr_url': 'xxx', 'id': 593, 'filename': 'P4151_1_1248.0_3328.0_0part45.jpg'}\n",
      "{'license': 1, 'file_name': 'P4151_1_1248.0_3744.0_0part46.jpg', 'coco_url': 'xxx', 'height': 511, 'width': 511, 'date_captured': '2019-06-25', 'flickr_url': 'xxx', 'id': 594, 'filename': 'P4151_1_1248.0_3744.0_0part46.jpg'}\n",
      "{'license': 1, 'file_name': 'P4151_1_1248.0_4160.0_0part47.jpg', 'coco_url': 'xxx', 'height': 511, 'width': 511, 'date_captured': '2019-06-25', 'flickr_url': 'xxx', 'id': 595, 'filename': 'P4151_1_1248.0_4160.0_0part47.jpg'}\n",
      "{'license': 1, 'file_name': 'P4151_1_1664.0_0.0_0part48.jpg', 'coco_url': 'xxx', 'height': 511, 'width': 511, 'date_captured': '2019-06-25', 'flickr_url': 'xxx', 'id': 596, 'filename': 'P4151_1_1664.0_0.0_0part48.jpg'}\n",
      "{'license': 1, 'file_name': 'P4151_1_1664.0_416.0_0part49.jpg', 'coco_url': 'xxx', 'height': 511, 'width': 511, 'date_captured': '2019-06-25', 'flickr_url': 'xxx', 'id': 597, 'filename': 'P4151_1_1664.0_416.0_0part49.jpg'}\n",
      "{'license': 1, 'file_name': 'P4151_1_1664.0_832.0_0part50.jpg', 'coco_url': 'xxx', 'height': 511, 'width': 511, 'date_captured': '2019-06-25', 'flickr_url': 'xxx', 'id': 598, 'filename': 'P4151_1_1664.0_832.0_0part50.jpg'}\n",
      "{'license': 1, 'file_name': 'P4151_1_1664.0_1248.0_0part51.jpg', 'coco_url': 'xxx', 'height': 511, 'width': 511, 'date_captured': '2019-06-25', 'flickr_url': 'xxx', 'id': 599, 'filename': 'P4151_1_1664.0_1248.0_0part51.jpg'}\n",
      "{'license': 1, 'file_name': 'P4151_1_1664.0_1664.0_0part52.jpg', 'coco_url': 'xxx', 'height': 511, 'width': 511, 'date_captured': '2019-06-25', 'flickr_url': 'xxx', 'id': 600, 'filename': 'P4151_1_1664.0_1664.0_0part52.jpg'}\n",
      "{'license': 1, 'file_name': 'P4151_1_1664.0_2080.0_0part53.jpg', 'coco_url': 'xxx', 'height': 511, 'width': 511, 'date_captured': '2019-06-25', 'flickr_url': 'xxx', 'id': 601, 'filename': 'P4151_1_1664.0_2080.0_0part53.jpg'}\n",
      "{'license': 1, 'file_name': 'P4151_1_1664.0_2496.0_0part54.jpg', 'coco_url': 'xxx', 'height': 511, 'width': 511, 'date_captured': '2019-06-25', 'flickr_url': 'xxx', 'id': 602, 'filename': 'P4151_1_1664.0_2496.0_0part54.jpg'}\n",
      "{'license': 1, 'file_name': 'P4151_1_1664.0_2912.0_0part55.jpg', 'coco_url': 'xxx', 'height': 511, 'width': 511, 'date_captured': '2019-06-25', 'flickr_url': 'xxx', 'id': 603, 'filename': 'P4151_1_1664.0_2912.0_0part55.jpg'}\n",
      "{'license': 1, 'file_name': 'P4151_1_1664.0_3328.0_0part56.jpg', 'coco_url': 'xxx', 'height': 511, 'width': 511, 'date_captured': '2019-06-25', 'flickr_url': 'xxx', 'id': 604, 'filename': 'P4151_1_1664.0_3328.0_0part56.jpg'}\n",
      "{'license': 1, 'file_name': 'P4151_1_1664.0_3744.0_0part57.jpg', 'coco_url': 'xxx', 'height': 511, 'width': 511, 'date_captured': '2019-06-25', 'flickr_url': 'xxx', 'id': 605, 'filename': 'P4151_1_1664.0_3744.0_0part57.jpg'}\n",
      "{'license': 1, 'file_name': 'P4151_1_1664.0_4160.0_0part58.jpg', 'coco_url': 'xxx', 'height': 511, 'width': 511, 'date_captured': '2019-06-25', 'flickr_url': 'xxx', 'id': 606, 'filename': 'P4151_1_1664.0_4160.0_0part58.jpg'}\n",
      "{'license': 1, 'file_name': 'P4151_1_2080.0_0.0_0part59.jpg', 'coco_url': 'xxx', 'height': 511, 'width': 511, 'date_captured': '2019-06-25', 'flickr_url': 'xxx', 'id': 607, 'filename': 'P4151_1_2080.0_0.0_0part59.jpg'}\n",
      "{'license': 1, 'file_name': 'P4151_1_2080.0_416.0_0part60.jpg', 'coco_url': 'xxx', 'height': 511, 'width': 511, 'date_captured': '2019-06-25', 'flickr_url': 'xxx', 'id': 608, 'filename': 'P4151_1_2080.0_416.0_0part60.jpg'}\n",
      "{'license': 1, 'file_name': 'P4151_1_2080.0_832.0_0part61.jpg', 'coco_url': 'xxx', 'height': 511, 'width': 511, 'date_captured': '2019-06-25', 'flickr_url': 'xxx', 'id': 609, 'filename': 'P4151_1_2080.0_832.0_0part61.jpg'}\n",
      "{'license': 1, 'file_name': 'P4151_1_2080.0_1248.0_0part62.jpg', 'coco_url': 'xxx', 'height': 511, 'width': 511, 'date_captured': '2019-06-25', 'flickr_url': 'xxx', 'id': 610, 'filename': 'P4151_1_2080.0_1248.0_0part62.jpg'}\n",
      "{'license': 1, 'file_name': 'P4151_1_2080.0_1664.0_0part63.jpg', 'coco_url': 'xxx', 'height': 511, 'width': 511, 'date_captured': '2019-06-25', 'flickr_url': 'xxx', 'id': 611, 'filename': 'P4151_1_2080.0_1664.0_0part63.jpg'}\n"
     ]
    },
    {
     "name": "stdout",
     "output_type": "stream",
     "text": [
      "{'license': 1, 'file_name': 'P4151_1_2080.0_2080.0_0part64.jpg', 'coco_url': 'xxx', 'height': 511, 'width': 511, 'date_captured': '2019-06-25', 'flickr_url': 'xxx', 'id': 612, 'filename': 'P4151_1_2080.0_2080.0_0part64.jpg'}\n",
      "{'license': 1, 'file_name': 'P4151_1_2080.0_2496.0_0part65.jpg', 'coco_url': 'xxx', 'height': 511, 'width': 511, 'date_captured': '2019-06-25', 'flickr_url': 'xxx', 'id': 613, 'filename': 'P4151_1_2080.0_2496.0_0part65.jpg'}\n",
      "{'license': 1, 'file_name': 'P4151_1_2080.0_2912.0_0part66.jpg', 'coco_url': 'xxx', 'height': 511, 'width': 511, 'date_captured': '2019-06-25', 'flickr_url': 'xxx', 'id': 614, 'filename': 'P4151_1_2080.0_2912.0_0part66.jpg'}\n",
      "{'license': 1, 'file_name': 'P4151_1_2080.0_3328.0_0part67.jpg', 'coco_url': 'xxx', 'height': 511, 'width': 511, 'date_captured': '2019-06-25', 'flickr_url': 'xxx', 'id': 615, 'filename': 'P4151_1_2080.0_3328.0_0part67.jpg'}\n",
      "{'license': 1, 'file_name': 'P4151_1_2080.0_3744.0_0part68.jpg', 'coco_url': 'xxx', 'height': 511, 'width': 511, 'date_captured': '2019-06-25', 'flickr_url': 'xxx', 'id': 616, 'filename': 'P4151_1_2080.0_3744.0_0part68.jpg'}\n",
      "{'license': 1, 'file_name': 'P4151_1_2080.0_4160.0_0part69.jpg', 'coco_url': 'xxx', 'height': 511, 'width': 511, 'date_captured': '2019-06-25', 'flickr_url': 'xxx', 'id': 617, 'filename': 'P4151_1_2080.0_4160.0_0part69.jpg'}\n",
      "{'license': 1, 'file_name': 'P4151_1_2496.0_0.0_0part70.jpg', 'coco_url': 'xxx', 'height': 511, 'width': 511, 'date_captured': '2019-06-25', 'flickr_url': 'xxx', 'id': 618, 'filename': 'P4151_1_2496.0_0.0_0part70.jpg'}\n",
      "{'license': 1, 'file_name': 'P4151_1_2496.0_416.0_0part71.jpg', 'coco_url': 'xxx', 'height': 511, 'width': 511, 'date_captured': '2019-06-25', 'flickr_url': 'xxx', 'id': 619, 'filename': 'P4151_1_2496.0_416.0_0part71.jpg'}\n",
      "{'license': 1, 'file_name': 'P4151_1_2496.0_832.0_0part72.jpg', 'coco_url': 'xxx', 'height': 511, 'width': 511, 'date_captured': '2019-06-25', 'flickr_url': 'xxx', 'id': 620, 'filename': 'P4151_1_2496.0_832.0_0part72.jpg'}\n",
      "{'license': 1, 'file_name': 'P4151_1_2496.0_1248.0_0part73.jpg', 'coco_url': 'xxx', 'height': 511, 'width': 511, 'date_captured': '2019-06-25', 'flickr_url': 'xxx', 'id': 621, 'filename': 'P4151_1_2496.0_1248.0_0part73.jpg'}\n",
      "{'license': 1, 'file_name': 'P4151_1_2496.0_1664.0_0part74.jpg', 'coco_url': 'xxx', 'height': 511, 'width': 511, 'date_captured': '2019-06-25', 'flickr_url': 'xxx', 'id': 622, 'filename': 'P4151_1_2496.0_1664.0_0part74.jpg'}\n",
      "{'license': 1, 'file_name': 'P4151_1_2496.0_2080.0_0part75.jpg', 'coco_url': 'xxx', 'height': 511, 'width': 511, 'date_captured': '2019-06-25', 'flickr_url': 'xxx', 'id': 623, 'filename': 'P4151_1_2496.0_2080.0_0part75.jpg'}\n",
      "{'license': 1, 'file_name': 'P4151_1_2496.0_2496.0_0part76.jpg', 'coco_url': 'xxx', 'height': 511, 'width': 511, 'date_captured': '2019-06-25', 'flickr_url': 'xxx', 'id': 624, 'filename': 'P4151_1_2496.0_2496.0_0part76.jpg'}\n",
      "{'license': 1, 'file_name': 'P4151_1_2496.0_2912.0_0part77.jpg', 'coco_url': 'xxx', 'height': 511, 'width': 511, 'date_captured': '2019-06-25', 'flickr_url': 'xxx', 'id': 625, 'filename': 'P4151_1_2496.0_2912.0_0part77.jpg'}\n",
      "{'license': 1, 'file_name': 'P4151_1_2496.0_3328.0_0part78.jpg', 'coco_url': 'xxx', 'height': 511, 'width': 511, 'date_captured': '2019-06-25', 'flickr_url': 'xxx', 'id': 626, 'filename': 'P4151_1_2496.0_3328.0_0part78.jpg'}\n",
      "{'license': 1, 'file_name': 'P4151_1_2496.0_3744.0_0part79.jpg', 'coco_url': 'xxx', 'height': 511, 'width': 511, 'date_captured': '2019-06-25', 'flickr_url': 'xxx', 'id': 627, 'filename': 'P4151_1_2496.0_3744.0_0part79.jpg'}\n",
      "{'license': 1, 'file_name': 'P4151_1_2496.0_4160.0_0part80.jpg', 'coco_url': 'xxx', 'height': 511, 'width': 511, 'date_captured': '2019-06-25', 'flickr_url': 'xxx', 'id': 628, 'filename': 'P4151_1_2496.0_4160.0_0part80.jpg'}\n",
      "{'license': 1, 'file_name': 'P4151_1_2912.0_0.0_0part81.jpg', 'coco_url': 'xxx', 'height': 511, 'width': 511, 'date_captured': '2019-06-25', 'flickr_url': 'xxx', 'id': 629, 'filename': 'P4151_1_2912.0_0.0_0part81.jpg'}\n",
      "{'license': 1, 'file_name': 'P4151_1_2912.0_416.0_0part82.jpg', 'coco_url': 'xxx', 'height': 511, 'width': 511, 'date_captured': '2019-06-25', 'flickr_url': 'xxx', 'id': 630, 'filename': 'P4151_1_2912.0_416.0_0part82.jpg'}\n",
      "{'license': 1, 'file_name': 'P4151_1_2912.0_832.0_0part83.jpg', 'coco_url': 'xxx', 'height': 511, 'width': 511, 'date_captured': '2019-06-25', 'flickr_url': 'xxx', 'id': 631, 'filename': 'P4151_1_2912.0_832.0_0part83.jpg'}\n",
      "{'license': 1, 'file_name': 'P4151_1_2912.0_1248.0_0part84.jpg', 'coco_url': 'xxx', 'height': 511, 'width': 511, 'date_captured': '2019-06-25', 'flickr_url': 'xxx', 'id': 632, 'filename': 'P4151_1_2912.0_1248.0_0part84.jpg'}\n",
      "{'license': 1, 'file_name': 'P4151_1_2912.0_1664.0_0part85.jpg', 'coco_url': 'xxx', 'height': 511, 'width': 511, 'date_captured': '2019-06-25', 'flickr_url': 'xxx', 'id': 633, 'filename': 'P4151_1_2912.0_1664.0_0part85.jpg'}\n",
      "{'license': 1, 'file_name': 'P4151_1_2912.0_2080.0_0part86.jpg', 'coco_url': 'xxx', 'height': 511, 'width': 511, 'date_captured': '2019-06-25', 'flickr_url': 'xxx', 'id': 634, 'filename': 'P4151_1_2912.0_2080.0_0part86.jpg'}\n",
      "{'license': 1, 'file_name': 'P4151_1_2912.0_2496.0_0part87.jpg', 'coco_url': 'xxx', 'height': 511, 'width': 511, 'date_captured': '2019-06-25', 'flickr_url': 'xxx', 'id': 635, 'filename': 'P4151_1_2912.0_2496.0_0part87.jpg'}\n",
      "{'license': 1, 'file_name': 'P4151_1_2912.0_2912.0_0part88.jpg', 'coco_url': 'xxx', 'height': 511, 'width': 511, 'date_captured': '2019-06-25', 'flickr_url': 'xxx', 'id': 636, 'filename': 'P4151_1_2912.0_2912.0_0part88.jpg'}\n",
      "{'license': 1, 'file_name': 'P4151_1_2912.0_3328.0_0part89.jpg', 'coco_url': 'xxx', 'height': 511, 'width': 511, 'date_captured': '2019-06-25', 'flickr_url': 'xxx', 'id': 637, 'filename': 'P4151_1_2912.0_3328.0_0part89.jpg'}\n",
      "{'license': 1, 'file_name': 'P4151_1_2912.0_3744.0_0part90.jpg', 'coco_url': 'xxx', 'height': 511, 'width': 511, 'date_captured': '2019-06-25', 'flickr_url': 'xxx', 'id': 638, 'filename': 'P4151_1_2912.0_3744.0_0part90.jpg'}\n",
      "{'license': 1, 'file_name': 'P4151_1_2912.0_4160.0_0part91.jpg', 'coco_url': 'xxx', 'height': 511, 'width': 511, 'date_captured': '2019-06-25', 'flickr_url': 'xxx', 'id': 639, 'filename': 'P4151_1_2912.0_4160.0_0part91.jpg'}\n",
      "{'license': 1, 'file_name': 'P4151_1_3328.0_0.0_0part92.jpg', 'coco_url': 'xxx', 'height': 511, 'width': 511, 'date_captured': '2019-06-25', 'flickr_url': 'xxx', 'id': 640, 'filename': 'P4151_1_3328.0_0.0_0part92.jpg'}\n",
      "{'license': 1, 'file_name': 'P4151_1_3328.0_416.0_0part93.jpg', 'coco_url': 'xxx', 'height': 511, 'width': 511, 'date_captured': '2019-06-25', 'flickr_url': 'xxx', 'id': 641, 'filename': 'P4151_1_3328.0_416.0_0part93.jpg'}\n",
      "{'license': 1, 'file_name': 'P4151_1_3328.0_832.0_0part94.jpg', 'coco_url': 'xxx', 'height': 511, 'width': 511, 'date_captured': '2019-06-25', 'flickr_url': 'xxx', 'id': 642, 'filename': 'P4151_1_3328.0_832.0_0part94.jpg'}\n",
      "{'license': 1, 'file_name': 'P4151_1_3328.0_1248.0_0part95.jpg', 'coco_url': 'xxx', 'height': 511, 'width': 511, 'date_captured': '2019-06-25', 'flickr_url': 'xxx', 'id': 643, 'filename': 'P4151_1_3328.0_1248.0_0part95.jpg'}\n",
      "{'license': 1, 'file_name': 'P4151_1_3328.0_1664.0_0part96.jpg', 'coco_url': 'xxx', 'height': 511, 'width': 511, 'date_captured': '2019-06-25', 'flickr_url': 'xxx', 'id': 644, 'filename': 'P4151_1_3328.0_1664.0_0part96.jpg'}\n",
      "{'license': 1, 'file_name': 'P4151_1_3328.0_2080.0_0part97.jpg', 'coco_url': 'xxx', 'height': 511, 'width': 511, 'date_captured': '2019-06-25', 'flickr_url': 'xxx', 'id': 645, 'filename': 'P4151_1_3328.0_2080.0_0part97.jpg'}\n",
      "{'license': 1, 'file_name': 'P4151_1_3328.0_2496.0_0part98.jpg', 'coco_url': 'xxx', 'height': 511, 'width': 511, 'date_captured': '2019-06-25', 'flickr_url': 'xxx', 'id': 646, 'filename': 'P4151_1_3328.0_2496.0_0part98.jpg'}\n",
      "{'license': 1, 'file_name': 'P4151_1_3328.0_2912.0_0part99.jpg', 'coco_url': 'xxx', 'height': 511, 'width': 511, 'date_captured': '2019-06-25', 'flickr_url': 'xxx', 'id': 647, 'filename': 'P4151_1_3328.0_2912.0_0part99.jpg'}\n",
      "{'license': 1, 'file_name': 'P4151_1_3328.0_3328.0_0part100.jpg', 'coco_url': 'xxx', 'height': 511, 'width': 511, 'date_captured': '2019-06-25', 'flickr_url': 'xxx', 'id': 648, 'filename': 'P4151_1_3328.0_3328.0_0part100.jpg'}\n",
      "{'license': 1, 'file_name': 'P4151_1_3328.0_3744.0_0part101.jpg', 'coco_url': 'xxx', 'height': 511, 'width': 511, 'date_captured': '2019-06-25', 'flickr_url': 'xxx', 'id': 649, 'filename': 'P4151_1_3328.0_3744.0_0part101.jpg'}\n",
      "{'license': 1, 'file_name': 'P4151_1_3328.0_4160.0_0part102.jpg', 'coco_url': 'xxx', 'height': 511, 'width': 511, 'date_captured': '2019-06-25', 'flickr_url': 'xxx', 'id': 650, 'filename': 'P4151_1_3328.0_4160.0_0part102.jpg'}\n",
      "{'license': 1, 'file_name': 'P4151_1_3744.0_0.0_0part103.jpg', 'coco_url': 'xxx', 'height': 511, 'width': 511, 'date_captured': '2019-06-25', 'flickr_url': 'xxx', 'id': 651, 'filename': 'P4151_1_3744.0_0.0_0part103.jpg'}\n",
      "{'license': 1, 'file_name': 'P4151_1_3744.0_416.0_0part104.jpg', 'coco_url': 'xxx', 'height': 511, 'width': 511, 'date_captured': '2019-06-25', 'flickr_url': 'xxx', 'id': 652, 'filename': 'P4151_1_3744.0_416.0_0part104.jpg'}\n",
      "{'license': 1, 'file_name': 'P4151_1_3744.0_832.0_0part105.jpg', 'coco_url': 'xxx', 'height': 511, 'width': 511, 'date_captured': '2019-06-25', 'flickr_url': 'xxx', 'id': 653, 'filename': 'P4151_1_3744.0_832.0_0part105.jpg'}\n",
      "{'license': 1, 'file_name': 'P4151_1_3744.0_1248.0_0part106.jpg', 'coco_url': 'xxx', 'height': 511, 'width': 511, 'date_captured': '2019-06-25', 'flickr_url': 'xxx', 'id': 654, 'filename': 'P4151_1_3744.0_1248.0_0part106.jpg'}\n",
      "{'license': 1, 'file_name': 'P4151_1_3744.0_1664.0_0part107.jpg', 'coco_url': 'xxx', 'height': 511, 'width': 511, 'date_captured': '2019-06-25', 'flickr_url': 'xxx', 'id': 655, 'filename': 'P4151_1_3744.0_1664.0_0part107.jpg'}\n",
      "{'license': 1, 'file_name': 'P4151_1_3744.0_2080.0_0part108.jpg', 'coco_url': 'xxx', 'height': 511, 'width': 511, 'date_captured': '2019-06-25', 'flickr_url': 'xxx', 'id': 656, 'filename': 'P4151_1_3744.0_2080.0_0part108.jpg'}\n",
      "{'license': 1, 'file_name': 'P4151_1_3744.0_2496.0_0part109.jpg', 'coco_url': 'xxx', 'height': 511, 'width': 511, 'date_captured': '2019-06-25', 'flickr_url': 'xxx', 'id': 657, 'filename': 'P4151_1_3744.0_2496.0_0part109.jpg'}\n",
      "{'license': 1, 'file_name': 'P4151_1_3744.0_2912.0_0part110.jpg', 'coco_url': 'xxx', 'height': 511, 'width': 511, 'date_captured': '2019-06-25', 'flickr_url': 'xxx', 'id': 658, 'filename': 'P4151_1_3744.0_2912.0_0part110.jpg'}\n",
      "{'license': 1, 'file_name': 'P4151_1_3744.0_3328.0_0part111.jpg', 'coco_url': 'xxx', 'height': 511, 'width': 511, 'date_captured': '2019-06-25', 'flickr_url': 'xxx', 'id': 659, 'filename': 'P4151_1_3744.0_3328.0_0part111.jpg'}\n",
      "{'license': 1, 'file_name': 'P4151_1_3744.0_3744.0_0part112.jpg', 'coco_url': 'xxx', 'height': 511, 'width': 511, 'date_captured': '2019-06-25', 'flickr_url': 'xxx', 'id': 660, 'filename': 'P4151_1_3744.0_3744.0_0part112.jpg'}\n",
      "{'license': 1, 'file_name': 'P4151_1_3744.0_4160.0_0part113.jpg', 'coco_url': 'xxx', 'height': 511, 'width': 511, 'date_captured': '2019-06-25', 'flickr_url': 'xxx', 'id': 661, 'filename': 'P4151_1_3744.0_4160.0_0part113.jpg'}\n",
      "{'license': 1, 'file_name': 'P4151_1_4160.0_0.0_0part114.jpg', 'coco_url': 'xxx', 'height': 511, 'width': 511, 'date_captured': '2019-06-25', 'flickr_url': 'xxx', 'id': 662, 'filename': 'P4151_1_4160.0_0.0_0part114.jpg'}\n",
      "{'license': 1, 'file_name': 'P4151_1_4160.0_416.0_0part115.jpg', 'coco_url': 'xxx', 'height': 511, 'width': 511, 'date_captured': '2019-06-25', 'flickr_url': 'xxx', 'id': 663, 'filename': 'P4151_1_4160.0_416.0_0part115.jpg'}\n"
     ]
    },
    {
     "name": "stdout",
     "output_type": "stream",
     "text": [
      "{'license': 1, 'file_name': 'P4151_1_4160.0_832.0_0part116.jpg', 'coco_url': 'xxx', 'height': 511, 'width': 511, 'date_captured': '2019-06-25', 'flickr_url': 'xxx', 'id': 664, 'filename': 'P4151_1_4160.0_832.0_0part116.jpg'}\n",
      "{'license': 1, 'file_name': 'P4151_1_4160.0_1248.0_0part117.jpg', 'coco_url': 'xxx', 'height': 511, 'width': 511, 'date_captured': '2019-06-25', 'flickr_url': 'xxx', 'id': 665, 'filename': 'P4151_1_4160.0_1248.0_0part117.jpg'}\n",
      "{'license': 1, 'file_name': 'P4151_1_4160.0_1664.0_0part118.jpg', 'coco_url': 'xxx', 'height': 511, 'width': 511, 'date_captured': '2019-06-25', 'flickr_url': 'xxx', 'id': 666, 'filename': 'P4151_1_4160.0_1664.0_0part118.jpg'}\n",
      "{'license': 1, 'file_name': 'P4151_1_4160.0_2080.0_0part119.jpg', 'coco_url': 'xxx', 'height': 511, 'width': 511, 'date_captured': '2019-06-25', 'flickr_url': 'xxx', 'id': 667, 'filename': 'P4151_1_4160.0_2080.0_0part119.jpg'}\n",
      "{'license': 1, 'file_name': 'P4151_1_4160.0_2496.0_0part120.jpg', 'coco_url': 'xxx', 'height': 511, 'width': 511, 'date_captured': '2019-06-25', 'flickr_url': 'xxx', 'id': 668, 'filename': 'P4151_1_4160.0_2496.0_0part120.jpg'}\n",
      "{'license': 1, 'file_name': 'P4151_1_4160.0_2912.0_0part121.jpg', 'coco_url': 'xxx', 'height': 511, 'width': 511, 'date_captured': '2019-06-25', 'flickr_url': 'xxx', 'id': 669, 'filename': 'P4151_1_4160.0_2912.0_0part121.jpg'}\n",
      "{'license': 1, 'file_name': 'P4151_1_4160.0_3328.0_0part122.jpg', 'coco_url': 'xxx', 'height': 511, 'width': 511, 'date_captured': '2019-06-25', 'flickr_url': 'xxx', 'id': 670, 'filename': 'P4151_1_4160.0_3328.0_0part122.jpg'}\n",
      "{'license': 1, 'file_name': 'P4151_1_4160.0_3744.0_0part123.jpg', 'coco_url': 'xxx', 'height': 511, 'width': 511, 'date_captured': '2019-06-25', 'flickr_url': 'xxx', 'id': 671, 'filename': 'P4151_1_4160.0_3744.0_0part123.jpg'}\n",
      "{'license': 1, 'file_name': 'P4151_1_4160.0_4160.0_0part124.jpg', 'coco_url': 'xxx', 'height': 511, 'width': 511, 'date_captured': '2019-06-25', 'flickr_url': 'xxx', 'id': 672, 'filename': 'P4151_1_4160.0_4160.0_0part124.jpg'}\n",
      "{'license': 1, 'file_name': 'P4151_1_4576.0_0.0_0part125.jpg', 'coco_url': 'xxx', 'height': 511, 'width': 511, 'date_captured': '2019-06-25', 'flickr_url': 'xxx', 'id': 673, 'filename': 'P4151_1_4576.0_0.0_0part125.jpg'}\n",
      "{'license': 1, 'file_name': 'P4151_1_4576.0_416.0_0part126.jpg', 'coco_url': 'xxx', 'height': 511, 'width': 511, 'date_captured': '2019-06-25', 'flickr_url': 'xxx', 'id': 674, 'filename': 'P4151_1_4576.0_416.0_0part126.jpg'}\n",
      "{'license': 1, 'file_name': 'P4151_1_4576.0_832.0_0part127.jpg', 'coco_url': 'xxx', 'height': 511, 'width': 511, 'date_captured': '2019-06-25', 'flickr_url': 'xxx', 'id': 675, 'filename': 'P4151_1_4576.0_832.0_0part127.jpg'}\n",
      "{'license': 1, 'file_name': 'P4151_1_4576.0_1248.0_0part128.jpg', 'coco_url': 'xxx', 'height': 511, 'width': 511, 'date_captured': '2019-06-25', 'flickr_url': 'xxx', 'id': 676, 'filename': 'P4151_1_4576.0_1248.0_0part128.jpg'}\n",
      "{'license': 1, 'file_name': 'P4151_1_4576.0_1664.0_0part129.jpg', 'coco_url': 'xxx', 'height': 511, 'width': 511, 'date_captured': '2019-06-25', 'flickr_url': 'xxx', 'id': 677, 'filename': 'P4151_1_4576.0_1664.0_0part129.jpg'}\n",
      "{'license': 1, 'file_name': 'P4151_1_4576.0_2080.0_0part130.jpg', 'coco_url': 'xxx', 'height': 511, 'width': 511, 'date_captured': '2019-06-25', 'flickr_url': 'xxx', 'id': 678, 'filename': 'P4151_1_4576.0_2080.0_0part130.jpg'}\n",
      "{'license': 1, 'file_name': 'P4151_1_4576.0_2496.0_0part131.jpg', 'coco_url': 'xxx', 'height': 511, 'width': 511, 'date_captured': '2019-06-25', 'flickr_url': 'xxx', 'id': 679, 'filename': 'P4151_1_4576.0_2496.0_0part131.jpg'}\n",
      "{'license': 1, 'file_name': 'P4151_1_4576.0_2912.0_0part132.jpg', 'coco_url': 'xxx', 'height': 511, 'width': 511, 'date_captured': '2019-06-25', 'flickr_url': 'xxx', 'id': 680, 'filename': 'P4151_1_4576.0_2912.0_0part132.jpg'}\n",
      "{'license': 1, 'file_name': 'P4151_1_4576.0_3328.0_0part133.jpg', 'coco_url': 'xxx', 'height': 511, 'width': 511, 'date_captured': '2019-06-25', 'flickr_url': 'xxx', 'id': 681, 'filename': 'P4151_1_4576.0_3328.0_0part133.jpg'}\n",
      "{'license': 1, 'file_name': 'P4151_1_4576.0_3744.0_0part134.jpg', 'coco_url': 'xxx', 'height': 511, 'width': 511, 'date_captured': '2019-06-25', 'flickr_url': 'xxx', 'id': 682, 'filename': 'P4151_1_4576.0_3744.0_0part134.jpg'}\n"
     ]
    },
    {
     "ename": "KeyboardInterrupt",
     "evalue": "",
     "output_type": "error",
     "traceback": [
      "\u001b[0;31m---------------------------------------------------------------------------\u001b[0m",
      "\u001b[0;31mKeyboardInterrupt\u001b[0m                         Traceback (most recent call last)",
      "\u001b[0;32m<ipython-input-17-a0cb948f075b>\u001b[0m in \u001b[0;36m<module>\u001b[0;34m\u001b[0m\n\u001b[1;32m     15\u001b[0m     \u001b[0mitems\u001b[0m \u001b[0;34m=\u001b[0m \u001b[0mfilename\u001b[0m\u001b[0;34m.\u001b[0m\u001b[0msplit\u001b[0m\u001b[0;34m(\u001b[0m\u001b[0;34m\"_\"\u001b[0m\u001b[0;34m)\u001b[0m\u001b[0;34m\u001b[0m\u001b[0;34m\u001b[0m\u001b[0m\n\u001b[1;32m     16\u001b[0m     \u001b[0mname\u001b[0m \u001b[0;34m=\u001b[0m \u001b[0mitems\u001b[0m\u001b[0;34m[\u001b[0m\u001b[0;36m0\u001b[0m\u001b[0;34m]\u001b[0m\u001b[0;34m\u001b[0m\u001b[0;34m\u001b[0m\u001b[0m\n\u001b[0;32m---> 17\u001b[0;31m     \u001b[0mimg\u001b[0m \u001b[0;34m=\u001b[0m \u001b[0mcv2\u001b[0m\u001b[0;34m.\u001b[0m\u001b[0mimread\u001b[0m\u001b[0;34m(\u001b[0m\u001b[0;34m\"./data/rscup/val/\"\u001b[0m \u001b[0;34m+\u001b[0m \u001b[0mfilename\u001b[0m\u001b[0;34m)\u001b[0m\u001b[0;34m\u001b[0m\u001b[0;34m\u001b[0m\u001b[0m\n\u001b[0m\u001b[1;32m     18\u001b[0m     \u001b[0mh\u001b[0m\u001b[0;34m,\u001b[0m \u001b[0mw\u001b[0m\u001b[0;34m,\u001b[0m \u001b[0m_\u001b[0m \u001b[0;34m=\u001b[0m \u001b[0mimg\u001b[0m\u001b[0;34m.\u001b[0m\u001b[0mshape\u001b[0m\u001b[0;34m\u001b[0m\u001b[0;34m\u001b[0m\u001b[0m\n\u001b[1;32m     19\u001b[0m \u001b[0;34m\u001b[0m\u001b[0m\n",
      "\u001b[0;31mKeyboardInterrupt\u001b[0m: "
     ]
    }
   ],
   "source": [
    "cfg = mmcv.Config.fromfile(\"configs/rs_cascade_mask_rcnn_r50_fpn_ohem.py\")\n",
    "CLASSES = ('tennis-court', 'container-crane', 'storage-tank', 'baseball-diamond', 'plane','ground-track-field',\n",
    "               'helicopter', 'airport','harbor', 'ship', 'large-vehicle', 'swimming-pool', 'soccer-ball-field',\n",
    "               'roundabout', 'basketball-court', 'bridge', 'small-vehicle', 'helipad')\n",
    "results = mmcv.load(\"./result/val.pkl\")\n",
    "dataset = build_dataset(cfg.data.test)\n",
    "img_infos = dataset.load_annotations(\"/home/xfr/mmdetection/data/rscup/annotation/annos_rscup_val.json\")\n",
    "ann = {}\n",
    "last_name = \"\"\n",
    "last = \"\"\n",
    "img_size = {}\n",
    "for i in tqdm(range(len(results))):\n",
    "    filename = img_infos[i]['filename']\n",
    "    print(img_infos[i])\n",
    "    items = filename.split(\"_\")\n",
    "    name = items[0]\n",
    "    img = cv2.imread(\"./data/rscup/val/\" + filename)\n",
    "    h, w, _ = img.shape\n",
    "    "
   ]
  },
  {
   "cell_type": "code",
   "execution_count": null,
   "metadata": {
    "collapsed": true
   },
   "outputs": [],
   "source": []
  }
 ],
 "metadata": {
  "kernelspec": {
   "display_name": "mm",
   "language": "python",
   "name": "mmdet"
  },
  "language_info": {
   "codemirror_mode": {
    "name": "ipython",
    "version": 3
   },
   "file_extension": ".py",
   "mimetype": "text/x-python",
   "name": "python",
   "nbconvert_exporter": "python",
   "pygments_lexer": "ipython3",
   "version": "3.6.8"
  }
 },
 "nbformat": 4,
 "nbformat_minor": 2
}
