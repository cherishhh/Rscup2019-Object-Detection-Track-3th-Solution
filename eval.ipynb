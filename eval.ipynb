{
 "cells": [
  {
   "cell_type": "code",
   "execution_count": 1,
   "metadata": {},
   "outputs": [
    {
     "name": "stdout",
     "output_type": "stream",
     "text": [
      "loading annotations into memory...\n",
      "Done (t=0.10s)\n",
      "creating index...\n",
      "index created!\n",
      "loading annotations into memory...\n",
      "Done (t=0.06s)\n",
      "creating index...\n",
      "index created!\n"
     ]
    },
    {
     "data": {
      "application/vnd.jupyter.widget-view+json": {
       "model_id": "906e09d13db34ee2814a31430d6cd53b",
       "version_major": 2,
       "version_minor": 0
      },
      "text/plain": [
       "HBox(children=(IntProgress(value=0, max=29057), HTML(value='')))"
      ]
     },
     "metadata": {},
     "output_type": "display_data"
    },
    {
     "name": "stdout",
     "output_type": "stream",
     "text": [
      "\n",
      "593\n"
     ]
    }
   ],
   "source": [
    "import pickle\n",
    "import json\n",
    "import mmcv\n",
    "from tqdm import tqdm_notebook as tqdm\n",
    "from mmdet.datasets import build_dataloader, build_dataset\n",
    "from pycocotools.coco import COCO\n",
    "import pycocotools.coco as cocoapi\n",
    "import pycocotools.mask as MASK\n",
    "import os\n",
    "import cv2\n",
    "from icecream import ic\n",
    "import matplotlib.pyplot as plt\n",
    "from mmdet.models import build_detector\n",
    "from mmcv.runner import load_checkpoint, get_dist_info\n",
    "import numpy as np\n",
    "def get_original_size(name):\n",
    "    datadir = \"/home/xfr/rssid/data/val/images/\"\n",
    "    files = os.listdir(datadir)\n",
    "    img_name = \"\"\n",
    "    for file in files:\n",
    "        img_name = file.split(\".\")[0]\n",
    "        if(img_name == name):\n",
    "            break\n",
    "    filename = os.path.join(datadir, file)\n",
    "    img = cv2.imread(filename)\n",
    "    h, w, _ = img.shape\n",
    "    return h,w\n",
    "cfg = mmcv.Config.fromfile(\"configs/rs_cascade_mask_rcnn_r50_fpn_ohem.py\")\n",
    "CLASSES = ('tennis-court', 'container-crane', 'storage-tank', 'baseball-diamond', 'plane','ground-track-field',\n",
    "               'helicopter', 'airport','harbor', 'ship', 'large-vehicle', 'swimming-pool', 'soccer-ball-field',\n",
    "               'roundabout', 'basketball-court', 'bridge', 'small-vehicle', 'helipad')\n",
    "results = mmcv.load(\"./result/val.pkl\")\n",
    "dataset = build_dataset(cfg.data.test)\n",
    "img_infos = dataset.load_annotations(\"/home/xfr/mmdetection/data/rscup/annotation/annos_rscup_val.json\")\n",
    "ann = {}\n",
    "last_name = \"\"\n",
    "last = \"\"\n",
    "for i in tqdm(range(len(results))):\n",
    "    filename = img_infos[i]['filename']\n",
    "    img = cv2.imread(\"./data/rscup/val/\" + filename)\n",
    "    h, w, _ = img.shape\n",
    "    items = filename.split(\"_\")\n",
    "    name = items[0]\n",
    "    if(name == last_name):\n",
    "        H, W = last\n",
    "    else:\n",
    "        H, W = get_original_size(name)\n",
    "    last_name = name\n",
    "    last = (H, W)\n",
    "    if name not in ann:\n",
    "        ann[name] = {\"bbox\": [[] for i in range(len(dataset.CLASSES))], \"seg\": [[] for i in range(len(dataset.CLASSES))],\n",
    "                     \"vis\": [[] for i in range(len(dataset.CLASSES))], \"rect\": [[] for i in range(len(dataset.CLASSES))]}\n",
    "    scale_factor = 1/float(items[1])\n",
    "    locx = int(float(items[2]))\n",
    "    locy = int(float(items[3]))\n",
    "    result = results[i]\n",
    "    bboxes = result[0]\n",
    "    segs = result[1]\n",
    "    for cls in range(len(dataset.CLASSES)):\n",
    "        bbox_cls = bboxes[cls]\n",
    "        seg_cls = segs[cls]\n",
    "        if( len(bbox_cls) > 0):\n",
    "            for bbox, rle in zip(bbox_cls, seg_cls):\n",
    "                xmin, ymin, xmax, ymax, score = bbox\n",
    "#                 cv2.rectangle(img, (xmin, ymin), (xmax, ymax), (0,0,255), 2)\n",
    "#                 cv2.putText(img, str(cls), (int(xmin), int(ymin)), cv2.FONT_HERSHEY_COMPLEX, 1, (0, 0, 255), 2)\n",
    "\n",
    "                xmin += locx\n",
    "                ymin += locy\n",
    "                xmax += locx\n",
    "                ymax += locy\n",
    "                bounding_box = np.array([xmin*scale_factor, ymin*scale_factor, xmax*scale_factor, ymax*scale_factor, score])\n",
    "                mask = MASK.decode(rle)\n",
    "#                 print(mask.shape)\n",
    "#                 mh, mw = mask.shape \n",
    "#                 new_mask = cv2.resize(mask, (int(mw*scale_factor),int(mh*scale_factor)))\n",
    "                \n",
    "#                 h2, w2 = ann[name][\"mask\"][int(locy*scale_factor):int(locy*scale_factor)+new_mask.shape[0],int(locx*scale_factor):int(locx*scale_factor)+new_mask.shape[1]].shape\n",
    "#                 new_mask = cv2.resize(mask, (w2,h2))\n",
    "#                 ann[name][\"mask\"][int(locy*scale_factor):int(locy*scale_factor)+new_mask.shape[0],int(locx*scale_factor):int(locx*scale_factor)+new_mask.shape[1]] += new_mask \n",
    "                \n",
    "                contours, hierarchy = cv2.findContours((mask).astype(np.uint8), cv2.RETR_TREE,\n",
    "                                                                 cv2.CHAIN_APPROX_SIMPLE)\n",
    "                areas = [cv2.contourArea(contour)  for contour in contours]\n",
    "                if(len(areas) > 0):\n",
    "                    index = np.argmax(areas)\n",
    "                    contour = contours[index]\n",
    "                    rect = cv2.minAreaRect(contour)\n",
    "                    box = cv2.boxPoints(rect)\n",
    "                    box += np.array([locx, locy])\n",
    "                    \n",
    "                    \n",
    "                    center = np.array(rect[0])\n",
    "                    size = np.array(rect[1])\n",
    "                    angel = rect[2]\n",
    "                    size *= scale_factor\n",
    "                    center += np.array([locx, locy])\n",
    "                    center *= scale_factor\n",
    "                    rect = (tuple(center), tuple(size), angel )\n",
    "#                     temp = np.array([box], np.int32)\n",
    "#                     cv2.polylines(img, temp, 1, (0, 255, 0), 1)\n",
    "#                     cv2.fillPoly(img, temp, 255)\n",
    "                else:\n",
    "                    #box = np.array([[xmin, ymin], [xmin, ymax], [xmax, ymax], [xmax, ymin]])\n",
    "#                     rect = ((0.5*(xmin+xmax), 0.5*(ymin+ymax))),(ymax-ymin, xmax -xmin), 0)\n",
    "                    continue\n",
    "                ann[name]['rect'][cls].append(rect)\n",
    "                ann[name][\"bbox\"][cls].append(bounding_box)\n",
    "                ann[name]['vis'][cls].append(np.array([box[0]*scale_factor, box[1]*scale_factor, box[2]*scale_factor, box[3]*scale_factor]))\n",
    "                poly = []\n",
    "                for point in box:\n",
    "                    poly.append(point[0])\n",
    "                    poly.append(point[1])\n",
    "                poly = np.array(poly, np.double)\n",
    "                poly = [poly*scale_factor]\n",
    "                rles = MASK.frPyObjects(poly, H, W)\n",
    "                rle = MASK.merge(rles)\n",
    "                ann[name][\"seg\"][cls].append(rle)\n",
    "    #cv2.imwrite(\"./vis/\"+filename, img)\n",
    "print(len(ann.keys()))\n",
    "    #coco_eval(result_file, eval_types, dataset.coco)\n",
    "    # nms\n",
    "    # toBbox\n",
    "    # box - mask - rle\n",
    "    # rles = maskUtils.frPyObjects(segm, h, w)\n",
    "       #     rle = maskUtils.merge(rles)\n",
    "mmcv.dump(ann, \"./result/eval_temp.pkl\")"
   ]
  },
  {
   "cell_type": "code",
   "execution_count": 7,
   "metadata": {
    "scrolled": true
   },
   "outputs": [
    {
     "data": {
      "application/vnd.jupyter.widget-view+json": {
       "model_id": "cc52c1ab71fa475eaf1cb33840cbfc08",
       "version_major": 2,
       "version_minor": 0
      },
      "text/plain": [
       "HBox(children=(IntProgress(value=0, max=593), HTML(value='')))"
      ]
     },
     "metadata": {},
     "output_type": "display_data"
    },
    {
     "name": "stdout",
     "output_type": "stream",
     "text": [
      "\n"
     ]
    }
   ],
   "source": [
    "def nms_rotate_cpu(boxes, scores, iou_threshold, max_output_size):\n",
    "    keep = []\n",
    "    order = scores.argsort()[::-1]\n",
    "    num = len(boxes)\n",
    "    suppressed = np.zeros((num), dtype=np.int)\n",
    "    for _i in range(num):\n",
    "        if len(keep) >= max_output_size:\n",
    "            break\n",
    "        i = order[_i]\n",
    "        if suppressed[i] == 1:\n",
    "            continue\n",
    "        keep.append(i)\n",
    "        r1 = boxes[i]\n",
    "        r1 = tuple(r1)\n",
    "        area_r1 = boxes[i][1][0] * boxes[i][1][1]\n",
    "        for _j in range(_i + 1, num):\n",
    "            j = order[_j]\n",
    "            if suppressed[i] == 1:\n",
    "                continue\n",
    "            r2 = boxes[j]\n",
    "            area_r2 = boxes[j][1][0] * boxes[j][1][1]\n",
    "            inter = 0.0\n",
    "            r2 = tuple(r2)\n",
    "            int_pts = cv2.rotatedRectangleIntersection(r1, r2)[1]\n",
    "            if int_pts is not None:\n",
    "                order_pts = cv2.convexHull(int_pts, returnPoints=True)\n",
    "                int_area = cv2.contourArea(order_pts)\n",
    "                inter = int_area * 1.0 / (area_r1 + area_r2 - int_area + 0.0000001)\n",
    "              #  inter = int_area * 1.0 / min(area_r1+1e-5, area_r2+1e-5)\n",
    "\n",
    "            if inter >= iou_threshold:\n",
    "                suppressed[j] = 1\n",
    "\n",
    "    return np.array(keep, np.int64)\n",
    "def rotate_nms(ann, thresh):\n",
    "    for name in tqdm(ann.keys()):\n",
    "        info = ann[name]\n",
    "        for cls in range(len(dataset.CLASSES)):\n",
    "            bbox = np.array(info['bbox'][cls], np.float32)\n",
    "            seg = np.array(info['seg'][cls])\n",
    "            vis = np.array(info['vis'][cls])\n",
    "            rect = info['rect'][cls]\n",
    "            if(len(bbox)<=0):\n",
    "                continue\n",
    "            scores = bbox[:, 4]\n",
    "            inds = nms_rotate_cpu(rect, scores, thresh, 1000)\n",
    "            ann[name]['bbox'][cls] = bbox[inds]\n",
    "            ann[name]['seg'][cls] = seg[inds]\n",
    "            ann[name]['vis'][cls] = vis[inds]\n",
    "#             ann[name]['rect'] =  rect[inds]\n",
    "    return ann\n",
    "thresh=0.5\n",
    "# result = copy.deepcopy(ann)\n",
    "ann = mmcv.load(\"./result/eval_temp.pkl\")\n",
    "result2 = rotate_nms(ann, thresh)\n",
    "mmcv.dump(result2, \"./result/eval_postnms.pkl\")"
   ]
  },
  {
   "cell_type": "code",
   "execution_count": 2,
   "metadata": {},
   "outputs": [
    {
     "data": {
      "application/vnd.jupyter.widget-view+json": {
       "model_id": "14bbf53005824640ba12e6269c04fc1e",
       "version_major": 2,
       "version_minor": 0
      },
      "text/plain": [
       "HBox(children=(IntProgress(value=0, max=593), HTML(value='')))"
      ]
     },
     "metadata": {},
     "output_type": "display_data"
    },
    {
     "name": "stdout",
     "output_type": "stream",
     "text": [
      "\n"
     ]
    }
   ],
   "source": [
    "from mmdet.ops.nms import nms_wrapper\n",
    "def nms(ann, thresh):\n",
    "    for name in tqdm(ann.keys()):\n",
    "        info = ann[name]\n",
    "        for cls in range(len(dataset.CLASSES)):\n",
    "            bbox = np.array(info['bbox'][cls], np.float32)\n",
    "            seg = np.array(info['seg'][cls])\n",
    "            vis = np.array(info['vis'][cls])\n",
    "            if(len(bbox)<=0):\n",
    "                continue\n",
    "            h, w = seg[0]['size']\n",
    "            #print(bbox.shape)\n",
    "            _, inds = nms_wrapper.nms(bbox, thresh)\n",
    "           # print(len(inds))\n",
    "            ann[name]['bbox'][cls] = bbox[inds]\n",
    "            ann[name]['seg'][cls] = seg[inds]\n",
    "            ann[name]['vis'][cls] = vis[inds]\n",
    "    return ann\n",
    "thresh=0.5\n",
    "# result = copy.deepcopy(ann)\n",
    "ann = mmcv.load(\"./result/eval_temp.pkl\")\n",
    "result2 = nms(ann, thresh)\n",
    "mmcv.dump(result2, \"./result/eval_postnms.pkl\")"
   ]
  },
  {
   "cell_type": "code",
   "execution_count": 3,
   "metadata": {},
   "outputs": [
    {
     "data": {
      "application/vnd.jupyter.widget-view+json": {
       "model_id": "b83840d25f7f40f0a522631cdf4d0c13",
       "version_major": 2,
       "version_minor": 0
      },
      "text/plain": [
       "HBox(children=(IntProgress(value=0, max=593), HTML(value='')))"
      ]
     },
     "metadata": {},
     "output_type": "display_data"
    },
    {
     "name": "stdout",
     "output_type": "stream",
     "text": [
      "\n",
      "tennis-court\n",
      "872\n",
      "container-crane\n",
      "28\n",
      "storage-tank\n",
      "3401\n",
      "baseball-diamond\n",
      "587\n",
      "plane\n",
      "2946\n",
      "ground-track-field\n",
      "439\n",
      "helicopter\n",
      "229\n",
      "airport\n",
      "170\n",
      "harbor\n",
      "3763\n",
      "ship\n",
      "16670\n",
      "large-vehicle\n",
      "11624\n",
      "swimming-pool\n",
      "1186\n",
      "soccer-ball-field\n",
      "284\n",
      "roundabout\n",
      "556\n",
      "basketball-court\n",
      "277\n",
      "bridge\n",
      "1872\n",
      "small-vehicle\n",
      "47891\n",
      "helipad\n",
      "0\n"
     ]
    }
   ],
   "source": [
    "result2 = mmcv.load(\"./result/eval_postnms.pkl\")\n",
    "names = list(result2.keys())\n",
    "res = { CLASSES[cls]: [] for cls in range(len(dataset.CLASSES)) }\n",
    "for name in tqdm(names):\n",
    "    result = result2[name]\n",
    "    bboxes = result[\"bbox\"]\n",
    "    segs = result['vis']\n",
    "    for cls in range(len(dataset.CLASSES)-1):\n",
    "        curr_class = CLASSES[cls]\n",
    "        bbox_cls = bboxes[cls]\n",
    "        seg_cls = segs[cls]\n",
    "        if( len(bbox_cls) > 0):\n",
    "            for bbox, rle in zip(bbox_cls, seg_cls):\n",
    "                rle = np.array(rle)\n",
    "                xmin, ymin, xmax, ymax, score = bbox\n",
    "                location = list(rle.flatten())\n",
    "                location = [str(int(x)) for x in location]\n",
    "                out = name + \" \"+str(score)+ \" \"+\" \".join(location)\n",
    "                res[curr_class].append(out)\n",
    "for key in res.keys():\n",
    "    print(key)\n",
    "    fp = open(\"./result/val_temp/\"+key+\".txt\", 'w')\n",
    "    print(len(res[key]))\n",
    "    for line in res[key]:\n",
    "        fp.write(line+\"\\n\")\n",
    "    fp.close()"
   ]
  },
  {
   "cell_type": "code",
   "execution_count": 4,
   "metadata": {
    "collapsed": true
   },
   "outputs": [],
   "source": [
    "from shapely.geometry import *\n",
    "def voc_ap(rec, prec, use_07_metric=False):\n",
    "    \"\"\" ap = voc_ap(rec, prec, [use_07_metric])\n",
    "      Compute VOC AP given precision and recall.\n",
    "      If use_07_metric is true, uses the\n",
    "      VOC 07 11 point method (default:False).\n",
    "    \"\"\"\n",
    "    if use_07_metric:\n",
    "        # 11 point metric\n",
    "        ap = 0.\n",
    "        for t in np.arange(0., 1.1, 0.1):\n",
    "            if np.sum(rec >= t) == 0:\n",
    "                p = 0\n",
    "            else:\n",
    "                p = np.max(prec[rec >= t])\n",
    "        ap = ap + p / 11.\n",
    "    else:\n",
    "        # correct AP calculation\n",
    "        # first append sentinel values at the end\n",
    "        # first appicend sentinel values at the end\n",
    "        mrec = np.concatenate(([0.], rec, [1.]))\n",
    "        mpre = np.concatenate(([0.], prec, [0.]))\n",
    "\n",
    "        # compute the precision envelope\n",
    "        for i in range(mpre.size - 1, 0, -1):\n",
    "            mpre[i - 1] = np.maximum(mpre[i - 1], mpre[i])\n",
    "\n",
    "        # to calculate area under PR curve, look for points\n",
    "        # where X axis (recall) changes value\n",
    "        i = np.where(mrec[1:] != mrec[:-1])[0]\n",
    "\n",
    "    # and sum (\\Delta recall) * prec\n",
    "        ap = np.sum((mrec[i + 1] - mrec[i]) * mpre[i + 1])\n",
    "    return ap\n",
    "def no_overlap(a, b):\n",
    "    xmin, xmax, ymin, ymax = a\n",
    "    gxmin, gxmax, gymin, gymax = b\n",
    "    if(xmax < gxmin or  ymin > gymax or gxmax < xmin or gymin > ymax):\n",
    "        return True\n",
    "    else:\n",
    "        return False\n",
    "def eval(classname, detpath, ovthresh, coco):\n",
    "    CLASS=['tennis-court', 'container-crane', 'storage-tank', 'baseball-diamond', 'plane', 'ground-track-field', 'helicopter', 'airport', 'harbor', 'ship', 'large-vehicle', 'swimming-pool', 'soccer-ball-field', 'roundabout', 'basketball-court', 'bridge', 'small-vehicle', 'helipad']\n",
    "    #CLASS={'tennis-court', 'container-crane', 'storage-tank', 'baseball-diamond', 'plane', 'ground-track-field', 'helicopter', 'airport', 'harbor', 'ship', 'large-vehicle', 'swimming-pool', 'soccer-ball-field', 'roundabout', 'basketball-court', 'bridge', 'small-vehicle', 'helipad'}\n",
    "    class_to_ind = dict(zip(CLASS, range(len(CLASS))))\n",
    "    imgIds = coco.getImgIds()\n",
    "    recs = {}\n",
    "    use_07_metric = False\n",
    "    for imgid in imgIds:\n",
    "        img = coco.loadImgs(imgid)[0]\n",
    "        file_name = img['file_name']\n",
    "        file_name = file_name.split(\".\")[0]\n",
    "        annIds = coco.getAnnIds(imgIds=[imgid], iscrowd=None)\n",
    "        anns = coco.loadAnns(annIds)\n",
    "        objects = []\n",
    "        for ann in anns:\n",
    "            obj = {}\n",
    "            obj['name'] = CLASS[ann['category_id']]\n",
    "            obj['bbox'] = ann['segmentation']\n",
    "            objects.append(obj)\n",
    "        recs[file_name] = objects\n",
    "    class_recs = {}\n",
    "    npos = 0\n",
    "    for filename in list(recs.keys()):\n",
    "        R = [obj for obj in recs[filename] if obj['name'] == classname]\n",
    "        bbox = np.array([x['bbox'] for x in R])\n",
    "        bbox = np.reshape(np.squeeze(bbox),(-1,4, 2))\n",
    "        det = [False] * len(R)\n",
    "        npos = npos + len(bbox)\n",
    "        class_recs[filename] = {'bbox': bbox,\n",
    "                                 'det': det}\n",
    "    detfile = detpath.format(classname)\n",
    "    with open(detfile, 'r') as f:\n",
    "        lines = f.readlines()\n",
    "\n",
    "    splitlines = [x.strip().split(' ') for x in lines]\n",
    "    image_ids = [x[0] for x in splitlines]\n",
    "    confidence = np.array([float(x[1]) for x in splitlines])\n",
    "    BB = np.array([[float(z) for z in x[2:]] for x in splitlines])\n",
    "    BB = np.reshape(BB, (-1, 4, 2))\n",
    "    nd = len(image_ids)\n",
    "    tp = np.zeros(nd)\n",
    "    fp = np.zeros(nd)\n",
    "    if BB.shape[0] > 0:\n",
    "        # sort by confidence\n",
    "        sorted_ind = np.argsort(-confidence)\n",
    "        sorted_scores = np.sort(-confidence)\n",
    "        BB = BB[sorted_ind, :]\n",
    "        image_ids = [image_ids[x] for x in sorted_ind]\n",
    "\n",
    "        # go down dets and mark TPs and FPs\n",
    "        for d in tqdm(range(nd)):\n",
    "            R = class_recs[image_ids[d]]\n",
    "            bb = BB[d, :].astype(float)\n",
    "            xmin = min(bb[:,0])\n",
    "            xmax = max(bb[:, 0])\n",
    "            ymin = min(bb[:, 1])\n",
    "            ymax = max(bb[:, 1])\n",
    "            ovmax = -np.inf\n",
    "            BBGT = R['bbox'].astype(float)\n",
    "            poly = Polygon(bb)\n",
    "            a1 = poly.area\n",
    "            overlaps = []\n",
    "            if BBGT.size > 0:\n",
    "                # compute overlaps\n",
    "                # intersection\n",
    "                for gt in BBGT:\n",
    "                    gxmin = min(gt[:,0])\n",
    "                    gxmax = max(gt[:, 0])\n",
    "                    gymin = min(gt[:, 1])\n",
    "                    gymax = max(gt[:, 1])\n",
    "                    if(no_overlap([xmin,xmax,ymin,ymax], [gxmin, gxmax, gymin, gymax])):\n",
    "                        overlaps.append(0)\n",
    "                        continue\n",
    "                    polyj = Polygon(gt)\n",
    "                    a2 = polyj.area\n",
    "                    inS = poly.intersection(polyj)\n",
    "                    over = inS.area\n",
    "                    iou = over/(a1+a2-over)\n",
    "                    overlaps.append(iou)\n",
    "                ovmax = np.max(overlaps)\n",
    "                jmax = np.argmax(overlaps)\n",
    "\n",
    "            if ovmax > ovthresh:\n",
    "                if not R['det'][jmax]:\n",
    "                    tp[d] = 1.\n",
    "                    R['det'][jmax] = 1\n",
    "                else:\n",
    "                    fp[d] = 1.\n",
    "            else:\n",
    "                fp[d] = 1.\n",
    "    fp = np.cumsum(fp)\n",
    "    tp = np.cumsum(tp)\n",
    "    rec = tp / float(npos)\n",
    "    # avoid divide by zero in case the first detection matches a difficult\n",
    "    # ground truth\n",
    "    prec = tp / np.maximum(tp + fp, np.finfo(np.float64).eps)\n",
    "    ap = voc_ap(rec, prec, use_07_metric)\n",
    "    print(\"ap of {} is {}\".format(classname, ap))\n",
    "    return ap"
   ]
  },
  {
   "cell_type": "code",
   "execution_count": 5,
   "metadata": {},
   "outputs": [
    {
     "name": "stdout",
     "output_type": "stream",
     "text": [
      "loading annotations into memory...\n",
      "Done (t=1.53s)\n",
      "creating index...\n",
      "index created!\n"
     ]
    },
    {
     "data": {
      "application/vnd.jupyter.widget-view+json": {
       "model_id": "c4404252fcd94a119f39bc24665cdfe7",
       "version_major": 2,
       "version_minor": 0
      },
      "text/plain": [
       "HBox(children=(IntProgress(value=0, max=18), HTML(value='')))"
      ]
     },
     "metadata": {},
     "output_type": "display_data"
    },
    {
     "name": "stdout",
     "output_type": "stream",
     "text": [
      "Waiting for all subprocesses done...\n",
      "Waiting for all subprocesses done...\n",
      "Waiting for all subprocesses done...\n",
      "Waiting for all subprocesses done...\n",
      "Waiting for all subprocesses done...\n",
      "Waiting for all subprocesses done...\n",
      "Waiting for all subprocesses done...\n",
      "Waiting for all subprocesses done...\n",
      "Waiting for all subprocesses done...\n",
      "Waiting for all subprocesses done...\n",
      "Waiting for all subprocesses done...\n",
      "Waiting for all subprocesses done...\n",
      "Waiting for all subprocesses done...\n",
      "Waiting for all subprocesses done...\n",
      "Waiting for all subprocesses done...\n",
      "Waiting for all subprocesses done...\n",
      "Waiting for all subprocesses done...\n",
      "Waiting for all subprocesses done...\n",
      "\n",
      "\n",
      "ap of container-crane is 0.0\n",
      "\n",
      "ap of tennis-court is 0.8927440728255629\n",
      "\n",
      "ap of baseball-diamond is 0.6455843381717935\n",
      "\n",
      "ap of ground-track-field is 0.5654651843887557\n",
      "ap of helicopter is 0.49758997404598193\n",
      "\n",
      "\n",
      "ap of airport is 0.07538094637637438\n",
      "\n",
      "ap of soccer-ball-field is 0.4050065964422841\n",
      "\n",
      "ap of roundabout is 0.6070949970423813\n",
      "\n",
      "ap of swimming-pool is 0.5490164080799977\n",
      "\n",
      "ap of basketball-court is 0.5576080607305718\n",
      "\n",
      "ap of bridge is 0.38430697996423113\n",
      "ap of helipad is 0.0\n",
      "\n",
      "ap of harbor is 0.6520923427129066\n",
      "\n",
      "ap of plane is 0.8340624589602297\n",
      "\n",
      "ap of storage-tank is 0.6341569681332972\n",
      "\n",
      "ap of large-vehicle is 0.7565165748033145\n",
      "\n",
      "ap of ship is 0.8468376523555314\n",
      "\n",
      "ap of small-vehicle is 0.4819293737716219\n",
      "All subprocesses done.\n",
      "map is 0.5214107182669354\n"
     ]
    }
   ],
   "source": [
    "from multiprocessing import Pool\n",
    "p = Pool()\n",
    "detpath=\"./result/val_temp/{}.txt\"\n",
    "CLASS=['tennis-court', 'container-crane', 'storage-tank', 'baseball-diamond', 'plane', 'ground-track-field', 'helicopter', 'airport', 'harbor', 'ship', 'large-vehicle', 'swimming-pool', 'soccer-ball-field', 'roundabout', 'basketball-court', 'bridge', 'small-vehicle', 'helipad']\n",
    "ovthresh = 0.5\n",
    "aps = []\n",
    "coco=COCO(\"/home/xfr/rssid/data/annotation/annos_rscup_val.json\")\n",
    "for classname in tqdm(CLASS):\n",
    "    aps.append(p.apply_async(eval, args=(classname, detpath, ovthresh, coco)))\n",
    "    print('Waiting for all subprocesses done...')\n",
    "p.close()\n",
    "p.join()\n",
    "print('All subprocesses done.')\n",
    "ret = []\n",
    "for ap in aps:\n",
    "    ret.append(ap.get())\n",
    "print(\"map is {}\".format(np.mean(np.array(ret))))\n",
    "    \n",
    "#     ap = eval(classname, detpath, overthresh, coco)\n",
    "#     print(\"ap of {} is {}\".format(classname, ap))\n",
    "#     aps.append(ap)\n",
    "# aps = np.array(aps)\n",
    "# print(\"map is {}\".format(np.mean(aps)))"
   ]
  },
  {
   "cell_type": "code",
   "execution_count": 15,
   "metadata": {},
   "outputs": [
    {
     "name": "stdout",
     "output_type": "stream",
     "text": [
      "loading annotations into memory...\n",
      "Done (t=0.42s)\n",
      "creating index...\n",
      "index created!\n"
     ]
    },
    {
     "data": {
      "application/vnd.jupyter.widget-view+json": {
       "model_id": "ab17b4052e4f4d6dab592f34fca8a5cf",
       "version_major": 2,
       "version_minor": 0
      },
      "text/plain": [
       "HBox(children=(IntProgress(value=0, max=593), HTML(value='')))"
      ]
     },
     "metadata": {},
     "output_type": "display_data"
    },
    {
     "name": "stdout",
     "output_type": "stream",
     "text": [
      "\n"
     ]
    }
   ],
   "source": [
    "result2 = mmcv.load(\"./result/eval_postnms.pkl\")\n",
    "ann = result2\n",
    "cfg = mmcv.Config.fromfile(\"configs/rs_test.py\")\n",
    "dataset = build_dataset(cfg.data.val)\n",
    "for idx in tqdm(range(len(dataset))):\n",
    "    img_info = dataset.img_infos[idx]\n",
    "    img = cv2.imread(\"/home/xfr/rssid/data/val/images/\"+img_info['filename'])\n",
    "    filename = img_info['filename'].split(\".\")[0]\n",
    "    info = ann[filename]\n",
    "    seg = info['vis']\n",
    "    box = info['bbox']\n",
    "    for cls in range(len(dataset.CLASSES)):\n",
    "        polys = seg[cls]\n",
    "        boxes = box[cls]\n",
    "        for poly, b in zip(polys, boxes):\n",
    "            temp = np.array([poly], np.int32)\n",
    "            cv2.putText(img, CLASSES[cls], (int(b[0]), int(b[1])), cv2.FONT_HERSHEY_COMPLEX, 1, (0, 0, 255), 2)\n",
    "            cv2.polylines(img, temp, 1, (0, 255, 0), 1)\n",
    "    cv2.imwrite(\"./result/val/{}\".format(filename)+\".jpg\", img)"
   ]
  },
  {
   "cell_type": "code",
   "execution_count": 77,
   "metadata": {
    "collapsed": true
   },
   "outputs": [],
   "source": [
    "import mmcv\n",
    "import numpy as np\n",
    "from pycocotools.coco import COCO\n",
    "from pycocotools.cocoeval import COCOeval\n",
    "\n",
    "\n",
    "def coco_eval(result_files, result_types, coco, max_dets=(100, 300, 1000)):\n",
    "    for res_type in result_types:\n",
    "        assert res_type in [\n",
    "            'proposal', 'proposal_fast', 'bbox', 'segm', 'keypoints'\n",
    "        ]\n",
    "\n",
    "    if mmcv.is_str(coco):\n",
    "        coco = COCO(coco)\n",
    "    assert isinstance(coco, COCO)\n",
    "\n",
    "    if result_types == ['proposal_fast']:\n",
    "        ar = fast_eval_recall(result_files, coco, np.array(max_dets))\n",
    "        for i, num in enumerate(max_dets):\n",
    "            print('AR@{}\\t= {:.4f}'.format(num, ar[i]))\n",
    "        return\n",
    "\n",
    "    for res_type in result_types:\n",
    "        result_file = result_files[res_type]\n",
    "        assert result_file.endswith('.json')\n",
    "\n",
    "        coco_dets = coco.loadRes(result_file)\n",
    "        \n",
    "        img_ids = coco.getImgIds()\n",
    "        iou_type = 'bbox' if res_type == 'proposal' else res_type\n",
    "        cocoEval = COCOeval(coco, coco_dets, iou_type)\n",
    "#         for cls in range(18):\n",
    "#             cocoEval.params.catIds = [cls]\n",
    "#             print(cocoEval.params)\n",
    "#             print(\"------------------------------------------\",CLASSES[cls],\"----------------------------------------------\")\n",
    "        cocoEval.params.imgIds = img_ids\n",
    "        cocoEval.params.maxDets = [100, 100, 100]\n",
    "        if res_type == 'proposal':\n",
    "            cocoEval.params.useCats = 0\n",
    "            cocoEval.params.maxDets = list(max_dets)\n",
    "\n",
    "        cocoEval.evaluate()\n",
    "        cocoEval.accumulate()\n",
    "        cocoEval.summarize()\n"
   ]
  },
  {
   "cell_type": "code",
   "execution_count": 47,
   "metadata": {},
   "outputs": [
    {
     "name": "stdout",
     "output_type": "stream",
     "text": [
      "loading annotations into memory...\n",
      "Done (t=0.46s)\n",
      "creating index...\n",
      "index created!\n"
     ]
    },
    {
     "data": {
      "application/vnd.jupyter.widget-view+json": {
       "model_id": "98f574b0af4446e5a7cdaea0c2d2a966",
       "version_major": 2,
       "version_minor": 0
      },
      "text/plain": [
       "HBox(children=(IntProgress(value=0, max=593), HTML(value='')))"
      ]
     },
     "metadata": {},
     "output_type": "display_data"
    },
    {
     "name": "stdout",
     "output_type": "stream",
     "text": [
      "\n"
     ]
    }
   ],
   "source": [
    "ann = mmcv.load(\"./result/eval_temp.pkl\")\n",
    "cfg = mmcv.Config.fromfile(\"configs/rs_test.py\")\n",
    "dataset = build_dataset(cfg.data.val)\n",
    "for idx in tqdm(range(len(dataset))):\n",
    "    img_info = dataset.img_infos[idx]\n",
    "    img = cv2.imread(\"/home/xfr/rssid/data/val/images/\"+img_info['filename'])\n",
    "    filename = img_info['filename'].split(\".\")[0]\n",
    "    info = ann[filename]\n",
    "    seg = info['vis']\n",
    "    for cls in range(len(dataset.CLASSES)):\n",
    "        polys = seg[cls]\n",
    "        for poly in polys:\n",
    "            temp = np.array([poly], np.int32)\n",
    "            cv2.polylines(img, temp, 1, (0, 255, 0), 1)\n",
    "    cv2.imwrite(\"./result/prenms/{}\".format(filename)+\".jpg\", img)"
   ]
  },
  {
   "cell_type": "code",
   "execution_count": 78,
   "metadata": {},
   "outputs": [
    {
     "name": "stdout",
     "output_type": "stream",
     "text": [
      "loading annotations into memory...\n",
      "Done (t=1.44s)\n",
      "creating index...\n",
      "index created!\n",
      "Loading and preparing results...\n",
      "DONE (t=2.70s)\n",
      "creating index...\n",
      "index created!\n",
      "Running per image evaluation...\n",
      "Evaluate annotation type *segm*\n",
      "DONE (t=184.62s).\n",
      "Accumulating evaluation results...\n",
      "DONE (t=1.54s).\n",
      " Average Precision  (AP) @[ IoU=0.50:0.95 | area=   all | maxDets=100 ] = 0.327\n",
      " Average Precision  (AP) @[ IoU=0.50      | area=   all | maxDets=100 ] = 0.564\n",
      " Average Precision  (AP) @[ IoU=0.75      | area=   all | maxDets=100 ] = 0.338\n",
      " Average Precision  (AP) @[ IoU=0.50:0.95 | area= small | maxDets=100 ] = 0.196\n",
      " Average Precision  (AP) @[ IoU=0.50:0.95 | area=medium | maxDets=100 ] = 0.357\n",
      " Average Precision  (AP) @[ IoU=0.50:0.95 | area= large | maxDets=100 ] = 0.478\n",
      " Average Recall     (AR) @[ IoU=0.50:0.95 | area=   all | maxDets=100 ] = 0.398\n",
      " Average Recall     (AR) @[ IoU=0.50:0.95 | area=   all | maxDets=100 ] = 0.398\n",
      " Average Recall     (AR) @[ IoU=0.50:0.95 | area=   all | maxDets=100 ] = 0.398\n",
      " Average Recall     (AR) @[ IoU=0.50:0.95 | area= small | maxDets=100 ] = 0.268\n",
      " Average Recall     (AR) @[ IoU=0.50:0.95 | area=medium | maxDets=100 ] = 0.425\n",
      " Average Recall     (AR) @[ IoU=0.50:0.95 | area= large | maxDets=100 ] = 0.573\n"
     ]
    }
   ],
   "source": [
    "from mmdet.core import results2json\n",
    "outputs = []\n",
    "ann = mmcv.load(\"postnms.pkl\")\n",
    "cfg = mmcv.Config.fromfile(\"configs/rs_test.py\")\n",
    "dataset = build_dataset(cfg.data.val)\n",
    "for idx in range(len(dataset)):\n",
    "    img_info = dataset.img_infos[idx]\n",
    "    filename = img_info['filename'].split(\".\")[0]\n",
    "    if filename not in ann:\n",
    "        #print(filename)\n",
    "        ann[filename] = {\"bbox\": [np.array([]) for i in range(len(dataset.CLASSES))], \"seg\":[[] for i in range(len(dataset.CLASSES))]}\n",
    "    info = ann[filename]\n",
    "    #print(info['seg'][0])\n",
    "    m = np.array(info['bbox'])\n",
    "    for i in range(len(m)):\n",
    "        m[i] = np.array(m[i])\n",
    "    temp = (m, info['seg'])\n",
    "    outputs.append(temp)\n",
    "result_files = results2json(dataset, outputs, \"xx\")\n",
    "coco_eval(result_files, ['segm'], dataset.coco)"
   ]
  },
  {
   "cell_type": "code",
   "execution_count": 17,
   "metadata": {},
   "outputs": [
    {
     "name": "stdout",
     "output_type": "stream",
     "text": [
      "loading annotations into memory...\n",
      "Done (t=1.20s)\n",
      "creating index...\n",
      "index created!\n"
     ]
    },
    {
     "data": {
      "application/vnd.jupyter.widget-view+json": {
       "model_id": "3f401cba14b44c4a9657471e3646a1de",
       "version_major": 2,
       "version_minor": 0
      },
      "text/plain": [
       "HBox(children=(IntProgress(value=0, max=18), HTML(value='')))"
      ]
     },
     "metadata": {},
     "output_type": "display_data"
    },
    {
     "data": {
      "application/vnd.jupyter.widget-view+json": {
       "model_id": "1edc604a2c9d4f1b8deb8449f8f768a2",
       "version_major": 2,
       "version_minor": 0
      },
      "text/plain": [
       "HBox(children=(IntProgress(value=0, max=966), HTML(value='')))"
      ]
     },
     "metadata": {},
     "output_type": "display_data"
    },
    {
     "name": "stdout",
     "output_type": "stream",
     "text": [
      "ap of tennis-court is 0.9461078239129896\n",
      "ap of tennis-court is 0.9461078239129896\n"
     ]
    },
    {
     "data": {
      "application/vnd.jupyter.widget-view+json": {
       "model_id": "23ac2984c16f492e8c398bedbfde933d",
       "version_major": 2,
       "version_minor": 0
      },
      "text/plain": [
       "HBox(children=(IntProgress(value=0, max=49), HTML(value='')))"
      ]
     },
     "metadata": {},
     "output_type": "display_data"
    },
    {
     "name": "stdout",
     "output_type": "stream",
     "text": [
      "ap of container-crane is 0.011904761904761904\n",
      "ap of container-crane is 0.011904761904761904\n"
     ]
    },
    {
     "data": {
      "application/vnd.jupyter.widget-view+json": {
       "model_id": "4a2181e6d98d41b1a339a5c2411f70fb",
       "version_major": 2,
       "version_minor": 0
      },
      "text/plain": [
       "HBox(children=(IntProgress(value=0, max=3192), HTML(value='')))"
      ]
     },
     "metadata": {},
     "output_type": "display_data"
    },
    {
     "name": "stdout",
     "output_type": "stream",
     "text": [
      "ap of storage-tank is 0.6423659993901099\n",
      "ap of storage-tank is 0.6423659993901099\n"
     ]
    },
    {
     "data": {
      "application/vnd.jupyter.widget-view+json": {
       "model_id": "7576917d99814b9e807ca0a8a6129e60",
       "version_major": 2,
       "version_minor": 0
      },
      "text/plain": [
       "HBox(children=(IntProgress(value=0, max=408), HTML(value='')))"
      ]
     },
     "metadata": {},
     "output_type": "display_data"
    },
    {
     "name": "stdout",
     "output_type": "stream",
     "text": [
      "ap of baseball-diamond is 0.8416521148635843\n",
      "ap of baseball-diamond is 0.8416521148635843\n"
     ]
    },
    {
     "data": {
      "application/vnd.jupyter.widget-view+json": {
       "model_id": "07860c026ead4ab1adfb0223b15d6391",
       "version_major": 2,
       "version_minor": 0
      },
      "text/plain": [
       "HBox(children=(IntProgress(value=0, max=3289), HTML(value='')))"
      ]
     },
     "metadata": {},
     "output_type": "display_data"
    },
    {
     "name": "stdout",
     "output_type": "stream",
     "text": [
      "ap of plane is 0.9075101643210136\n",
      "ap of plane is 0.9075101643210136\n"
     ]
    },
    {
     "data": {
      "application/vnd.jupyter.widget-view+json": {
       "model_id": "124e69f94958463eae22b43d633c01c6",
       "version_major": 2,
       "version_minor": 0
      },
      "text/plain": [
       "HBox(children=(IntProgress(value=0, max=394), HTML(value='')))"
      ]
     },
     "metadata": {},
     "output_type": "display_data"
    },
    {
     "name": "stdout",
     "output_type": "stream",
     "text": [
      "ap of ground-track-field is 0.8132392946479243\n",
      "ap of ground-track-field is 0.8132392946479243\n"
     ]
    },
    {
     "data": {
      "application/vnd.jupyter.widget-view+json": {
       "model_id": "8b4fecd7e7a147a1b4632751c1cddbf8",
       "version_major": 2,
       "version_minor": 0
      },
      "text/plain": [
       "HBox(children=(IntProgress(value=0, max=187), HTML(value='')))"
      ]
     },
     "metadata": {},
     "output_type": "display_data"
    },
    {
     "name": "stdout",
     "output_type": "stream",
     "text": [
      "ap of helicopter is 0.6585310938833637\n",
      "ap of helicopter is 0.6585310938833637\n"
     ]
    },
    {
     "data": {
      "application/vnd.jupyter.widget-view+json": {
       "model_id": "a33830d425a847de8941d545710cc3f5",
       "version_major": 2,
       "version_minor": 0
      },
      "text/plain": [
       "HBox(children=(IntProgress(value=0, max=310), HTML(value='')))"
      ]
     },
     "metadata": {},
     "output_type": "display_data"
    },
    {
     "name": "stdout",
     "output_type": "stream",
     "text": [
      "ap of airport is 0.5767733008167736\n",
      "ap of airport is 0.5767733008167736\n"
     ]
    },
    {
     "data": {
      "application/vnd.jupyter.widget-view+json": {
       "model_id": "c616483e2fa944df8af1fd5ca300067c",
       "version_major": 2,
       "version_minor": 0
      },
      "text/plain": [
       "HBox(children=(IntProgress(value=0, max=5202), HTML(value='')))"
      ]
     },
     "metadata": {},
     "output_type": "display_data"
    },
    {
     "name": "stdout",
     "output_type": "stream",
     "text": [
      "ap of harbor is 0.7092265062662213\n",
      "ap of harbor is 0.7092265062662213\n"
     ]
    },
    {
     "data": {
      "application/vnd.jupyter.widget-view+json": {
       "model_id": "9700b3b9cf9f4ecaa0a64ac01248e583",
       "version_major": 2,
       "version_minor": 0
      },
      "text/plain": [
       "HBox(children=(IntProgress(value=0, max=19504), HTML(value='')))"
      ]
     },
     "metadata": {},
     "output_type": "display_data"
    },
    {
     "name": "stdout",
     "output_type": "stream",
     "text": [
      "ap of ship is 0.85020379116034\n",
      "ap of ship is 0.85020379116034\n"
     ]
    },
    {
     "data": {
      "application/vnd.jupyter.widget-view+json": {
       "model_id": "82253f93319846288a2506ef2285463f",
       "version_major": 2,
       "version_minor": 0
      },
      "text/plain": [
       "HBox(children=(IntProgress(value=0, max=13016), HTML(value='')))"
      ]
     },
     "metadata": {},
     "output_type": "display_data"
    },
    {
     "name": "stdout",
     "output_type": "stream",
     "text": [
      "ap of large-vehicle is 0.7728940465363776\n",
      "ap of large-vehicle is 0.7728940465363776\n"
     ]
    },
    {
     "data": {
      "application/vnd.jupyter.widget-view+json": {
       "model_id": "8ba9458be867484a84f951edbcc4bc76",
       "version_major": 2,
       "version_minor": 0
      },
      "text/plain": [
       "HBox(children=(IntProgress(value=0, max=1442), HTML(value='')))"
      ]
     },
     "metadata": {},
     "output_type": "display_data"
    },
    {
     "name": "stdout",
     "output_type": "stream",
     "text": [
      "ap of swimming-pool is 0.5635800413204949\n",
      "ap of swimming-pool is 0.5635800413204949\n"
     ]
    },
    {
     "data": {
      "application/vnd.jupyter.widget-view+json": {
       "model_id": "334c3556e3f44d32a29365d52ae6edaa",
       "version_major": 2,
       "version_minor": 0
      },
      "text/plain": [
       "HBox(children=(IntProgress(value=0, max=333), HTML(value='')))"
      ]
     },
     "metadata": {},
     "output_type": "display_data"
    },
    {
     "name": "stdout",
     "output_type": "stream",
     "text": [
      "ap of soccer-ball-field is 0.6242170684009745\n",
      "ap of soccer-ball-field is 0.6242170684009745\n"
     ]
    },
    {
     "data": {
      "application/vnd.jupyter.widget-view+json": {
       "model_id": "2ccfe97c1e7e4a599fa1317f2985c5f9",
       "version_major": 2,
       "version_minor": 0
      },
      "text/plain": [
       "HBox(children=(IntProgress(value=0, max=414), HTML(value='')))"
      ]
     },
     "metadata": {},
     "output_type": "display_data"
    },
    {
     "name": "stdout",
     "output_type": "stream",
     "text": [
      "ap of roundabout is 0.6920844814776893\n",
      "ap of roundabout is 0.6920844814776893\n"
     ]
    },
    {
     "data": {
      "application/vnd.jupyter.widget-view+json": {
       "model_id": "d875476935094b31a10fa08e7c819a9d",
       "version_major": 2,
       "version_minor": 0
      },
      "text/plain": [
       "HBox(children=(IntProgress(value=0, max=377), HTML(value='')))"
      ]
     },
     "metadata": {},
     "output_type": "display_data"
    },
    {
     "name": "stdout",
     "output_type": "stream",
     "text": [
      "ap of basketball-court is 0.6834833805051985\n",
      "ap of basketball-court is 0.6834833805051985\n"
     ]
    },
    {
     "data": {
      "application/vnd.jupyter.widget-view+json": {
       "model_id": "35031edb509a44aabc74c607647afb1d",
       "version_major": 2,
       "version_minor": 0
      },
      "text/plain": [
       "HBox(children=(IntProgress(value=0, max=1238), HTML(value='')))"
      ]
     },
     "metadata": {},
     "output_type": "display_data"
    },
    {
     "name": "stdout",
     "output_type": "stream",
     "text": [
      "ap of bridge is 0.4487948537678508\n",
      "ap of bridge is 0.4487948537678508\n"
     ]
    },
    {
     "data": {
      "application/vnd.jupyter.widget-view+json": {
       "model_id": "7e54e399fa604f4892783aa55593801d",
       "version_major": 2,
       "version_minor": 0
      },
      "text/plain": [
       "HBox(children=(IntProgress(value=0, max=47524), HTML(value='')))"
      ]
     },
     "metadata": {},
     "output_type": "display_data"
    },
    {
     "name": "stdout",
     "output_type": "stream",
     "text": [
      "ap of small-vehicle is 0.4905447846177097\n",
      "ap of small-vehicle is 0.4905447846177097\n",
      "ap of helipad is 0.0\n",
      "ap of helipad is 0.0\n",
      "\n",
      "map is 0.6240618615440766\n"
     ]
    }
   ],
   "source": [
    "detpath=\"./result/val_temp/{}.txt\"\n",
    "CLASS=['tennis-court', 'container-crane', 'storage-tank', 'baseball-diamond', 'plane', 'ground-track-field', 'helicopter', 'airport', 'harbor', 'ship', 'large-vehicle', 'swimming-pool', 'soccer-ball-field', 'roundabout', 'basketball-court', 'bridge', 'small-vehicle', 'helipad']\n",
    "ovthresh = 0.5\n",
    "aps = []\n",
    "coco=COCO(\"/home/xfr/rssid/data/annotation/annos_rscup_val.json\")\n",
    "for classname in tqdm(CLASS):\n",
    "    ap = eval(classname, detpath, ovthresh, coco)\n",
    "    print(\"ap of {} is {}\".format(classname, ap))\n",
    "    aps.append(ap)\n",
    "aps = np.array(aps)\n",
    "print(\"map is {}\".format(np.mean(aps)))"
   ]
  },
  {
   "cell_type": "code",
   "execution_count": 18,
   "metadata": {},
   "outputs": [
    {
     "ename": "NameError",
     "evalue": "name 'long_time_task' is not defined",
     "output_type": "error",
     "traceback": [
      "\u001b[0;31m---------------------------------------------------------------------------\u001b[0m",
      "\u001b[0;31mNameError\u001b[0m                                 Traceback (most recent call last)",
      "\u001b[0;32m<ipython-input-18-f24ec271400d>\u001b[0m in \u001b[0;36m<module>\u001b[0;34m\u001b[0m\n\u001b[1;32m      2\u001b[0m \u001b[0mp\u001b[0m \u001b[0;34m=\u001b[0m \u001b[0mPool\u001b[0m\u001b[0;34m(\u001b[0m\u001b[0;34m)\u001b[0m\u001b[0;34m\u001b[0m\u001b[0;34m\u001b[0m\u001b[0m\n\u001b[1;32m      3\u001b[0m \u001b[0;32mfor\u001b[0m \u001b[0mi\u001b[0m \u001b[0;32min\u001b[0m \u001b[0mrange\u001b[0m\u001b[0;34m(\u001b[0m\u001b[0;36m5\u001b[0m\u001b[0;34m)\u001b[0m\u001b[0;34m:\u001b[0m\u001b[0;34m\u001b[0m\u001b[0;34m\u001b[0m\u001b[0m\n\u001b[0;32m----> 4\u001b[0;31m     \u001b[0mp\u001b[0m\u001b[0;34m.\u001b[0m\u001b[0mapply_async\u001b[0m\u001b[0;34m(\u001b[0m\u001b[0mlong_time_task\u001b[0m\u001b[0;34m,\u001b[0m \u001b[0margs\u001b[0m\u001b[0;34m=\u001b[0m\u001b[0;34m(\u001b[0m\u001b[0mi\u001b[0m\u001b[0;34m,\u001b[0m\u001b[0;34m)\u001b[0m\u001b[0;34m)\u001b[0m\u001b[0;34m\u001b[0m\u001b[0;34m\u001b[0m\u001b[0m\n\u001b[0m\u001b[1;32m      5\u001b[0m     \u001b[0mprint\u001b[0m\u001b[0;34m(\u001b[0m\u001b[0;34m'Waiting for all subprocesses done...'\u001b[0m\u001b[0;34m)\u001b[0m\u001b[0;34m\u001b[0m\u001b[0;34m\u001b[0m\u001b[0m\n\u001b[1;32m      6\u001b[0m     \u001b[0mp\u001b[0m\u001b[0;34m.\u001b[0m\u001b[0mclose\u001b[0m\u001b[0;34m(\u001b[0m\u001b[0;34m)\u001b[0m\u001b[0;34m\u001b[0m\u001b[0;34m\u001b[0m\u001b[0m\n",
      "\u001b[0;31mNameError\u001b[0m: name 'long_time_task' is not defined"
     ]
    }
   ],
   "source": [
    "from multiprocessing import Pool\n",
    "p = Pool()\n",
    "for i in range(5):\n",
    "    p.apply_async(long_time_task, args=(i,))\n",
    "    print('Waiting for all subprocesses done...')\n",
    "    p.close()\n",
    "    p.join()\n",
    "    print('All subprocesses done.')"
   ]
  },
  {
   "cell_type": "code",
   "execution_count": null,
   "metadata": {
    "collapsed": true
   },
   "outputs": [],
   "source": [
    "from shapely.geometry import *\n",
    "import copy\n",
    "import time\n",
    "def py_cpu_pnms(dets, pts, thresh):\n",
    "    dets = np.array(dets)\n",
    "    pts = np.array(pts)\n",
    "    scores = dets[:, 4]\n",
    "    order = scores.argsort()[::-1]\n",
    "    areas = np.zeros(scores.shape)\n",
    "    inter_areas = np.zeros((scores.shape[0], scores.shape[0]))\n",
    "    for il in range(len(pts)):\n",
    "        poly = Polygon(pts[il])\n",
    "        areas[il] = poly.area\n",
    "        for jl in range(il, len(pts)):\n",
    "            polyj = Polygon(pts[jl])\n",
    "            inS = poly.intersection(polyj)\n",
    "            inter_areas[il][jl] = inS.area\n",
    "            inter_areas[jl][il] = inS.area\n",
    "\n",
    "    keep = []\n",
    "    while order.size > 0:\n",
    "        i = order[0]\n",
    "        keep.append(i)\n",
    "        ovr = inter_areas[i][order[1:]] / (areas[i] + areas[order[1:]] - inter_areas[i][order[1:]])\n",
    "        inds = np.where(ovr <= thresh)[0]\n",
    "        order = order[inds + 1]\n",
    "    return np.array(keep, np.int32)\n",
    "def nms(ann, thresh):\n",
    "    \n",
    "    for name in tqdm(ann.keys()):\n",
    "        info = ann[name]\n",
    "        for cls in range(len(dataset.CLASSES)):\n",
    "            bbox = np.array(info['bbox'][cls])\n",
    "           \n",
    "            seg = np.array(info['seg'][cls])\n",
    "            vis = np.array(info['vis'][cls])\n",
    "            if(len(bbox)<=0):\n",
    "                continue\n",
    "            t1 = time.time()\n",
    "            h, w = seg[0]['size']\n",
    "            bbox_result = []\n",
    "            seg_result = []\n",
    "            vis_result = []\n",
    "            tm = time.time()\n",
    "            maps = np.zeros((h, w))\n",
    "            for box in bbox:\n",
    "                xmin, ymin, xmax, ymax , score = box\n",
    "                maps[int(ymin):int(ymax), int(xmin):int(xmax)] = 1\n",
    "#             for a in seg:\n",
    "#                 m = MASK.decode(a)\n",
    "#                 maps.append(m)\n",
    "#             maps = np.sum(np.array(maps), axis=0)\n",
    "#             maps[maps>=1] = 1\n",
    "            tn = time.time()\n",
    "            kernel = np.ones((5,5),np.uint8) \n",
    "            maps = cv2.dilate(maps,kernel,iterations = 1)\n",
    "            contours, hierarchy = cv2.findContours((maps).astype(np.uint8), cv2.RETR_TREE,\n",
    "                                                                 cv2.CHAIN_APPROX_SIMPLE)\n",
    "            for contour in contours:\n",
    "                xmin, ymin, w, h = cv2.boundingRect(contour)\n",
    "                xmax = xmin+w\n",
    "                ymax = ymin+h\n",
    "                region_box = []\n",
    "                region_mask = []\n",
    "                region_vis = []\n",
    "                for i, bb in enumerate(bbox):\n",
    "                    if(bb[0]>=xmin and bb[1]>=ymin and bb[2]<=xmax and bb[3]<=ymax):\n",
    "                        region_box.append(bbox[i])\n",
    "                        region_mask.append(seg[i])\n",
    "                        region_vis.append(vis[i])\n",
    "                if(len(region_box) <= 0):\n",
    "                    continue\n",
    "                keep_ind = py_cpu_pnms(region_box, region_vis, thresh)\n",
    "                bbox_result += list(np.array(region_box)[keep_ind])\n",
    "                seg_result += list(np.array(region_mask)[keep_ind])\n",
    "                vis_result += list(np.array(region_vis)[keep_ind])\n",
    "            ann[name]['bbox'][cls] = bbox_result\n",
    "            ann[name]['seg'][cls] = seg_result\n",
    "            ann[name]['vis'][cls] = vis_result\n",
    "            t2 = time.time()\n",
    "                \n",
    "    return ann\n",
    "thresh=0.5\n",
    "# result = copy.deepcopy(ann)\n",
    "ann = mmcv.load(\"eval_temp.pkl\")\n",
    "result = nms(ann, thresh)\n"
   ]
  }
 ],
 "metadata": {
  "kernelspec": {
   "display_name": "mm",
   "language": "python",
   "name": "mmdet"
  },
  "language_info": {
   "codemirror_mode": {
    "name": "ipython",
    "version": 3
   },
   "file_extension": ".py",
   "mimetype": "text/x-python",
   "name": "python",
   "nbconvert_exporter": "python",
   "pygments_lexer": "ipython3",
   "version": "3.6.8"
  }
 },
 "nbformat": 4,
 "nbformat_minor": 2
}
