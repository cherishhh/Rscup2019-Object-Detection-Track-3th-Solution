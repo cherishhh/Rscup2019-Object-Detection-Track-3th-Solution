{
 "cells": [
  {
   "cell_type": "code",
   "execution_count": 152,
   "metadata": {},
   "outputs": [
    {
     "name": "stdout",
     "output_type": "stream",
     "text": [
      "loading annotations into memory...\n",
      "Done (t=0.18s)\n",
      "creating index...\n",
      "index created!\n",
      "loading annotations into memory...\n",
      "Done (t=2.83s)\n",
      "creating index...\n",
      "index created!\n"
     ]
    },
    {
     "data": {
      "application/vnd.jupyter.widget-view+json": {
       "model_id": "d2ab6c6231d04c5a87e80bc1c7a4bb26",
       "version_major": 2,
       "version_minor": 0
      },
      "text/plain": [
       "HBox(children=(IntProgress(value=0, max=14156), HTML(value='')))"
      ]
     },
     "metadata": {},
     "output_type": "display_data"
    },
    {
     "name": "stdout",
     "output_type": "stream",
     "text": [
      "593\n"
     ]
    }
   ],
   "source": [
    "import pickle\n",
    "import json\n",
    "import mmcv\n",
    "from tqdm import tqdm_notebook as tqdm\n",
    "from mmdet.datasets import build_dataloader, get_dataset\n",
    "from pycocotools.coco import COCO\n",
    "import pycocotools.coco as cocoapi\n",
    "import pycocotools.mask as MASK\n",
    "import os\n",
    "import cv2\n",
    "from icecream import ic\n",
    "import matplotlib.pyplot as plt\n",
    "from mmdet.models import build_detector\n",
    "from mmcv.runner import load_checkpoint, get_dist_info\n",
    "import numpy as np\n",
    "def get_original_size(name):\n",
    "    datadir = \"/home/xfr/rssid/data/val/images/\"\n",
    "    files = os.listdir(datadir)\n",
    "    img_name = \"\"\n",
    "    for file in files:\n",
    "        img_name = file.split(\".\")[0]\n",
    "        if(img_name == name):\n",
    "            break\n",
    "    filename = os.path.join(datadir, file)\n",
    "    img = cv2.imread(filename)\n",
    "    h, w, _ = img.shape\n",
    "    return h,w\n",
    "CLASSES = ('tennis-court', 'container-crane', 'storage-tank', 'baseball-diamond', 'plane','ground-track-field',\n",
    "               'helicopter', 'airport','harbor', 'ship', 'large-vehicle', 'swimming-pool', 'soccer-ball-field',\n",
    "               'roundabout', 'basketball-court', 'bridge', 'small-vehicle', 'helipad')\n",
    "cfg = mmcv.Config.fromfile(\"configs/rs_cascade_mask_rcnn_r50_fpn_1x.py\")\n",
    "results = mmcv.load(\"new_result.pkl\")\n",
    "dataset = get_dataset(cfg.data.test)\n",
    "img_infos = dataset.load_annotations(\"/home/xfr/mmdetection/data/rscup/annotation/annos_rscup_val.json\")\n",
    "ann = {}\n",
    "last_name = \"\"\n",
    "last = \"\"\n",
    "for i in tqdm(range(len(results))):\n",
    "    filename = img_infos[i]['filename']\n",
    "    img = cv2.imread(\"./data/rscup/val/\" + filename)\n",
    "    h, w, _ = img.shape\n",
    "    items = filename.split(\"_\")\n",
    "    name = items[0]\n",
    "    if(name == last_name):\n",
    "        H, W = last\n",
    "    else:\n",
    "        H, W = get_original_size(name)\n",
    "    last_name = name\n",
    "    last = (H, W)\n",
    "    if name not in ann:\n",
    "        ann[name] = {\"bbox\": [[] for i in range(len(dataset.CLASSES))], \"seg\": [[] for i in range(len(dataset.CLASSES))],\n",
    "                     \"vis\": [[] for i in range(len(dataset.CLASSES))]}\n",
    "#         ann[name][\"mask\"] = np.zeros((H,W))\n",
    "    scale_factor = 1/float(items[1])\n",
    "    locx = int(float(items[2]))\n",
    "    locy = int(float(items[3]))\n",
    "    result = results[i]\n",
    "    bboxes = result[0]\n",
    "    segs = result[1]\n",
    "    for cls in range(len(dataset.CLASSES)):\n",
    "        bbox_cls = bboxes[cls]\n",
    "        seg_cls = segs[cls]\n",
    "        if( len(bbox_cls) > 0):\n",
    "            for bbox, rle in zip(bbox_cls, seg_cls):\n",
    "                xmin, ymin, xmax, ymax, score = bbox\n",
    "#                 cv2.rectangle(img, (xmin, ymin), (xmax, ymax), (0,0,255), 2)\n",
    "#                 cv2.putText(img, str(cls), (int(xmin), int(ymin)), cv2.FONT_HERSHEY_COMPLEX, 1, (0, 0, 255), 2)\n",
    "                xmin += locx\n",
    "                ymin += locy\n",
    "                xmax += locx\n",
    "                ymax += locy\n",
    "                bounding_box = np.array([xmin*scale_factor, ymin*scale_factor, xmax*scale_factor, ymax*scale_factor, score])\n",
    "                mask = MASK.decode(rle)\n",
    "#                 print(mask.shape)\n",
    "#                 mh, mw = mask.shape \n",
    "#                 new_mask = cv2.resize(mask, (int(mw*scale_factor),int(mh*scale_factor)))\n",
    "                \n",
    "#                 h2, w2 = ann[name][\"mask\"][int(locy*scale_factor):int(locy*scale_factor)+new_mask.shape[0],int(locx*scale_factor):int(locx*scale_factor)+new_mask.shape[1]].shape\n",
    "#                 new_mask = cv2.resize(mask, (w2,h2))\n",
    "#                 ann[name][\"mask\"][int(locy*scale_factor):int(locy*scale_factor)+new_mask.shape[0],int(locx*scale_factor):int(locx*scale_factor)+new_mask.shape[1]] += new_mask \n",
    "                \n",
    "                contours, hierarchy = cv2.findContours((mask).astype(np.uint8), cv2.RETR_TREE,\n",
    "                                                                 cv2.CHAIN_APPROX_SIMPLE)\n",
    "                areas = [cv2.contourArea(contour)  for contour in contours]\n",
    "                if(len(areas) > 0):\n",
    "                    index = np.argmax(areas)\n",
    "                    contour = contours[index]\n",
    "                    rect = cv2.minAreaRect(contour)\n",
    "                    box = cv2.boxPoints(rect)\n",
    "                    box += np.array([locx, locy])\n",
    "#                     temp = np.array([box], np.int32)\n",
    "#                     cv2.polylines(img, temp, 1, (0, 255, 0), 1)\n",
    "#                     cv2.fillPoly(img, temp, 255)\n",
    "                else:\n",
    "#                     box = np.array([[xmin, ymin], [xmin, ymax], [xmax, ymax], [xmax, ymin]])\n",
    "#                     rect = ((0.5*(xmin+xmax), 0.5*(ymin+ymax))),(ymax-ymin, xmax -xmin), 0)\n",
    "                    continue\n",
    "                ann[name][\"bbox\"][cls].append(bounding_box)\n",
    "                ann[name]['vis'][cls].append(np.array([box[0]*scale_factor, box[1]*scale_factor, box[2]*scale_factor, box[3]*scale_factor]))\n",
    "                poly = []\n",
    "                for point in box:\n",
    "                    poly.append(point[0])\n",
    "                    poly.append(point[1])\n",
    "                poly = np.array(poly, np.double)\n",
    "                poly = [poly*scale_factor]\n",
    "                rles = MASK.frPyObjects(poly, H, W)\n",
    "                rle = MASK.merge(rles)\n",
    "                ann[name][\"seg\"][cls].append(rle)\n",
    "    #cv2.imwrite(\"./vis/\"+filename, img)\n",
    "print(len(ann.keys()))\n",
    "    #coco_eval(result_file, eval_types, dataset.coco)\n",
    "    # nms\n",
    "    # toBbox\n",
    "    # box - mask - rle\n",
    "    # rles = maskUtils.frPyObjects(segm, h, w)\n",
    "       #     rle = maskUtils.merge(rles)\n",
    "   "
   ]
  },
  {
   "cell_type": "code",
   "execution_count": 16,
   "metadata": {
    "collapsed": true,
    "scrolled": true
   },
   "outputs": [],
   "source": [
    "mmcv.dump(ann, \"eval_temp.pkl\")"
   ]
  },
  {
   "cell_type": "code",
   "execution_count": 58,
   "metadata": {
    "scrolled": true
   },
   "outputs": [
    {
     "data": {
      "application/vnd.jupyter.widget-view+json": {
       "model_id": "f0836fba45724bb6a3126a370fd2c7e0",
       "version_major": 2,
       "version_minor": 0
      },
      "text/plain": [
       "HBox(children=(IntProgress(value=0, max=593), HTML(value='')))"
      ]
     },
     "metadata": {},
     "output_type": "display_data"
    },
    {
     "name": "stderr",
     "output_type": "stream",
     "text": [
      "/home/xfr/.conda/envs/mmdet/lib/python3.6/site-packages/ipykernel_launcher.py:24: RuntimeWarning: divide by zero encountered in true_divide\n",
      "/home/xfr/.conda/envs/mmdet/lib/python3.6/site-packages/ipykernel_launcher.py:24: RuntimeWarning: invalid value encountered in true_divide\n",
      "/home/xfr/.conda/envs/mmdet/lib/python3.6/site-packages/ipykernel_launcher.py:25: RuntimeWarning: invalid value encountered in less_equal\n"
     ]
    }
   ],
   "source": [
    "from shapely.geometry import *\n",
    "import copy\n",
    "import time\n",
    "def py_cpu_pnms(dets, pts, thresh):\n",
    "    dets = np.array(dets)\n",
    "    pts = np.array(pts)\n",
    "    scores = dets[:, 4]\n",
    "    order = scores.argsort()[::-1]\n",
    "    areas = np.zeros(scores.shape)\n",
    "    inter_areas = np.zeros((scores.shape[0], scores.shape[0]))\n",
    "    for il in range(len(pts)):\n",
    "        poly = Polygon(pts[il])\n",
    "        areas[il] = poly.area\n",
    "        for jl in range(il, len(pts)):\n",
    "            polyj = Polygon(pts[jl])\n",
    "            inS = poly.intersection(polyj)\n",
    "            inter_areas[il][jl] = inS.area\n",
    "            inter_areas[jl][il] = inS.area\n",
    "\n",
    "    keep = []\n",
    "    while order.size > 0:\n",
    "        i = order[0]\n",
    "        keep.append(i)\n",
    "        ovr = inter_areas[i][order[1:]] / (areas[i] + areas[order[1:]] - inter_areas[i][order[1:]])\n",
    "        inds = np.where(ovr <= thresh)[0]\n",
    "        order = order[inds + 1]\n",
    "    return np.array(keep, np.int32)\n",
    "def nms(ann, thresh):\n",
    "    \n",
    "    for name in tqdm(ann.keys()):\n",
    "        info = ann[name]\n",
    "        for cls in range(len(dataset.CLASSES)):\n",
    "            bbox = np.array(info['bbox'][cls])\n",
    "           \n",
    "            seg = np.array(info['seg'][cls])\n",
    "            vis = np.array(info['vis'][cls])\n",
    "            if(len(bbox)<=0):\n",
    "                continue\n",
    "            t1 = time.time()\n",
    "            h, w = seg[0]['size']\n",
    "            bbox_result = []\n",
    "            seg_result = []\n",
    "            vis_result = []\n",
    "            tm = time.time()\n",
    "            maps = np.zeros((h, w))\n",
    "            for box in bbox:\n",
    "                xmin, ymin, xmax, ymax , score = box\n",
    "                maps[int(ymin):int(ymax), int(xmin):int(xmax)] = 1\n",
    "#             for a in seg:\n",
    "#                 m = MASK.decode(a)\n",
    "#                 maps.append(m)\n",
    "#             maps = np.sum(np.array(maps), axis=0)\n",
    "#             maps[maps>=1] = 1\n",
    "            tn = time.time()\n",
    "            kernel = np.ones((5,5),np.uint8) \n",
    "            maps = cv2.dilate(maps,kernel,iterations = 1)\n",
    "            contours, hierarchy = cv2.findContours((maps).astype(np.uint8), cv2.RETR_TREE,\n",
    "                                                                 cv2.CHAIN_APPROX_SIMPLE)\n",
    "            for contour in contours:\n",
    "                xmin, ymin, w, h = cv2.boundingRect(contour)\n",
    "                xmax = xmin+w\n",
    "                ymax = ymin+h\n",
    "                region_box = []\n",
    "                region_mask = []\n",
    "                region_vis = []\n",
    "                for i, bb in enumerate(bbox):\n",
    "                    if(bb[0]>=xmin and bb[1]>=ymin and bb[2]<=xmax and bb[3]<=ymax):\n",
    "                        region_box.append(bbox[i])\n",
    "                        region_mask.append(seg[i])\n",
    "                        region_vis.append(vis[i])\n",
    "                if(len(region_box) <= 0):\n",
    "                    continue\n",
    "                keep_ind = py_cpu_pnms(region_box, region_vis, thresh)\n",
    "                bbox_result += list(np.array(region_box)[keep_ind])\n",
    "                seg_result += list(np.array(region_mask)[keep_ind])\n",
    "                vis_result += list(np.array(region_vis)[keep_ind])\n",
    "            ann[name]['bbox'][cls] = bbox_result\n",
    "            ann[name]['seg'][cls] = seg_result\n",
    "            ann[name]['vis'][cls] = vis_result\n",
    "            t2 = time.time()\n",
    "                \n",
    "    return ann\n",
    "thresh=0.5\n",
    "# result = copy.deepcopy(ann)\n",
    "ann = mmcv.load(\"eval_temp.pkl\")\n",
    "result = nms(ann, thresh)\n"
   ]
  },
  {
   "cell_type": "code",
   "execution_count": 68,
   "metadata": {
    "collapsed": true
   },
   "outputs": [],
   "source": [
    "mmcv.dump(result, \"postnms.pkl\")"
   ]
  },
  {
   "cell_type": "code",
   "execution_count": 75,
   "metadata": {},
   "outputs": [
    {
     "data": {
      "application/vnd.jupyter.widget-view+json": {
       "model_id": "fd0c2539f78a411e8c890e6e55cb1375",
       "version_major": 2,
       "version_minor": 0
      },
      "text/plain": [
       "HBox(children=(IntProgress(value=0, max=593), HTML(value='')))"
      ]
     },
     "metadata": {},
     "output_type": "display_data"
    }
   ],
   "source": [
    "from mmdet.ops.nms import nms_wrapper\n",
    "def nms(ann, thresh):\n",
    "    for name in tqdm(ann.keys()):\n",
    "        info = ann[name]\n",
    "        for cls in range(len(dataset.CLASSES)):\n",
    "            bbox = np.array(info['bbox'][cls], np.float32)\n",
    "            seg = np.array(info['seg'][cls])\n",
    "            vis = np.array(info['vis'][cls])\n",
    "            if(len(bbox)<=0):\n",
    "                continue\n",
    "            h, w = seg[0]['size']\n",
    "            #print(bbox.shape)\n",
    "            _, inds = nms_wrapper.nms(bbox, thresh)\n",
    "           # print(len(inds))\n",
    "            ann[name]['bbox'][cls] = bbox[inds]\n",
    "            ann[name]['seg'][cls] = seg[inds]\n",
    "            ann[name]['vis'][cls] = vis[inds]\n",
    "    return ann\n",
    "thresh=0.5\n",
    "# result = copy.deepcopy(ann)\n",
    "ann = mmcv.load(\"eval_temp.pkl\")\n",
    "result2 = nms(ann, thresh)"
   ]
  },
  {
   "cell_type": "code",
   "execution_count": 76,
   "metadata": {},
   "outputs": [
    {
     "name": "stdout",
     "output_type": "stream",
     "text": [
      "loading annotations into memory...\n",
      "Done (t=0.36s)\n",
      "creating index...\n",
      "index created!\n"
     ]
    },
    {
     "data": {
      "application/vnd.jupyter.widget-view+json": {
       "model_id": "1eb703145da64e9f93b83708f9b05b3f",
       "version_major": 2,
       "version_minor": 0
      },
      "text/plain": [
       "HBox(children=(IntProgress(value=0, max=593), HTML(value='')))"
      ]
     },
     "metadata": {},
     "output_type": "display_data"
    }
   ],
   "source": [
    "ann = result2\n",
    "cfg = mmcv.Config.fromfile(\"configs/rs_test.py\")\n",
    "dataset = get_dataset(cfg.data.val)\n",
    "for idx in tqdm(range(len(dataset))):\n",
    "    img_info = dataset.img_infos[idx]\n",
    "    img = cv2.imread(\"/home/xfr/rssid/data/val/images/\"+img_info['filename'])\n",
    "    filename = img_info['filename'].split(\".\")[0]\n",
    "    info = ann[filename]\n",
    "    seg = info['vis']\n",
    "    for cls in range(len(dataset.CLASSES)):\n",
    "        polys = seg[cls]\n",
    "        for poly in polys:\n",
    "            temp = np.array([poly], np.int32)\n",
    "            cv2.polylines(img, temp, 1, (0, 255, 0), 1)\n",
    "    cv2.imwrite(\"./result2/{}\".format(filename)+\".jpg\", img)"
   ]
  },
  {
   "cell_type": "code",
   "execution_count": 19,
   "metadata": {},
   "outputs": [
    {
     "name": "stdout",
     "output_type": "stream",
     "text": [
      "loading annotations into memory...\n",
      "Done (t=0.29s)\n",
      "creating index...\n",
      "index created!\n"
     ]
    },
    {
     "data": {
      "application/vnd.jupyter.widget-view+json": {
       "model_id": "ce4296f399e94b2eab49b7a3ab59fcc6",
       "version_major": 2,
       "version_minor": 0
      },
      "text/plain": [
       "HBox(children=(IntProgress(value=0, max=593), HTML(value='')))"
      ]
     },
     "metadata": {},
     "output_type": "display_data"
    }
   ],
   "source": [
    "ann = mmcv.load(\"./eval_temp.pkl\")\n",
    "cfg = mmcv.Config.fromfile(\"configs/rs_test.py\")\n",
    "dataset = get_dataset(cfg.data.val)\n",
    "for idx in tqdm(range(len(dataset))):\n",
    "    img_info = dataset.img_infos[idx]\n",
    "    img = cv2.imread(\"/home/xfr/rssid/data/val/images/\"+img_info['filename'])\n",
    "    filename = img_info['filename'].split(\".\")[0]\n",
    "    info = ann[filename]\n",
    "    seg = info['vis']\n",
    "    for cls in range(len(dataset.CLASSES)):\n",
    "        polys = seg[cls]\n",
    "        for poly in polys:\n",
    "            temp = np.array([poly], np.int32)\n",
    "            cv2.polylines(img, temp, 1, (0, 255, 0), 1)\n",
    "    cv2.imwrite(\"./prenms/{}\".format(filename)+\".jpg\", img)"
   ]
  },
  {
   "cell_type": "code",
   "execution_count": 77,
   "metadata": {},
   "outputs": [
    {
     "name": "stdout",
     "output_type": "stream",
     "text": [
      "loading annotations into memory...\n",
      "Done (t=0.38s)\n",
      "creating index...\n",
      "index created!\n",
      "Loading and preparing results...\n",
      "DONE (t=0.47s)\n",
      "creating index...\n",
      "index created!\n",
      "Running per image evaluation...\n",
      "Evaluate annotation type *bbox*\n",
      "DONE (t=167.40s).\n",
      "Accumulating evaluation results...\n",
      "DONE (t=0.81s).\n",
      " Average Precision  (AP) @[ IoU=0.50:0.95 | area=   all | maxDets=100 ] = 0.344\n",
      " Average Precision  (AP) @[ IoU=0.50      | area=   all | maxDets=100 ] = 0.547\n",
      " Average Precision  (AP) @[ IoU=0.75      | area=   all | maxDets=100 ] = 0.365\n",
      " Average Precision  (AP) @[ IoU=0.50:0.95 | area= small | maxDets=100 ] = 0.246\n",
      " Average Precision  (AP) @[ IoU=0.50:0.95 | area=medium | maxDets=100 ] = 0.382\n",
      " Average Precision  (AP) @[ IoU=0.50:0.95 | area= large | maxDets=100 ] = 0.489\n",
      " Average Recall     (AR) @[ IoU=0.50:0.95 | area=   all | maxDets=  1 ] = 0.120\n",
      " Average Recall     (AR) @[ IoU=0.50:0.95 | area=   all | maxDets= 10 ] = 0.303\n",
      " Average Recall     (AR) @[ IoU=0.50:0.95 | area=   all | maxDets=100 ] = 0.433\n",
      " Average Recall     (AR) @[ IoU=0.50:0.95 | area= small | maxDets=100 ] = 0.309\n",
      " Average Recall     (AR) @[ IoU=0.50:0.95 | area=medium | maxDets=100 ] = 0.466\n",
      " Average Recall     (AR) @[ IoU=0.50:0.95 | area= large | maxDets=100 ] = 0.619\n",
      "Loading and preparing results...\n",
      "DONE (t=8.71s)\n",
      "creating index...\n",
      "index created!\n",
      "Running per image evaluation...\n",
      "Evaluate annotation type *segm*\n",
      "DONE (t=166.45s).\n",
      "Accumulating evaluation results...\n",
      "DONE (t=0.75s).\n",
      " Average Precision  (AP) @[ IoU=0.50:0.95 | area=   all | maxDets=100 ] = 0.303\n",
      " Average Precision  (AP) @[ IoU=0.50      | area=   all | maxDets=100 ] = 0.537\n",
      " Average Precision  (AP) @[ IoU=0.75      | area=   all | maxDets=100 ] = 0.298\n",
      " Average Precision  (AP) @[ IoU=0.50:0.95 | area= small | maxDets=100 ] = 0.184\n",
      " Average Precision  (AP) @[ IoU=0.50:0.95 | area=medium | maxDets=100 ] = 0.349\n",
      " Average Precision  (AP) @[ IoU=0.50:0.95 | area= large | maxDets=100 ] = 0.455\n",
      " Average Recall     (AR) @[ IoU=0.50:0.95 | area=   all | maxDets=  1 ] = 0.112\n",
      " Average Recall     (AR) @[ IoU=0.50:0.95 | area=   all | maxDets= 10 ] = 0.279\n",
      " Average Recall     (AR) @[ IoU=0.50:0.95 | area=   all | maxDets=100 ] = 0.387\n",
      " Average Recall     (AR) @[ IoU=0.50:0.95 | area= small | maxDets=100 ] = 0.252\n",
      " Average Recall     (AR) @[ IoU=0.50:0.95 | area=medium | maxDets=100 ] = 0.420\n",
      " Average Recall     (AR) @[ IoU=0.50:0.95 | area= large | maxDets=100 ] = 0.555\n"
     ]
    }
   ],
   "source": [
    "from mmdet.core import results2json, coco_eval\n",
    "outputs = []\n",
    "ann = result2\n",
    "cfg = mmcv.Config.fromfile(\"configs/rs_test.py\")\n",
    "dataset = get_dataset(cfg.data.val)\n",
    "for idx in range(len(dataset)):\n",
    "    img_info = dataset.img_infos[idx]\n",
    "    filename = img_info['filename'].split(\".\")[0]\n",
    "    if filename not in ann:\n",
    "        #print(filename)\n",
    "        ann[filename] = {\"bbox\": [np.array([]) for i in range(len(dataset.CLASSES))], \"seg\":[[] for i in range(len(dataset.CLASSES))]}\n",
    "    info = ann[filename]\n",
    "    #print(info['seg'][0])\n",
    "    m = np.array(info['bbox'])\n",
    "    for i in range(len(m)):\n",
    "        m[i] = np.array(m[i])\n",
    "    temp = (m, info['seg'])\n",
    "    outputs.append(temp)\n",
    "result_files = results2json(dataset, outputs, \"xx\")\n",
    "coco_eval(result_files, ['bbox', 'segm'], dataset.coco)"
   ]
  },
  {
   "cell_type": "code",
   "execution_count": null,
   "metadata": {
    "collapsed": true
   },
   "outputs": [],
   "source": []
  }
 ],
 "metadata": {
  "kernelspec": {
   "display_name": "mm",
   "language": "python",
   "name": "mmdet"
  },
  "language_info": {
   "codemirror_mode": {
    "name": "ipython",
    "version": 3
   },
   "file_extension": ".py",
   "mimetype": "text/x-python",
   "name": "python",
   "nbconvert_exporter": "python",
   "pygments_lexer": "ipython3",
   "version": "3.6.8"
  }
 },
 "nbformat": 4,
 "nbformat_minor": 2
}
