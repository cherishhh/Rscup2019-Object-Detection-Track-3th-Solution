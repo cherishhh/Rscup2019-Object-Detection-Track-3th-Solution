{
 "cells": [
  {
   "cell_type": "code",
   "execution_count": 8,
   "metadata": {},
   "outputs": [
    {
     "name": "stdout",
     "output_type": "stream",
     "text": [
      "{'tennis-court': 0, 'container-crane': 1, 'storage-tank': 2, 'baseball-diamond': 3, 'plane': 4, 'ground-track-field': 5, 'helicopter': 6, 'airport': 7, 'harbor': 8, 'ship': 9, 'large-vehicle': 10, 'swimming-pool': 11, 'soccer-ball-field': 12, 'roundabout': 13, 'basketball-court': 14, 'bridge': 15, 'small-vehicle': 16, 'helipad': 17}\n"
     ]
    }
   ],
   "source": [
    "import cv2\n",
    "import os\n",
    "import matplotlib.pyplot as plt\n",
    "import numpy as np\n",
    "from imgaug import augmenters as iaa\n",
    "from tqdm import tqdm_notebook as tqdm\n",
    "import json\n",
    "import copy\n",
    "import mmcv\n",
    "from multiprocessing import Pool\n",
    "import sys\n",
    "import skimage.io as io\n",
    "from pycocotools.coco import COCO   # 载入 cocoz\n",
    "%matplotlib inline\n",
    "import random\n",
    "from PIL import Image\n",
    "class MyEncoder(json.JSONEncoder):\n",
    "    def default(self, obj):\n",
    "        if isinstance(obj, np.integer):\n",
    "            return int(obj)\n",
    "        elif isinstance(obj, np.floating):\n",
    "            return float(obj)\n",
    "        elif isinstance(obj, np.ndarray):\n",
    "            return obj.tolist()\n",
    "        else:\n",
    "            return super(MyEncoder, self).default(obj)\n",
    "CLASS=['tennis-court', 'container-crane', 'storage-tank', 'baseball-diamond', 'plane', 'ground-track-field', 'helicopter', 'airport', 'harbor', 'ship', 'large-vehicle', 'swimming-pool', 'soccer-ball-field', 'roundabout', 'basketball-court', 'bridge', 'small-vehicle', 'helipad']\n",
    "#CLASS={'tennis-court', 'container-crane', 'storage-tank', 'baseball-diamond', 'plane', 'ground-track-field', 'helicopter', 'airport', 'harbor', 'ship', 'large-vehicle', 'swimming-pool', 'soccer-ball-field', 'roundabout', 'basketball-court', 'bridge', 'small-vehicle', 'helipad'}\n",
    "class_to_ind = dict(zip(CLASS, range(len(CLASS))))\n",
    "print(class_to_ind)"
   ]
  },
  {
   "cell_type": "code",
   "execution_count": 9,
   "metadata": {},
   "outputs": [],
   "source": [
    "def bbox_overlaps_py(boxes, query_boxes):\n",
    "    \"\"\"\n",
    "    determine overlaps between boxes and query_boxes\n",
    "    :param boxes: n * 4 bounding boxes\n",
    "    :param query_boxes: k * 4 bounding boxes\n",
    "    :return: overlaps: n * k overlaps\n",
    "    \"\"\"\n",
    "    n_ = boxes.shape[0]\n",
    "    k_ = query_boxes.shape[0]\n",
    "    overlaps = np.zeros((n_, k_), dtype=np.float)\n",
    "    for k in range(k_):\n",
    "        query_box_area = (query_boxes[k, 2] - query_boxes[k, 0] + 1) * (query_boxes[k, 3] - query_boxes[k, 1] + 1)\n",
    "        for n in range(n_):\n",
    "            iw = min(boxes[n, 2], query_boxes[k, 2]) - max(boxes[n, 0], query_boxes[k, 0]) + 1\n",
    "            if iw > 0:\n",
    "                ih = min(boxes[n, 3], query_boxes[k, 3]) - max(boxes[n, 1], query_boxes[k, 1]) + 1\n",
    "                if ih > 0:\n",
    "                    box_area = (boxes[n, 2] - boxes[n, 0] + 1) * (boxes[n, 3] - boxes[n, 1] + 1)\n",
    "                    all_area = float(query_box_area)\n",
    "                    overlaps[n, k] = iw * ih / all_area\n",
    "    return overlaps\n",
    "\n",
    "def _pygenerate(boxes, masks, labels, width, height, chipsize, stride):\n",
    "        chips = []\n",
    "        boxes = np.array(boxes)\n",
    "        masks = np.array(masks)\n",
    "        # ensure coverage of image for worst case\n",
    "        # corners\n",
    "        chips.append([max(width - chipsize, 0), 0, width - 1, min(chipsize, height-1)])\n",
    "        chips.append([0, max(height - chipsize, 0), min(chipsize, width-1), height-1])\n",
    "        chips.append([max(width - chipsize, 0), max(height - chipsize, 0), width-1, height-1])\n",
    "\t\t\n",
    "        for i in range(0, width - int(chipsize), stride):\n",
    "            for j in range(0, height - int(chipsize), stride):\n",
    "                x1 = i\n",
    "                y1 = j\n",
    "                x2 = i + chipsize - 1\n",
    "                y2 = j + chipsize - 1\n",
    "                chips.append([x1, y1, x2, y2])\n",
    "\t\t#width may not be divide by stride\n",
    "        for j in range(0, height - int(chipsize), stride):\n",
    "            x1 = max(width - chipsize - 1,0)\n",
    "            y1 = j\n",
    "            x2 = width - 1\n",
    "            y2 = j + chipsize - 1\n",
    "            chips.append([x1, y1, x2, y2])\n",
    "\t\t#the same as above\n",
    "        for i in range(0, width - int(chipsize), stride):\n",
    "            x1 = i\n",
    "            y1 = max(height - chipsize - 1,0)\n",
    "            x2 = i + chipsize - 1\n",
    "            y2 = height - 1\n",
    "            chips.append([x1, y1, x2, y2])\n",
    "\n",
    "        chips = np.array(chips).astype(np.float)\n",
    "        overlaps = bbox_overlaps_py(chips, boxes.astype(np.float))\n",
    "        fchips = []\n",
    "        masks_list = []\n",
    "        boxes_list = []\n",
    "        labels_list = []\n",
    "        for j in range(len(chips)):\n",
    "            nvids = np.where(overlaps[j, :] >= 0.9)[0]\n",
    "            if(len(nvids) == 0):\n",
    "                continue\n",
    "            else:\n",
    "                fchips.append(chips[j])\n",
    "                boxes_list.append(boxes[nvids])\n",
    "                masks_list.append(masks[nvids])\n",
    "                labels_list.append([labels[x] for x in nvids])\n",
    "        return fchips, masks_list, boxes_list, labels_list\n",
    "# from split.split import _pygenerate\n",
    "def get_scale_info(fp, scale):\n",
    "    masks = []\n",
    "    labels = []\n",
    "    boxes = []\n",
    "    for line in fp:\n",
    "        line = line.strip()\n",
    "        if not line:\n",
    "            continue\n",
    "        items = line.split(' ')\n",
    "        loc = np.array([float(x) for x in items[:8]])\n",
    "        loc = loc*scale\n",
    "        xs = loc[0::2]\n",
    "        ys = loc[1::2]\n",
    "        poly = np.array([[[loc[0],loc[1]],[loc[2],loc[3]],[loc[4],loc[5]],[loc[6], loc[7]]]], np.int32)\n",
    "        area = cv2.contourArea(poly)\n",
    "        if(area < 50):\n",
    "            continue\n",
    "        xmin  = min(xs)\n",
    "        xmax = max(xs)\n",
    "        ymin = min(ys)\n",
    "        ymax = max(ys)\n",
    "        w = xmax - xmin\n",
    "        h = ymax - ymin\n",
    "        cls = items[8]\n",
    "        if cls not in CLASS:\n",
    "            continue\n",
    "        labels.append(cls)\n",
    "        masks.append(loc)\n",
    "        boxes.append([xmin,ymin,xmax,ymax])\n",
    "    return labels, masks, boxes\n",
    "def construct_imginfo(filename, h, w, ID):\n",
    "    image = { \"license\": 1,\n",
    "              \"file_name\": filename,\n",
    "              \"coco_url\": \"xxx\",\n",
    "              \"height\": h,\n",
    "              \"width\": w,\n",
    "              \"date_captured\": \"2019-06-25\",\n",
    "              \"flickr_url\": \"xxx\",\n",
    "              \"id\": ID\n",
    "            }\n",
    "    return image\n",
    "\n",
    "def construct_ann(obj_id, ID, category_id, seg, area, bbox):\n",
    "    ann = {\"id\" : obj_id, \n",
    "                \"image_id\" : ID, \n",
    "                \"category_id\" : category_id, \n",
    "                \"segmentation\" : seg, \n",
    "               \"area\" :  area, \n",
    "               \"bbox\" : bbox, \n",
    "               \"iscrowd\" : 0,\n",
    "            }\n",
    "    return ann\n",
    "\n",
    "def generate_ann(box, mask, label, xmin, ymin):\n",
    "    ann = []\n",
    "    for b, loc, l in zip(box, mask, label):\n",
    "        x1, y1, x2, y2 = b\n",
    "        x1 -= xmin\n",
    "        y1 -= ymin\n",
    "        x2 -= xmin\n",
    "        y2 -= ymin\n",
    "        poly = np.array([[[loc[0],loc[1]],[loc[2],loc[3]],[loc[4],loc[5]],[loc[6], loc[7]]]], np.int32)\n",
    "        box = [x1, y1, x2, y2]\n",
    "        area = cv2.contourArea(poly)\n",
    "        poly = [loc[0]-xmin,loc[1]-ymin,loc[2]-xmin,loc[3]-ymin,loc[4]-xmin,loc[5]-ymin,loc[6]-xmin, loc[7]-ymin]\n",
    "        obj = [class_to_ind[l], [poly], area, [x1, y1, x2-x1, y2-y1]]\n",
    "        ann.append(obj)\n",
    "    return ann\n",
    "   \n",
    "from icecream import ic\n",
    "import time\n",
    "def scale_genrate_warpper(label_path, img_name, img_path, outdir, phase, SCALE):\n",
    "    annotation = []\n",
    "    original_img = cv2.imread(img_path)\n",
    "    scales = copy.deepcopy(SCALE)\n",
    "    fp = open(label_path).readlines()[2:]\n",
    "    for scale in scales:\n",
    "        img, scale_factor = mmcv.imrescale(original_img, scale, return_scale=True)\n",
    "        H,W,_ = img.shape\n",
    "        labels, masks, boxes = get_scale_info(fp, scale_factor)\n",
    "        if(len(labels)<=0):\n",
    "            continue\n",
    "        if max(H,W) > 512:\n",
    "            fchips, masks, boxes, labels = _pygenerate(boxes, masks, labels, W, H, 512, 416)\n",
    "            count = 0\n",
    "            for chip, mask, box, label in zip(fchips, masks, boxes,labels):\n",
    "                count+=1\n",
    "                xmin, ymin, xmax, ymax = chip\n",
    "                filename = img_name.split(\".\")[0] + \"_{}_{}_{}_{}\".format(str(scale), str(xmin), str(ymin), str(0))+\"part\" +str(count) + \".jpg\"\n",
    "                img2 = copy.deepcopy(img[int(ymin):int(ymax), int(xmin):int(xmax),:])\n",
    "                h, w, _ = img2.shape\n",
    "                cv2.imwrite(\"{}/{}/\".format(outdir, phase)+filename, img2)\n",
    "                image = [filename, h ,w]\n",
    "                anns = generate_ann(box, mask, label, xmin, ymin)\n",
    "                annotation.append({\"image\":image, \"anns\":anns})\n",
    "                \n",
    "        else:\n",
    "            filename = img_name.split(\".\")[0] + \"_{}_{}_{}_{}\".format(str(scale), str(0), str(0), str(0))+\"part\" +str(0) + \".jpg\"\n",
    "            image = [filename, H, W]\n",
    "            cv2.imwrite(\"{}/{}/\".format(outdir, phase)+filename, img)\n",
    "            anns = generate_ann(boxes, masks, labels, 0, 0)\n",
    "            annotation.append({\"image\":image, \"anns\":anns})\n",
    "    return annotation\n",
    "\n",
    "def scale_generate(datdir, labeldir, phase, outdir, SCALE):\n",
    "    imgs = os.listdir(datadir)\n",
    "    info = {\n",
    "        \"description\": \"rscup\",\n",
    "        \"url\": \"http://cocodataset.org\",\n",
    "        \"version\": \"1.0\",\n",
    "        \"year\": 2014,\n",
    "        \"contributor\": \"COCO Consortium\",\n",
    "        \"date_created\": \"2017/09/01\"\n",
    "      }\n",
    "    license = [{ \"url\": \"http://creativecommons.org/licenses/by-nc-sa/2.0/\", \"id\": 1, \"name\": \"Attribution-NonCommercial-ShareAlike License\"} ]\n",
    "    categories = []\n",
    "    for cls in CLASS:\n",
    "        category = { \"id\" : class_to_ind[cls], \"name\" : cls, \"supercategory\" : \"object\",}\n",
    "        categories.append(category)\n",
    "    print(categories)\n",
    "    annotations = {\"info\": info, \"images\": [], \"annotations\": [], \"categories\":categories, \"license\":license}\n",
    "    p = Pool(4)\n",
    "    rets = []\n",
    "    pbar = tqdm(total=len(imgs))\n",
    "    def update(*a):\n",
    "        pbar.update()\n",
    "    for img_id in range(len(imgs)):\n",
    "        img_path = os.path.join(datadir, imgs[img_id])\n",
    "        label_path = os.path.join(labeldir, imgs[img_id].split(\".\")[0]+\".txt\")\n",
    "        rets.append(p.apply_async(scale_genrate_warpper, args=(label_path, imgs[img_id], img_path, outdir, phase, SCALE), callback=update))\n",
    "    obj_id = 0\n",
    "    ID = 0\n",
    "    for ret in rets:\n",
    "        result = ret.get()\n",
    "        for info in result:\n",
    "            filename, h, w = info[\"image\"]  \n",
    "            anns = info[\"anns\"]\n",
    "            image = construct_imginfo(filename, h, w, ID)\n",
    "            annotations[\"images\"].append(image)\n",
    "            for ann in anns:\n",
    "                category_id, seg, area, bbox = ann\n",
    "                ann_info = construct_ann(obj_id, ID, category_id, seg, area, bbox)\n",
    "                annotations[\"annotations\"].append(ann_info)\n",
    "                obj_id += 1\n",
    "            ID += 1 \n",
    "    with open('{}/annotation/annos_rscup_'.format(outdir)+phase+'.json', 'w') as json_file:\n",
    "        json.dump(annotations, json_file, cls=MyEncoder)\n",
    "    print(\"totol number {}\".format(str(ID)))\n",
    "\n",
    "def increment_warpper_train(img_path, img_name, label_path, outdir, phase):\n",
    "    original_img = cv2.imread(img_path)\n",
    "    h, w, _ = original_img.shape\n",
    "    if(max(h,w)/min(h,w)>5):\n",
    "        return None\n",
    "    scale = 512 /  max(h, w)\n",
    "    fp = open(label_path).readlines()[2:]\n",
    "    img, scale_factor = mmcv.imrescale(original_img, scale, return_scale=True)\n",
    "    H,W,_ = img.shape\n",
    "    labels, masks, boxes = get_scale_info(fp, scale_factor)\n",
    "    filename = img_name.split(\".\")[0] + \"_{}_{}_{}_{}\".format(str(scale), str(0), str(0), str(0))+\"part\" +\"xx\" + \".jpg\"\n",
    "    image = [filename, H, W]\n",
    "    cv2.imwrite(\"{}/{}/\".format(outdir, phase)+filename, img)\n",
    "    anns = generate_ann(boxes, masks, labels, 0, 0)\n",
    "    return {\"image\":image, \"anns\":anns}\n",
    "\n",
    "def increment_train_generate(datadir, labeldir, json_file, outdir,  phase):\n",
    "    imgs = os.listdir(datadir)\n",
    "    coco=COCO(json_file)\n",
    "    annotations = mmcv.load(json_file)\n",
    "    imgids = coco.getImgIds()\n",
    "    annids = coco.getAnnIds()\n",
    "    ID = max(imgids)+1\n",
    "    obj_id = max(annids)+1\n",
    "    rets = []\n",
    "    pbar = tqdm(total=len(imgs))\n",
    "    p=Pool(4)\n",
    "    def update(*a):\n",
    "        pbar.update()\n",
    "    for img_id in tqdm(range(len(imgs))):\n",
    "        img_path = os.path.join(datadir, imgs[img_id])\n",
    "        label_path = os.path.join(labeldir, imgs[img_id].split(\".\")[0]+\".txt\")\n",
    "        rets.append(p.apply_async(increment_warpper_train, args=(img_path, imgs[img_id], label_path, outdir, phase), callback=update))\n",
    "    for ret in rets:\n",
    "        info = ret.get()\n",
    "        if info is None:\n",
    "            continue\n",
    "        filename, h, w = info[\"image\"]\n",
    "        image =  construct_imginfo(filename, h, w, ID)\n",
    "        annotations[\"images\"].append(image)\n",
    "        anns = info[\"anns\"]\n",
    "        for ann in anns:\n",
    "            category_id, seg, area, bbox = ann\n",
    "            ann_info = construct_ann(obj_id, ID, category_id, seg, area, bbox)\n",
    "            annotations[\"annotations\"].append(ann_info)\n",
    "            obj_id += 1\n",
    "        ID += 1 \n",
    "    with open(json_file, 'w') as json_file:\n",
    "        json.dump(annotations, json_file, cls=MyEncoder)\n",
    "    print(\"totol number {}\".format(str(ID)))\n",
    "    p.close()\n",
    "    p.join()\n",
    "    \n",
    "    \n",
    "\n",
    "#################################### TEST ######################################\n",
    "\n",
    "    \n",
    "    \n",
    "    \n",
    "    \n",
    "def test_pygenerate(width, height, chipsize, stride):\n",
    "        chips = []\n",
    "        # ensure coverage of image for worst case\n",
    "        # corners\n",
    "        chips.append([max(width - chipsize, 0), 0, width - 1, min(chipsize, height-1)])\n",
    "        chips.append([0, max(height - chipsize, 0), min(chipsize, width-1), height-1])\n",
    "        chips.append([max(width - chipsize, 0), max(height - chipsize, 0), width-1, height-1])\n",
    "\t\t\n",
    "        for i in range(0, width - int(chipsize), stride):\n",
    "            for j in range(0, height - int(chipsize), stride):\n",
    "                x1 = i\n",
    "                y1 = j\n",
    "                x2 = i + chipsize - 1\n",
    "                y2 = j + chipsize - 1\n",
    "                chips.append([x1, y1, x2, y2])\n",
    "\t\t#width may not be divide by stride\n",
    "        for j in range(0, height - int(chipsize), stride):\n",
    "            x1 = max(width - chipsize - 1,0)\n",
    "            y1 = j\n",
    "            x2 = width - 1\n",
    "            y2 = j + chipsize - 1\n",
    "            chips.append([x1, y1, x2, y2])\n",
    "\t\t#the same as above\n",
    "        for i in range(0, width - int(chipsize), stride):\n",
    "            x1 = i\n",
    "            y1 = max(height - chipsize - 1,0)\n",
    "            x2 = i + chipsize - 1\n",
    "            y2 = height - 1\n",
    "            chips.append([x1, y1, x2, y2])\n",
    "\n",
    "        chips = np.array(chips).astype(np.float)\n",
    "        return chips\n",
    "def test_generater(imgname, img_path, outdir, phase, SCALE):\n",
    "    annotation = []\n",
    "    original_img = cv2.imread(img_path)\n",
    "    scales = copy.deepcopy(SCALE)\n",
    "    for scale in scales:\n",
    "        img, scale_factor = mmcv.imrescale(original_img, scale, return_scale=True)\n",
    "        H,W,_ = img.shape\n",
    "        if max(H,W) > 512:\n",
    "            fchips = test_pygenerate(W, H, 512, 416)\n",
    "            count = 0\n",
    "            for chip in  fchips:\n",
    "                count+=1\n",
    "                xmin, ymin, xmax, ymax = chip\n",
    "                img2 = copy.deepcopy(img[int(ymin):int(ymax), int(xmin):int(xmax),:])\n",
    "                h, w, _ = img2.shape\n",
    "                filename = imgname.split(\".\")[0] + \"_{}_{}_{}_{}\".format(str(scale), str(xmin), str(ymin), str(0))+\"part\" +str(count) + \".jpg\"\n",
    "                cv2.imwrite(\"{}/{}/\".format(outdir, phase)+filename, img2)\n",
    "                image = [filename, h ,w]\n",
    "                annotation.append(image)\n",
    "        else:\n",
    "            filename = imgname.split(\".\")[0] + \"_{}_{}_{}_{}\".format(str(scale), str(0), str(0), str(0))+\"part\" +str(0) + \".jpg\"\n",
    "            image = [filename, H ,W]\n",
    "            annotation.append(image)\n",
    "            cv2.imwrite(\"{}/{}/\".format(outdir, phase)+filename, img)\n",
    "    return annotation\n",
    "            \n",
    "def scale_generate_test(datdir, outdir, phase, SCALE):\n",
    "    imgs = os.listdir(datadir)\n",
    "    info = {\n",
    "        \"description\": \"rscup\",\n",
    "        \"url\": \"http://cocodataset.org\",\n",
    "        \"version\": \"1.0\",\n",
    "        \"year\": 2014,\n",
    "        \"contributor\": \"COCO Consortium\",\n",
    "        \"date_created\": \"2017/09/01\"\n",
    "      }\n",
    "    license = [{ \"url\": \"http://creativecommons.org/licenses/by-nc-sa/2.0/\", \"id\": 1, \"name\": \"Attribution-NonCommercial-ShareAlike License\"} ]\n",
    "    categories = []\n",
    "    for cls in CLASS:\n",
    "        category = { \"id\" : class_to_ind[cls], \"name\" : cls, \"supercategory\" : \"object\",}\n",
    "        categories.append(category)\n",
    "    print(categories)\n",
    "    annotations = {\"info\": info, \"images\": [], \"annotations\": [], \"categories\":categories, \"license\":license}\n",
    "    obj_id = 0\n",
    "    ID = 0\n",
    "    p = Pool(4)\n",
    "    rets = []\n",
    "    pbar = tqdm(total=len(imgs))\n",
    "    def update(*a):\n",
    "        pbar.update()\n",
    "    for img_id in range(len(imgs)):\n",
    "        img_path = os.path.join(datadir, imgs[img_id])\n",
    "        rets.append(p.apply_async(test_generater, args=(imgs[img_id], img_path, outdir, phase, SCALE), callback=update))\n",
    "    for ret in rets:\n",
    "        result = ret.get()\n",
    "        for info in result:\n",
    "            filename, h, w = info \n",
    "            image = construct_imginfo(filename, h, w, ID)\n",
    "            annotations[\"images\"].append(image)\n",
    "            ID += 1 \n",
    "                \n",
    "    with open('{}/annotation/annos_rscup_'.format(outdir)+phase+'.json', 'w') as json_file:\n",
    "        json.dump(annotations, json_file, cls=MyEncoder)\n",
    "    print(\"totol number {}\".format(str(ID)))\n",
    "    p.close()\n",
    "    p.join()\n",
    "\n",
    "\n",
    "def increment_warpper(img_path, img_name, outdir, phase):\n",
    "    original_img = cv2.imread(img_path)\n",
    "    h, w, _ = original_img.shape\n",
    "    if(max(h, w)/min(h,w) > 5):\n",
    "        return None\n",
    "    scale_factor = 512 /  max(h, w)\n",
    "    img, scale_factor = mmcv.imrescale(original_img, scale_factor, return_scale=True)\n",
    "    H,W,_ = img.shape\n",
    "    filename = img_name.split(\".\")[0] + \"_{}_{}_{}_{}\".format(str(scale_factor), str(0), str(0), str(0))+\"part\" +\"xx\" + \".jpg\"\n",
    "    cv2.imwrite(\"{}/{}/\".format(outdir, phase)+filename, img)\n",
    "    return [filename, H, W]\n",
    "\n",
    "def increment_generate(datdir, json_file, outdir, phase):\n",
    "    imgs = os.listdir(datadir)\n",
    "    coco=COCO(json_file)\n",
    "    annotations = mmcv.load(json_file)\n",
    "    imgids = coco.getImgIds()\n",
    "    ID = max(imgids)+1\n",
    "    rets = []\n",
    "    pbar = tqdm(total=len(imgs))\n",
    "    p=Pool(4)\n",
    "    def update(*a):\n",
    "        pbar.update()\n",
    "    for img_id in range(len(imgs)):\n",
    "        img_path = os.path.join(datadir, imgs[img_id])\n",
    "        rets.append(p.apply_async(increment_warpper, args=(img_path, imgs[img_id], outdir, phase), callback=update))\n",
    "    for ret in rets:\n",
    "        info = ret.get()\n",
    "        if(info is None):\n",
    "            continue\n",
    "        filename, h, w = info \n",
    "        image = construct_imginfo(filename, h, w, ID)\n",
    "        annotations[\"images\"].append(image)\n",
    "        ID+=1\n",
    "    with open(json_file, 'w') as json_file:\n",
    "        json.dump(annotations, json_file, cls=MyEncoder)\n",
    "    print(\"totol number {}\".format(str(ID)))   \n",
    "    p.close()\n",
    "    p.join()\n",
    "    "
   ]
  },
  {
   "cell_type": "markdown",
   "metadata": {},
   "source": [
    "## train"
   ]
  },
  {
   "cell_type": "code",
   "execution_count": 91,
   "metadata": {},
   "outputs": [
    {
     "name": "stdout",
     "output_type": "stream",
     "text": [
      "[{'id': 0, 'name': 'tennis-court', 'supercategory': 'object'}, {'id': 1, 'name': 'container-crane', 'supercategory': 'object'}, {'id': 2, 'name': 'storage-tank', 'supercategory': 'object'}, {'id': 3, 'name': 'baseball-diamond', 'supercategory': 'object'}, {'id': 4, 'name': 'plane', 'supercategory': 'object'}, {'id': 5, 'name': 'ground-track-field', 'supercategory': 'object'}, {'id': 6, 'name': 'helicopter', 'supercategory': 'object'}, {'id': 7, 'name': 'airport', 'supercategory': 'object'}, {'id': 8, 'name': 'harbor', 'supercategory': 'object'}, {'id': 9, 'name': 'ship', 'supercategory': 'object'}, {'id': 10, 'name': 'large-vehicle', 'supercategory': 'object'}, {'id': 11, 'name': 'swimming-pool', 'supercategory': 'object'}, {'id': 12, 'name': 'soccer-ball-field', 'supercategory': 'object'}, {'id': 13, 'name': 'roundabout', 'supercategory': 'object'}, {'id': 14, 'name': 'basketball-court', 'supercategory': 'object'}, {'id': 15, 'name': 'bridge', 'supercategory': 'object'}, {'id': 16, 'name': 'small-vehicle', 'supercategory': 'object'}, {'id': 17, 'name': 'helipad', 'supercategory': 'object'}]\n"
     ]
    },
    {
     "data": {
      "application/vnd.jupyter.widget-view+json": {
       "model_id": "031ae8cf73fe417abc6a36a400e2eb51",
       "version_major": 2,
       "version_minor": 0
      },
      "text/plain": [
       "HBox(children=(IntProgress(value=0, max=1830), HTML(value='')))"
      ]
     },
     "metadata": {},
     "output_type": "display_data"
    },
    {
     "name": "stdout",
     "output_type": "stream",
     "text": [
      "totol number 45792\n",
      "loading annotations into memory...\n",
      "Done (t=8.78s)\n",
      "creating index...\n",
      "index created!\n"
     ]
    },
    {
     "data": {
      "application/vnd.jupyter.widget-view+json": {
       "model_id": "76ae80f2d92643cc82bb2625979e0803",
       "version_major": 2,
       "version_minor": 0
      },
      "text/plain": [
       "HBox(children=(IntProgress(value=0, max=1830), HTML(value='')))"
      ]
     },
     "metadata": {},
     "output_type": "display_data"
    },
    {
     "data": {
      "application/vnd.jupyter.widget-view+json": {
       "model_id": "b3ccd1775967407493940b941fc1a79b",
       "version_major": 2,
       "version_minor": 0
      },
      "text/plain": [
       "HBox(children=(IntProgress(value=0, max=1830), HTML(value='')))"
      ]
     },
     "metadata": {},
     "output_type": "display_data"
    },
    {
     "name": "stdout",
     "output_type": "stream",
     "text": [
      "totol number 47622\n"
     ]
    }
   ],
   "source": [
    "datadir = \"/home/xfr/rssid/data/train/images\"\n",
    "labeldir = \"/home/xfr/rssid/data/train/labelTxt\"\n",
    "scale_generate(datadir, labeldir, \"train\",\"./data/trash\", [0.5, 1])\n",
    "increment_train_generate(datadir, labeldir, \"./data/trash/annotation/annos_rscup_train.json\", \"./data/trash\", \"train\")"
   ]
  },
  {
   "cell_type": "markdown",
   "metadata": {},
   "source": [
    "## test"
   ]
  },
  {
   "cell_type": "code",
   "execution_count": 151,
   "metadata": {},
   "outputs": [
    {
     "name": "stdout",
     "output_type": "stream",
     "text": [
      "[{'id': 0, 'name': 'tennis-court', 'supercategory': 'object'}, {'id': 1, 'name': 'container-crane', 'supercategory': 'object'}, {'id': 2, 'name': 'storage-tank', 'supercategory': 'object'}, {'id': 3, 'name': 'baseball-diamond', 'supercategory': 'object'}, {'id': 4, 'name': 'plane', 'supercategory': 'object'}, {'id': 5, 'name': 'ground-track-field', 'supercategory': 'object'}, {'id': 6, 'name': 'helicopter', 'supercategory': 'object'}, {'id': 7, 'name': 'airport', 'supercategory': 'object'}, {'id': 8, 'name': 'harbor', 'supercategory': 'object'}, {'id': 9, 'name': 'ship', 'supercategory': 'object'}, {'id': 10, 'name': 'large-vehicle', 'supercategory': 'object'}, {'id': 11, 'name': 'swimming-pool', 'supercategory': 'object'}, {'id': 12, 'name': 'soccer-ball-field', 'supercategory': 'object'}, {'id': 13, 'name': 'roundabout', 'supercategory': 'object'}, {'id': 14, 'name': 'basketball-court', 'supercategory': 'object'}, {'id': 15, 'name': 'bridge', 'supercategory': 'object'}, {'id': 16, 'name': 'small-vehicle', 'supercategory': 'object'}, {'id': 17, 'name': 'helipad', 'supercategory': 'object'}]\n"
     ]
    },
    {
     "data": {
      "application/vnd.jupyter.widget-view+json": {
       "model_id": "e963afb13bab4fa78113de06d69dbab6",
       "version_major": 2,
       "version_minor": 0
      },
      "text/plain": [
       "HBox(children=(IntProgress(value=0, max=780), HTML(value='')))"
      ]
     },
     "metadata": {},
     "output_type": "display_data"
    },
    {
     "name": "stdout",
     "output_type": "stream",
     "text": [
      "totol number 63607\n",
      "loading annotations into memory...\n",
      "Done (t=0.16s)\n",
      "creating index...\n",
      "index created!\n"
     ]
    },
    {
     "data": {
      "application/vnd.jupyter.widget-view+json": {
       "model_id": "823f28ff6a6d4ba1a3d072e53b6f67c7",
       "version_major": 2,
       "version_minor": 0
      },
      "text/plain": [
       "HBox(children=(IntProgress(value=0, max=780), HTML(value='')))"
      ]
     },
     "metadata": {},
     "output_type": "display_data"
    },
    {
     "name": "stdout",
     "output_type": "stream",
     "text": [
      "totol number 64387\n"
     ]
    }
   ],
   "source": [
    "datadir = \"/home/xfr/rssid/data/test/images\"\n",
    "scale_generate_test(datadir, \"./data/rscup\", \"test\", [0.5, 1])\n",
    "increment_generate(datadir, \"./data/rscup/annotation/annos_rscup_test.json\", \"./data/rscup\", \"test\")"
   ]
  },
  {
   "cell_type": "markdown",
   "metadata": {},
   "source": [
    "## val"
   ]
  },
  {
   "cell_type": "code",
   "execution_count": 148,
   "metadata": {},
   "outputs": [
    {
     "name": "stdout",
     "output_type": "stream",
     "text": [
      "[{'id': 0, 'name': 'tennis-court', 'supercategory': 'object'}, {'id': 1, 'name': 'container-crane', 'supercategory': 'object'}, {'id': 2, 'name': 'storage-tank', 'supercategory': 'object'}, {'id': 3, 'name': 'baseball-diamond', 'supercategory': 'object'}, {'id': 4, 'name': 'plane', 'supercategory': 'object'}, {'id': 5, 'name': 'ground-track-field', 'supercategory': 'object'}, {'id': 6, 'name': 'helicopter', 'supercategory': 'object'}, {'id': 7, 'name': 'airport', 'supercategory': 'object'}, {'id': 8, 'name': 'harbor', 'supercategory': 'object'}, {'id': 9, 'name': 'ship', 'supercategory': 'object'}, {'id': 10, 'name': 'large-vehicle', 'supercategory': 'object'}, {'id': 11, 'name': 'swimming-pool', 'supercategory': 'object'}, {'id': 12, 'name': 'soccer-ball-field', 'supercategory': 'object'}, {'id': 13, 'name': 'roundabout', 'supercategory': 'object'}, {'id': 14, 'name': 'basketball-court', 'supercategory': 'object'}, {'id': 15, 'name': 'bridge', 'supercategory': 'object'}, {'id': 16, 'name': 'small-vehicle', 'supercategory': 'object'}, {'id': 17, 'name': 'helipad', 'supercategory': 'object'}]\n"
     ]
    },
    {
     "data": {
      "application/vnd.jupyter.widget-view+json": {
       "model_id": "46121ac81072426ba5c3cf9a4b4b2419",
       "version_major": 2,
       "version_minor": 0
      },
      "text/plain": [
       "HBox(children=(IntProgress(value=0, max=593), HTML(value='')))"
      ]
     },
     "metadata": {},
     "output_type": "display_data"
    },
    {
     "name": "stdout",
     "output_type": "stream",
     "text": [
      "totol number 36909\n",
      "loading annotations into memory...\n",
      "Done (t=0.11s)\n",
      "creating index...\n",
      "index created!\n"
     ]
    },
    {
     "data": {
      "application/vnd.jupyter.widget-view+json": {
       "model_id": "223ce2286ea14cc689ecfcc19cb53db4",
       "version_major": 2,
       "version_minor": 0
      },
      "text/plain": [
       "HBox(children=(IntProgress(value=0, max=593), HTML(value='')))"
      ]
     },
     "metadata": {},
     "output_type": "display_data"
    },
    {
     "name": "stdout",
     "output_type": "stream",
     "text": [
      "totol number 37499\n"
     ]
    }
   ],
   "source": [
    "datadir = \"/home/xfr/rssid/data/val/images\"\n",
    "scale_generate_test(datadir, \"./data/rscup\", \"val\", [0.5, 1])\n",
    "increment_generate(datadir, \"./data/rscup/annotation/annos_rscup_val.json\", \"./data/rscup\", \"val\")"
   ]
  },
  {
   "cell_type": "markdown",
   "metadata": {},
   "source": [
    "### pesudo data"
   ]
  },
  {
   "cell_type": "code",
   "execution_count": 12,
   "metadata": {},
   "outputs": [
    {
     "name": "stdout",
     "output_type": "stream",
     "text": [
      "[{'id': 0, 'name': 'tennis-court', 'supercategory': 'object'}, {'id': 1, 'name': 'container-crane', 'supercategory': 'object'}, {'id': 2, 'name': 'storage-tank', 'supercategory': 'object'}, {'id': 3, 'name': 'baseball-diamond', 'supercategory': 'object'}, {'id': 4, 'name': 'plane', 'supercategory': 'object'}, {'id': 5, 'name': 'ground-track-field', 'supercategory': 'object'}, {'id': 6, 'name': 'helicopter', 'supercategory': 'object'}, {'id': 7, 'name': 'airport', 'supercategory': 'object'}, {'id': 8, 'name': 'harbor', 'supercategory': 'object'}, {'id': 9, 'name': 'ship', 'supercategory': 'object'}, {'id': 10, 'name': 'large-vehicle', 'supercategory': 'object'}, {'id': 11, 'name': 'swimming-pool', 'supercategory': 'object'}, {'id': 12, 'name': 'soccer-ball-field', 'supercategory': 'object'}, {'id': 13, 'name': 'roundabout', 'supercategory': 'object'}, {'id': 14, 'name': 'basketball-court', 'supercategory': 'object'}, {'id': 15, 'name': 'bridge', 'supercategory': 'object'}, {'id': 16, 'name': 'small-vehicle', 'supercategory': 'object'}, {'id': 17, 'name': 'helipad', 'supercategory': 'object'}]\n"
     ]
    },
    {
     "data": {
      "application/vnd.jupyter.widget-view+json": {
       "model_id": "857cc5db27d047fba6d49817e731d54d",
       "version_major": 2,
       "version_minor": 0
      },
      "text/plain": [
       "HBox(children=(IntProgress(value=0, max=780), HTML(value='')))"
      ]
     },
     "metadata": {},
     "output_type": "display_data"
    },
    {
     "name": "stdout",
     "output_type": "stream",
     "text": [
      "totol number 22510\n",
      "loading annotations into memory...\n",
      "Done (t=1.11s)\n",
      "creating index...\n",
      "index created!\n"
     ]
    },
    {
     "data": {
      "application/vnd.jupyter.widget-view+json": {
       "model_id": "daf78e2369a04a66a1871eee0a38ea87",
       "version_major": 2,
       "version_minor": 0
      },
      "text/plain": [
       "HBox(children=(IntProgress(value=0, max=780), HTML(value='')))"
      ]
     },
     "metadata": {},
     "output_type": "display_data"
    },
    {
     "data": {
      "application/vnd.jupyter.widget-view+json": {
       "model_id": "af6322d37d2044f3bb4c9b5fd12190e6",
       "version_major": 2,
       "version_minor": 0
      },
      "text/plain": [
       "HBox(children=(IntProgress(value=0, max=780), HTML(value='')))"
      ]
     },
     "metadata": {},
     "output_type": "display_data"
    },
    {
     "name": "stdout",
     "output_type": "stream",
     "text": [
      "totol number 23290\n"
     ]
    }
   ],
   "source": [
    "datadir = \"./result/pesudo/images\"\n",
    "labeldir = \"./result/pesudo/labelTxt\"\n",
    "scale_generate(datadir, labeldir, \"pesudo\",\"./data/trash/\", [0.5, 1])\n",
    "increment_train_generate(datadir, labeldir, \"./data/trash/annotation/annos_rscup_pesudo.json\", \"./data/trash\", \"pesudo\")"
   ]
  },
  {
   "cell_type": "markdown",
   "metadata": {},
   "source": [
    "### Debug"
   ]
  },
  {
   "cell_type": "code",
   "execution_count": 183,
   "metadata": {},
   "outputs": [
    {
     "name": "stdout",
     "output_type": "stream",
     "text": [
      "[{'id': 0, 'name': 'tennis-court', 'supercategory': 'object'}, {'id': 1, 'name': 'container-crane', 'supercategory': 'object'}, {'id': 2, 'name': 'storage-tank', 'supercategory': 'object'}, {'id': 3, 'name': 'baseball-diamond', 'supercategory': 'object'}, {'id': 4, 'name': 'plane', 'supercategory': 'object'}, {'id': 5, 'name': 'ground-track-field', 'supercategory': 'object'}, {'id': 6, 'name': 'helicopter', 'supercategory': 'object'}, {'id': 7, 'name': 'airport', 'supercategory': 'object'}, {'id': 8, 'name': 'harbor', 'supercategory': 'object'}, {'id': 9, 'name': 'ship', 'supercategory': 'object'}, {'id': 10, 'name': 'large-vehicle', 'supercategory': 'object'}, {'id': 11, 'name': 'swimming-pool', 'supercategory': 'object'}, {'id': 12, 'name': 'soccer-ball-field', 'supercategory': 'object'}, {'id': 13, 'name': 'roundabout', 'supercategory': 'object'}, {'id': 14, 'name': 'basketball-court', 'supercategory': 'object'}, {'id': 15, 'name': 'bridge', 'supercategory': 'object'}, {'id': 16, 'name': 'small-vehicle', 'supercategory': 'object'}, {'id': 17, 'name': 'helipad', 'supercategory': 'object'}]\n"
     ]
    }
   ],
   "source": [
    "info = {\n",
    "        \"description\": \"rscup\",\n",
    "        \"url\": \"http://cocodataset.org\",\n",
    "        \"version\": \"1.0\",\n",
    "        \"year\": 2014,\n",
    "        \"contributor\": \"COCO Consortium\",\n",
    "        \"date_created\": \"2017/09/01\"\n",
    "      }\n",
    "license = [{ \"url\": \"http://creativecommons.org/licenses/by-nc-sa/2.0/\", \"id\": 1, \"name\": \"Attribution-NonCommercial-ShareAlike License\"}]\n",
    "categories = []\n",
    "for cls in CLASS:\n",
    "    category = { \"id\" : class_to_ind[cls], \"name\" : cls, \"supercategory\" : \"object\",}\n",
    "    categories.append(category)\n",
    "print(categories)\n",
    "annotations = {\"info\": info, \"images\": [], \"annotations\": [], \"categories\":categories, \"license\":license}\n",
    "img1 = cv2.imread(\"./data/rscup/debug/1.jpg\")\n",
    "filename = \"1.jpg\"\n",
    "h,w,_ = img1.shape\n",
    "image =  construct_imginfo(filename, h, w, 0)\n",
    "annotations[\"images\"].append(image)\n",
    "img2 = cv2.imread(\"./data/rscup/debug/2.jpg\")\n",
    "filename = \"2.jpg\"\n",
    "h,w,_ = img2.shape\n",
    "image =  construct_imginfo(filename, h, w, 1)\n",
    "annotations[\"images\"].append(image)\n",
    "img2 = cv2.imread(\"./data/rscup/debug/3.jpg\")\n",
    "filename = \"3.jpg\"\n",
    "h,w,_ = img2.shape\n",
    "image =  construct_imginfo(filename, h, w, 2)\n",
    "annotations[\"images\"].append(image)\n",
    "img2 = cv2.imread(\"./data/rscup/debug/4.jpg\")\n",
    "filename = \"4.jpg\"\n",
    "h,w,_ = img2.shape\n",
    "image =  construct_imginfo(filename, h, w, 4)\n",
    "annotations[\"images\"].append(image)\n",
    "img2 = cv2.imread(\"./data/rscup/debug/5.jpg\")\n",
    "filename = \"5.jpg\"\n",
    "h,w,_ = img2.shape\n",
    "image =  construct_imginfo(filename, h, w, 5)\n",
    "annotations[\"images\"].append(image)\n",
    "img2 = cv2.imread(\"./data/rscup/debug/6.jpg\")\n",
    "filename = \"6.jpg\"\n",
    "h,w,_ = img2.shape\n",
    "image =  construct_imginfo(filename, h, w, 6)\n",
    "annotations[\"images\"].append(image)\n",
    "with open(\"./data/rscup/debug.json\", 'w') as json_file:\n",
    "        json.dump(annotations, json_file, cls=MyEncoder)"
   ]
  },
  {
   "cell_type": "code",
   "execution_count": 13,
   "metadata": {},
   "outputs": [
    {
     "name": "stdout",
     "output_type": "stream",
     "text": [
      "loading annotations into memory...\n",
      "Done (t=1.80s)\n",
      "creating index...\n",
      "index created!\n"
     ]
    }
   ],
   "source": [
    "import sys\n",
    "sys.path.append('D:\\API\\cocoapi\\PythonAPI')  # 你下载的 cocoapi 所在路径\n",
    "import skimage.io as io\n",
    "from pycocotools.coco import COCO   # 载入 cocoz\n",
    "%matplotlib inline\n",
    "phase = \"train\"\n",
    "coco=COCO(\"./data/trash/annotation/annos_rscup_pesudo.json\")"
   ]
  },
  {
   "cell_type": "code",
   "execution_count": 17,
   "metadata": {},
   "outputs": [
    {
     "name": "stdout",
     "output_type": "stream",
     "text": [
      "[16]\n",
      "{'license': 1, 'file_name': 'P5193_1_2496.0_1248.0_0part47.jpg', 'coco_url': 'xxx', 'height': 511, 'width': 511, 'date_captured': '2019-06-25', 'flickr_url': 'xxx', 'id': 17543}\n",
      "4\n"
     ]
    },
    {
     "data": {
      "text/plain": [
       "<matplotlib.image.AxesImage at 0x7fcc6df02128>"
      ]
     },
     "execution_count": 17,
     "metadata": {},
     "output_type": "execute_result"
    },
    {
     "data": {
      "image/png": "[encoded data removed]",
      "text/plain": [
       "<Figure size 432x288 with 1 Axes>"
      ]
     },
     "metadata": {
      "needs_background": "light"
     },
     "output_type": "display_data"
    }
   ],
   "source": [
    "catIds = coco.getCatIds(catNms=['small-vehicle'])\n",
    "print(catIds)\n",
    "imgIds = coco.getImgIds(catIds=catIds)\n",
    "# imgIds = coco.getImgIds(imgIds=[335328])\n",
    "img = coco.loadImgs(imgIds[np.random.randint(0, len(imgIds))])[0]\n",
    "I = io.imread('./data/trash/pesudo/'+img['file_name'])\n",
    "plt.imshow(I)\n",
    "plt.axis('off')\n",
    "print(img)\n",
    "annIds = coco.getAnnIds(imgIds=[img['id']], iscrowd=None)\n",
    "print(len(annIds))\n",
    "anns = coco.loadAnns(annIds)\n",
    "for ann in anns:\n",
    "    bbox = ann['bbox']\n",
    "    x = [int(x) for x in bbox]\n",
    "    cv2.rectangle(I, (x[0],x[1]), (x[0]+x[2],x[1]+x[3]), (0,255,0), 2)\n",
    "    cv2.putText(I, CLASS[ann['category_id']], (x[0],x[1]), cv2.FONT_HERSHEY_COMPLEX, 1, (0, 0, 255), 2)\n",
    "plt.imshow(I)"
   ]
  },
  {
   "cell_type": "code",
   "execution_count": 16,
   "metadata": {},
   "outputs": [
    {
     "name": "stdout",
     "output_type": "stream",
     "text": [
      "[]\n"
     ]
    },
    {
     "ename": "FileNotFoundError",
     "evalue": "[Errno 2] No such file or directory: './data/trash/train/P4544_1_23296.0_10400.0_0part946.jpg'",
     "output_type": "error",
     "traceback": [
      "\u001b[0;31m---------------------------------------------------------------------------\u001b[0m",
      "\u001b[0;31mFileNotFoundError\u001b[0m                         Traceback (most recent call last)",
      "\u001b[0;32m<ipython-input-16-1088a2d62834>\u001b[0m in \u001b[0;36m<module>\u001b[0;34m\u001b[0m\n\u001b[1;32m      6\u001b[0m \u001b[0;31m# imgIds = coco.getImgIds(imgIds=[335328])\u001b[0m\u001b[0;34m\u001b[0m\u001b[0;34m\u001b[0m\u001b[0;34m\u001b[0m\u001b[0m\n\u001b[1;32m      7\u001b[0m \u001b[0mimg\u001b[0m \u001b[0;34m=\u001b[0m \u001b[0mcoco\u001b[0m\u001b[0;34m.\u001b[0m\u001b[0mloadImgs\u001b[0m\u001b[0;34m(\u001b[0m\u001b[0mimgIds\u001b[0m\u001b[0;34m[\u001b[0m\u001b[0mnp\u001b[0m\u001b[0;34m.\u001b[0m\u001b[0mrandom\u001b[0m\u001b[0;34m.\u001b[0m\u001b[0mrandint\u001b[0m\u001b[0;34m(\u001b[0m\u001b[0;36m0\u001b[0m\u001b[0;34m,\u001b[0m \u001b[0mlen\u001b[0m\u001b[0;34m(\u001b[0m\u001b[0mimgIds\u001b[0m\u001b[0;34m)\u001b[0m\u001b[0;34m)\u001b[0m\u001b[0;34m]\u001b[0m\u001b[0;34m)\u001b[0m\u001b[0;34m[\u001b[0m\u001b[0;36m0\u001b[0m\u001b[0;34m]\u001b[0m\u001b[0;34m\u001b[0m\u001b[0;34m\u001b[0m\u001b[0m\n\u001b[0;32m----> 8\u001b[0;31m \u001b[0mI\u001b[0m \u001b[0;34m=\u001b[0m \u001b[0mio\u001b[0m\u001b[0;34m.\u001b[0m\u001b[0mimread\u001b[0m\u001b[0;34m(\u001b[0m\u001b[0;34m'./data/trash/{}/'\u001b[0m\u001b[0;34m.\u001b[0m\u001b[0mformat\u001b[0m\u001b[0;34m(\u001b[0m\u001b[0mphase\u001b[0m\u001b[0;34m)\u001b[0m\u001b[0;34m+\u001b[0m\u001b[0mimg\u001b[0m\u001b[0;34m[\u001b[0m\u001b[0;34m'file_name'\u001b[0m\u001b[0;34m]\u001b[0m\u001b[0;34m)\u001b[0m\u001b[0;34m\u001b[0m\u001b[0;34m\u001b[0m\u001b[0m\n\u001b[0m\u001b[1;32m      9\u001b[0m \u001b[0mplt\u001b[0m\u001b[0;34m.\u001b[0m\u001b[0mimshow\u001b[0m\u001b[0;34m(\u001b[0m\u001b[0mI\u001b[0m\u001b[0;34m)\u001b[0m\u001b[0;34m\u001b[0m\u001b[0;34m\u001b[0m\u001b[0m\n\u001b[1;32m     10\u001b[0m \u001b[0mplt\u001b[0m\u001b[0;34m.\u001b[0m\u001b[0maxis\u001b[0m\u001b[0;34m(\u001b[0m\u001b[0;34m'off'\u001b[0m\u001b[0;34m)\u001b[0m\u001b[0;34m\u001b[0m\u001b[0;34m\u001b[0m\u001b[0m\n",
      "\u001b[0;32m~/.conda/envs/mmdet/lib/python3.6/site-packages/skimage/io/_io.py\u001b[0m in \u001b[0;36mimread\u001b[0;34m(fname, as_gray, plugin, flatten, **plugin_args)\u001b[0m\n\u001b[1;32m     60\u001b[0m \u001b[0;34m\u001b[0m\u001b[0m\n\u001b[1;32m     61\u001b[0m     \u001b[0;32mwith\u001b[0m \u001b[0mfile_or_url_context\u001b[0m\u001b[0;34m(\u001b[0m\u001b[0mfname\u001b[0m\u001b[0;34m)\u001b[0m \u001b[0;32mas\u001b[0m \u001b[0mfname\u001b[0m\u001b[0;34m:\u001b[0m\u001b[0;34m\u001b[0m\u001b[0;34m\u001b[0m\u001b[0m\n\u001b[0;32m---> 62\u001b[0;31m         \u001b[0mimg\u001b[0m \u001b[0;34m=\u001b[0m \u001b[0mcall_plugin\u001b[0m\u001b[0;34m(\u001b[0m\u001b[0;34m'imread'\u001b[0m\u001b[0;34m,\u001b[0m \u001b[0mfname\u001b[0m\u001b[0;34m,\u001b[0m \u001b[0mplugin\u001b[0m\u001b[0;34m=\u001b[0m\u001b[0mplugin\u001b[0m\u001b[0;34m,\u001b[0m \u001b[0;34m**\u001b[0m\u001b[0mplugin_args\u001b[0m\u001b[0;34m)\u001b[0m\u001b[0;34m\u001b[0m\u001b[0;34m\u001b[0m\u001b[0m\n\u001b[0m\u001b[1;32m     63\u001b[0m \u001b[0;34m\u001b[0m\u001b[0m\n\u001b[1;32m     64\u001b[0m     \u001b[0;32mif\u001b[0m \u001b[0;32mnot\u001b[0m \u001b[0mhasattr\u001b[0m\u001b[0;34m(\u001b[0m\u001b[0mimg\u001b[0m\u001b[0;34m,\u001b[0m \u001b[0;34m'ndim'\u001b[0m\u001b[0;34m)\u001b[0m\u001b[0;34m:\u001b[0m\u001b[0;34m\u001b[0m\u001b[0;34m\u001b[0m\u001b[0m\n",
      "\u001b[0;32m~/.conda/envs/mmdet/lib/python3.6/site-packages/skimage/io/manage_plugins.py\u001b[0m in \u001b[0;36mcall_plugin\u001b[0;34m(kind, *args, **kwargs)\u001b[0m\n\u001b[1;32m    212\u001b[0m                                (plugin, kind))\n\u001b[1;32m    213\u001b[0m \u001b[0;34m\u001b[0m\u001b[0m\n\u001b[0;32m--> 214\u001b[0;31m     \u001b[0;32mreturn\u001b[0m \u001b[0mfunc\u001b[0m\u001b[0;34m(\u001b[0m\u001b[0;34m*\u001b[0m\u001b[0margs\u001b[0m\u001b[0;34m,\u001b[0m \u001b[0;34m**\u001b[0m\u001b[0mkwargs\u001b[0m\u001b[0;34m)\u001b[0m\u001b[0;34m\u001b[0m\u001b[0;34m\u001b[0m\u001b[0m\n\u001b[0m\u001b[1;32m    215\u001b[0m \u001b[0;34m\u001b[0m\u001b[0m\n\u001b[1;32m    216\u001b[0m \u001b[0;34m\u001b[0m\u001b[0m\n",
      "\u001b[0;32m~/.conda/envs/mmdet/lib/python3.6/site-packages/skimage/io/_plugins/pil_plugin.py\u001b[0m in \u001b[0;36mimread\u001b[0;34m(fname, dtype, img_num, **kwargs)\u001b[0m\n\u001b[1;32m     33\u001b[0m     \"\"\"\n\u001b[1;32m     34\u001b[0m     \u001b[0;32mif\u001b[0m \u001b[0misinstance\u001b[0m\u001b[0;34m(\u001b[0m\u001b[0mfname\u001b[0m\u001b[0;34m,\u001b[0m \u001b[0mstring_types\u001b[0m\u001b[0;34m)\u001b[0m\u001b[0;34m:\u001b[0m\u001b[0;34m\u001b[0m\u001b[0;34m\u001b[0m\u001b[0m\n\u001b[0;32m---> 35\u001b[0;31m         \u001b[0;32mwith\u001b[0m \u001b[0mopen\u001b[0m\u001b[0;34m(\u001b[0m\u001b[0mfname\u001b[0m\u001b[0;34m,\u001b[0m \u001b[0;34m'rb'\u001b[0m\u001b[0;34m)\u001b[0m \u001b[0;32mas\u001b[0m \u001b[0mf\u001b[0m\u001b[0;34m:\u001b[0m\u001b[0;34m\u001b[0m\u001b[0;34m\u001b[0m\u001b[0m\n\u001b[0m\u001b[1;32m     36\u001b[0m             \u001b[0mim\u001b[0m \u001b[0;34m=\u001b[0m \u001b[0mImage\u001b[0m\u001b[0;34m.\u001b[0m\u001b[0mopen\u001b[0m\u001b[0;34m(\u001b[0m\u001b[0mf\u001b[0m\u001b[0;34m)\u001b[0m\u001b[0;34m\u001b[0m\u001b[0;34m\u001b[0m\u001b[0m\n\u001b[1;32m     37\u001b[0m             \u001b[0;32mreturn\u001b[0m \u001b[0mpil_to_ndarray\u001b[0m\u001b[0;34m(\u001b[0m\u001b[0mim\u001b[0m\u001b[0;34m,\u001b[0m \u001b[0mdtype\u001b[0m\u001b[0;34m=\u001b[0m\u001b[0mdtype\u001b[0m\u001b[0;34m,\u001b[0m \u001b[0mimg_num\u001b[0m\u001b[0;34m=\u001b[0m\u001b[0mimg_num\u001b[0m\u001b[0;34m)\u001b[0m\u001b[0;34m\u001b[0m\u001b[0;34m\u001b[0m\u001b[0m\n",
      "\u001b[0;31mFileNotFoundError\u001b[0m: [Errno 2] No such file or directory: './data/trash/train/P4544_1_23296.0_10400.0_0part946.jpg'"
     ]
    }
   ],
   "source": [
    "\n",
    "# get all images containing given categories, select one at random\n",
    "catIds = coco.getCatIds(catNms=[''])\n",
    "print(catIds)\n",
    "imgIds = coco.getImgIds(catIds=catIds)\n",
    "# imgIds = coco.getImgIds(imgIds=[335328])\n",
    "img = coco.loadImgs(imgIds[np.random.randint(0, len(imgIds))])[0]\n",
    "I = io.imread('./data/trash/{}/'.format(phase)+img['file_name'])\n",
    "plt.imshow(I)\n",
    "plt.axis('off')\n",
    "print(img)\n",
    "annIds = coco.getAnnIds(imgIds=[img['id']], iscrowd=None)\n",
    "print(len(annIds))\n",
    "anns = coco.loadAnns(annIds)\n",
    "for ann in anns:\n",
    "    bbox = ann['bbox']\n",
    "    x = [int(x) for x in bbox]\n",
    "    cv2.rectangle(I, (x[0],x[1]), (x[0]+x[2],x[1]+x[3]), (0,255,0), 2)\n",
    "    cv2.putText(I, CLASS[ann['category_id']], (x[0],x[1]), cv2.FONT_HERSHEY_COMPLEX, 1, (0, 0, 255), 2)\n",
    "plt.imshow(I)\n",
    "#coco.showAnns(anns)"
   ]
  },
  {
   "cell_type": "code",
   "execution_count": null,
   "metadata": {
    "collapsed": true
   },
   "outputs": [],
   "source": []
  },
  {
   "cell_type": "code",
   "execution_count": null,
   "metadata": {
    "collapsed": true
   },
   "outputs": [],
   "source": []
  }
 ],
 "metadata": {
  "kernelspec": {
   "display_name": "mm",
   "language": "python",
   "name": "mmdet"
  },
  "language_info": {
   "codemirror_mode": {
    "name": "ipython",
    "version": 3
   },
   "file_extension": ".py",
   "mimetype": "text/x-python",
   "name": "python",
   "nbconvert_exporter": "python",
   "pygments_lexer": "ipython3",
   "version": "3.6.8"
  }
 },
 "nbformat": 4,
 "nbformat_minor": 2
}
